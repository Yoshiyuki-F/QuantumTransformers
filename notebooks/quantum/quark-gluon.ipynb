{
 "cells": [
  {
   "cell_type": "markdown",
   "metadata": {},
   "source": [
    "# Quark-Gluon\n",
    "\n",
    "Information about the dataset: https://arxiv.org/abs/1902.08276"
   ]
  },
  {
   "cell_type": "code",
   "execution_count": 1,
   "metadata": {
    "execution": {
     "iopub.execute_input": "2023-08-22T13:52:42.174912Z",
     "iopub.status.busy": "2023-08-22T13:52:42.174602Z",
     "iopub.status.idle": "2023-08-22T13:52:49.962159Z",
     "shell.execute_reply": "2023-08-22T13:52:49.961743Z"
    }
   },
   "outputs": [
    {
     "name": "stderr",
     "output_type": "stream",
     "text": [
      "2023-08-22 06:52:44.349779: E tensorflow/compiler/xla/stream_executor/cuda/cuda_dnn.cc:9342] Unable to register cuDNN factory: Attempting to register factory for plugin cuDNN when one has already been registered\n",
      "2023-08-22 06:52:44.349802: E tensorflow/compiler/xla/stream_executor/cuda/cuda_fft.cc:609] Unable to register cuFFT factory: Attempting to register factory for plugin cuFFT when one has already been registered\n",
      "2023-08-22 06:52:44.349819: E tensorflow/compiler/xla/stream_executor/cuda/cuda_blas.cc:1518] Unable to register cuBLAS factory: Attempting to register factory for plugin cuBLAS when one has already been registered\n",
      "2023-08-22 06:52:45.520178: W tensorflow/compiler/tf2tensorrt/utils/py_utils.cc:38] TF-TRT Warning: Could not find TensorRT\n"
     ]
    },
    {
     "name": "stdout",
     "output_type": "stream",
     "text": [
      "WARNING:tensorflow:From /global/common/software/m4392/conda/gsoc/lib/python3.11/site-packages/tensorflow/python/ops/distributions/distribution.py:259: ReparameterizationType.__init__ (from tensorflow.python.ops.distributions.distribution) is deprecated and will be removed after 2019-01-01.\n",
      "Instructions for updating:\n",
      "The TensorFlow Distributions library has moved to TensorFlow Probability (https://github.com/tensorflow/probability). You should update all references to use `tfp.distributions` instead of `tf.distributions`.\n",
      "WARNING:tensorflow:From /global/common/software/m4392/conda/gsoc/lib/python3.11/site-packages/tensorflow/python/ops/distributions/bernoulli.py:165: RegisterKL.__init__ (from tensorflow.python.ops.distributions.kullback_leibler) is deprecated and will be removed after 2019-01-01.\n",
      "Instructions for updating:\n",
      "The TensorFlow Distributions library has moved to TensorFlow Probability (https://github.com/tensorflow/probability). You should update all references to use `tfp.distributions` instead of `tf.distributions`.\n"
     ]
    },
    {
     "name": "stderr",
     "output_type": "stream",
     "text": [
      "Please first ``pip install -U cirq`` to enable related functionality in translation module\n"
     ]
    }
   ],
   "source": [
    "import jax\n",
    "\n",
    "from quantum_transformers.utils import plot_image\n",
    "from quantum_transformers.datasets import get_quark_gluon_dataloaders\n",
    "from quantum_transformers.training import train_and_evaluate\n",
    "from quantum_transformers.transformers import VisionTransformer\n",
    "from quantum_transformers.quantum_layer import get_circuit\n",
    "\n",
    "data_dir = '/global/cfs/cdirs/m4392/salcc/data'"
   ]
  },
  {
   "cell_type": "code",
   "execution_count": 2,
   "metadata": {
    "execution": {
     "iopub.execute_input": "2023-08-22T13:52:49.964859Z",
     "iopub.status.busy": "2023-08-22T13:52:49.964378Z",
     "iopub.status.idle": "2023-08-22T13:52:50.218767Z",
     "shell.execute_reply": "2023-08-22T13:52:50.218316Z"
    }
   },
   "outputs": [
    {
     "name": "stdout",
     "output_type": "stream",
     "text": [
      "gpu:0 NVIDIA A100-SXM4-40GB\n"
     ]
    }
   ],
   "source": [
    "for d in jax.devices():\n",
    "    print(d, d.device_kind)"
   ]
  },
  {
   "cell_type": "code",
   "execution_count": 3,
   "metadata": {
    "execution": {
     "iopub.execute_input": "2023-08-22T13:52:50.220618Z",
     "iopub.status.busy": "2023-08-22T13:52:50.220420Z",
     "iopub.status.idle": "2023-08-22T13:52:56.618094Z",
     "shell.execute_reply": "2023-08-22T13:52:56.617629Z"
    }
   },
   "outputs": [
    {
     "name": "stdout",
     "output_type": "stream",
     "text": [
      "(125, 125, 3)\n"
     ]
    },
    {
     "data": {
      "image/png": "[encoded data removed]",
      "text/plain": [
       "<Figure size 900x300 with 3 Axes>"
      ]
     },
     "metadata": {},
     "output_type": "display_data"
    }
   ],
   "source": [
    "qg_train_dataloader, qg_valid_dataloader = get_quark_gluon_dataloaders(batch_size=256, data_dir=data_dir)\n",
    "first_image = next(iter(qg_train_dataloader))[0][0]\n",
    "print(first_image.shape)\n",
    "plot_image(first_image, abs_log=True)"
   ]
  },
  {
   "cell_type": "code",
   "execution_count": 4,
   "metadata": {
    "execution": {
     "iopub.execute_input": "2023-08-22T13:52:56.619903Z",
     "iopub.status.busy": "2023-08-22T13:52:56.619758Z",
     "iopub.status.idle": "2023-08-22T15:35:24.740431Z",
     "shell.execute_reply": "2023-08-22T15:35:24.739931Z"
    }
   },
   "outputs": [
    {
     "name": "stderr",
     "output_type": "stream",
     "text": [
      "Epoch   1/50: 100%|██████████| 544/544 [02:37<00:00,  3.46batch/s, Loss = 0.7031, AUC = 55.25%]\n",
      "Epoch   2/50: 100%|██████████| 544/544 [02:01<00:00,  4.47batch/s, Loss = 0.7029, AUC = 56.29%]\n",
      "Epoch   3/50: 100%|██████████| 544/544 [02:01<00:00,  4.47batch/s, Loss = 0.7029, AUC = 58.80%]\n",
      "Epoch   4/50: 100%|██████████| 544/544 [02:01<00:00,  4.47batch/s, Loss = 0.7017, AUC = 60.37%]\n",
      "Epoch   5/50: 100%|██████████| 544/544 [02:01<00:00,  4.47batch/s, Loss = 0.6972, AUC = 63.92%]\n",
      "Epoch   6/50: 100%|██████████| 544/544 [02:01<00:00,  4.47batch/s, Loss = 0.6979, AUC = 65.61%]\n",
      "Epoch   7/50: 100%|██████████| 544/544 [02:01<00:00,  4.47batch/s, Loss = 0.6966, AUC = 67.71%]\n",
      "Epoch   8/50: 100%|██████████| 544/544 [02:01<00:00,  4.47batch/s, Loss = 0.6928, AUC = 67.79%]\n",
      "Epoch   9/50: 100%|██████████| 544/544 [02:01<00:00,  4.47batch/s, Loss = 0.7636, AUC = 69.17%]\n",
      "Epoch  10/50: 100%|██████████| 544/544 [02:01<00:00,  4.47batch/s, Loss = 0.7110, AUC = 72.92%]\n",
      "Epoch  11/50: 100%|██████████| 544/544 [02:01<00:00,  4.46batch/s, Loss = 0.7211, AUC = 73.34%]\n",
      "Epoch  12/50: 100%|██████████| 544/544 [02:01<00:00,  4.46batch/s, Loss = 0.8706, AUC = 73.66%]\n",
      "Epoch  13/50: 100%|██████████| 544/544 [02:01<00:00,  4.47batch/s, Loss = 0.7027, AUC = 74.01%]\n",
      "Epoch  14/50: 100%|██████████| 544/544 [02:01<00:00,  4.46batch/s, Loss = 0.6741, AUC = 74.15%]\n",
      "Epoch  15/50: 100%|██████████| 544/544 [02:01<00:00,  4.47batch/s, Loss = 0.7002, AUC = 74.34%]\n",
      "Epoch  16/50: 100%|██████████| 544/544 [02:01<00:00,  4.47batch/s, Loss = 0.6943, AUC = 74.36%]\n",
      "Epoch  17/50: 100%|██████████| 544/544 [02:01<00:00,  4.47batch/s, Loss = 0.6915, AUC = 74.55%]\n",
      "Epoch  18/50: 100%|██████████| 544/544 [02:02<00:00,  4.45batch/s, Loss = 0.7006, AUC = 74.59%]\n",
      "Epoch  19/50: 100%|██████████| 544/544 [02:01<00:00,  4.46batch/s, Loss = 0.6842, AUC = 74.82%]\n",
      "Epoch  20/50: 100%|██████████| 544/544 [02:01<00:00,  4.47batch/s, Loss = 0.6979, AUC = 74.71%]\n",
      "Epoch  21/50: 100%|██████████| 544/544 [02:01<00:00,  4.47batch/s, Loss = 0.6755, AUC = 74.87%]\n",
      "Epoch  22/50: 100%|██████████| 544/544 [02:02<00:00,  4.45batch/s, Loss = 0.6748, AUC = 75.05%]\n",
      "Epoch  23/50: 100%|██████████| 544/544 [02:01<00:00,  4.47batch/s, Loss = 0.7018, AUC = 75.59%]\n",
      "Epoch  24/50: 100%|██████████| 544/544 [02:01<00:00,  4.46batch/s, Loss = 0.7428, AUC = 75.66%]\n",
      "Epoch  25/50: 100%|██████████| 544/544 [02:01<00:00,  4.47batch/s, Loss = 0.7642, AUC = 75.75%]\n",
      "Epoch  26/50: 100%|██████████| 544/544 [02:02<00:00,  4.46batch/s, Loss = 0.7223, AUC = 75.79%]\n",
      "Epoch  27/50: 100%|██████████| 544/544 [02:01<00:00,  4.47batch/s, Loss = 0.6948, AUC = 75.74%]\n",
      "Epoch  28/50: 100%|██████████| 544/544 [02:01<00:00,  4.47batch/s, Loss = 0.6992, AUC = 75.85%]\n",
      "Epoch  29/50: 100%|██████████| 544/544 [02:01<00:00,  4.47batch/s, Loss = 0.6782, AUC = 75.83%]\n",
      "Epoch  30/50: 100%|██████████| 544/544 [02:02<00:00,  4.46batch/s, Loss = 0.7071, AUC = 75.93%]\n",
      "Epoch  31/50: 100%|██████████| 544/544 [02:01<00:00,  4.47batch/s, Loss = 0.6823, AUC = 75.90%]\n",
      "Epoch  32/50: 100%|██████████| 544/544 [02:01<00:00,  4.46batch/s, Loss = 0.6832, AUC = 75.89%]\n",
      "Epoch  33/50: 100%|██████████| 544/544 [02:02<00:00,  4.46batch/s, Loss = 0.7113, AUC = 75.98%]\n",
      "Epoch  34/50: 100%|██████████| 544/544 [02:01<00:00,  4.47batch/s, Loss = 0.6820, AUC = 75.89%]\n",
      "Epoch  35/50: 100%|██████████| 544/544 [02:02<00:00,  4.46batch/s, Loss = 0.7024, AUC = 76.04%]\n",
      "Epoch  36/50: 100%|██████████| 544/544 [02:01<00:00,  4.47batch/s, Loss = 0.6820, AUC = 76.13%]\n",
      "Epoch  37/50: 100%|██████████| 544/544 [02:01<00:00,  4.47batch/s, Loss = 0.7075, AUC = 76.15%]\n",
      "Epoch  38/50: 100%|██████████| 544/544 [02:01<00:00,  4.47batch/s, Loss = 0.6921, AUC = 76.05%]\n",
      "Epoch  39/50: 100%|██████████| 544/544 [02:01<00:00,  4.47batch/s, Loss = 0.6838, AUC = 76.24%]\n",
      "Epoch  40/50: 100%|██████████| 544/544 [02:03<00:00,  4.42batch/s, Loss = 0.7562, AUC = 76.18%]\n",
      "Epoch  41/50: 100%|██████████| 544/544 [02:02<00:00,  4.44batch/s, Loss = 0.7286, AUC = 76.11%]\n",
      "Epoch  42/50: 100%|██████████| 544/544 [02:01<00:00,  4.47batch/s, Loss = 0.6871, AUC = 76.17%]\n",
      "Epoch  43/50: 100%|██████████| 544/544 [02:01<00:00,  4.47batch/s, Loss = 0.6847, AUC = 76.33%]\n",
      "Epoch  44/50: 100%|██████████| 544/544 [02:02<00:00,  4.46batch/s, Loss = 0.6905, AUC = 76.29%]\n",
      "Epoch  45/50: 100%|██████████| 544/544 [02:02<00:00,  4.45batch/s, Loss = 0.6879, AUC = 76.32%]\n",
      "Epoch  46/50: 100%|██████████| 544/544 [02:01<00:00,  4.47batch/s, Loss = 0.7151, AUC = 76.35%]\n",
      "Epoch  47/50: 100%|██████████| 544/544 [02:03<00:00,  4.42batch/s, Loss = 0.6824, AUC = 76.28%]\n",
      "Epoch  48/50: 100%|██████████| 544/544 [02:02<00:00,  4.45batch/s, Loss = 0.6649, AUC = 76.37%]\n",
      "Epoch  49/50: 100%|██████████| 544/544 [02:01<00:00,  4.46batch/s, Loss = 0.6809, AUC = 76.36%]\n",
      "Epoch  50/50: 100%|██████████| 544/544 [02:01<00:00,  4.46batch/s, Loss = 0.6791, AUC = 76.31%]"
     ]
    },
    {
     "name": "stdout",
     "output_type": "stream",
     "text": [
      "TOTAL TIME = 6130.23s\n",
      "BEST AUC = 76.37% AT EPOCH 48\n"
     ]
    },
    {
     "name": "stderr",
     "output_type": "stream",
     "text": [
      "\n"
     ]
    }
   ],
   "source": [
    "model = VisionTransformer(num_classes=2, patch_size=10, hidden_size=6, num_heads=2, num_transformer_blocks=4, mlp_hidden_size=3,\n",
    "                          quantum_attn_circuit=get_circuit(), quantum_mlp_circuit=get_circuit())\n",
    "train_and_evaluate(model, qg_train_dataloader, qg_valid_dataloader, num_classes=2, learning_rate=0.0003, num_epochs=50)"
   ]
  }
 ],
 "metadata": {
  "kernelspec": {
   "display_name": "gsoc",
   "language": "python",
   "name": "gsoc"
  },
  "language_info": {
   "codemirror_mode": {
    "name": "ipython",
    "version": 3
   },
   "file_extension": ".py",
   "mimetype": "text/x-python",
   "name": "python",
   "nbconvert_exporter": "python",
   "pygments_lexer": "ipython3",
   "version": "3.11.4"
  }
 },
 "nbformat": 4,
 "nbformat_minor": 2
}
