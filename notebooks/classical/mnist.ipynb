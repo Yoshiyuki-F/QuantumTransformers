{
 "cells": [
  {
   "cell_type": "code",
   "execution_count": 1,
   "metadata": {
    "execution": {
     "iopub.execute_input": "2023-08-22T11:00:34.492726Z",
     "iopub.status.busy": "2023-08-22T11:00:34.492490Z",
     "iopub.status.idle": "2023-08-22T11:00:49.059537Z",
     "shell.execute_reply": "2023-08-22T11:00:49.058965Z"
    }
   },
   "outputs": [
    {
     "name": "stderr",
     "output_type": "stream",
     "text": [
      "2023-08-22 04:00:38.458337: E tensorflow/compiler/xla/stream_executor/cuda/cuda_dnn.cc:9342] Unable to register cuDNN factory: Attempting to register factory for plugin cuDNN when one has already been registered\n",
      "2023-08-22 04:00:38.458361: E tensorflow/compiler/xla/stream_executor/cuda/cuda_fft.cc:609] Unable to register cuFFT factory: Attempting to register factory for plugin cuFFT when one has already been registered\n",
      "2023-08-22 04:00:38.458377: E tensorflow/compiler/xla/stream_executor/cuda/cuda_blas.cc:1518] Unable to register cuBLAS factory: Attempting to register factory for plugin cuBLAS when one has already been registered\n",
      "2023-08-22 04:00:40.485125: W tensorflow/compiler/tf2tensorrt/utils/py_utils.cc:38] TF-TRT Warning: Could not find TensorRT\n"
     ]
    },
    {
     "name": "stdout",
     "output_type": "stream",
     "text": [
      "WARNING:tensorflow:From /global/common/software/m4392/conda/gsoc/lib/python3.11/site-packages/tensorflow/python/ops/distributions/distribution.py:259: ReparameterizationType.__init__ (from tensorflow.python.ops.distributions.distribution) is deprecated and will be removed after 2019-01-01.\n",
      "Instructions for updating:\n",
      "The TensorFlow Distributions library has moved to TensorFlow Probability (https://github.com/tensorflow/probability). You should update all references to use `tfp.distributions` instead of `tf.distributions`.\n",
      "WARNING:tensorflow:From /global/common/software/m4392/conda/gsoc/lib/python3.11/site-packages/tensorflow/python/ops/distributions/bernoulli.py:165: RegisterKL.__init__ (from tensorflow.python.ops.distributions.kullback_leibler) is deprecated and will be removed after 2019-01-01.\n",
      "Instructions for updating:\n",
      "The TensorFlow Distributions library has moved to TensorFlow Probability (https://github.com/tensorflow/probability). You should update all references to use `tfp.distributions` instead of `tf.distributions`.\n"
     ]
    },
    {
     "name": "stderr",
     "output_type": "stream",
     "text": [
      "Please first ``pip install -U cirq`` to enable related functionality in translation module\n"
     ]
    }
   ],
   "source": [
    "import jax\n",
    "\n",
    "from quantum_transformers.utils import plot_image\n",
    "from quantum_transformers.datasets import get_mnist_dataloaders\n",
    "from quantum_transformers.training import train_and_evaluate\n",
    "from quantum_transformers.transformers import VisionTransformer\n",
    "\n",
    "data_dir = '/global/cfs/cdirs/m4392/salcc/data'"
   ]
  },
  {
   "cell_type": "code",
   "execution_count": 2,
   "metadata": {
    "execution": {
     "iopub.execute_input": "2023-08-22T11:00:49.061894Z",
     "iopub.status.busy": "2023-08-22T11:00:49.061528Z",
     "iopub.status.idle": "2023-08-22T11:00:49.281335Z",
     "shell.execute_reply": "2023-08-22T11:00:49.280881Z"
    }
   },
   "outputs": [
    {
     "name": "stdout",
     "output_type": "stream",
     "text": [
      "gpu:0 NVIDIA A100-SXM4-40GB\n"
     ]
    }
   ],
   "source": [
    "for d in jax.devices():\n",
    "    print(d, d.device_kind)"
   ]
  },
  {
   "cell_type": "code",
   "execution_count": 3,
   "metadata": {
    "execution": {
     "iopub.execute_input": "2023-08-22T11:00:49.283000Z",
     "iopub.status.busy": "2023-08-22T11:00:49.282861Z",
     "iopub.status.idle": "2023-08-22T11:00:50.129797Z",
     "shell.execute_reply": "2023-08-22T11:00:50.129399Z"
    }
   },
   "outputs": [
    {
     "name": "stdout",
     "output_type": "stream",
     "text": [
      "(28, 28, 1)\n"
     ]
    },
    {
     "data": {
      "image/png": "[encoded data removed]",
      "text/plain": [
       "<Figure size 300x300 with 1 Axes>"
      ]
     },
     "metadata": {},
     "output_type": "display_data"
    }
   ],
   "source": [
    "mnist_train_dataloader, mnist_valid_dataloader = get_mnist_dataloaders(batch_size=64, data_dir=data_dir)\n",
    "first_image = next(iter(mnist_train_dataloader))[0][0]\n",
    "print(first_image.shape)\n",
    "plot_image(first_image)"
   ]
  },
  {
   "cell_type": "code",
   "execution_count": 4,
   "metadata": {
    "execution": {
     "iopub.execute_input": "2023-08-22T11:00:50.131388Z",
     "iopub.status.busy": "2023-08-22T11:00:50.131249Z",
     "iopub.status.idle": "2023-08-22T11:03:40.651541Z",
     "shell.execute_reply": "2023-08-22T11:03:40.651038Z"
    }
   },
   "outputs": [
    {
     "name": "stderr",
     "output_type": "stream",
     "text": [
      "Epoch   1/30: 100%|██████████| 937/937 [00:11<00:00, 79.49batch/s, Loss = 0.2118, AUC = 99.64%] \n",
      "Epoch   2/30: 100%|██████████| 937/937 [00:05<00:00, 175.17batch/s, Loss = 0.1410, AUC = 99.83%]\n",
      "Epoch   3/30: 100%|██████████| 937/937 [00:05<00:00, 176.20batch/s, Loss = 0.1139, AUC = 99.90%]\n",
      "Epoch   4/30: 100%|██████████| 937/937 [00:05<00:00, 186.98batch/s, Loss = 0.0989, AUC = 99.92%]\n",
      "Epoch   5/30: 100%|██████████| 937/937 [00:04<00:00, 187.98batch/s, Loss = 0.0945, AUC = 99.93%]\n",
      "Epoch   6/30: 100%|██████████| 937/937 [00:05<00:00, 170.74batch/s, Loss = 0.0914, AUC = 99.94%]\n",
      "Epoch   7/30: 100%|██████████| 937/937 [00:05<00:00, 185.94batch/s, Loss = 0.0819, AUC = 99.95%]\n",
      "Epoch   8/30: 100%|██████████| 937/937 [00:05<00:00, 185.00batch/s, Loss = 0.0805, AUC = 99.95%]\n",
      "Epoch   9/30: 100%|██████████| 937/937 [00:05<00:00, 178.12batch/s, Loss = 0.0747, AUC = 99.96%]\n",
      "Epoch  10/30: 100%|██████████| 937/937 [00:05<00:00, 176.17batch/s, Loss = 0.0758, AUC = 99.95%]\n",
      "Epoch  11/30: 100%|██████████| 937/937 [00:05<00:00, 178.62batch/s, Loss = 0.0687, AUC = 99.96%]\n",
      "Epoch  12/30: 100%|██████████| 937/937 [00:05<00:00, 179.40batch/s, Loss = 0.0706, AUC = 99.97%]\n",
      "Epoch  13/30: 100%|██████████| 937/937 [00:05<00:00, 181.40batch/s, Loss = 0.0684, AUC = 99.97%]\n",
      "Epoch  14/30: 100%|██████████| 937/937 [00:05<00:00, 179.38batch/s, Loss = 0.0685, AUC = 99.97%]\n",
      "Epoch  15/30: 100%|██████████| 937/937 [00:05<00:00, 173.67batch/s, Loss = 0.0667, AUC = 99.97%]\n",
      "Epoch  16/30: 100%|██████████| 937/937 [00:05<00:00, 176.46batch/s, Loss = 0.0741, AUC = 99.96%]\n",
      "Epoch  17/30: 100%|██████████| 937/937 [00:05<00:00, 181.50batch/s, Loss = 0.0733, AUC = 99.97%]\n",
      "Epoch  18/30: 100%|██████████| 937/937 [00:05<00:00, 164.47batch/s, Loss = 0.0660, AUC = 99.97%]\n",
      "Epoch  19/30: 100%|██████████| 937/937 [00:05<00:00, 184.23batch/s, Loss = 0.0657, AUC = 99.97%]\n",
      "Epoch  20/30: 100%|██████████| 937/937 [00:05<00:00, 175.72batch/s, Loss = 0.0685, AUC = 99.97%]\n",
      "Epoch  21/30: 100%|██████████| 937/937 [00:05<00:00, 178.05batch/s, Loss = 0.0635, AUC = 99.98%]\n",
      "Epoch  22/30: 100%|██████████| 937/937 [00:05<00:00, 179.22batch/s, Loss = 0.0699, AUC = 99.97%]\n",
      "Epoch  23/30: 100%|██████████| 937/937 [00:05<00:00, 180.97batch/s, Loss = 0.0591, AUC = 99.97%]\n",
      "Epoch  24/30: 100%|██████████| 937/937 [00:05<00:00, 168.35batch/s, Loss = 0.0623, AUC = 99.98%]\n",
      "Epoch  25/30: 100%|██████████| 937/937 [00:05<00:00, 182.13batch/s, Loss = 0.0657, AUC = 99.97%]\n",
      "Epoch  26/30: 100%|██████████| 937/937 [00:05<00:00, 184.03batch/s, Loss = 0.0639, AUC = 99.97%]\n",
      "Epoch  27/30: 100%|██████████| 937/937 [00:05<00:00, 173.93batch/s, Loss = 0.0617, AUC = 99.97%]\n",
      "Epoch  28/30: 100%|██████████| 937/937 [00:05<00:00, 181.31batch/s, Loss = 0.0643, AUC = 99.97%]\n",
      "Epoch  29/30: 100%|██████████| 937/937 [00:05<00:00, 177.19batch/s, Loss = 0.0648, AUC = 99.97%]\n",
      "Epoch  30/30: 100%|██████████| 937/937 [00:05<00:00, 173.32batch/s, Loss = 0.0655, AUC = 99.98%]"
     ]
    },
    {
     "name": "stdout",
     "output_type": "stream",
     "text": [
      "TOTAL TIME = 164.22s\n",
      "BEST AUC = 99.98% AT EPOCH 21\n"
     ]
    },
    {
     "name": "stderr",
     "output_type": "stream",
     "text": [
      "\n"
     ]
    }
   ],
   "source": [
    "model = VisionTransformer(num_classes=10, patch_size=14, hidden_size=64, num_heads=2, num_transformer_blocks=4, mlp_hidden_size=32)\n",
    "train_and_evaluate(model, mnist_train_dataloader, mnist_valid_dataloader, num_classes=10, learning_rate=0.0003, num_epochs=30)"
   ]
  },
  {
   "cell_type": "code",
   "execution_count": 5,
   "metadata": {
    "execution": {
     "iopub.execute_input": "2023-08-22T11:03:40.654083Z",
     "iopub.status.busy": "2023-08-22T11:03:40.653935Z",
     "iopub.status.idle": "2023-08-22T11:06:22.501313Z",
     "shell.execute_reply": "2023-08-22T11:06:22.500763Z"
    }
   },
   "outputs": [
    {
     "name": "stderr",
     "output_type": "stream",
     "text": [
      "Epoch   1/30: 100%|██████████| 937/937 [00:09<00:00, 94.05batch/s, Loss = 1.5116, AUC = 88.79%] \n",
      "Epoch   2/30: 100%|██████████| 937/937 [00:05<00:00, 185.55batch/s, Loss = 1.1529, AUC = 93.54%]\n",
      "Epoch   3/30: 100%|██████████| 937/937 [00:05<00:00, 182.88batch/s, Loss = 0.9649, AUC = 95.08%]\n",
      "Epoch   4/30: 100%|██████████| 937/937 [00:05<00:00, 175.12batch/s, Loss = 0.8258, AUC = 96.11%]\n",
      "Epoch   5/30: 100%|██████████| 937/937 [00:05<00:00, 180.15batch/s, Loss = 0.7307, AUC = 96.76%]\n",
      "Epoch   6/30: 100%|██████████| 937/937 [00:05<00:00, 183.69batch/s, Loss = 0.6515, AUC = 97.28%]\n",
      "Epoch   7/30: 100%|██████████| 937/937 [00:05<00:00, 181.12batch/s, Loss = 0.5920, AUC = 97.67%]\n",
      "Epoch   8/30: 100%|██████████| 937/937 [00:05<00:00, 183.92batch/s, Loss = 0.5593, AUC = 97.89%]\n",
      "Epoch   9/30: 100%|██████████| 937/937 [00:05<00:00, 183.08batch/s, Loss = 0.5314, AUC = 98.08%]\n",
      "Epoch  10/30: 100%|██████████| 937/937 [00:05<00:00, 180.48batch/s, Loss = 0.5072, AUC = 98.23%]\n",
      "Epoch  11/30: 100%|██████████| 937/937 [00:05<00:00, 172.30batch/s, Loss = 0.4922, AUC = 98.33%]\n",
      "Epoch  12/30: 100%|██████████| 937/937 [00:05<00:00, 187.12batch/s, Loss = 0.4770, AUC = 98.43%]\n",
      "Epoch  13/30: 100%|██████████| 937/937 [00:05<00:00, 181.50batch/s, Loss = 0.4661, AUC = 98.48%]\n",
      "Epoch  14/30: 100%|██████████| 937/937 [00:05<00:00, 180.71batch/s, Loss = 0.4584, AUC = 98.52%]\n",
      "Epoch  15/30: 100%|██████████| 937/937 [00:05<00:00, 179.49batch/s, Loss = 0.4441, AUC = 98.60%]\n",
      "Epoch  16/30: 100%|██████████| 937/937 [00:05<00:00, 181.77batch/s, Loss = 0.4373, AUC = 98.62%]\n",
      "Epoch  17/30: 100%|██████████| 937/937 [00:05<00:00, 180.95batch/s, Loss = 0.4333, AUC = 98.66%]\n",
      "Epoch  18/30: 100%|██████████| 937/937 [00:04<00:00, 189.59batch/s, Loss = 0.4244, AUC = 98.70%]\n",
      "Epoch  19/30: 100%|██████████| 937/937 [00:04<00:00, 190.28batch/s, Loss = 0.4189, AUC = 98.75%]\n",
      "Epoch  20/30: 100%|██████████| 937/937 [00:04<00:00, 190.30batch/s, Loss = 0.4129, AUC = 98.77%]\n",
      "Epoch  21/30: 100%|██████████| 937/937 [00:05<00:00, 182.07batch/s, Loss = 0.4066, AUC = 98.81%]\n",
      "Epoch  22/30: 100%|██████████| 937/937 [00:05<00:00, 182.07batch/s, Loss = 0.4058, AUC = 98.80%]\n",
      "Epoch  23/30: 100%|██████████| 937/937 [00:05<00:00, 171.94batch/s, Loss = 0.3998, AUC = 98.84%]\n",
      "Epoch  24/30: 100%|██████████| 937/937 [00:05<00:00, 183.79batch/s, Loss = 0.3963, AUC = 98.88%]\n",
      "Epoch  25/30: 100%|██████████| 937/937 [00:04<00:00, 190.95batch/s, Loss = 0.3929, AUC = 98.88%]\n",
      "Epoch  26/30: 100%|██████████| 937/937 [00:04<00:00, 190.82batch/s, Loss = 0.3902, AUC = 98.89%]\n",
      "Epoch  27/30: 100%|██████████| 937/937 [00:05<00:00, 181.18batch/s, Loss = 0.3859, AUC = 98.92%]\n",
      "Epoch  28/30: 100%|██████████| 937/937 [00:05<00:00, 182.63batch/s, Loss = 0.3865, AUC = 98.91%]\n",
      "Epoch  29/30: 100%|██████████| 937/937 [00:04<00:00, 190.71batch/s, Loss = 0.3790, AUC = 98.95%]\n",
      "Epoch  30/30: 100%|██████████| 937/937 [00:05<00:00, 183.25batch/s, Loss = 0.3795, AUC = 98.95%]"
     ]
    },
    {
     "name": "stdout",
     "output_type": "stream",
     "text": [
      "TOTAL TIME = 158.53s\n",
      "BEST AUC = 98.95% AT EPOCH 30\n"
     ]
    },
    {
     "name": "stderr",
     "output_type": "stream",
     "text": [
      "\n"
     ]
    }
   ],
   "source": [
    "model = VisionTransformer(num_classes=10, patch_size=14, hidden_size=6, num_heads=2, num_transformer_blocks=4, mlp_hidden_size=3)\n",
    "train_and_evaluate(model, mnist_train_dataloader, mnist_valid_dataloader, num_classes=10, learning_rate=0.0003, num_epochs=30)"
   ]
  }
 ],
 "metadata": {
  "kernelspec": {
   "display_name": "gsoc",
   "language": "python",
   "name": "gsoc"
  },
  "language_info": {
   "codemirror_mode": {
    "name": "ipython",
    "version": 3
   },
   "file_extension": ".py",
   "mimetype": "text/x-python",
   "name": "python",
   "nbconvert_exporter": "python",
   "pygments_lexer": "ipython3",
   "version": "3.11.4"
  }
 },
 "nbformat": 4,
 "nbformat_minor": 2
}
