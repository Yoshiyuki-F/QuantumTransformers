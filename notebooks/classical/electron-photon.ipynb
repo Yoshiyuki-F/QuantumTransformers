{
 "cells": [
  {
   "cell_type": "code",
   "execution_count": 1,
   "metadata": {
    "execution": {
     "iopub.execute_input": "2023-08-26T21:23:06.703265Z",
     "iopub.status.busy": "2023-08-26T21:23:06.703019Z",
     "iopub.status.idle": "2023-08-26T21:23:23.166394Z",
     "shell.execute_reply": "2023-08-26T21:23:23.165998Z"
    }
   },
   "outputs": [
    {
     "name": "stderr",
     "output_type": "stream",
     "text": [
      "2023-08-26 14:23:07.782337: E tensorflow/compiler/xla/stream_executor/cuda/cuda_dnn.cc:9342] Unable to register cuDNN factory: Attempting to register factory for plugin cuDNN when one has already been registered\n",
      "2023-08-26 14:23:07.782361: E tensorflow/compiler/xla/stream_executor/cuda/cuda_fft.cc:609] Unable to register cuFFT factory: Attempting to register factory for plugin cuFFT when one has already been registered\n",
      "2023-08-26 14:23:07.782377: E tensorflow/compiler/xla/stream_executor/cuda/cuda_blas.cc:1518] Unable to register cuBLAS factory: Attempting to register factory for plugin cuBLAS when one has already been registered\n",
      "2023-08-26 14:23:10.081473: W tensorflow/compiler/tf2tensorrt/utils/py_utils.cc:38] TF-TRT Warning: Could not find TensorRT\n"
     ]
    },
    {
     "name": "stdout",
     "output_type": "stream",
     "text": [
      "WARNING:tensorflow:From /global/common/software/m4392/conda/gsoc/lib/python3.11/site-packages/tensorflow/python/ops/distributions/distribution.py:259: ReparameterizationType.__init__ (from tensorflow.python.ops.distributions.distribution) is deprecated and will be removed after 2019-01-01.\n",
      "Instructions for updating:\n",
      "The TensorFlow Distributions library has moved to TensorFlow Probability (https://github.com/tensorflow/probability). You should update all references to use `tfp.distributions` instead of `tf.distributions`.\n",
      "WARNING:tensorflow:From /global/common/software/m4392/conda/gsoc/lib/python3.11/site-packages/tensorflow/python/ops/distributions/bernoulli.py:165: RegisterKL.__init__ (from tensorflow.python.ops.distributions.kullback_leibler) is deprecated and will be removed after 2019-01-01.\n",
      "Instructions for updating:\n",
      "The TensorFlow Distributions library has moved to TensorFlow Probability (https://github.com/tensorflow/probability). You should update all references to use `tfp.distributions` instead of `tf.distributions`.\n"
     ]
    },
    {
     "name": "stderr",
     "output_type": "stream",
     "text": [
      "Please first ``pip install -U cirq`` to enable related functionality in translation module\n"
     ]
    }
   ],
   "source": [
    "import jax\n",
    "import tensorflow as tf\n",
    "tf.config.set_visible_devices([], device_type='GPU')  # Ensure TF does not see GPU and grab all GPU memory.\n",
    "tf.random.set_seed(42)  # For reproducibility.\n",
    "\n",
    "from quantum_transformers.utils import plot_image\n",
    "from quantum_transformers.datasets import get_electron_photon_dataloaders\n",
    "from quantum_transformers.training import train_and_evaluate\n",
    "from quantum_transformers.transformers import VisionTransformer\n",
    "\n",
    "data_dir = '/global/cfs/cdirs/m4392/salcc/data'"
   ]
  },
  {
   "cell_type": "code",
   "execution_count": 2,
   "metadata": {
    "execution": {
     "iopub.execute_input": "2023-08-26T21:23:23.168705Z",
     "iopub.status.busy": "2023-08-26T21:23:23.168365Z",
     "iopub.status.idle": "2023-08-26T21:23:23.661671Z",
     "shell.execute_reply": "2023-08-26T21:23:23.661222Z"
    }
   },
   "outputs": [
    {
     "name": "stdout",
     "output_type": "stream",
     "text": [
      "gpu:0 NVIDIA A100-SXM4-40GB\n"
     ]
    }
   ],
   "source": [
    "for d in jax.devices():\n",
    "    print(d, d.device_kind)"
   ]
  },
  {
   "cell_type": "code",
   "execution_count": 3,
   "metadata": {
    "execution": {
     "iopub.execute_input": "2023-08-26T21:23:23.663426Z",
     "iopub.status.busy": "2023-08-26T21:23:23.663290Z",
     "iopub.status.idle": "2023-08-26T21:23:27.789379Z",
     "shell.execute_reply": "2023-08-26T21:23:27.788987Z"
    }
   },
   "outputs": [
    {
     "name": "stdout",
     "output_type": "stream",
     "text": [
      "(32, 32, 2)\n"
     ]
    },
    {
     "data": {
      "image/png": "[encoded data removed]",
      "text/plain": [
       "<Figure size 600x300 with 2 Axes>"
      ]
     },
     "metadata": {},
     "output_type": "display_data"
    }
   ],
   "source": [
    "ep_train_dataloader, ep_valid_dataloader = get_electron_photon_dataloaders(batch_size=256, data_dir=data_dir)\n",
    "first_image = next(iter(ep_train_dataloader))[0][0]\n",
    "print(first_image.shape)\n",
    "plot_image(first_image, abs_log=True)"
   ]
  },
  {
   "cell_type": "code",
   "execution_count": 4,
   "metadata": {
    "execution": {
     "iopub.execute_input": "2023-08-26T21:23:27.791074Z",
     "iopub.status.busy": "2023-08-26T21:23:27.790898Z",
     "iopub.status.idle": "2023-08-26T21:32:26.799623Z",
     "shell.execute_reply": "2023-08-26T21:32:26.799195Z"
    }
   },
   "outputs": [
    {
     "name": "stderr",
     "output_type": "stream",
     "text": [
      "Epoch   1/50: 100%|██████████| 1906/1906 [00:17<00:00, 109.81batch/s, Loss = 0.6588, AUC = 65.38%]\n",
      "Epoch   2/50: 100%|██████████| 1906/1906 [00:10<00:00, 180.79batch/s, Loss = 0.6134, AUC = 72.33%]\n",
      "Epoch   3/50: 100%|██████████| 1906/1906 [00:10<00:00, 185.16batch/s, Loss = 0.5995, AUC = 74.09%]\n",
      "Epoch   4/50: 100%|██████████| 1906/1906 [00:10<00:00, 188.78batch/s, Loss = 0.5907, AUC = 75.35%]\n",
      "Epoch   5/50: 100%|██████████| 1906/1906 [00:10<00:00, 181.95batch/s, Loss = 0.5884, AUC = 75.56%]\n",
      "Epoch   6/50: 100%|██████████| 1906/1906 [00:10<00:00, 186.17batch/s, Loss = 0.5890, AUC = 75.54%]\n",
      "Epoch   7/50: 100%|██████████| 1906/1906 [00:10<00:00, 190.14batch/s, Loss = 0.5816, AUC = 76.38%]\n",
      "Epoch   8/50: 100%|██████████| 1906/1906 [00:10<00:00, 178.52batch/s, Loss = 0.5835, AUC = 76.24%]\n",
      "Epoch   9/50: 100%|██████████| 1906/1906 [00:10<00:00, 182.60batch/s, Loss = 0.5841, AUC = 75.93%]\n",
      "Epoch  10/50: 100%|██████████| 1906/1906 [00:10<00:00, 185.35batch/s, Loss = 0.5792, AUC = 76.55%]\n",
      "Epoch  11/50: 100%|██████████| 1906/1906 [00:10<00:00, 180.60batch/s, Loss = 0.5759, AUC = 76.95%]\n",
      "Epoch  12/50: 100%|██████████| 1906/1906 [00:10<00:00, 183.04batch/s, Loss = 0.5771, AUC = 77.01%]\n",
      "Epoch  13/50: 100%|██████████| 1906/1906 [00:10<00:00, 174.60batch/s, Loss = 0.5728, AUC = 77.18%]\n",
      "Epoch  14/50: 100%|██████████| 1906/1906 [00:09<00:00, 190.83batch/s, Loss = 0.5694, AUC = 77.47%]\n",
      "Epoch  15/50: 100%|██████████| 1906/1906 [00:10<00:00, 188.60batch/s, Loss = 0.5660, AUC = 77.80%]\n",
      "Epoch  16/50: 100%|██████████| 1906/1906 [00:10<00:00, 178.20batch/s, Loss = 0.5684, AUC = 77.76%]\n",
      "Epoch  17/50: 100%|██████████| 1906/1906 [00:10<00:00, 187.98batch/s, Loss = 0.5669, AUC = 77.82%]\n",
      "Epoch  18/50: 100%|██████████| 1906/1906 [00:10<00:00, 186.81batch/s, Loss = 0.5659, AUC = 77.91%]\n",
      "Epoch  19/50: 100%|██████████| 1906/1906 [00:10<00:00, 184.01batch/s, Loss = 0.5650, AUC = 77.99%]\n",
      "Epoch  20/50: 100%|██████████| 1906/1906 [00:10<00:00, 188.16batch/s, Loss = 0.5636, AUC = 78.09%]\n",
      "Epoch  21/50: 100%|██████████| 1906/1906 [00:10<00:00, 176.69batch/s, Loss = 0.5646, AUC = 78.13%]\n",
      "Epoch  22/50: 100%|██████████| 1906/1906 [00:09<00:00, 191.53batch/s, Loss = 0.5618, AUC = 78.26%]\n",
      "Epoch  23/50: 100%|██████████| 1906/1906 [00:10<00:00, 180.60batch/s, Loss = 0.5607, AUC = 78.37%]\n",
      "Epoch  24/50: 100%|██████████| 1906/1906 [00:10<00:00, 181.53batch/s, Loss = 0.5610, AUC = 78.34%]\n",
      "Epoch  25/50: 100%|██████████| 1906/1906 [00:10<00:00, 188.24batch/s, Loss = 0.5606, AUC = 78.38%]\n",
      "Epoch  26/50: 100%|██████████| 1906/1906 [00:10<00:00, 182.68batch/s, Loss = 0.5603, AUC = 78.40%]\n",
      "Epoch  27/50: 100%|██████████| 1906/1906 [00:10<00:00, 173.36batch/s, Loss = 0.5603, AUC = 78.40%]\n",
      "Epoch  28/50: 100%|██████████| 1906/1906 [00:10<00:00, 176.75batch/s, Loss = 0.5603, AUC = 78.40%]\n",
      "Epoch  29/50: 100%|██████████| 1906/1906 [00:10<00:00, 188.70batch/s, Loss = 0.5603, AUC = 78.40%]\n",
      "Epoch  30/50: 100%|██████████| 1906/1906 [00:10<00:00, 183.16batch/s, Loss = 0.5603, AUC = 78.40%]\n",
      "Epoch  31/50: 100%|██████████| 1906/1906 [00:10<00:00, 177.98batch/s, Loss = 0.5603, AUC = 78.40%]\n",
      "Epoch  32/50: 100%|██████████| 1906/1906 [00:10<00:00, 181.68batch/s, Loss = 0.5603, AUC = 78.40%]\n",
      "Epoch  33/50: 100%|██████████| 1906/1906 [00:10<00:00, 178.60batch/s, Loss = 0.5603, AUC = 78.40%]\n",
      "Epoch  34/50: 100%|██████████| 1906/1906 [00:10<00:00, 176.49batch/s, Loss = 0.5603, AUC = 78.40%]\n",
      "Epoch  35/50: 100%|██████████| 1906/1906 [00:10<00:00, 178.37batch/s, Loss = 0.5603, AUC = 78.40%]\n",
      "Epoch  36/50: 100%|██████████| 1906/1906 [00:10<00:00, 187.94batch/s, Loss = 0.5603, AUC = 78.40%]\n",
      "Epoch  37/50: 100%|██████████| 1906/1906 [00:10<00:00, 185.20batch/s, Loss = 0.5603, AUC = 78.40%]\n",
      "Epoch  38/50: 100%|██████████| 1906/1906 [00:10<00:00, 177.77batch/s, Loss = 0.5603, AUC = 78.40%]\n",
      "Epoch  39/50: 100%|██████████| 1906/1906 [00:10<00:00, 173.78batch/s, Loss = 0.5603, AUC = 78.40%]\n",
      "Epoch  40/50: 100%|██████████| 1906/1906 [00:10<00:00, 183.97batch/s, Loss = 0.5603, AUC = 78.40%]\n",
      "Epoch  41/50: 100%|██████████| 1906/1906 [00:10<00:00, 186.98batch/s, Loss = 0.5603, AUC = 78.40%]\n",
      "Epoch  42/50: 100%|██████████| 1906/1906 [00:10<00:00, 182.46batch/s, Loss = 0.5603, AUC = 78.40%]\n",
      "Epoch  43/50: 100%|██████████| 1906/1906 [00:10<00:00, 183.52batch/s, Loss = 0.5603, AUC = 78.40%]\n",
      "Epoch  44/50: 100%|██████████| 1906/1906 [00:10<00:00, 183.81batch/s, Loss = 0.5603, AUC = 78.40%]\n",
      "Epoch  45/50: 100%|██████████| 1906/1906 [00:10<00:00, 183.18batch/s, Loss = 0.5603, AUC = 78.40%]\n",
      "Epoch  46/50: 100%|██████████| 1906/1906 [00:10<00:00, 181.60batch/s, Loss = 0.5603, AUC = 78.40%]\n",
      "Epoch  47/50: 100%|██████████| 1906/1906 [00:10<00:00, 189.06batch/s, Loss = 0.5603, AUC = 78.40%]\n",
      "Epoch  48/50: 100%|██████████| 1906/1906 [00:10<00:00, 185.05batch/s, Loss = 0.5603, AUC = 78.40%]\n",
      "Epoch  49/50: 100%|██████████| 1906/1906 [00:10<00:00, 181.69batch/s, Loss = 0.5603, AUC = 78.40%]\n",
      "Epoch  50/50: 100%|██████████| 1906/1906 [00:10<00:00, 179.70batch/s, Loss = 0.5603, AUC = 78.40%]"
     ]
    },
    {
     "name": "stdout",
     "output_type": "stream",
     "text": [
      "TOTAL TIME = 528.25s\n",
      "BEST AUC = 78.40% AT EPOCH 26\n"
     ]
    },
    {
     "name": "stderr",
     "output_type": "stream",
     "text": [
      "\n"
     ]
    }
   ],
   "source": [
    "model = VisionTransformer(num_classes=2, patch_size=8, hidden_size=64, num_heads=2, num_transformer_blocks=4, mlp_hidden_size=32, channels_last=True)\n",
    "train_and_evaluate(model, ep_train_dataloader, ep_valid_dataloader, num_classes=2, num_epochs=50)"
   ]
  },
  {
   "cell_type": "code",
   "execution_count": 5,
   "metadata": {
    "execution": {
     "iopub.execute_input": "2023-08-26T21:32:26.801262Z",
     "iopub.status.busy": "2023-08-26T21:32:26.801087Z",
     "iopub.status.idle": "2023-08-26T21:40:57.607048Z",
     "shell.execute_reply": "2023-08-26T21:40:57.606515Z"
    }
   },
   "outputs": [
    {
     "name": "stderr",
     "output_type": "stream",
     "text": [
      "Epoch   1/50: 100%|██████████| 1906/1906 [00:16<00:00, 118.47batch/s, Loss = 0.6926, AUC = 57.39%]\n",
      "Epoch   2/50: 100%|██████████| 1906/1906 [00:09<00:00, 194.27batch/s, Loss = 0.6602, AUC = 64.19%]\n",
      "Epoch   3/50: 100%|██████████| 1906/1906 [00:10<00:00, 189.63batch/s, Loss = 0.6326, AUC = 69.33%]\n",
      "Epoch   4/50: 100%|██████████| 1906/1906 [00:10<00:00, 189.63batch/s, Loss = 0.6038, AUC = 73.38%]\n",
      "Epoch   5/50: 100%|██████████| 1906/1906 [00:10<00:00, 178.88batch/s, Loss = 0.6014, AUC = 73.93%]\n",
      "Epoch   6/50: 100%|██████████| 1906/1906 [00:09<00:00, 191.17batch/s, Loss = 0.5975, AUC = 74.37%]\n",
      "Epoch   7/50: 100%|██████████| 1906/1906 [00:10<00:00, 189.42batch/s, Loss = 0.5942, AUC = 74.74%]\n",
      "Epoch   8/50: 100%|██████████| 1906/1906 [00:09<00:00, 193.87batch/s, Loss = 0.5973, AUC = 74.65%]\n",
      "Epoch   9/50: 100%|██████████| 1906/1906 [00:09<00:00, 193.51batch/s, Loss = 0.5925, AUC = 75.26%]\n",
      "Epoch  10/50: 100%|██████████| 1906/1906 [00:09<00:00, 202.91batch/s, Loss = 0.5877, AUC = 75.49%]\n",
      "Epoch  11/50: 100%|██████████| 1906/1906 [00:09<00:00, 192.05batch/s, Loss = 0.5858, AUC = 75.77%]\n",
      "Epoch  12/50: 100%|██████████| 1906/1906 [00:10<00:00, 180.45batch/s, Loss = 0.5855, AUC = 75.69%]\n",
      "Epoch  13/50: 100%|██████████| 1906/1906 [00:09<00:00, 192.10batch/s, Loss = 0.5830, AUC = 76.03%]\n",
      "Epoch  14/50: 100%|██████████| 1906/1906 [00:09<00:00, 193.87batch/s, Loss = 0.5821, AUC = 76.08%]\n",
      "Epoch  15/50: 100%|██████████| 1906/1906 [00:10<00:00, 186.39batch/s, Loss = 0.5819, AUC = 76.21%]\n",
      "Epoch  16/50: 100%|██████████| 1906/1906 [00:09<00:00, 198.57batch/s, Loss = 0.5820, AUC = 76.22%]\n",
      "Epoch  17/50: 100%|██████████| 1906/1906 [00:10<00:00, 188.65batch/s, Loss = 0.5810, AUC = 76.37%]\n",
      "Epoch  18/50: 100%|██████████| 1906/1906 [00:10<00:00, 185.74batch/s, Loss = 0.5794, AUC = 76.48%]\n",
      "Epoch  19/50: 100%|██████████| 1906/1906 [00:10<00:00, 189.27batch/s, Loss = 0.5782, AUC = 76.62%]\n",
      "Epoch  20/50: 100%|██████████| 1906/1906 [00:09<00:00, 194.65batch/s, Loss = 0.5769, AUC = 76.72%]\n",
      "Epoch  21/50: 100%|██████████| 1906/1906 [00:10<00:00, 189.50batch/s, Loss = 0.5781, AUC = 76.62%]\n",
      "Epoch  22/50: 100%|██████████| 1906/1906 [00:09<00:00, 192.83batch/s, Loss = 0.5774, AUC = 76.74%]\n",
      "Epoch  23/50: 100%|██████████| 1906/1906 [00:09<00:00, 200.42batch/s, Loss = 0.5772, AUC = 76.72%]\n",
      "Epoch  24/50: 100%|██████████| 1906/1906 [00:09<00:00, 198.48batch/s, Loss = 0.5774, AUC = 76.72%]\n",
      "Epoch  25/50: 100%|██████████| 1906/1906 [00:10<00:00, 189.71batch/s, Loss = 0.5771, AUC = 76.74%]\n",
      "Epoch  26/50: 100%|██████████| 1906/1906 [00:09<00:00, 196.32batch/s, Loss = 0.5772, AUC = 76.71%]\n",
      "Epoch  27/50: 100%|██████████| 1906/1906 [00:09<00:00, 199.04batch/s, Loss = 0.5772, AUC = 76.71%]\n",
      "Epoch  28/50: 100%|██████████| 1906/1906 [00:09<00:00, 191.30batch/s, Loss = 0.5772, AUC = 76.71%]\n",
      "Epoch  29/50: 100%|██████████| 1906/1906 [00:10<00:00, 190.15batch/s, Loss = 0.5772, AUC = 76.71%]\n",
      "Epoch  30/50: 100%|██████████| 1906/1906 [00:09<00:00, 199.94batch/s, Loss = 0.5772, AUC = 76.71%]\n",
      "Epoch  31/50: 100%|██████████| 1906/1906 [00:09<00:00, 190.96batch/s, Loss = 0.5772, AUC = 76.71%]\n",
      "Epoch  32/50: 100%|██████████| 1906/1906 [00:10<00:00, 179.61batch/s, Loss = 0.5772, AUC = 76.71%]\n",
      "Epoch  33/50: 100%|██████████| 1906/1906 [00:09<00:00, 197.68batch/s, Loss = 0.5772, AUC = 76.71%]\n",
      "Epoch  34/50: 100%|██████████| 1906/1906 [00:09<00:00, 204.00batch/s, Loss = 0.5772, AUC = 76.71%]\n",
      "Epoch  35/50: 100%|██████████| 1906/1906 [00:09<00:00, 190.82batch/s, Loss = 0.5772, AUC = 76.71%]\n",
      "Epoch  36/50: 100%|██████████| 1906/1906 [00:09<00:00, 191.88batch/s, Loss = 0.5772, AUC = 76.71%]\n",
      "Epoch  37/50: 100%|██████████| 1906/1906 [00:09<00:00, 193.20batch/s, Loss = 0.5772, AUC = 76.71%]\n",
      "Epoch  38/50: 100%|██████████| 1906/1906 [00:09<00:00, 191.49batch/s, Loss = 0.5772, AUC = 76.71%]\n",
      "Epoch  39/50: 100%|██████████| 1906/1906 [00:10<00:00, 189.36batch/s, Loss = 0.5772, AUC = 76.71%]\n",
      "Epoch  40/50: 100%|██████████| 1906/1906 [00:09<00:00, 192.13batch/s, Loss = 0.5772, AUC = 76.71%]\n",
      "Epoch  41/50: 100%|██████████| 1906/1906 [00:09<00:00, 197.52batch/s, Loss = 0.5772, AUC = 76.71%]\n",
      "Epoch  42/50: 100%|██████████| 1906/1906 [00:10<00:00, 185.49batch/s, Loss = 0.5772, AUC = 76.71%]\n",
      "Epoch  43/50: 100%|██████████| 1906/1906 [00:09<00:00, 196.72batch/s, Loss = 0.5772, AUC = 76.71%]\n",
      "Epoch  44/50: 100%|██████████| 1906/1906 [00:09<00:00, 193.17batch/s, Loss = 0.5772, AUC = 76.71%]\n",
      "Epoch  45/50: 100%|██████████| 1906/1906 [00:10<00:00, 190.41batch/s, Loss = 0.5772, AUC = 76.71%]\n",
      "Epoch  46/50: 100%|██████████| 1906/1906 [00:10<00:00, 190.52batch/s, Loss = 0.5772, AUC = 76.71%]\n",
      "Epoch  47/50: 100%|██████████| 1906/1906 [00:10<00:00, 179.79batch/s, Loss = 0.5772, AUC = 76.71%]\n",
      "Epoch  48/50: 100%|██████████| 1906/1906 [00:09<00:00, 193.19batch/s, Loss = 0.5772, AUC = 76.71%]\n",
      "Epoch  49/50: 100%|██████████| 1906/1906 [00:10<00:00, 183.35batch/s, Loss = 0.5772, AUC = 76.71%]\n",
      "Epoch  50/50: 100%|██████████| 1906/1906 [00:11<00:00, 172.27batch/s, Loss = 0.5772, AUC = 76.71%]"
     ]
    },
    {
     "name": "stdout",
     "output_type": "stream",
     "text": [
      "TOTAL TIME = 504.76s\n",
      "BEST AUC = 76.74% AT EPOCH 25\n"
     ]
    },
    {
     "name": "stderr",
     "output_type": "stream",
     "text": [
      "\n"
     ]
    }
   ],
   "source": [
    "model = VisionTransformer(num_classes=2, patch_size=8, hidden_size=8, num_heads=2, num_transformer_blocks=4, mlp_hidden_size=4, channels_last=True)\n",
    "train_and_evaluate(model, ep_train_dataloader, ep_valid_dataloader, num_classes=2, num_epochs=50)"
   ]
  }
 ],
 "metadata": {
  "kernelspec": {
   "display_name": "gsoc",
   "language": "python",
   "name": "gsoc"
  },
  "language_info": {
   "codemirror_mode": {
    "name": "ipython",
    "version": 3
   },
   "file_extension": ".py",
   "mimetype": "text/x-python",
   "name": "python",
   "nbconvert_exporter": "python",
   "pygments_lexer": "ipython3",
   "version": "3.11.4"
  }
 },
 "nbformat": 4,
 "nbformat_minor": 2
}
