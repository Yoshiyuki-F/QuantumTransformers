{
 "cells": [
  {
   "cell_type": "code",
   "execution_count": 1,
   "metadata": {
    "execution": {
     "iopub.execute_input": "2023-08-22T13:52:22.375931Z",
     "iopub.status.busy": "2023-08-22T13:52:22.375632Z",
     "iopub.status.idle": "2023-08-22T13:52:41.668366Z",
     "shell.execute_reply": "2023-08-22T13:52:41.667937Z"
    }
   },
   "outputs": [
    {
     "name": "stderr",
     "output_type": "stream",
     "text": [
      "2023-08-22 06:52:27.352648: E tensorflow/compiler/xla/stream_executor/cuda/cuda_dnn.cc:9342] Unable to register cuDNN factory: Attempting to register factory for plugin cuDNN when one has already been registered\n",
      "2023-08-22 06:52:27.352672: E tensorflow/compiler/xla/stream_executor/cuda/cuda_fft.cc:609] Unable to register cuFFT factory: Attempting to register factory for plugin cuFFT when one has already been registered\n",
      "2023-08-22 06:52:27.352691: E tensorflow/compiler/xla/stream_executor/cuda/cuda_blas.cc:1518] Unable to register cuBLAS factory: Attempting to register factory for plugin cuBLAS when one has already been registered\n",
      "2023-08-22 06:52:30.030779: W tensorflow/compiler/tf2tensorrt/utils/py_utils.cc:38] TF-TRT Warning: Could not find TensorRT\n"
     ]
    },
    {
     "name": "stdout",
     "output_type": "stream",
     "text": [
      "WARNING:tensorflow:From /global/common/software/m4392/conda/gsoc/lib/python3.11/site-packages/tensorflow/python/ops/distributions/distribution.py:259: ReparameterizationType.__init__ (from tensorflow.python.ops.distributions.distribution) is deprecated and will be removed after 2019-01-01.\n",
      "Instructions for updating:\n",
      "The TensorFlow Distributions library has moved to TensorFlow Probability (https://github.com/tensorflow/probability). You should update all references to use `tfp.distributions` instead of `tf.distributions`.\n",
      "WARNING:tensorflow:From /global/common/software/m4392/conda/gsoc/lib/python3.11/site-packages/tensorflow/python/ops/distributions/bernoulli.py:165: RegisterKL.__init__ (from tensorflow.python.ops.distributions.kullback_leibler) is deprecated and will be removed after 2019-01-01.\n",
      "Instructions for updating:\n",
      "The TensorFlow Distributions library has moved to TensorFlow Probability (https://github.com/tensorflow/probability). You should update all references to use `tfp.distributions` instead of `tf.distributions`.\n"
     ]
    },
    {
     "name": "stderr",
     "output_type": "stream",
     "text": [
      "Please first ``pip install -U cirq`` to enable related functionality in translation module\n"
     ]
    }
   ],
   "source": [
    "import jax\n",
    "\n",
    "from quantum_transformers.utils import plot_image\n",
    "from quantum_transformers.datasets import get_mnist_dataloaders\n",
    "from quantum_transformers.training import train_and_evaluate\n",
    "from quantum_transformers.transformers import VisionTransformer\n",
    "from quantum_transformers.quantum_layer import get_circuit\n",
    "\n",
    "data_dir = '/global/cfs/cdirs/m4392/salcc/data'"
   ]
  },
  {
   "cell_type": "code",
   "execution_count": 2,
   "metadata": {
    "execution": {
     "iopub.execute_input": "2023-08-22T13:52:41.670856Z",
     "iopub.status.busy": "2023-08-22T13:52:41.670476Z",
     "iopub.status.idle": "2023-08-22T13:52:42.056439Z",
     "shell.execute_reply": "2023-08-22T13:52:42.055943Z"
    }
   },
   "outputs": [
    {
     "name": "stdout",
     "output_type": "stream",
     "text": [
      "gpu:0 NVIDIA A100-SXM4-40GB\n"
     ]
    }
   ],
   "source": [
    "for d in jax.devices():\n",
    "    print(d, d.device_kind)"
   ]
  },
  {
   "cell_type": "code",
   "execution_count": 3,
   "metadata": {
    "execution": {
     "iopub.execute_input": "2023-08-22T13:52:42.058163Z",
     "iopub.status.busy": "2023-08-22T13:52:42.058023Z",
     "iopub.status.idle": "2023-08-22T13:52:43.069888Z",
     "shell.execute_reply": "2023-08-22T13:52:43.069504Z"
    }
   },
   "outputs": [
    {
     "name": "stdout",
     "output_type": "stream",
     "text": [
      "(28, 28, 1)\n"
     ]
    },
    {
     "data": {
      "image/png": "[encoded data removed]",
      "text/plain": [
       "<Figure size 300x300 with 1 Axes>"
      ]
     },
     "metadata": {},
     "output_type": "display_data"
    }
   ],
   "source": [
    "mnist_train_dataloader, mnist_valid_dataloader = get_mnist_dataloaders(batch_size=64, data_dir=data_dir)\n",
    "first_image = next(iter(mnist_train_dataloader))[0][0]\n",
    "print(first_image.shape)\n",
    "plot_image(first_image)"
   ]
  },
  {
   "cell_type": "code",
   "execution_count": 4,
   "metadata": {
    "execution": {
     "iopub.execute_input": "2023-08-22T13:52:43.071541Z",
     "iopub.status.busy": "2023-08-22T13:52:43.071325Z",
     "iopub.status.idle": "2023-08-22T13:59:38.823194Z",
     "shell.execute_reply": "2023-08-22T13:59:38.822768Z"
    }
   },
   "outputs": [
    {
     "name": "stderr",
     "output_type": "stream",
     "text": [
      "Epoch   1/30: 100%|██████████| 937/937 [00:47<00:00, 19.73batch/s, Loss = 1.4402, AUC = 91.51%] \n",
      "Epoch   2/30: 100%|██████████| 937/937 [00:12<00:00, 76.95batch/s, Loss = 1.0200, AUC = 95.29%] \n",
      "Epoch   3/30: 100%|██████████| 937/937 [00:12<00:00, 75.27batch/s, Loss = 0.8089, AUC = 96.41%] \n",
      "Epoch   4/30: 100%|██████████| 937/937 [00:12<00:00, 75.05batch/s, Loss = 0.7043, AUC = 96.96%] \n",
      "Epoch   5/30: 100%|██████████| 937/937 [00:12<00:00, 76.19batch/s, Loss = 0.6435, AUC = 97.33%] \n",
      "Epoch   6/30: 100%|██████████| 937/937 [00:12<00:00, 77.03batch/s, Loss = 0.6078, AUC = 97.52%] \n",
      "Epoch   7/30: 100%|██████████| 937/937 [00:11<00:00, 79.75batch/s, Loss = 0.5831, AUC = 97.70%] \n",
      "Epoch   8/30: 100%|██████████| 937/937 [00:12<00:00, 75.08batch/s, Loss = 0.5621, AUC = 97.83%] \n",
      "Epoch   9/30: 100%|██████████| 937/937 [00:12<00:00, 76.71batch/s, Loss = 0.5527, AUC = 97.91%] \n",
      "Epoch  10/30: 100%|██████████| 937/937 [00:12<00:00, 77.71batch/s, Loss = 0.5376, AUC = 98.00%] \n",
      "Epoch  11/30: 100%|██████████| 937/937 [00:12<00:00, 74.34batch/s, Loss = 0.5309, AUC = 98.05%] \n",
      "Epoch  12/30: 100%|██████████| 937/937 [00:12<00:00, 75.27batch/s, Loss = 0.5246, AUC = 98.10%]\n",
      "Epoch  13/30: 100%|██████████| 937/937 [00:12<00:00, 75.34batch/s, Loss = 0.5177, AUC = 98.16%] \n",
      "Epoch  14/30: 100%|██████████| 937/937 [00:12<00:00, 74.86batch/s, Loss = 0.5131, AUC = 98.19%] \n",
      "Epoch  15/30: 100%|██████████| 937/937 [00:12<00:00, 76.25batch/s, Loss = 0.5076, AUC = 98.22%] \n",
      "Epoch  16/30: 100%|██████████| 937/937 [00:12<00:00, 76.32batch/s, Loss = 0.5037, AUC = 98.25%] \n",
      "Epoch  17/30: 100%|██████████| 937/937 [00:12<00:00, 76.70batch/s, Loss = 0.4994, AUC = 98.29%] \n",
      "Epoch  18/30: 100%|██████████| 937/937 [00:12<00:00, 75.96batch/s, Loss = 0.4957, AUC = 98.32%] \n",
      "Epoch  19/30: 100%|██████████| 937/937 [00:12<00:00, 77.12batch/s, Loss = 0.4937, AUC = 98.33%] \n",
      "Epoch  20/30: 100%|██████████| 937/937 [00:12<00:00, 76.93batch/s, Loss = 0.4884, AUC = 98.36%] \n",
      "Epoch  21/30: 100%|██████████| 937/937 [00:12<00:00, 77.18batch/s, Loss = 0.4888, AUC = 98.35%] \n",
      "Epoch  22/30: 100%|██████████| 937/937 [00:12<00:00, 75.10batch/s, Loss = 0.4840, AUC = 98.39%]\n",
      "Epoch  23/30: 100%|██████████| 937/937 [00:12<00:00, 77.03batch/s, Loss = 0.4840, AUC = 98.40%] \n",
      "Epoch  24/30: 100%|██████████| 937/937 [00:12<00:00, 76.79batch/s, Loss = 0.4815, AUC = 98.40%] \n",
      "Epoch  25/30: 100%|██████████| 937/937 [00:12<00:00, 74.80batch/s, Loss = 0.4784, AUC = 98.44%] \n",
      "Epoch  26/30: 100%|██████████| 937/937 [00:12<00:00, 77.11batch/s, Loss = 0.4747, AUC = 98.45%] \n",
      "Epoch  27/30: 100%|██████████| 937/937 [00:12<00:00, 76.34batch/s, Loss = 0.4735, AUC = 98.46%] \n",
      "Epoch  28/30: 100%|██████████| 937/937 [00:12<00:00, 76.60batch/s, Loss = 0.4678, AUC = 98.50%] \n",
      "Epoch  29/30: 100%|██████████| 937/937 [00:12<00:00, 77.12batch/s, Loss = 0.4651, AUC = 98.52%] \n",
      "Epoch  30/30: 100%|██████████| 937/937 [00:12<00:00, 76.23batch/s, Loss = 0.4654, AUC = 98.51%] "
     ]
    },
    {
     "name": "stdout",
     "output_type": "stream",
     "text": [
      "TOTAL TIME = 403.69s\n",
      "BEST AUC = 98.52% AT EPOCH 29\n"
     ]
    },
    {
     "name": "stderr",
     "output_type": "stream",
     "text": [
      "\n"
     ]
    }
   ],
   "source": [
    "model = VisionTransformer(num_classes=10, patch_size=14, hidden_size=6, num_heads=2, num_transformer_blocks=4, mlp_hidden_size=3,\n",
    "                          quantum_attn_circuit=get_circuit(), quantum_mlp_circuit=get_circuit())\n",
    "train_and_evaluate(model, mnist_train_dataloader, mnist_valid_dataloader, num_classes=10, learning_rate=0.0003, num_epochs=30)"
   ]
  }
 ],
 "metadata": {
  "kernelspec": {
   "display_name": "gsoc",
   "language": "python",
   "name": "python3"
  },
  "language_info": {
   "codemirror_mode": {
    "name": "ipython",
    "version": 3
   },
   "file_extension": ".py",
   "mimetype": "text/x-python",
   "name": "python",
   "nbconvert_exporter": "python",
   "pygments_lexer": "ipython3",
   "version": "3.11.4"
  }
 },
 "nbformat": 4,
 "nbformat_minor": 2
}
