{
 "cells": [
  {
   "cell_type": "code",
   "execution_count": 1,
   "metadata": {
    "execution": {
     "iopub.execute_input": "2023-08-22T07:36:41.748038Z",
     "iopub.status.busy": "2023-08-22T07:36:41.747798Z",
     "iopub.status.idle": "2023-08-22T07:36:48.661099Z",
     "shell.execute_reply": "2023-08-22T07:36:48.660513Z"
    }
   },
   "outputs": [
    {
     "name": "stderr",
     "output_type": "stream",
     "text": [
      "2023-08-22 00:36:43.745445: E tensorflow/compiler/xla/stream_executor/cuda/cuda_dnn.cc:9342] Unable to register cuDNN factory: Attempting to register factory for plugin cuDNN when one has already been registered\n",
      "2023-08-22 00:36:43.745465: E tensorflow/compiler/xla/stream_executor/cuda/cuda_fft.cc:609] Unable to register cuFFT factory: Attempting to register factory for plugin cuFFT when one has already been registered\n",
      "2023-08-22 00:36:43.745481: E tensorflow/compiler/xla/stream_executor/cuda/cuda_blas.cc:1518] Unable to register cuBLAS factory: Attempting to register factory for plugin cuBLAS when one has already been registered\n",
      "2023-08-22 00:36:44.779358: W tensorflow/compiler/tf2tensorrt/utils/py_utils.cc:38] TF-TRT Warning: Could not find TensorRT\n"
     ]
    },
    {
     "name": "stdout",
     "output_type": "stream",
     "text": [
      "WARNING:tensorflow:From /global/common/software/m4392/conda/gsoc/lib/python3.11/site-packages/tensorflow/python/ops/distributions/distribution.py:259: ReparameterizationType.__init__ (from tensorflow.python.ops.distributions.distribution) is deprecated and will be removed after 2019-01-01.\n",
      "Instructions for updating:\n",
      "The TensorFlow Distributions library has moved to TensorFlow Probability (https://github.com/tensorflow/probability). You should update all references to use `tfp.distributions` instead of `tf.distributions`.\n",
      "WARNING:tensorflow:From /global/common/software/m4392/conda/gsoc/lib/python3.11/site-packages/tensorflow/python/ops/distributions/bernoulli.py:165: RegisterKL.__init__ (from tensorflow.python.ops.distributions.kullback_leibler) is deprecated and will be removed after 2019-01-01.\n",
      "Instructions for updating:\n",
      "The TensorFlow Distributions library has moved to TensorFlow Probability (https://github.com/tensorflow/probability). You should update all references to use `tfp.distributions` instead of `tf.distributions`.\n"
     ]
    },
    {
     "name": "stderr",
     "output_type": "stream",
     "text": [
      "Please first ``pip install -U cirq`` to enable related functionality in translation module\n"
     ]
    }
   ],
   "source": [
    "import jax\n",
    "\n",
    "from quantum_transformers.utils import plot_image\n",
    "from quantum_transformers.datasets import get_quark_gluon_dataloaders\n",
    "from quantum_transformers.training import train_and_evaluate\n",
    "from quantum_transformers.transformers import VisionTransformer\n",
    "\n",
    "data_dir = '/global/cfs/cdirs/m4392/salcc/data'"
   ]
  },
  {
   "cell_type": "code",
   "execution_count": 2,
   "metadata": {
    "execution": {
     "iopub.execute_input": "2023-08-22T07:36:48.664162Z",
     "iopub.status.busy": "2023-08-22T07:36:48.663690Z",
     "iopub.status.idle": "2023-08-22T07:36:48.886288Z",
     "shell.execute_reply": "2023-08-22T07:36:48.885665Z"
    }
   },
   "outputs": [
    {
     "name": "stdout",
     "output_type": "stream",
     "text": [
      "gpu:0 NVIDIA A100-SXM4-80GB\n"
     ]
    }
   ],
   "source": [
    "for d in jax.devices():\n",
    "    print(d, d.device_kind)"
   ]
  },
  {
   "cell_type": "code",
   "execution_count": 3,
   "metadata": {
    "execution": {
     "iopub.execute_input": "2023-08-22T07:36:48.888547Z",
     "iopub.status.busy": "2023-08-22T07:36:48.888093Z",
     "iopub.status.idle": "2023-08-22T07:36:55.516728Z",
     "shell.execute_reply": "2023-08-22T07:36:55.516291Z"
    }
   },
   "outputs": [
    {
     "name": "stdout",
     "output_type": "stream",
     "text": [
      "(125, 125, 3)\n"
     ]
    },
    {
     "data": {
      "image/png": "[encoded data removed]",
      "text/plain": [
       "<Figure size 900x300 with 3 Axes>"
      ]
     },
     "metadata": {},
     "output_type": "display_data"
    }
   ],
   "source": [
    "qg_train_dataloader, qg_valid_dataloader = get_quark_gluon_dataloaders(batch_size=256, data_dir=data_dir)\n",
    "first_image = next(iter(qg_train_dataloader))[0][0]\n",
    "print(first_image.shape)\n",
    "plot_image(first_image, abs_log=True)"
   ]
  },
  {
   "cell_type": "code",
   "execution_count": 4,
   "metadata": {
    "execution": {
     "iopub.execute_input": "2023-08-22T07:36:55.518559Z",
     "iopub.status.busy": "2023-08-22T07:36:55.518363Z",
     "iopub.status.idle": "2023-08-22T07:51:45.005176Z",
     "shell.execute_reply": "2023-08-22T07:51:45.004743Z"
    }
   },
   "outputs": [
    {
     "name": "stderr",
     "output_type": "stream",
     "text": [
      "Epoch   1/50: 100%|██████████| 544/544 [00:23<00:00, 23.15batch/s, Loss = 0.6376, AUC = 70.41%]                                           \n",
      "Epoch   2/50: 100%|██████████| 544/544 [00:15<00:00, 34.35batch/s, Loss = 0.6072, AUC = 73.62%]                                           \n",
      "Epoch   3/50: 100%|██████████| 544/544 [00:13<00:00, 40.29batch/s, Loss = 0.5948, AUC = 75.26%]                                           \n",
      "Epoch   4/50: 100%|██████████| 544/544 [00:14<00:00, 36.74batch/s, Loss = 0.6008, AUC = 75.67%]                                           \n",
      "Epoch   5/50: 100%|██████████| 544/544 [00:16<00:00, 32.62batch/s, Loss = 0.5900, AUC = 76.60%]                                           \n",
      "Epoch   6/50: 100%|██████████| 544/544 [00:17<00:00, 31.24batch/s, Loss = 0.5980, AUC = 77.11%]                                           \n",
      "Epoch   7/50: 100%|██████████| 544/544 [00:17<00:00, 31.17batch/s, Loss = 0.5846, AUC = 77.71%]                                           \n",
      "Epoch   8/50: 100%|██████████| 544/544 [00:17<00:00, 31.38batch/s, Loss = 0.5802, AUC = 77.94%]                                           \n",
      "Epoch   9/50: 100%|██████████| 544/544 [00:17<00:00, 30.77batch/s, Loss = 0.5916, AUC = 78.15%]                                           \n",
      "Epoch  10/50: 100%|██████████| 544/544 [00:17<00:00, 31.07batch/s, Loss = 0.5647, AUC = 78.30%]                                           \n",
      "Epoch  11/50: 100%|██████████| 544/544 [00:17<00:00, 31.10batch/s, Loss = 0.5592, AUC = 78.76%]                                           \n",
      "Epoch  12/50: 100%|██████████| 544/544 [00:21<00:00, 24.89batch/s, Loss = 0.5777, AUC = 78.92%]                                           \n",
      "Epoch  13/50: 100%|██████████| 544/544 [00:15<00:00, 35.57batch/s, Loss = 0.5668, AUC = 78.78%]                                           \n",
      "Epoch  14/50: 100%|██████████| 544/544 [00:17<00:00, 31.63batch/s, Loss = 0.5646, AUC = 78.79%]                                           \n",
      "Epoch  15/50: 100%|██████████| 544/544 [00:17<00:00, 31.06batch/s, Loss = 0.5766, AUC = 78.92%]                                           \n",
      "Epoch  16/50: 100%|██████████| 544/544 [00:17<00:00, 30.36batch/s, Loss = 0.5707, AUC = 79.26%]                                           \n",
      "Epoch  17/50: 100%|██████████| 544/544 [00:17<00:00, 30.84batch/s, Loss = 0.5546, AUC = 79.44%]                                           \n",
      "Epoch  18/50: 100%|██████████| 544/544 [00:17<00:00, 30.52batch/s, Loss = 0.5574, AUC = 79.20%]                                           \n",
      "Epoch  19/50: 100%|██████████| 544/544 [00:17<00:00, 30.91batch/s, Loss = 0.5591, AUC = 79.45%]                                           \n",
      "Epoch  20/50: 100%|██████████| 544/544 [00:17<00:00, 30.92batch/s, Loss = 0.5535, AUC = 79.43%]                                           \n",
      "Epoch  21/50: 100%|██████████| 544/544 [00:17<00:00, 31.12batch/s, Loss = 0.5656, AUC = 79.57%]                                           \n",
      "Epoch  22/50: 100%|██████████| 544/544 [00:17<00:00, 30.80batch/s, Loss = 0.5586, AUC = 79.54%]                                           \n",
      "Epoch  23/50: 100%|██████████| 544/544 [00:17<00:00, 30.24batch/s, Loss = 0.5693, AUC = 79.72%]                                           \n",
      "Epoch  24/50: 100%|██████████| 544/544 [00:17<00:00, 30.90batch/s, Loss = 0.5483, AUC = 79.81%]                                           \n",
      "Epoch  25/50: 100%|██████████| 544/544 [00:17<00:00, 30.38batch/s, Loss = 0.5484, AUC = 79.77%]                                           \n",
      "Epoch  26/50: 100%|██████████| 544/544 [00:17<00:00, 30.71batch/s, Loss = 0.5593, AUC = 79.87%]                                           \n",
      "Epoch  27/50: 100%|██████████| 544/544 [00:17<00:00, 31.13batch/s, Loss = 0.5583, AUC = 79.92%]                                           \n",
      "Epoch  28/50: 100%|██████████| 544/544 [00:17<00:00, 31.12batch/s, Loss = 0.5437, AUC = 80.07%]                                           \n",
      "Epoch  29/50: 100%|██████████| 544/544 [00:17<00:00, 30.50batch/s, Loss = 0.5605, AUC = 80.37%]                                           \n",
      "Epoch  30/50: 100%|██████████| 544/544 [00:17<00:00, 30.41batch/s, Loss = 0.5464, AUC = 80.33%]                                           \n",
      "Epoch  31/50: 100%|██████████| 544/544 [00:17<00:00, 30.52batch/s, Loss = 0.5470, AUC = 80.26%]                                           \n",
      "Epoch  32/50: 100%|██████████| 544/544 [00:17<00:00, 30.98batch/s, Loss = 0.5592, AUC = 80.59%]                                           \n",
      "Epoch  33/50: 100%|██████████| 544/544 [00:17<00:00, 30.90batch/s, Loss = 0.5763, AUC = 80.40%]                                           \n",
      "Epoch  34/50: 100%|██████████| 544/544 [00:17<00:00, 30.75batch/s, Loss = 0.5513, AUC = 80.59%]                                           \n",
      "Epoch  35/50: 100%|██████████| 544/544 [00:17<00:00, 30.66batch/s, Loss = 0.5378, AUC = 80.66%]                                           \n",
      "Epoch  36/50: 100%|██████████| 544/544 [00:17<00:00, 30.33batch/s, Loss = 0.5471, AUC = 80.58%]                                           \n",
      "Epoch  37/50: 100%|██████████| 544/544 [00:17<00:00, 30.41batch/s, Loss = 0.5504, AUC = 80.58%]                                           \n",
      "Epoch  38/50: 100%|██████████| 544/544 [00:17<00:00, 30.65batch/s, Loss = 0.5433, AUC = 80.68%]                                           \n",
      "Epoch  39/50: 100%|██████████| 544/544 [00:17<00:00, 30.99batch/s, Loss = 0.5536, AUC = 80.70%]                                           \n",
      "Epoch  40/50: 100%|██████████| 544/544 [00:17<00:00, 30.80batch/s, Loss = 0.5561, AUC = 80.98%]                                           \n",
      "Epoch  41/50: 100%|██████████| 544/544 [00:17<00:00, 31.46batch/s, Loss = 0.5340, AUC = 81.08%]                                           \n",
      "Epoch  42/50: 100%|██████████| 544/544 [00:17<00:00, 30.87batch/s, Loss = 0.5497, AUC = 80.90%]                                           \n",
      "Epoch  43/50: 100%|██████████| 544/544 [00:17<00:00, 30.47batch/s, Loss = 0.5436, AUC = 81.04%]                                           \n",
      "Epoch  44/50: 100%|██████████| 544/544 [00:17<00:00, 31.58batch/s, Loss = 0.5323, AUC = 81.16%]                                           \n",
      "Epoch  45/50: 100%|██████████| 544/544 [00:17<00:00, 30.58batch/s, Loss = 0.5332, AUC = 81.19%]                                           \n",
      "Epoch  46/50: 100%|██████████| 544/544 [00:17<00:00, 31.01batch/s, Loss = 0.5349, AUC = 81.05%]                                           \n",
      "Epoch  47/50: 100%|██████████| 544/544 [00:14<00:00, 38.20batch/s, Loss = 0.5328, AUC = 81.18%]                                           \n",
      "Epoch  48/50: 100%|██████████| 544/544 [00:14<00:00, 36.28batch/s, Loss = 0.5389, AUC = 81.16%]                                           \n",
      "Epoch  49/50: 100%|██████████| 544/544 [00:16<00:00, 33.74batch/s, Loss = 0.5417, AUC = 81.38%]                                           \n",
      "Epoch  50/50: 100%|██████████| 544/544 [00:18<00:00, 28.79batch/s, Loss = 0.5331, AUC = 81.12%]                                           "
     ]
    },
    {
     "name": "stdout",
     "output_type": "stream",
     "text": [
      "TOTAL TIME = 873.56s\n",
      "BEST AUC = 81.38% AT EPOCH 49\n"
     ]
    },
    {
     "name": "stderr",
     "output_type": "stream",
     "text": [
      "\n"
     ]
    }
   ],
   "source": [
    "model = VisionTransformer(num_classes=2, patch_size=10, hidden_size=64, num_heads=2, num_transformer_blocks=4, mlp_hidden_size=32, channels_last=True)\n",
    "train_and_evaluate(model, qg_train_dataloader, qg_valid_dataloader, num_classes=2, learning_rate=0.0003, num_epochs=50)"
   ]
  },
  {
   "cell_type": "code",
   "execution_count": 5,
   "metadata": {
    "execution": {
     "iopub.execute_input": "2023-08-22T07:51:45.006951Z",
     "iopub.status.busy": "2023-08-22T07:51:45.006746Z",
     "iopub.status.idle": "2023-08-22T08:03:47.946165Z",
     "shell.execute_reply": "2023-08-22T08:03:47.945530Z"
    }
   },
   "outputs": [
    {
     "name": "stderr",
     "output_type": "stream",
     "text": [
      "Epoch   1/50: 100%|██████████| 544/544 [00:19<00:00, 27.51batch/s, Loss = 0.6922, AUC = 62.84%]                                           \n",
      "Epoch   2/50: 100%|██████████| 544/544 [00:14<00:00, 38.46batch/s, Loss = 0.6650, AUC = 64.68%]                                           \n",
      "Epoch   3/50: 100%|██████████| 544/544 [00:14<00:00, 37.53batch/s, Loss = 0.6521, AUC = 66.41%]                                           \n",
      "Epoch   4/50: 100%|██████████| 544/544 [00:13<00:00, 40.32batch/s, Loss = 0.6391, AUC = 69.26%]                                           \n",
      "Epoch   5/50: 100%|██████████| 544/544 [00:13<00:00, 38.99batch/s, Loss = 0.6115, AUC = 73.15%]                                           \n",
      "Epoch   6/50: 100%|██████████| 544/544 [00:14<00:00, 38.77batch/s, Loss = 0.6021, AUC = 74.07%]                                           \n",
      "Epoch   7/50: 100%|██████████| 544/544 [00:14<00:00, 37.28batch/s, Loss = 0.6085, AUC = 74.78%]                                           \n",
      "Epoch   8/50: 100%|██████████| 544/544 [00:14<00:00, 36.69batch/s, Loss = 0.5930, AUC = 75.13%]                                           \n",
      "Epoch   9/50: 100%|██████████| 544/544 [00:13<00:00, 38.94batch/s, Loss = 0.5919, AUC = 75.29%]                                           \n",
      "Epoch  10/50: 100%|██████████| 544/544 [00:13<00:00, 38.92batch/s, Loss = 0.5912, AUC = 75.46%]                                           \n",
      "Epoch  11/50: 100%|██████████| 544/544 [00:14<00:00, 37.20batch/s, Loss = 0.5895, AUC = 75.54%]                                           \n",
      "Epoch  12/50: 100%|██████████| 544/544 [00:13<00:00, 40.06batch/s, Loss = 0.5869, AUC = 75.80%]                                           \n",
      "Epoch  13/50: 100%|██████████| 544/544 [00:13<00:00, 39.48batch/s, Loss = 0.5914, AUC = 75.94%]                                           \n",
      "Epoch  14/50: 100%|██████████| 544/544 [00:14<00:00, 37.30batch/s, Loss = 0.5880, AUC = 76.08%]                                           \n",
      "Epoch  15/50: 100%|██████████| 544/544 [00:13<00:00, 39.61batch/s, Loss = 0.5865, AUC = 76.14%]                                           \n",
      "Epoch  16/50: 100%|██████████| 544/544 [00:14<00:00, 38.57batch/s, Loss = 0.5852, AUC = 76.21%]                                           \n",
      "Epoch  17/50: 100%|██████████| 544/544 [00:14<00:00, 36.45batch/s, Loss = 0.5849, AUC = 76.23%]                                           \n",
      "Epoch  18/50: 100%|██████████| 544/544 [00:13<00:00, 39.47batch/s, Loss = 0.5831, AUC = 76.36%]                                           \n",
      "Epoch  19/50: 100%|██████████| 544/544 [00:14<00:00, 38.04batch/s, Loss = 0.5820, AUC = 76.46%]                                           \n",
      "Epoch  20/50: 100%|██████████| 544/544 [00:14<00:00, 37.22batch/s, Loss = 0.5858, AUC = 76.50%]                                           \n",
      "Epoch  21/50: 100%|██████████| 544/544 [00:14<00:00, 37.97batch/s, Loss = 0.5862, AUC = 76.51%]                                           \n",
      "Epoch  22/50: 100%|██████████| 544/544 [00:14<00:00, 36.78batch/s, Loss = 0.5906, AUC = 76.53%]                                           \n",
      "Epoch  23/50: 100%|██████████| 544/544 [00:14<00:00, 36.39batch/s, Loss = 0.5791, AUC = 76.54%]                                           \n",
      "Epoch  24/50: 100%|██████████| 544/544 [00:14<00:00, 38.54batch/s, Loss = 0.5795, AUC = 76.58%]                                           \n",
      "Epoch  25/50: 100%|██████████| 544/544 [00:14<00:00, 38.39batch/s, Loss = 0.5886, AUC = 76.66%]                                           \n",
      "Epoch  26/50: 100%|██████████| 544/544 [00:14<00:00, 36.86batch/s, Loss = 0.5849, AUC = 76.72%]                                           \n",
      "Epoch  27/50: 100%|██████████| 544/544 [00:13<00:00, 40.07batch/s, Loss = 0.5806, AUC = 76.77%]                       \n",
      "Epoch  28/50: 100%|██████████| 544/544 [00:14<00:00, 37.63batch/s, Loss = 0.5966, AUC = 76.83%]                       \n",
      "Epoch  29/50: 100%|██████████| 544/544 [00:14<00:00, 36.36batch/s, Loss = 0.5856, AUC = 76.81%]                       \n",
      "Epoch  30/50: 100%|██████████| 544/544 [00:11<00:00, 46.27batch/s, Loss = 0.5798, AUC = 76.89%]                       \n",
      "Epoch  31/50: 100%|██████████| 544/544 [00:14<00:00, 38.39batch/s, Loss = 0.5880, AUC = 76.87%]                       \n",
      "Epoch  32/50: 100%|██████████| 544/544 [00:13<00:00, 39.49batch/s, Loss = 0.5822, AUC = 76.90%]                       \n",
      "Epoch  33/50: 100%|██████████| 544/544 [00:14<00:00, 38.45batch/s, Loss = 0.5765, AUC = 76.89%]                       \n",
      "Epoch  34/50: 100%|██████████| 544/544 [00:14<00:00, 36.93batch/s, Loss = 0.5765, AUC = 76.89%]                       \n",
      "Epoch  35/50: 100%|██████████| 544/544 [00:14<00:00, 38.62batch/s, Loss = 0.5845, AUC = 76.92%]                       \n",
      "Epoch  36/50: 100%|██████████| 544/544 [00:13<00:00, 39.89batch/s, Loss = 0.5767, AUC = 76.95%]                       \n",
      "Epoch  37/50: 100%|██████████| 544/544 [00:14<00:00, 38.14batch/s, Loss = 0.6161, AUC = 77.01%]                       \n",
      "Epoch  38/50: 100%|██████████| 544/544 [00:14<00:00, 38.54batch/s, Loss = 0.5756, AUC = 76.90%]                       \n",
      "Epoch  39/50: 100%|██████████| 544/544 [00:14<00:00, 38.82batch/s, Loss = 0.5948, AUC = 76.94%]                       \n",
      "Epoch  40/50: 100%|██████████| 544/544 [00:14<00:00, 37.01batch/s, Loss = 0.5894, AUC = 77.07%]                       \n",
      "Epoch  41/50: 100%|██████████| 544/544 [00:14<00:00, 38.70batch/s, Loss = 0.5785, AUC = 77.04%]                       \n",
      "Epoch  42/50: 100%|██████████| 544/544 [00:14<00:00, 38.06batch/s, Loss = 0.5876, AUC = 77.00%]                       \n",
      "Epoch  43/50: 100%|██████████| 544/544 [00:14<00:00, 37.79batch/s, Loss = 0.5796, AUC = 77.06%]                       \n",
      "Epoch  44/50: 100%|██████████| 544/544 [00:11<00:00, 45.63batch/s, Loss = 0.5757, AUC = 77.02%]                       \n",
      "Epoch  45/50: 100%|██████████| 544/544 [00:14<00:00, 38.67batch/s, Loss = 0.5778, AUC = 77.18%]                       \n",
      "Epoch  46/50: 100%|██████████| 544/544 [00:14<00:00, 36.66batch/s, Loss = 0.5761, AUC = 77.06%]                       \n",
      "Epoch  47/50: 100%|██████████| 544/544 [00:13<00:00, 39.31batch/s, Loss = 0.5769, AUC = 77.01%]                       \n",
      "Epoch  48/50: 100%|██████████| 544/544 [00:14<00:00, 37.15batch/s, Loss = 0.5776, AUC = 77.10%]                       \n",
      "Epoch  49/50: 100%|██████████| 544/544 [00:14<00:00, 38.25batch/s, Loss = 0.5772, AUC = 77.11%]                       \n",
      "Epoch  50/50: 100%|██████████| 544/544 [00:13<00:00, 40.16batch/s, Loss = 0.5749, AUC = 77.10%]                       "
     ]
    },
    {
     "name": "stdout",
     "output_type": "stream",
     "text": [
      "TOTAL TIME = 712.69s\n",
      "BEST AUC = 77.18% AT EPOCH 45\n"
     ]
    },
    {
     "name": "stderr",
     "output_type": "stream",
     "text": [
      "\n"
     ]
    }
   ],
   "source": [
    "model = VisionTransformer(num_classes=2, patch_size=10, hidden_size=6, num_heads=2, num_transformer_blocks=4, mlp_hidden_size=3, channels_last=True)\n",
    "train_and_evaluate(model, qg_train_dataloader, qg_valid_dataloader, num_classes=2, learning_rate=0.0003, num_epochs=50)"
   ]
  }
 ],
 "metadata": {
  "kernelspec": {
   "display_name": "gsoc",
   "language": "python",
   "name": "gsoc"
  },
  "language_info": {
   "codemirror_mode": {
    "name": "ipython",
    "version": 3
   },
   "file_extension": ".py",
   "mimetype": "text/x-python",
   "name": "python",
   "nbconvert_exporter": "python",
   "pygments_lexer": "ipython3",
   "version": "3.11.4"
  }
 },
 "nbformat": 4,
 "nbformat_minor": 2
}
