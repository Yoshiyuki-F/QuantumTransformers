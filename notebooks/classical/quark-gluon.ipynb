{
 "cells": [
  {
   "cell_type": "code",
   "execution_count": 1,
   "metadata": {
    "execution": {
     "iopub.execute_input": "2023-08-26T15:09:18.780449Z",
     "iopub.status.busy": "2023-08-26T15:09:18.780204Z",
     "iopub.status.idle": "2023-08-26T15:09:46.169300Z",
     "shell.execute_reply": "2023-08-26T15:09:46.168832Z"
    }
   },
   "outputs": [
    {
     "name": "stderr",
     "output_type": "stream",
     "text": [
      "2023-08-26 08:09:26.259444: E tensorflow/compiler/xla/stream_executor/cuda/cuda_dnn.cc:9342] Unable to register cuDNN factory: Attempting to register factory for plugin cuDNN when one has already been registered\n",
      "2023-08-26 08:09:26.259471: E tensorflow/compiler/xla/stream_executor/cuda/cuda_fft.cc:609] Unable to register cuFFT factory: Attempting to register factory for plugin cuFFT when one has already been registered\n",
      "2023-08-26 08:09:26.259497: E tensorflow/compiler/xla/stream_executor/cuda/cuda_blas.cc:1518] Unable to register cuBLAS factory: Attempting to register factory for plugin cuBLAS when one has already been registered\n",
      "2023-08-26 08:09:30.271005: W tensorflow/compiler/tf2tensorrt/utils/py_utils.cc:38] TF-TRT Warning: Could not find TensorRT\n"
     ]
    },
    {
     "name": "stdout",
     "output_type": "stream",
     "text": [
      "WARNING:tensorflow:From /global/common/software/m4392/conda/gsoc/lib/python3.11/site-packages/tensorflow/python/ops/distributions/distribution.py:259: ReparameterizationType.__init__ (from tensorflow.python.ops.distributions.distribution) is deprecated and will be removed after 2019-01-01.\n",
      "Instructions for updating:\n",
      "The TensorFlow Distributions library has moved to TensorFlow Probability (https://github.com/tensorflow/probability). You should update all references to use `tfp.distributions` instead of `tf.distributions`.\n",
      "WARNING:tensorflow:From /global/common/software/m4392/conda/gsoc/lib/python3.11/site-packages/tensorflow/python/ops/distributions/bernoulli.py:165: RegisterKL.__init__ (from tensorflow.python.ops.distributions.kullback_leibler) is deprecated and will be removed after 2019-01-01.\n",
      "Instructions for updating:\n",
      "The TensorFlow Distributions library has moved to TensorFlow Probability (https://github.com/tensorflow/probability). You should update all references to use `tfp.distributions` instead of `tf.distributions`.\n"
     ]
    },
    {
     "name": "stderr",
     "output_type": "stream",
     "text": [
      "Please first ``pip install -U cirq`` to enable related functionality in translation module\n"
     ]
    }
   ],
   "source": [
    "import jax\n",
    "\n",
    "from quantum_transformers.utils import plot_image\n",
    "from quantum_transformers.datasets import get_quark_gluon_dataloaders\n",
    "from quantum_transformers.training import train_and_evaluate\n",
    "from quantum_transformers.transformers import VisionTransformer\n",
    "\n",
    "data_dir = '/global/cfs/cdirs/m4392/salcc/data'"
   ]
  },
  {
   "cell_type": "code",
   "execution_count": 2,
   "metadata": {
    "execution": {
     "iopub.execute_input": "2023-08-26T15:09:46.171651Z",
     "iopub.status.busy": "2023-08-26T15:09:46.171259Z",
     "iopub.status.idle": "2023-08-26T15:09:46.378136Z",
     "shell.execute_reply": "2023-08-26T15:09:46.377715Z"
    }
   },
   "outputs": [
    {
     "name": "stdout",
     "output_type": "stream",
     "text": [
      "gpu:0 NVIDIA A100-SXM4-40GB\n"
     ]
    }
   ],
   "source": [
    "for d in jax.devices():\n",
    "    print(d, d.device_kind)"
   ]
  },
  {
   "cell_type": "code",
   "execution_count": 3,
   "metadata": {
    "execution": {
     "iopub.execute_input": "2023-08-26T15:09:46.379785Z",
     "iopub.status.busy": "2023-08-26T15:09:46.379641Z",
     "iopub.status.idle": "2023-08-26T15:09:52.778754Z",
     "shell.execute_reply": "2023-08-26T15:09:52.778370Z"
    }
   },
   "outputs": [
    {
     "name": "stdout",
     "output_type": "stream",
     "text": [
      "(125, 125, 3)\n"
     ]
    },
    {
     "data": {
      "image/png": "[encoded data removed]",
      "text/plain": [
       "<Figure size 900x300 with 3 Axes>"
      ]
     },
     "metadata": {},
     "output_type": "display_data"
    }
   ],
   "source": [
    "qg_train_dataloader, qg_valid_dataloader = get_quark_gluon_dataloaders(batch_size=256, data_dir=data_dir)\n",
    "first_image = next(iter(qg_train_dataloader))[0][0]\n",
    "print(first_image.shape)\n",
    "plot_image(first_image, abs_log=True)"
   ]
  },
  {
   "cell_type": "code",
   "execution_count": 4,
   "metadata": {
    "execution": {
     "iopub.execute_input": "2023-08-26T15:09:52.780412Z",
     "iopub.status.busy": "2023-08-26T15:09:52.780235Z",
     "iopub.status.idle": "2023-08-26T15:21:59.716690Z",
     "shell.execute_reply": "2023-08-26T15:21:59.716262Z"
    }
   },
   "outputs": [
    {
     "name": "stderr",
     "output_type": "stream",
     "text": [
      "Epoch   1/50: 100%|██████████| 544/544 [00:19<00:00, 27.33batch/s, Loss = 0.6646, AUC = 63.33%]\n",
      "Epoch   2/50: 100%|██████████| 544/544 [00:13<00:00, 40.30batch/s, Loss = 0.6525, AUC = 64.83%]\n",
      "Epoch   3/50: 100%|██████████| 544/544 [00:14<00:00, 37.66batch/s, Loss = 0.6459, AUC = 67.80%]\n",
      "Epoch   4/50: 100%|██████████| 544/544 [00:13<00:00, 41.17batch/s, Loss = 0.6408, AUC = 68.37%]\n",
      "Epoch   5/50: 100%|██████████| 544/544 [00:13<00:00, 40.82batch/s, Loss = 0.6306, AUC = 69.99%]\n",
      "Epoch   6/50: 100%|██████████| 544/544 [00:13<00:00, 40.44batch/s, Loss = 0.6174, AUC = 74.24%]\n",
      "Epoch   7/50: 100%|██████████| 544/544 [00:14<00:00, 37.68batch/s, Loss = 0.5949, AUC = 75.03%]\n",
      "Epoch   8/50: 100%|██████████| 544/544 [00:14<00:00, 37.79batch/s, Loss = 0.5908, AUC = 75.72%]\n",
      "Epoch   9/50: 100%|██████████| 544/544 [00:14<00:00, 38.41batch/s, Loss = 0.5960, AUC = 76.07%]\n",
      "Epoch  10/50: 100%|██████████| 544/544 [00:14<00:00, 37.77batch/s, Loss = 0.5830, AUC = 76.28%]\n",
      "Epoch  11/50: 100%|██████████| 544/544 [00:14<00:00, 38.03batch/s, Loss = 0.5848, AUC = 76.48%]\n",
      "Epoch  12/50: 100%|██████████| 544/544 [00:14<00:00, 37.77batch/s, Loss = 0.5797, AUC = 76.63%]\n",
      "Epoch  13/50: 100%|██████████| 544/544 [00:14<00:00, 38.26batch/s, Loss = 0.5846, AUC = 76.91%]\n",
      "Epoch  14/50: 100%|██████████| 544/544 [00:14<00:00, 37.65batch/s, Loss = 0.5761, AUC = 76.93%]\n",
      "Epoch  15/50: 100%|██████████| 544/544 [00:13<00:00, 40.60batch/s, Loss = 0.5872, AUC = 77.31%]\n",
      "Epoch  16/50: 100%|██████████| 544/544 [00:14<00:00, 38.31batch/s, Loss = 0.5805, AUC = 77.15%]\n",
      "Epoch  17/50: 100%|██████████| 544/544 [00:14<00:00, 37.59batch/s, Loss = 0.5860, AUC = 77.41%]\n",
      "Epoch  18/50: 100%|██████████| 544/544 [00:14<00:00, 37.16batch/s, Loss = 0.5741, AUC = 77.69%]\n",
      "Epoch  19/50: 100%|██████████| 544/544 [00:14<00:00, 37.85batch/s, Loss = 0.5800, AUC = 77.83%]\n",
      "Epoch  20/50: 100%|██████████| 544/544 [00:14<00:00, 37.83batch/s, Loss = 0.5730, AUC = 77.94%]\n",
      "Epoch  21/50: 100%|██████████| 544/544 [00:14<00:00, 37.40batch/s, Loss = 0.5697, AUC = 78.14%]\n",
      "Epoch  22/50: 100%|██████████| 544/544 [00:14<00:00, 37.47batch/s, Loss = 0.5667, AUC = 78.26%]\n",
      "Epoch  23/50: 100%|██████████| 544/544 [00:14<00:00, 37.77batch/s, Loss = 0.5946, AUC = 78.28%]\n",
      "Epoch  24/50: 100%|██████████| 544/544 [00:13<00:00, 40.43batch/s, Loss = 0.5642, AUC = 78.26%]\n",
      "Epoch  25/50: 100%|██████████| 544/544 [00:14<00:00, 37.56batch/s, Loss = 0.5854, AUC = 78.51%]\n",
      "Epoch  26/50: 100%|██████████| 544/544 [00:14<00:00, 37.97batch/s, Loss = 0.5627, AUC = 78.59%]\n",
      "Epoch  27/50: 100%|██████████| 544/544 [00:14<00:00, 38.02batch/s, Loss = 0.5683, AUC = 78.75%]\n",
      "Epoch  28/50: 100%|██████████| 544/544 [00:13<00:00, 41.14batch/s, Loss = 0.5672, AUC = 78.94%]\n",
      "Epoch  29/50: 100%|██████████| 544/544 [00:14<00:00, 37.32batch/s, Loss = 0.5617, AUC = 78.87%]\n",
      "Epoch  30/50: 100%|██████████| 544/544 [00:14<00:00, 36.61batch/s, Loss = 0.5588, AUC = 78.76%]\n",
      "Epoch  31/50: 100%|██████████| 544/544 [00:14<00:00, 38.19batch/s, Loss = 0.5750, AUC = 78.85%]\n",
      "Epoch  32/50: 100%|██████████| 544/544 [00:14<00:00, 36.75batch/s, Loss = 0.5617, AUC = 79.12%]\n",
      "Epoch  33/50: 100%|██████████| 544/544 [00:13<00:00, 40.87batch/s, Loss = 0.5522, AUC = 79.34%]\n",
      "Epoch  34/50: 100%|██████████| 544/544 [00:14<00:00, 37.74batch/s, Loss = 0.5637, AUC = 79.16%]\n",
      "Epoch  35/50: 100%|██████████| 544/544 [00:14<00:00, 37.96batch/s, Loss = 0.5772, AUC = 79.22%]\n",
      "Epoch  36/50: 100%|██████████| 544/544 [00:14<00:00, 37.96batch/s, Loss = 0.5549, AUC = 79.24%]\n",
      "Epoch  37/50: 100%|██████████| 544/544 [00:14<00:00, 37.91batch/s, Loss = 0.5561, AUC = 79.51%]\n",
      "Epoch  38/50: 100%|██████████| 544/544 [00:13<00:00, 41.56batch/s, Loss = 0.5586, AUC = 79.30%]\n",
      "Epoch  39/50: 100%|██████████| 544/544 [00:14<00:00, 38.74batch/s, Loss = 0.5634, AUC = 79.27%]\n",
      "Epoch  40/50: 100%|██████████| 544/544 [00:14<00:00, 37.82batch/s, Loss = 0.5624, AUC = 79.56%]\n",
      "Epoch  41/50: 100%|██████████| 544/544 [00:14<00:00, 38.01batch/s, Loss = 0.5542, AUC = 79.57%]\n",
      "Epoch  42/50: 100%|██████████| 544/544 [00:14<00:00, 37.76batch/s, Loss = 0.5488, AUC = 79.75%]\n",
      "Epoch  43/50: 100%|██████████| 544/544 [00:13<00:00, 40.80batch/s, Loss = 0.5533, AUC = 79.68%]\n",
      "Epoch  44/50: 100%|██████████| 544/544 [00:14<00:00, 36.99batch/s, Loss = 0.5545, AUC = 79.95%]\n",
      "Epoch  45/50: 100%|██████████| 544/544 [00:13<00:00, 41.15batch/s, Loss = 0.5678, AUC = 79.87%]\n",
      "Epoch  46/50: 100%|██████████| 544/544 [00:14<00:00, 37.34batch/s, Loss = 0.5494, AUC = 80.02%]\n",
      "Epoch  47/50: 100%|██████████| 544/544 [00:14<00:00, 37.01batch/s, Loss = 0.5627, AUC = 80.03%]\n",
      "Epoch  48/50: 100%|██████████| 544/544 [00:13<00:00, 40.61batch/s, Loss = 0.5574, AUC = 80.00%]\n",
      "Epoch  49/50: 100%|██████████| 544/544 [00:13<00:00, 40.18batch/s, Loss = 0.5595, AUC = 80.15%]\n",
      "Epoch  50/50: 100%|██████████| 544/544 [00:13<00:00, 40.85batch/s, Loss = 0.5548, AUC = 80.15%]"
     ]
    },
    {
     "name": "stdout",
     "output_type": "stream",
     "text": [
      "TOTAL TIME = 711.65s\n",
      "BEST AUC = 80.15% AT EPOCH 50\n"
     ]
    },
    {
     "name": "stderr",
     "output_type": "stream",
     "text": [
      "\n"
     ]
    }
   ],
   "source": [
    "model = VisionTransformer(num_classes=2, patch_size=10, hidden_size=64, num_heads=2, num_transformer_blocks=4, mlp_hidden_size=32, channels_last=True)\n",
    "train_and_evaluate(model, qg_train_dataloader, qg_valid_dataloader, num_classes=2, learning_rate=0.0003, num_epochs=50)"
   ]
  },
  {
   "cell_type": "code",
   "execution_count": 5,
   "metadata": {
    "execution": {
     "iopub.execute_input": "2023-08-26T15:21:59.718413Z",
     "iopub.status.busy": "2023-08-26T15:21:59.718259Z",
     "iopub.status.idle": "2023-08-26T15:33:49.192525Z",
     "shell.execute_reply": "2023-08-26T15:33:49.192048Z"
    }
   },
   "outputs": [
    {
     "name": "stderr",
     "output_type": "stream",
     "text": [
      "Epoch   1/50: 100%|██████████| 544/544 [00:18<00:00, 28.89batch/s, Loss = 0.6932, AUC = 57.42%]\n",
      "Epoch   2/50: 100%|██████████| 544/544 [00:14<00:00, 37.75batch/s, Loss = 0.6931, AUC = 59.85%]\n",
      "Epoch   3/50: 100%|██████████| 544/544 [00:14<00:00, 38.03batch/s, Loss = 0.6921, AUC = 62.32%]\n",
      "Epoch   4/50: 100%|██████████| 544/544 [00:13<00:00, 39.00batch/s, Loss = 0.6592, AUC = 64.06%]\n",
      "Epoch   5/50: 100%|██████████| 544/544 [00:12<00:00, 42.25batch/s, Loss = 0.6577, AUC = 64.94%] \n",
      "Epoch   6/50: 100%|██████████| 544/544 [00:14<00:00, 38.16batch/s, Loss = 0.6568, AUC = 66.24%]\n",
      "Epoch   7/50: 100%|██████████| 544/544 [00:14<00:00, 38.18batch/s, Loss = 0.6472, AUC = 67.86%]\n",
      "Epoch   8/50: 100%|██████████| 544/544 [00:14<00:00, 38.44batch/s, Loss = 0.6418, AUC = 68.60%]\n",
      "Epoch   9/50: 100%|██████████| 544/544 [00:14<00:00, 38.26batch/s, Loss = 0.6375, AUC = 69.44%]\n",
      "Epoch  10/50: 100%|██████████| 544/544 [00:12<00:00, 42.51batch/s, Loss = 0.6361, AUC = 70.10%] \n",
      "Epoch  11/50: 100%|██████████| 544/544 [00:14<00:00, 38.54batch/s, Loss = 0.6321, AUC = 70.28%]\n",
      "Epoch  12/50: 100%|██████████| 544/544 [00:12<00:00, 42.73batch/s, Loss = 0.6289, AUC = 71.01%] \n",
      "Epoch  13/50: 100%|██████████| 544/544 [00:14<00:00, 38.26batch/s, Loss = 0.6282, AUC = 71.25%]\n",
      "Epoch  14/50: 100%|██████████| 544/544 [00:14<00:00, 38.27batch/s, Loss = 0.6249, AUC = 71.51%]\n",
      "Epoch  15/50: 100%|██████████| 544/544 [00:14<00:00, 38.23batch/s, Loss = 0.6214, AUC = 71.81%]\n",
      "Epoch  16/50: 100%|██████████| 544/544 [00:12<00:00, 42.21batch/s, Loss = 0.6219, AUC = 71.98%] \n",
      "Epoch  17/50: 100%|██████████| 544/544 [00:14<00:00, 37.81batch/s, Loss = 0.6189, AUC = 72.18%]\n",
      "Epoch  18/50: 100%|██████████| 544/544 [00:14<00:00, 38.23batch/s, Loss = 0.6177, AUC = 72.27%]\n",
      "Epoch  19/50: 100%|██████████| 544/544 [00:14<00:00, 38.52batch/s, Loss = 0.6163, AUC = 72.49%]\n",
      "Epoch  20/50: 100%|██████████| 544/544 [00:14<00:00, 38.03batch/s, Loss = 0.6168, AUC = 72.57%]\n",
      "Epoch  21/50: 100%|██████████| 544/544 [00:12<00:00, 42.37batch/s, Loss = 0.6161, AUC = 72.71%]\n",
      "Epoch  22/50: 100%|██████████| 544/544 [00:14<00:00, 37.55batch/s, Loss = 0.6133, AUC = 72.85%]\n",
      "Epoch  23/50: 100%|██████████| 544/544 [00:12<00:00, 42.62batch/s, Loss = 0.6146, AUC = 72.94%] \n",
      "Epoch  24/50: 100%|██████████| 544/544 [00:13<00:00, 41.78batch/s, Loss = 0.6124, AUC = 73.05%] \n",
      "Epoch  25/50: 100%|██████████| 544/544 [00:12<00:00, 42.07batch/s, Loss = 0.6111, AUC = 73.21%] \n",
      "Epoch  26/50: 100%|██████████| 544/544 [00:13<00:00, 41.57batch/s, Loss = 0.6094, AUC = 73.30%] \n",
      "Epoch  27/50: 100%|██████████| 544/544 [00:14<00:00, 37.89batch/s, Loss = 0.6099, AUC = 73.38%]\n",
      "Epoch  28/50: 100%|██████████| 544/544 [00:14<00:00, 37.12batch/s, Loss = 0.6071, AUC = 73.53%]\n",
      "Epoch  29/50: 100%|██████████| 544/544 [00:14<00:00, 38.56batch/s, Loss = 0.6066, AUC = 73.60%]\n",
      "Epoch  30/50: 100%|██████████| 544/544 [00:12<00:00, 42.46batch/s, Loss = 0.6058, AUC = 73.71%] \n",
      "Epoch  31/50: 100%|██████████| 544/544 [00:14<00:00, 38.04batch/s, Loss = 0.6069, AUC = 73.73%]\n",
      "Epoch  32/50: 100%|██████████| 544/544 [00:14<00:00, 38.01batch/s, Loss = 0.6050, AUC = 73.81%]\n",
      "Epoch  33/50: 100%|██████████| 544/544 [00:14<00:00, 38.38batch/s, Loss = 0.6046, AUC = 73.92%]\n",
      "Epoch  34/50: 100%|██████████| 544/544 [00:14<00:00, 38.66batch/s, Loss = 0.6023, AUC = 74.09%]\n",
      "Epoch  35/50: 100%|██████████| 544/544 [00:14<00:00, 37.99batch/s, Loss = 0.6017, AUC = 74.12%]\n",
      "Epoch  36/50: 100%|██████████| 544/544 [00:13<00:00, 38.94batch/s, Loss = 0.6026, AUC = 74.15%]\n",
      "Epoch  37/50: 100%|██████████| 544/544 [00:13<00:00, 39.25batch/s, Loss = 0.6016, AUC = 74.31%]\n",
      "Epoch  38/50: 100%|██████████| 544/544 [00:14<00:00, 38.85batch/s, Loss = 0.6006, AUC = 74.17%]\n",
      "Epoch  39/50: 100%|██████████| 544/544 [00:14<00:00, 38.54batch/s, Loss = 0.5997, AUC = 74.38%]\n",
      "Epoch  40/50: 100%|██████████| 544/544 [00:13<00:00, 41.79batch/s, Loss = 0.5990, AUC = 74.37%] \n",
      "Epoch  41/50: 100%|██████████| 544/544 [00:14<00:00, 38.38batch/s, Loss = 0.5992, AUC = 74.42%]\n",
      "Epoch  42/50: 100%|██████████| 544/544 [00:14<00:00, 37.39batch/s, Loss = 0.5987, AUC = 74.48%]\n",
      "Epoch  43/50: 100%|██████████| 544/544 [00:14<00:00, 38.60batch/s, Loss = 0.5968, AUC = 74.59%]\n",
      "Epoch  44/50: 100%|██████████| 544/544 [00:14<00:00, 38.32batch/s, Loss = 0.5985, AUC = 74.47%]\n",
      "Epoch  45/50: 100%|██████████| 544/544 [00:14<00:00, 37.92batch/s, Loss = 0.5963, AUC = 74.67%]\n",
      "Epoch  46/50: 100%|██████████| 544/544 [00:14<00:00, 38.32batch/s, Loss = 0.5956, AUC = 74.76%]\n",
      "Epoch  47/50: 100%|██████████| 544/544 [00:14<00:00, 38.35batch/s, Loss = 0.5959, AUC = 74.71%]\n",
      "Epoch  48/50: 100%|██████████| 544/544 [00:13<00:00, 41.35batch/s, Loss = 0.5959, AUC = 74.78%] \n",
      "Epoch  49/50: 100%|██████████| 544/544 [00:14<00:00, 37.98batch/s, Loss = 0.5963, AUC = 74.77%]\n",
      "Epoch  50/50: 100%|██████████| 544/544 [00:14<00:00, 38.25batch/s, Loss = 0.5954, AUC = 74.91%]"
     ]
    },
    {
     "name": "stdout",
     "output_type": "stream",
     "text": [
      "TOTAL TIME = 700.20s\n",
      "BEST AUC = 74.91% AT EPOCH 50\n"
     ]
    },
    {
     "name": "stderr",
     "output_type": "stream",
     "text": [
      "\n"
     ]
    }
   ],
   "source": [
    "model = VisionTransformer(num_classes=2, patch_size=10, hidden_size=8, num_heads=2, num_transformer_blocks=4, mlp_hidden_size=4, channels_last=True)\n",
    "train_and_evaluate(model, qg_train_dataloader, qg_valid_dataloader, num_classes=2, learning_rate=0.0003, num_epochs=50)"
   ]
  }
 ],
 "metadata": {
  "kernelspec": {
   "display_name": "gsoc",
   "language": "python",
   "name": "gsoc"
  },
  "language_info": {
   "codemirror_mode": {
    "name": "ipython",
    "version": 3
   },
   "file_extension": ".py",
   "mimetype": "text/x-python",
   "name": "python",
   "nbconvert_exporter": "python",
   "pygments_lexer": "ipython3",
   "version": "3.11.4"
  }
 },
 "nbformat": 4,
 "nbformat_minor": 2
}
