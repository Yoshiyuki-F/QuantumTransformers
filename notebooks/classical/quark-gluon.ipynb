{
 "cells": [
  {
   "cell_type": "markdown",
   "metadata": {},
   "source": [
    "# Quark-Gluon (Classical)\n",
    "\n",
    "This notebook trains and evaluates classical baselines for the quark-gluon classification task.\n",
    "You can find information about the dataset at https://arxiv.org/abs/1902.08276."
   ]
  },
  {
   "cell_type": "code",
   "execution_count": 1,
   "metadata": {
    "execution": {
     "iopub.execute_input": "2024-03-30T21:52:34.444121Z",
     "iopub.status.busy": "2024-03-30T21:52:34.443985Z",
     "iopub.status.idle": "2024-03-30T21:53:00.583857Z",
     "shell.execute_reply": "2024-03-30T21:53:00.583442Z"
    }
   },
   "outputs": [
    {
     "name": "stderr",
     "output_type": "stream",
     "text": [
      "2024-03-30 14:52:37.507282: E tensorflow/compiler/xla/stream_executor/cuda/cuda_dnn.cc:9342] Unable to register cuDNN factory: Attempting to register factory for plugin cuDNN when one has already been registered\n",
      "2024-03-30 14:52:37.507313: E tensorflow/compiler/xla/stream_executor/cuda/cuda_fft.cc:609] Unable to register cuFFT factory: Attempting to register factory for plugin cuFFT when one has already been registered\n",
      "2024-03-30 14:52:37.507338: E tensorflow/compiler/xla/stream_executor/cuda/cuda_blas.cc:1518] Unable to register cuBLAS factory: Attempting to register factory for plugin cuBLAS when one has already been registered\n",
      "2024-03-30 14:52:41.650733: W tensorflow/compiler/tf2tensorrt/utils/py_utils.cc:38] TF-TRT Warning: Could not find TensorRT\n",
      "Please first ``pip install -U cirq`` to enable related functionality in translation module\n"
     ]
    }
   ],
   "source": [
    "import jax\n",
    "import tensorflow as tf\n",
    "tf.config.set_visible_devices([], device_type='GPU')  # Ensure TF does not see GPU and grab all GPU memory.\n",
    "tf.random.set_seed(42)  # For reproducibility.\n",
    "\n",
    "from quantum_transformers.utils import plot_image\n",
    "from quantum_transformers.datasets import get_quark_gluon_dataloaders\n",
    "from quantum_transformers.training import train_and_evaluate\n",
    "from quantum_transformers.transformers import VisionTransformer\n",
    "\n",
    "data_dir = '/global/cfs/cdirs/m4392/salcc/data'"
   ]
  },
  {
   "cell_type": "markdown",
   "metadata": {},
   "source": [
    "The models are trained using the following devices:"
   ]
  },
  {
   "cell_type": "code",
   "execution_count": 2,
   "metadata": {
    "execution": {
     "iopub.execute_input": "2024-03-30T21:53:00.586550Z",
     "iopub.status.busy": "2024-03-30T21:53:00.585994Z",
     "iopub.status.idle": "2024-03-30T21:53:00.870067Z",
     "shell.execute_reply": "2024-03-30T21:53:00.869684Z"
    }
   },
   "outputs": [
    {
     "name": "stdout",
     "output_type": "stream",
     "text": [
      "gpu:0 NVIDIA A100-SXM4-80GB\n"
     ]
    }
   ],
   "source": [
    "for d in jax.devices():\n",
    "    print(d, d.device_kind)"
   ]
  },
  {
   "cell_type": "markdown",
   "metadata": {},
   "source": [
    "Let's check how many samples the dataset has, the shape of the input data, and how one sample looks like."
   ]
  },
  {
   "cell_type": "code",
   "execution_count": 3,
   "metadata": {
    "execution": {
     "iopub.execute_input": "2024-03-30T21:53:00.871853Z",
     "iopub.status.busy": "2024-03-30T21:53:00.871714Z",
     "iopub.status.idle": "2024-03-30T21:53:01.942429Z",
     "shell.execute_reply": "2024-03-30T21:53:01.942018Z"
    }
   },
   "outputs": [
    {
     "name": "stdout",
     "output_type": "stream",
     "text": [
      "Cardinalities (train, val, test): 714510 79390 139306\n",
      "(125, 125, 3)\n"
     ]
    },
    {
     "data": {
      "image/png": "[encoded data removed]",
      "text/plain": [
       "<Figure size 900x300 with 3 Axes>"
      ]
     },
     "metadata": {},
     "output_type": "display_data"
    }
   ],
   "source": [
    "qg_train_dataloader, qg_val_dataloader, qg_test_dataloader = get_quark_gluon_dataloaders(batch_size=256, data_dir=data_dir)\n",
    "first_image = next(iter(qg_train_dataloader))[0][0]\n",
    "print(first_image.shape)\n",
    "plot_image(first_image, abs_log=True)"
   ]
  },
  {
   "cell_type": "markdown",
   "metadata": {},
   "source": [
    "Next, we train a ViT that obtains a good AUC score on the test set (hyperparameters found by random hyperparameter search)."
   ]
  },
  {
   "cell_type": "code",
   "execution_count": 4,
   "metadata": {
    "execution": {
     "iopub.execute_input": "2024-03-30T21:53:01.944294Z",
     "iopub.status.busy": "2024-03-30T21:53:01.944112Z",
     "iopub.status.idle": "2024-03-30T23:29:59.193729Z",
     "shell.execute_reply": "2024-03-30T23:29:59.193185Z"
    }
   },
   "outputs": [
    {
     "name": "stdout",
     "output_type": "stream",
     "text": [
      "Number of parameters = 5178\n"
     ]
    },
    {
     "name": "stderr",
     "output_type": "stream",
     "text": [
      "Epoch   1/30: 100%|██████████| 2791/2791 [03:20<00:00, 13.95batch/s, Loss = 0.5938, AUC = 75.56%, Train time = 64.28s]\n",
      "Epoch   2/30: 100%|██████████| 2791/2791 [03:12<00:00, 14.54batch/s, Loss = 0.5612, AUC = 78.61%, Train time = 60.08s]\n",
      "Epoch   3/30: 100%|██████████| 2791/2791 [03:10<00:00, 14.67batch/s, Loss = 0.5559, AUC = 79.01%, Train time = 60.02s]\n",
      "Epoch   4/30: 100%|██████████| 2791/2791 [03:13<00:00, 14.42batch/s, Loss = 0.5653, AUC = 79.23%, Train time = 60.25s]\n",
      "Epoch   5/30: 100%|██████████| 2791/2791 [03:12<00:00, 14.51batch/s, Loss = 0.5546, AUC = 79.32%, Train time = 60.10s]\n",
      "Epoch   6/30: 100%|██████████| 2791/2791 [03:11<00:00, 14.61batch/s, Loss = 0.5528, AUC = 79.45%, Train time = 59.94s]\n",
      "Epoch   7/30: 100%|██████████| 2791/2791 [03:11<00:00, 14.54batch/s, Loss = 0.5513, AUC = 79.48%, Train time = 60.74s]\n",
      "Epoch   8/30: 100%|██████████| 2791/2791 [03:12<00:00, 14.52batch/s, Loss = 0.5511, AUC = 79.60%, Train time = 60.05s]\n",
      "Epoch   9/30: 100%|██████████| 2791/2791 [03:12<00:00, 14.49batch/s, Loss = 0.5488, AUC = 79.63%, Train time = 59.92s]\n",
      "Epoch  10/30: 100%|██████████| 2791/2791 [03:13<00:00, 14.44batch/s, Loss = 0.5501, AUC = 79.65%, Train time = 60.33s]\n",
      "Epoch  11/30: 100%|██████████| 2791/2791 [03:12<00:00, 14.48batch/s, Loss = 0.5485, AUC = 79.70%, Train time = 60.40s]\n",
      "Epoch  12/30: 100%|██████████| 2791/2791 [03:11<00:00, 14.56batch/s, Loss = 0.5484, AUC = 79.73%, Train time = 60.19s]\n",
      "Epoch  13/30: 100%|██████████| 2791/2791 [03:11<00:00, 14.61batch/s, Loss = 0.5495, AUC = 79.70%, Train time = 60.31s]\n",
      "Epoch  14/30: 100%|██████████| 2791/2791 [03:13<00:00, 14.43batch/s, Loss = 0.5517, AUC = 79.72%, Train time = 60.47s]\n",
      "Epoch  15/30: 100%|██████████| 2791/2791 [03:10<00:00, 14.62batch/s, Loss = 0.5480, AUC = 79.73%, Train time = 60.36s]\n",
      "Epoch  16/30: 100%|██████████| 2791/2791 [03:12<00:00, 14.50batch/s, Loss = 0.5484, AUC = 79.74%, Train time = 60.50s]\n",
      "Epoch  17/30: 100%|██████████| 2791/2791 [03:12<00:00, 14.49batch/s, Loss = 0.5486, AUC = 79.74%, Train time = 60.11s]\n",
      "Epoch  18/30: 100%|██████████| 2791/2791 [03:13<00:00, 14.39batch/s, Loss = 0.5487, AUC = 79.74%, Train time = 60.75s]\n",
      "Epoch  19/30: 100%|██████████| 2791/2791 [03:13<00:00, 14.43batch/s, Loss = 0.5488, AUC = 79.74%, Train time = 60.00s]\n",
      "Epoch  20/30: 100%|██████████| 2791/2791 [03:14<00:00, 14.37batch/s, Loss = 0.5488, AUC = 79.74%, Train time = 60.79s]\n",
      "Epoch  21/30: 100%|██████████| 2791/2791 [03:12<00:00, 14.53batch/s, Loss = 0.5488, AUC = 79.74%, Train time = 60.14s]\n",
      "Epoch  22/30: 100%|██████████| 2791/2791 [03:11<00:00, 14.59batch/s, Loss = 0.5487, AUC = 79.74%, Train time = 59.99s]\n",
      "Epoch  23/30: 100%|██████████| 2791/2791 [03:12<00:00, 14.46batch/s, Loss = 0.5488, AUC = 79.74%, Train time = 60.21s]\n",
      "Epoch  24/30: 100%|██████████| 2791/2791 [03:14<00:00, 14.37batch/s, Loss = 0.5487, AUC = 79.74%, Train time = 60.88s]\n",
      "Epoch  25/30: 100%|██████████| 2791/2791 [03:10<00:00, 14.67batch/s, Loss = 0.5487, AUC = 79.74%, Train time = 60.09s]\n",
      "Epoch  26/30: 100%|██████████| 2791/2791 [03:13<00:00, 14.44batch/s, Loss = 0.5487, AUC = 79.74%, Train time = 60.19s]\n",
      "Epoch  27/30: 100%|██████████| 2791/2791 [03:12<00:00, 14.51batch/s, Loss = 0.5487, AUC = 79.74%, Train time = 60.37s]\n",
      "Epoch  28/30: 100%|██████████| 2791/2791 [03:12<00:00, 14.47batch/s, Loss = 0.5488, AUC = 79.74%, Train time = 60.15s]\n",
      "Epoch  29/30: 100%|██████████| 2791/2791 [03:11<00:00, 14.58batch/s, Loss = 0.5488, AUC = 79.74%, Train time = 60.40s]\n",
      "Epoch  30/30: 100%|██████████| 2791/2791 [03:14<00:00, 14.38batch/s, Loss = 0.5488, AUC = 79.74%, Train time = 60.51s]\n"
     ]
    },
    {
     "name": "stdout",
     "output_type": "stream",
     "text": [
      "Best validation AUC = 79.74% at epoch 25\n",
      "Total training time = 1812.51s, total time (including evaluations) = 5780.79s\n"
     ]
    },
    {
     "name": "stderr",
     "output_type": "stream",
     "text": [
      "Testing: 100%|██████████| 544/544 [00:23<00:00, 23.49batch/s, Loss = 0.5543, AUC = 79.31%]\n"
     ]
    }
   ],
   "source": [
    "model = VisionTransformer(num_classes=2, patch_size=10, hidden_size=8, num_heads=2, num_transformer_blocks=4, mlp_hidden_size=4)\n",
    "metrics = train_and_evaluate(model, qg_train_dataloader, qg_val_dataloader, qg_test_dataloader, num_classes=2, num_epochs=30)"
   ]
  },
  {
   "cell_type": "code",
   "execution_count": 5,
   "metadata": {
    "execution": {
     "iopub.execute_input": "2024-03-30T23:29:59.214727Z",
     "iopub.status.busy": "2024-03-30T23:29:59.214560Z",
     "iopub.status.idle": "2024-03-30T23:29:59.315756Z",
     "shell.execute_reply": "2024-03-30T23:29:59.315175Z"
    }
   },
   "outputs": [],
   "source": [
    "import pickle\n",
    "with open('qg_metrics.pkl', 'wb') as f:\n",
    "    pickle.dump(metrics, f)"
   ]
  }
 ],
 "metadata": {
  "kernelspec": {
   "display_name": "gsoc",
   "language": "python",
   "name": "python3"
  },
  "language_info": {
   "codemirror_mode": {
    "name": "ipython",
    "version": 3
   },
   "file_extension": ".py",
   "mimetype": "text/x-python",
   "name": "python",
   "nbconvert_exporter": "python",
   "pygments_lexer": "ipython3",
   "version": "3.11.4"
  }
 },
 "nbformat": 4,
 "nbformat_minor": 2
}
