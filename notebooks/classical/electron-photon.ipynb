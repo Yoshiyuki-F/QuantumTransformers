{
 "cells": [
  {
   "cell_type": "code",
   "execution_count": 1,
   "metadata": {
    "execution": {
     "iopub.execute_input": "2023-08-27T15:03:10.775342Z",
     "iopub.status.busy": "2023-08-27T15:03:10.775222Z",
     "iopub.status.idle": "2023-08-27T15:03:19.969711Z",
     "shell.execute_reply": "2023-08-27T15:03:19.969304Z"
    }
   },
   "outputs": [
    {
     "name": "stderr",
     "output_type": "stream",
     "text": [
      "2023-08-27 08:03:11.600151: E tensorflow/compiler/xla/stream_executor/cuda/cuda_dnn.cc:9342] Unable to register cuDNN factory: Attempting to register factory for plugin cuDNN when one has already been registered\n",
      "2023-08-27 08:03:11.600176: E tensorflow/compiler/xla/stream_executor/cuda/cuda_fft.cc:609] Unable to register cuFFT factory: Attempting to register factory for plugin cuFFT when one has already been registered\n",
      "2023-08-27 08:03:11.600190: E tensorflow/compiler/xla/stream_executor/cuda/cuda_blas.cc:1518] Unable to register cuBLAS factory: Attempting to register factory for plugin cuBLAS when one has already been registered\n",
      "2023-08-27 08:03:12.886309: W tensorflow/compiler/tf2tensorrt/utils/py_utils.cc:38] TF-TRT Warning: Could not find TensorRT\n"
     ]
    },
    {
     "name": "stdout",
     "output_type": "stream",
     "text": [
      "WARNING:tensorflow:From /global/common/software/m4392/conda/gsoc/lib/python3.11/site-packages/tensorflow/python/ops/distributions/distribution.py:259: ReparameterizationType.__init__ (from tensorflow.python.ops.distributions.distribution) is deprecated and will be removed after 2019-01-01.\n",
      "Instructions for updating:\n",
      "The TensorFlow Distributions library has moved to TensorFlow Probability (https://github.com/tensorflow/probability). You should update all references to use `tfp.distributions` instead of `tf.distributions`.\n",
      "WARNING:tensorflow:From /global/common/software/m4392/conda/gsoc/lib/python3.11/site-packages/tensorflow/python/ops/distributions/bernoulli.py:165: RegisterKL.__init__ (from tensorflow.python.ops.distributions.kullback_leibler) is deprecated and will be removed after 2019-01-01.\n",
      "Instructions for updating:\n",
      "The TensorFlow Distributions library has moved to TensorFlow Probability (https://github.com/tensorflow/probability). You should update all references to use `tfp.distributions` instead of `tf.distributions`.\n"
     ]
    },
    {
     "name": "stderr",
     "output_type": "stream",
     "text": [
      "Please first ``pip install -U cirq`` to enable related functionality in translation module\n"
     ]
    }
   ],
   "source": [
    "import jax\n",
    "import tensorflow as tf\n",
    "tf.config.set_visible_devices([], device_type='GPU')  # Ensure TF does not see GPU and grab all GPU memory.\n",
    "tf.random.set_seed(42)  # For reproducibility.\n",
    "\n",
    "from quantum_transformers.utils import plot_image\n",
    "from quantum_transformers.datasets import get_electron_photon_dataloaders\n",
    "from quantum_transformers.training import train_and_evaluate\n",
    "from quantum_transformers.transformers import VisionTransformer\n",
    "\n",
    "data_dir = '/global/cfs/cdirs/m4392/salcc/data'"
   ]
  },
  {
   "cell_type": "code",
   "execution_count": 2,
   "metadata": {
    "execution": {
     "iopub.execute_input": "2023-08-27T15:03:19.971901Z",
     "iopub.status.busy": "2023-08-27T15:03:19.971576Z",
     "iopub.status.idle": "2023-08-27T15:03:20.376098Z",
     "shell.execute_reply": "2023-08-27T15:03:20.375659Z"
    }
   },
   "outputs": [
    {
     "name": "stdout",
     "output_type": "stream",
     "text": [
      "gpu:0 NVIDIA A100-SXM4-40GB\n"
     ]
    }
   ],
   "source": [
    "for d in jax.devices():\n",
    "    print(d, d.device_kind)"
   ]
  },
  {
   "cell_type": "code",
   "execution_count": 3,
   "metadata": {
    "execution": {
     "iopub.execute_input": "2023-08-27T15:03:20.377845Z",
     "iopub.status.busy": "2023-08-27T15:03:20.377703Z",
     "iopub.status.idle": "2023-08-27T15:03:24.817280Z",
     "shell.execute_reply": "2023-08-27T15:03:24.816881Z"
    }
   },
   "outputs": [
    {
     "name": "stdout",
     "output_type": "stream",
     "text": [
      "(32, 32, 2)\n"
     ]
    },
    {
     "data": {
      "image/png": "[encoded data removed]",
      "text/plain": [
       "<Figure size 600x300 with 2 Axes>"
      ]
     },
     "metadata": {},
     "output_type": "display_data"
    }
   ],
   "source": [
    "ep_train_dataloader, ep_val_dataloader, ep_test_dataloader = get_electron_photon_dataloaders(batch_size=256, data_dir=data_dir)\n",
    "first_image = next(iter(ep_train_dataloader))[0][0]\n",
    "print(first_image.shape)\n",
    "plot_image(first_image, abs_log=True)"
   ]
  },
  {
   "cell_type": "code",
   "execution_count": 4,
   "metadata": {
    "execution": {
     "iopub.execute_input": "2023-08-27T15:03:24.818956Z",
     "iopub.status.busy": "2023-08-27T15:03:24.818781Z",
     "iopub.status.idle": "2023-08-27T15:14:34.263580Z",
     "shell.execute_reply": "2023-08-27T15:14:34.263142Z"
    }
   },
   "outputs": [
    {
     "name": "stderr",
     "output_type": "stream",
     "text": [
      "Epoch   1/50: 100%|██████████| 1715/1715 [00:19<00:00, 89.96batch/s, Loss = 0.6563, AUC = 65.53%] \n",
      "Epoch   2/50: 100%|██████████| 1715/1715 [00:13<00:00, 131.60batch/s, Loss = 0.6185, AUC = 71.55%]\n",
      "Epoch   3/50: 100%|██████████| 1715/1715 [00:13<00:00, 128.67batch/s, Loss = 0.5982, AUC = 74.45%]\n",
      "Epoch   4/50: 100%|██████████| 1715/1715 [00:13<00:00, 130.74batch/s, Loss = 0.5843, AUC = 75.72%]\n",
      "Epoch   5/50: 100%|██████████| 1715/1715 [00:13<00:00, 130.66batch/s, Loss = 0.5825, AUC = 76.08%]\n",
      "Epoch   6/50: 100%|██████████| 1715/1715 [00:13<00:00, 131.90batch/s, Loss = 0.5784, AUC = 76.40%]\n",
      "Epoch   7/50: 100%|██████████| 1715/1715 [00:12<00:00, 133.91batch/s, Loss = 0.5752, AUC = 76.87%]\n",
      "Epoch   8/50: 100%|██████████| 1715/1715 [00:13<00:00, 128.11batch/s, Loss = 0.5767, AUC = 76.76%]\n",
      "Epoch   9/50: 100%|██████████| 1715/1715 [00:13<00:00, 131.07batch/s, Loss = 0.5729, AUC = 77.08%]\n",
      "Epoch  10/50: 100%|██████████| 1715/1715 [00:13<00:00, 131.04batch/s, Loss = 0.5692, AUC = 77.41%]\n",
      "Epoch  11/50: 100%|██████████| 1715/1715 [00:13<00:00, 126.94batch/s, Loss = 0.5685, AUC = 77.53%]\n",
      "Epoch  12/50: 100%|██████████| 1715/1715 [00:13<00:00, 131.51batch/s, Loss = 0.5708, AUC = 77.52%]\n",
      "Epoch  13/50: 100%|██████████| 1715/1715 [00:13<00:00, 130.64batch/s, Loss = 0.5671, AUC = 77.62%]\n",
      "Epoch  14/50: 100%|██████████| 1715/1715 [00:12<00:00, 132.64batch/s, Loss = 0.5628, AUC = 78.03%]\n",
      "Epoch  15/50: 100%|██████████| 1715/1715 [00:13<00:00, 127.64batch/s, Loss = 0.5668, AUC = 77.66%]\n",
      "Epoch  16/50: 100%|██████████| 1715/1715 [00:12<00:00, 139.99batch/s, Loss = 0.5643, AUC = 78.01%]\n",
      "Epoch  17/50: 100%|██████████| 1715/1715 [00:12<00:00, 134.22batch/s, Loss = 0.5581, AUC = 78.45%]\n",
      "Epoch  18/50: 100%|██████████| 1715/1715 [00:12<00:00, 134.10batch/s, Loss = 0.5608, AUC = 78.26%]\n",
      "Epoch  19/50: 100%|██████████| 1715/1715 [00:13<00:00, 130.35batch/s, Loss = 0.5611, AUC = 78.56%]\n",
      "Epoch  20/50: 100%|██████████| 1715/1715 [00:12<00:00, 137.97batch/s, Loss = 0.5544, AUC = 78.87%]\n",
      "Epoch  21/50: 100%|██████████| 1715/1715 [00:12<00:00, 134.19batch/s, Loss = 0.5529, AUC = 79.06%]\n",
      "Epoch  22/50: 100%|██████████| 1715/1715 [00:12<00:00, 132.89batch/s, Loss = 0.5522, AUC = 79.07%]\n",
      "Epoch  23/50: 100%|██████████| 1715/1715 [00:12<00:00, 133.36batch/s, Loss = 0.5528, AUC = 79.05%]\n",
      "Epoch  24/50: 100%|██████████| 1715/1715 [00:12<00:00, 134.08batch/s, Loss = 0.5517, AUC = 79.09%]\n",
      "Epoch  25/50: 100%|██████████| 1715/1715 [00:12<00:00, 135.11batch/s, Loss = 0.5503, AUC = 79.23%]\n",
      "Epoch  26/50: 100%|██████████| 1715/1715 [00:12<00:00, 134.09batch/s, Loss = 0.5505, AUC = 79.23%]\n",
      "Epoch  27/50: 100%|██████████| 1715/1715 [00:13<00:00, 131.13batch/s, Loss = 0.5501, AUC = 79.28%]\n",
      "Epoch  28/50: 100%|██████████| 1715/1715 [00:12<00:00, 132.42batch/s, Loss = 0.5498, AUC = 79.30%]\n",
      "Epoch  29/50: 100%|██████████| 1715/1715 [00:12<00:00, 134.59batch/s, Loss = 0.5499, AUC = 79.30%]\n",
      "Epoch  30/50: 100%|██████████| 1715/1715 [00:12<00:00, 137.74batch/s, Loss = 0.5499, AUC = 79.30%]\n",
      "Epoch  31/50: 100%|██████████| 1715/1715 [00:13<00:00, 128.84batch/s, Loss = 0.5499, AUC = 79.30%]\n",
      "Epoch  32/50: 100%|██████████| 1715/1715 [00:13<00:00, 126.91batch/s, Loss = 0.5499, AUC = 79.30%]\n",
      "Epoch  33/50: 100%|██████████| 1715/1715 [00:12<00:00, 134.12batch/s, Loss = 0.5499, AUC = 79.30%]\n",
      "Epoch  34/50: 100%|██████████| 1715/1715 [00:13<00:00, 125.45batch/s, Loss = 0.5499, AUC = 79.30%]\n",
      "Epoch  35/50: 100%|██████████| 1715/1715 [00:13<00:00, 130.88batch/s, Loss = 0.5499, AUC = 79.30%]\n",
      "Epoch  36/50: 100%|██████████| 1715/1715 [00:12<00:00, 134.88batch/s, Loss = 0.5499, AUC = 79.30%]\n",
      "Epoch  37/50: 100%|██████████| 1715/1715 [00:12<00:00, 134.68batch/s, Loss = 0.5499, AUC = 79.30%]\n",
      "Epoch  38/50: 100%|██████████| 1715/1715 [00:13<00:00, 128.60batch/s, Loss = 0.5499, AUC = 79.30%]\n",
      "Epoch  39/50: 100%|██████████| 1715/1715 [00:12<00:00, 132.63batch/s, Loss = 0.5499, AUC = 79.30%]\n",
      "Epoch  40/50: 100%|██████████| 1715/1715 [00:12<00:00, 134.77batch/s, Loss = 0.5499, AUC = 79.30%]\n",
      "Epoch  41/50: 100%|██████████| 1715/1715 [00:12<00:00, 134.41batch/s, Loss = 0.5499, AUC = 79.30%]\n",
      "Epoch  42/50: 100%|██████████| 1715/1715 [00:12<00:00, 134.83batch/s, Loss = 0.5499, AUC = 79.30%]\n",
      "Epoch  43/50: 100%|██████████| 1715/1715 [00:12<00:00, 138.35batch/s, Loss = 0.5499, AUC = 79.30%]\n",
      "Epoch  44/50: 100%|██████████| 1715/1715 [00:12<00:00, 133.08batch/s, Loss = 0.5499, AUC = 79.30%]\n",
      "Epoch  45/50: 100%|██████████| 1715/1715 [00:13<00:00, 124.38batch/s, Loss = 0.5499, AUC = 79.30%]\n",
      "Epoch  46/50: 100%|██████████| 1715/1715 [00:12<00:00, 133.61batch/s, Loss = 0.5499, AUC = 79.30%]\n",
      "Epoch  47/50: 100%|██████████| 1715/1715 [00:13<00:00, 127.18batch/s, Loss = 0.5499, AUC = 79.30%]\n",
      "Epoch  48/50: 100%|██████████| 1715/1715 [00:13<00:00, 131.50batch/s, Loss = 0.5499, AUC = 79.30%]\n",
      "Epoch  49/50: 100%|██████████| 1715/1715 [00:13<00:00, 122.54batch/s, Loss = 0.5499, AUC = 79.30%]\n",
      "Epoch  50/50: 100%|██████████| 1715/1715 [00:12<00:00, 132.55batch/s, Loss = 0.5499, AUC = 79.30%]\n"
     ]
    },
    {
     "name": "stdout",
     "output_type": "stream",
     "text": [
      "Total training time = 656.35s, best validation AUC = 79.30% at epoch 28\n"
     ]
    },
    {
     "name": "stderr",
     "output_type": "stream",
     "text": [
      "Testing: 100%|██████████| 39/39 [00:01<00:00, 27.50batch/s, Loss = 0.5532, AUC = 79.15%]\n"
     ]
    }
   ],
   "source": [
    "model = VisionTransformer(num_classes=2, patch_size=8, hidden_size=64, num_heads=2, num_transformer_blocks=4, mlp_hidden_size=32)\n",
    "train_and_evaluate(model, ep_train_dataloader, ep_val_dataloader, ep_test_dataloader, num_classes=2, num_epochs=50)"
   ]
  },
  {
   "cell_type": "code",
   "execution_count": 5,
   "metadata": {
    "execution": {
     "iopub.execute_input": "2023-08-27T15:14:34.267036Z",
     "iopub.status.busy": "2023-08-27T15:14:34.266842Z",
     "iopub.status.idle": "2023-08-27T15:25:07.614678Z",
     "shell.execute_reply": "2023-08-27T15:25:07.614233Z"
    }
   },
   "outputs": [
    {
     "name": "stderr",
     "output_type": "stream",
     "text": [
      "Epoch   1/50: 100%|██████████| 1715/1715 [00:19<00:00, 90.08batch/s, Loss = 0.6930, AUC = 53.46%] \n",
      "Epoch   2/50: 100%|██████████| 1715/1715 [00:11<00:00, 143.02batch/s, Loss = 0.6610, AUC = 63.93%]\n",
      "Epoch   3/50: 100%|██████████| 1715/1715 [00:12<00:00, 137.77batch/s, Loss = 0.6367, AUC = 68.89%]\n",
      "Epoch   4/50: 100%|██████████| 1715/1715 [00:12<00:00, 139.56batch/s, Loss = 0.6142, AUC = 72.28%]\n",
      "Epoch   5/50: 100%|██████████| 1715/1715 [00:12<00:00, 140.75batch/s, Loss = 0.6028, AUC = 74.01%]\n",
      "Epoch   6/50: 100%|██████████| 1715/1715 [00:12<00:00, 134.74batch/s, Loss = 0.5988, AUC = 74.39%]\n",
      "Epoch   7/50: 100%|██████████| 1715/1715 [00:12<00:00, 140.09batch/s, Loss = 0.5897, AUC = 75.13%]\n",
      "Epoch   8/50: 100%|██████████| 1715/1715 [00:12<00:00, 136.18batch/s, Loss = 0.5876, AUC = 75.40%]\n",
      "Epoch   9/50: 100%|██████████| 1715/1715 [00:12<00:00, 134.03batch/s, Loss = 0.5868, AUC = 75.38%]\n",
      "Epoch  10/50: 100%|██████████| 1715/1715 [00:12<00:00, 136.50batch/s, Loss = 0.5887, AUC = 75.38%]\n",
      "Epoch  11/50: 100%|██████████| 1715/1715 [00:12<00:00, 136.71batch/s, Loss = 0.5965, AUC = 74.45%]\n",
      "Epoch  12/50: 100%|██████████| 1715/1715 [00:12<00:00, 137.91batch/s, Loss = 0.5830, AUC = 75.87%]\n",
      "Epoch  13/50: 100%|██████████| 1715/1715 [00:12<00:00, 139.67batch/s, Loss = 0.5834, AUC = 76.11%]\n",
      "Epoch  14/50: 100%|██████████| 1715/1715 [00:12<00:00, 138.82batch/s, Loss = 0.5821, AUC = 76.02%]\n",
      "Epoch  15/50: 100%|██████████| 1715/1715 [00:12<00:00, 142.83batch/s, Loss = 0.5847, AUC = 75.96%]\n",
      "Epoch  16/50: 100%|██████████| 1715/1715 [00:12<00:00, 137.84batch/s, Loss = 0.5806, AUC = 76.22%]\n",
      "Epoch  17/50: 100%|██████████| 1715/1715 [00:12<00:00, 139.75batch/s, Loss = 0.5810, AUC = 76.19%]\n",
      "Epoch  18/50: 100%|██████████| 1715/1715 [00:12<00:00, 138.24batch/s, Loss = 0.5804, AUC = 76.25%]\n",
      "Epoch  19/50: 100%|██████████| 1715/1715 [00:12<00:00, 138.16batch/s, Loss = 0.5785, AUC = 76.38%]\n",
      "Epoch  20/50: 100%|██████████| 1715/1715 [00:13<00:00, 131.72batch/s, Loss = 0.5778, AUC = 76.46%]\n",
      "Epoch  21/50: 100%|██████████| 1715/1715 [00:12<00:00, 136.37batch/s, Loss = 0.5777, AUC = 76.46%]\n",
      "Epoch  22/50: 100%|██████████| 1715/1715 [00:12<00:00, 136.44batch/s, Loss = 0.5769, AUC = 76.54%]\n",
      "Epoch  23/50: 100%|██████████| 1715/1715 [00:12<00:00, 137.50batch/s, Loss = 0.5772, AUC = 76.55%]\n",
      "Epoch  24/50: 100%|██████████| 1715/1715 [00:12<00:00, 140.97batch/s, Loss = 0.5769, AUC = 76.54%]\n",
      "Epoch  25/50: 100%|██████████| 1715/1715 [00:12<00:00, 139.16batch/s, Loss = 0.5767, AUC = 76.58%]\n",
      "Epoch  26/50: 100%|██████████| 1715/1715 [00:12<00:00, 134.04batch/s, Loss = 0.5769, AUC = 76.56%]\n",
      "Epoch  27/50: 100%|██████████| 1715/1715 [00:12<00:00, 137.00batch/s, Loss = 0.5766, AUC = 76.59%]\n",
      "Epoch  28/50: 100%|██████████| 1715/1715 [00:12<00:00, 138.85batch/s, Loss = 0.5765, AUC = 76.58%]\n",
      "Epoch  29/50: 100%|██████████| 1715/1715 [00:12<00:00, 133.57batch/s, Loss = 0.5766, AUC = 76.58%]\n",
      "Epoch  30/50: 100%|██████████| 1715/1715 [00:12<00:00, 135.34batch/s, Loss = 0.5766, AUC = 76.58%]\n",
      "Epoch  31/50: 100%|██████████| 1715/1715 [00:12<00:00, 134.70batch/s, Loss = 0.5766, AUC = 76.58%]\n",
      "Epoch  32/50: 100%|██████████| 1715/1715 [00:12<00:00, 140.82batch/s, Loss = 0.5766, AUC = 76.58%]\n",
      "Epoch  33/50: 100%|██████████| 1715/1715 [00:12<00:00, 142.18batch/s, Loss = 0.5766, AUC = 76.58%]\n",
      "Epoch  34/50: 100%|██████████| 1715/1715 [00:12<00:00, 138.96batch/s, Loss = 0.5766, AUC = 76.58%]\n",
      "Epoch  35/50: 100%|██████████| 1715/1715 [00:12<00:00, 138.06batch/s, Loss = 0.5766, AUC = 76.58%]\n",
      "Epoch  36/50: 100%|██████████| 1715/1715 [00:12<00:00, 141.13batch/s, Loss = 0.5766, AUC = 76.58%]\n",
      "Epoch  37/50: 100%|██████████| 1715/1715 [00:12<00:00, 138.92batch/s, Loss = 0.5766, AUC = 76.58%]\n",
      "Epoch  38/50: 100%|██████████| 1715/1715 [00:12<00:00, 136.87batch/s, Loss = 0.5766, AUC = 76.58%]\n",
      "Epoch  39/50: 100%|██████████| 1715/1715 [00:12<00:00, 138.27batch/s, Loss = 0.5766, AUC = 76.58%]\n",
      "Epoch  40/50: 100%|██████████| 1715/1715 [00:12<00:00, 140.53batch/s, Loss = 0.5766, AUC = 76.58%]\n",
      "Epoch  41/50: 100%|██████████| 1715/1715 [00:12<00:00, 138.97batch/s, Loss = 0.5766, AUC = 76.58%]\n",
      "Epoch  42/50: 100%|██████████| 1715/1715 [00:12<00:00, 134.68batch/s, Loss = 0.5766, AUC = 76.58%]\n",
      "Epoch  43/50: 100%|██████████| 1715/1715 [00:11<00:00, 146.08batch/s, Loss = 0.5766, AUC = 76.58%]\n",
      "Epoch  44/50: 100%|██████████| 1715/1715 [00:12<00:00, 137.19batch/s, Loss = 0.5766, AUC = 76.58%]\n",
      "Epoch  45/50: 100%|██████████| 1715/1715 [00:11<00:00, 144.77batch/s, Loss = 0.5766, AUC = 76.58%]\n",
      "Epoch  46/50: 100%|██████████| 1715/1715 [00:12<00:00, 142.39batch/s, Loss = 0.5766, AUC = 76.58%]\n",
      "Epoch  47/50: 100%|██████████| 1715/1715 [00:12<00:00, 135.64batch/s, Loss = 0.5766, AUC = 76.58%]\n",
      "Epoch  48/50: 100%|██████████| 1715/1715 [00:12<00:00, 140.62batch/s, Loss = 0.5766, AUC = 76.58%]\n",
      "Epoch  49/50: 100%|██████████| 1715/1715 [00:12<00:00, 134.59batch/s, Loss = 0.5766, AUC = 76.58%]\n",
      "Epoch  50/50: 100%|██████████| 1715/1715 [00:12<00:00, 141.06batch/s, Loss = 0.5766, AUC = 76.58%]\n"
     ]
    },
    {
     "name": "stdout",
     "output_type": "stream",
     "text": [
      "Total training time = 626.76s, best validation AUC = 76.59% at epoch 27\n"
     ]
    },
    {
     "name": "stderr",
     "output_type": "stream",
     "text": [
      "Testing: 100%|██████████| 39/39 [00:00<00:00, 49.94batch/s, Loss = 0.5807, AUC = 76.35%] \n"
     ]
    }
   ],
   "source": [
    "model = VisionTransformer(num_classes=2, patch_size=8, hidden_size=8, num_heads=2, num_transformer_blocks=4, mlp_hidden_size=4)\n",
    "train_and_evaluate(model, ep_train_dataloader, ep_val_dataloader, ep_test_dataloader, num_classes=2, num_epochs=50)"
   ]
  }
 ],
 "metadata": {
  "kernelspec": {
   "display_name": "gsoc",
   "language": "python",
   "name": "python3"
  },
  "language_info": {
   "codemirror_mode": {
    "name": "ipython",
    "version": 3
   },
   "file_extension": ".py",
   "mimetype": "text/x-python",
   "name": "python",
   "nbconvert_exporter": "python",
   "pygments_lexer": "ipython3",
   "version": "3.11.4"
  }
 },
 "nbformat": 4,
 "nbformat_minor": 2
}
