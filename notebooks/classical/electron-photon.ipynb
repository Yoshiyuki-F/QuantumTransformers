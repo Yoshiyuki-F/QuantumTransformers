{
 "cells": [
  {
   "cell_type": "code",
   "execution_count": 1,
   "metadata": {
    "execution": {
     "iopub.execute_input": "2023-08-26T19:31:34.697476Z",
     "iopub.status.busy": "2023-08-26T19:31:34.697198Z",
     "iopub.status.idle": "2023-08-26T19:31:46.623095Z",
     "shell.execute_reply": "2023-08-26T19:31:46.622662Z"
    }
   },
   "outputs": [
    {
     "name": "stderr",
     "output_type": "stream",
     "text": [
      "2023-08-26 12:31:35.656751: E tensorflow/compiler/xla/stream_executor/cuda/cuda_dnn.cc:9342] Unable to register cuDNN factory: Attempting to register factory for plugin cuDNN when one has already been registered\n",
      "2023-08-26 12:31:35.656775: E tensorflow/compiler/xla/stream_executor/cuda/cuda_fft.cc:609] Unable to register cuFFT factory: Attempting to register factory for plugin cuFFT when one has already been registered\n",
      "2023-08-26 12:31:35.656791: E tensorflow/compiler/xla/stream_executor/cuda/cuda_blas.cc:1518] Unable to register cuBLAS factory: Attempting to register factory for plugin cuBLAS when one has already been registered\n",
      "2023-08-26 12:31:37.297547: W tensorflow/compiler/tf2tensorrt/utils/py_utils.cc:38] TF-TRT Warning: Could not find TensorRT\n"
     ]
    },
    {
     "name": "stdout",
     "output_type": "stream",
     "text": [
      "WARNING:tensorflow:From /global/common/software/m4392/conda/gsoc/lib/python3.11/site-packages/tensorflow/python/ops/distributions/distribution.py:259: ReparameterizationType.__init__ (from tensorflow.python.ops.distributions.distribution) is deprecated and will be removed after 2019-01-01.\n",
      "Instructions for updating:\n",
      "The TensorFlow Distributions library has moved to TensorFlow Probability (https://github.com/tensorflow/probability). You should update all references to use `tfp.distributions` instead of `tf.distributions`.\n",
      "WARNING:tensorflow:From /global/common/software/m4392/conda/gsoc/lib/python3.11/site-packages/tensorflow/python/ops/distributions/bernoulli.py:165: RegisterKL.__init__ (from tensorflow.python.ops.distributions.kullback_leibler) is deprecated and will be removed after 2019-01-01.\n",
      "Instructions for updating:\n",
      "The TensorFlow Distributions library has moved to TensorFlow Probability (https://github.com/tensorflow/probability). You should update all references to use `tfp.distributions` instead of `tf.distributions`.\n"
     ]
    },
    {
     "name": "stderr",
     "output_type": "stream",
     "text": [
      "Please first ``pip install -U cirq`` to enable related functionality in translation module\n"
     ]
    }
   ],
   "source": [
    "import jax\n",
    "import tensorflow as tf\n",
    "tf.config.set_visible_devices([], device_type='GPU')  # Ensure TF does not see GPU and grab all GPU memory.\n",
    "tf.random.set_seed(42)  # For reproducibility.\n",
    "\n",
    "from quantum_transformers.utils import plot_image\n",
    "from quantum_transformers.datasets import get_electron_photon_dataloaders\n",
    "from quantum_transformers.training import train_and_evaluate\n",
    "from quantum_transformers.transformers import VisionTransformer\n",
    "\n",
    "data_dir = '/global/cfs/cdirs/m4392/salcc/data'"
   ]
  },
  {
   "cell_type": "code",
   "execution_count": 2,
   "metadata": {
    "execution": {
     "iopub.execute_input": "2023-08-26T19:31:46.625466Z",
     "iopub.status.busy": "2023-08-26T19:31:46.625053Z",
     "iopub.status.idle": "2023-08-26T19:31:47.123738Z",
     "shell.execute_reply": "2023-08-26T19:31:47.123120Z"
    }
   },
   "outputs": [
    {
     "name": "stdout",
     "output_type": "stream",
     "text": [
      "gpu:0 NVIDIA A100-SXM4-40GB\n"
     ]
    }
   ],
   "source": [
    "for d in jax.devices():\n",
    "    print(d, d.device_kind)"
   ]
  },
  {
   "cell_type": "code",
   "execution_count": 3,
   "metadata": {
    "execution": {
     "iopub.execute_input": "2023-08-26T19:31:47.125533Z",
     "iopub.status.busy": "2023-08-26T19:31:47.125339Z",
     "iopub.status.idle": "2023-08-26T19:31:51.651188Z",
     "shell.execute_reply": "2023-08-26T19:31:51.650732Z"
    }
   },
   "outputs": [
    {
     "name": "stdout",
     "output_type": "stream",
     "text": [
      "(32, 32, 2)\n"
     ]
    },
    {
     "data": {
      "image/png": "[encoded data removed]",
      "text/plain": [
       "<Figure size 600x300 with 2 Axes>"
      ]
     },
     "metadata": {},
     "output_type": "display_data"
    }
   ],
   "source": [
    "ep_train_dataloader, ep_valid_dataloader = get_electron_photon_dataloaders(batch_size=256, data_dir=data_dir)\n",
    "first_image = next(iter(ep_train_dataloader))[0][0]\n",
    "print(first_image.shape)\n",
    "plot_image(first_image, abs_log=True)"
   ]
  },
  {
   "cell_type": "code",
   "execution_count": 4,
   "metadata": {
    "execution": {
     "iopub.execute_input": "2023-08-26T19:31:51.652899Z",
     "iopub.status.busy": "2023-08-26T19:31:51.652705Z",
     "iopub.status.idle": "2023-08-26T19:41:50.808435Z",
     "shell.execute_reply": "2023-08-26T19:41:50.807909Z"
    }
   },
   "outputs": [
    {
     "name": "stderr",
     "output_type": "stream",
     "text": [
      "Epoch   1/50: 100%|██████████| 1906/1906 [00:16<00:00, 115.88batch/s, Loss = 0.6469, AUC = 66.87%]\n",
      "Epoch   2/50: 100%|██████████| 1906/1906 [00:10<00:00, 183.07batch/s, Loss = 0.6222, AUC = 70.92%]\n",
      "Epoch   3/50: 100%|██████████| 1906/1906 [00:10<00:00, 189.38batch/s, Loss = 0.5994, AUC = 74.21%]\n",
      "Epoch   4/50: 100%|██████████| 1906/1906 [00:10<00:00, 180.81batch/s, Loss = 0.5887, AUC = 75.39%]\n",
      "Epoch   5/50: 100%|██████████| 1906/1906 [00:12<00:00, 154.24batch/s, Loss = 0.5856, AUC = 75.88%]\n",
      "Epoch   6/50: 100%|██████████| 1906/1906 [00:12<00:00, 154.10batch/s, Loss = 0.5853, AUC = 75.78%]\n",
      "Epoch   7/50: 100%|██████████| 1906/1906 [00:10<00:00, 184.17batch/s, Loss = 0.5780, AUC = 76.59%]\n",
      "Epoch   8/50: 100%|██████████| 1906/1906 [00:14<00:00, 130.96batch/s, Loss = 0.5801, AUC = 76.44%]\n",
      "Epoch   9/50: 100%|██████████| 1906/1906 [00:10<00:00, 190.25batch/s, Loss = 0.5866, AUC = 75.90%]\n",
      "Epoch  10/50: 100%|██████████| 1906/1906 [00:10<00:00, 189.70batch/s, Loss = 0.5778, AUC = 76.69%]\n",
      "Epoch  11/50: 100%|██████████| 1906/1906 [00:10<00:00, 187.18batch/s, Loss = 0.5782, AUC = 76.85%]\n",
      "Epoch  12/50: 100%|██████████| 1906/1906 [00:10<00:00, 186.02batch/s, Loss = 0.5801, AUC = 76.98%]\n",
      "Epoch  13/50: 100%|██████████| 1906/1906 [00:09<00:00, 193.95batch/s, Loss = 0.5759, AUC = 76.95%]\n",
      "Epoch  14/50: 100%|██████████| 1906/1906 [00:10<00:00, 176.36batch/s, Loss = 0.5730, AUC = 77.22%]\n",
      "Epoch  15/50: 100%|██████████| 1906/1906 [00:13<00:00, 139.66batch/s, Loss = 0.5671, AUC = 77.76%]\n",
      "Epoch  16/50: 100%|██████████| 1906/1906 [00:10<00:00, 186.29batch/s, Loss = 0.5741, AUC = 77.45%]\n",
      "Epoch  17/50: 100%|██████████| 1906/1906 [00:09<00:00, 192.78batch/s, Loss = 0.5709, AUC = 77.55%]\n",
      "Epoch  18/50: 100%|██████████| 1906/1906 [00:10<00:00, 181.92batch/s, Loss = 0.5647, AUC = 78.06%]\n",
      "Epoch  19/50: 100%|██████████| 1906/1906 [00:14<00:00, 134.35batch/s, Loss = 0.5711, AUC = 77.81%]\n",
      "Epoch  20/50: 100%|██████████| 1906/1906 [00:10<00:00, 188.46batch/s, Loss = 0.5719, AUC = 77.80%]\n",
      "Epoch  21/50: 100%|██████████| 1906/1906 [00:09<00:00, 191.13batch/s, Loss = 0.5636, AUC = 78.15%]\n",
      "Epoch  22/50: 100%|██████████| 1906/1906 [00:15<00:00, 125.83batch/s, Loss = 0.5635, AUC = 78.06%]\n",
      "Epoch  23/50: 100%|██████████| 1906/1906 [00:09<00:00, 191.13batch/s, Loss = 0.5644, AUC = 78.18%]\n",
      "Epoch  24/50: 100%|██████████| 1906/1906 [00:10<00:00, 189.39batch/s, Loss = 0.5644, AUC = 78.05%]\n",
      "Epoch  25/50: 100%|██████████| 1906/1906 [00:10<00:00, 186.43batch/s, Loss = 0.5628, AUC = 78.14%]\n",
      "Epoch  26/50: 100%|██████████| 1906/1906 [00:10<00:00, 182.06batch/s, Loss = 0.5602, AUC = 78.53%]\n",
      "Epoch  27/50: 100%|██████████| 1906/1906 [00:14<00:00, 132.16batch/s, Loss = 0.5598, AUC = 78.61%]\n",
      "Epoch  28/50: 100%|██████████| 1906/1906 [00:10<00:00, 185.09batch/s, Loss = 0.5585, AUC = 78.65%]\n",
      "Epoch  29/50: 100%|██████████| 1906/1906 [00:09<00:00, 194.16batch/s, Loss = 0.5652, AUC = 78.36%]\n",
      "Epoch  30/50: 100%|██████████| 1906/1906 [00:11<00:00, 171.75batch/s, Loss = 0.5576, AUC = 78.71%]\n",
      "Epoch  31/50: 100%|██████████| 1906/1906 [00:12<00:00, 147.10batch/s, Loss = 0.5653, AUC = 78.14%]\n",
      "Epoch  32/50: 100%|██████████| 1906/1906 [00:10<00:00, 183.88batch/s, Loss = 0.5591, AUC = 78.56%]\n",
      "Epoch  33/50: 100%|██████████| 1906/1906 [00:10<00:00, 187.97batch/s, Loss = 0.5596, AUC = 78.58%]\n",
      "Epoch  34/50: 100%|██████████| 1906/1906 [00:14<00:00, 133.81batch/s, Loss = 0.5568, AUC = 78.89%]\n",
      "Epoch  35/50: 100%|██████████| 1906/1906 [00:10<00:00, 183.53batch/s, Loss = 0.5539, AUC = 79.06%]\n",
      "Epoch  36/50: 100%|██████████| 1906/1906 [00:11<00:00, 161.41batch/s, Loss = 0.5555, AUC = 79.12%]\n",
      "Epoch  37/50: 100%|██████████| 1906/1906 [00:10<00:00, 187.16batch/s, Loss = 0.5515, AUC = 79.19%]\n",
      "Epoch  38/50: 100%|██████████| 1906/1906 [00:10<00:00, 180.23batch/s, Loss = 0.5560, AUC = 78.92%]\n",
      "Epoch  39/50: 100%|██████████| 1906/1906 [00:10<00:00, 188.82batch/s, Loss = 0.5542, AUC = 79.00%]\n",
      "Epoch  40/50: 100%|██████████| 1906/1906 [00:10<00:00, 183.19batch/s, Loss = 0.5529, AUC = 79.15%]\n",
      "Epoch  41/50: 100%|██████████| 1906/1906 [00:13<00:00, 145.61batch/s, Loss = 0.5525, AUC = 79.24%]\n",
      "Epoch  42/50: 100%|██████████| 1906/1906 [00:15<00:00, 126.87batch/s, Loss = 0.5535, AUC = 79.09%]\n",
      "Epoch  43/50: 100%|██████████| 1906/1906 [00:12<00:00, 155.09batch/s, Loss = 0.5536, AUC = 79.14%]\n",
      "Epoch  44/50: 100%|██████████| 1906/1906 [00:32<00:00, 58.04batch/s, Loss = 0.5562, AUC = 79.04%] \n",
      "Epoch  45/50: 100%|██████████| 1906/1906 [00:11<00:00, 168.40batch/s, Loss = 0.5575, AUC = 78.68%]\n",
      "Epoch  46/50: 100%|██████████| 1906/1906 [00:13<00:00, 139.00batch/s, Loss = 0.5505, AUC = 79.36%]\n",
      "Epoch  47/50: 100%|██████████| 1906/1906 [00:09<00:00, 194.40batch/s, Loss = 0.5517, AUC = 79.20%]\n",
      "Epoch  48/50: 100%|██████████| 1906/1906 [00:10<00:00, 188.83batch/s, Loss = 0.5534, AUC = 79.17%]\n",
      "Epoch  49/50: 100%|██████████| 1906/1906 [00:10<00:00, 178.50batch/s, Loss = 0.5535, AUC = 79.19%]\n",
      "Epoch  50/50: 100%|██████████| 1906/1906 [00:10<00:00, 183.47batch/s, Loss = 0.5547, AUC = 79.26%]"
     ]
    },
    {
     "name": "stdout",
     "output_type": "stream",
     "text": [
      "TOTAL TIME = 588.71s\n",
      "BEST AUC = 79.36% AT EPOCH 46\n"
     ]
    },
    {
     "name": "stderr",
     "output_type": "stream",
     "text": [
      "\n"
     ]
    }
   ],
   "source": [
    "model = VisionTransformer(num_classes=2, patch_size=8, hidden_size=64, num_heads=2, num_transformer_blocks=4, mlp_hidden_size=32, channels_last=True)\n",
    "train_and_evaluate(model, ep_train_dataloader, ep_valid_dataloader, num_classes=2, num_epochs=50)"
   ]
  },
  {
   "cell_type": "code",
   "execution_count": 5,
   "metadata": {
    "execution": {
     "iopub.execute_input": "2023-08-26T19:41:50.810303Z",
     "iopub.status.busy": "2023-08-26T19:41:50.810014Z",
     "iopub.status.idle": "2023-08-26T19:50:23.140862Z",
     "shell.execute_reply": "2023-08-26T19:50:23.140334Z"
    }
   },
   "outputs": [
    {
     "name": "stderr",
     "output_type": "stream",
     "text": [
      "Epoch   1/50: 100%|██████████| 1906/1906 [00:15<00:00, 125.76batch/s, Loss = 0.6701, AUC = 61.92%]\n",
      "Epoch   2/50: 100%|██████████| 1906/1906 [00:10<00:00, 188.60batch/s, Loss = 0.6624, AUC = 63.54%]\n",
      "Epoch   3/50: 100%|██████████| 1906/1906 [00:09<00:00, 201.89batch/s, Loss = 0.6540, AUC = 65.41%]\n",
      "Epoch   4/50: 100%|██████████| 1906/1906 [00:09<00:00, 204.59batch/s, Loss = 0.6413, AUC = 67.77%]\n",
      "Epoch   5/50: 100%|██████████| 1906/1906 [00:10<00:00, 185.99batch/s, Loss = 0.6311, AUC = 69.79%]\n",
      "Epoch   6/50: 100%|██████████| 1906/1906 [00:09<00:00, 198.94batch/s, Loss = 0.6196, AUC = 71.32%]\n",
      "Epoch   7/50: 100%|██████████| 1906/1906 [00:09<00:00, 199.22batch/s, Loss = 0.6129, AUC = 72.47%]\n",
      "Epoch   8/50: 100%|██████████| 1906/1906 [00:09<00:00, 195.36batch/s, Loss = 0.6090, AUC = 72.85%]\n",
      "Epoch   9/50: 100%|██████████| 1906/1906 [00:09<00:00, 202.99batch/s, Loss = 0.6054, AUC = 73.60%]\n",
      "Epoch  10/50: 100%|██████████| 1906/1906 [00:15<00:00, 123.14batch/s, Loss = 0.5997, AUC = 74.17%]\n",
      "Epoch  11/50: 100%|██████████| 1906/1906 [00:09<00:00, 191.95batch/s, Loss = 0.5971, AUC = 74.43%]\n",
      "Epoch  12/50: 100%|██████████| 1906/1906 [00:09<00:00, 195.78batch/s, Loss = 0.5937, AUC = 74.73%]\n",
      "Epoch  13/50: 100%|██████████| 1906/1906 [00:09<00:00, 199.76batch/s, Loss = 0.5908, AUC = 75.20%]\n",
      "Epoch  14/50: 100%|██████████| 1906/1906 [00:09<00:00, 193.87batch/s, Loss = 0.5901, AUC = 75.27%]\n",
      "Epoch  15/50: 100%|██████████| 1906/1906 [00:09<00:00, 192.01batch/s, Loss = 0.5903, AUC = 75.27%]\n",
      "Epoch  16/50: 100%|██████████| 1906/1906 [00:09<00:00, 204.75batch/s, Loss = 0.5894, AUC = 75.44%]\n",
      "Epoch  17/50: 100%|██████████| 1906/1906 [00:10<00:00, 188.53batch/s, Loss = 0.5889, AUC = 75.45%]\n",
      "Epoch  18/50: 100%|██████████| 1906/1906 [00:10<00:00, 188.74batch/s, Loss = 0.5889, AUC = 75.50%]\n",
      "Epoch  19/50: 100%|██████████| 1906/1906 [00:09<00:00, 207.04batch/s, Loss = 0.5868, AUC = 75.64%]\n",
      "Epoch  20/50: 100%|██████████| 1906/1906 [00:10<00:00, 187.14batch/s, Loss = 0.5858, AUC = 75.69%]\n",
      "Epoch  21/50: 100%|██████████| 1906/1906 [00:09<00:00, 194.85batch/s, Loss = 0.5880, AUC = 75.60%]\n",
      "Epoch  22/50: 100%|██████████| 1906/1906 [00:09<00:00, 199.49batch/s, Loss = 0.5851, AUC = 75.85%]\n",
      "Epoch  23/50: 100%|██████████| 1906/1906 [00:09<00:00, 202.92batch/s, Loss = 0.5889, AUC = 75.55%]\n",
      "Epoch  24/50: 100%|██████████| 1906/1906 [00:09<00:00, 195.41batch/s, Loss = 0.5865, AUC = 75.84%]\n",
      "Epoch  25/50: 100%|██████████| 1906/1906 [00:11<00:00, 169.87batch/s, Loss = 0.5849, AUC = 75.89%]\n",
      "Epoch  26/50: 100%|██████████| 1906/1906 [00:09<00:00, 202.04batch/s, Loss = 0.5844, AUC = 76.04%]\n",
      "Epoch  27/50: 100%|██████████| 1906/1906 [00:09<00:00, 197.85batch/s, Loss = 0.5834, AUC = 75.98%]\n",
      "Epoch  28/50: 100%|██████████| 1906/1906 [00:09<00:00, 191.69batch/s, Loss = 0.5843, AUC = 75.95%]\n",
      "Epoch  29/50: 100%|██████████| 1906/1906 [00:09<00:00, 198.30batch/s, Loss = 0.5827, AUC = 76.21%]\n",
      "Epoch  30/50: 100%|██████████| 1906/1906 [00:13<00:00, 142.73batch/s, Loss = 0.5856, AUC = 75.99%]\n",
      "Epoch  31/50: 100%|██████████| 1906/1906 [00:09<00:00, 191.69batch/s, Loss = 0.5807, AUC = 76.29%]\n",
      "Epoch  32/50: 100%|██████████| 1906/1906 [00:12<00:00, 151.98batch/s, Loss = 0.5815, AUC = 76.21%]\n",
      "Epoch  33/50: 100%|██████████| 1906/1906 [00:10<00:00, 181.80batch/s, Loss = 0.5838, AUC = 76.11%]\n",
      "Epoch  34/50: 100%|██████████| 1906/1906 [00:10<00:00, 186.62batch/s, Loss = 0.5797, AUC = 76.35%]\n",
      "Epoch  35/50: 100%|██████████| 1906/1906 [00:09<00:00, 192.00batch/s, Loss = 0.5824, AUC = 76.12%]\n",
      "Epoch  36/50: 100%|██████████| 1906/1906 [00:09<00:00, 194.58batch/s, Loss = 0.5795, AUC = 76.45%]\n",
      "Epoch  37/50: 100%|██████████| 1906/1906 [00:09<00:00, 193.43batch/s, Loss = 0.5810, AUC = 76.29%]\n",
      "Epoch  38/50: 100%|██████████| 1906/1906 [00:09<00:00, 191.94batch/s, Loss = 0.5802, AUC = 76.48%]\n",
      "Epoch  39/50: 100%|██████████| 1906/1906 [00:09<00:00, 207.30batch/s, Loss = 0.5792, AUC = 76.38%]\n",
      "Epoch  40/50: 100%|██████████| 1906/1906 [00:09<00:00, 193.59batch/s, Loss = 0.5833, AUC = 76.15%]\n",
      "Epoch  41/50: 100%|██████████| 1906/1906 [00:09<00:00, 200.95batch/s, Loss = 0.5819, AUC = 76.20%]\n",
      "Epoch  42/50: 100%|██████████| 1906/1906 [00:09<00:00, 206.68batch/s, Loss = 0.5847, AUC = 76.04%]\n",
      "Epoch  43/50: 100%|██████████| 1906/1906 [00:09<00:00, 199.99batch/s, Loss = 0.5802, AUC = 76.36%]\n",
      "Epoch  44/50: 100%|██████████| 1906/1906 [00:09<00:00, 192.64batch/s, Loss = 0.5809, AUC = 76.35%]\n",
      "Epoch  45/50: 100%|██████████| 1906/1906 [00:10<00:00, 189.38batch/s, Loss = 0.5787, AUC = 76.49%]\n",
      "Epoch  46/50: 100%|██████████| 1906/1906 [00:09<00:00, 203.29batch/s, Loss = 0.5808, AUC = 76.38%]\n",
      "Epoch  47/50: 100%|██████████| 1906/1906 [00:10<00:00, 187.53batch/s, Loss = 0.5808, AUC = 76.40%]\n",
      "Epoch  48/50: 100%|██████████| 1906/1906 [00:09<00:00, 197.00batch/s, Loss = 0.5798, AUC = 76.43%]\n",
      "Epoch  49/50: 100%|██████████| 1906/1906 [00:09<00:00, 204.79batch/s, Loss = 0.5793, AUC = 76.61%]\n",
      "Epoch  50/50: 100%|██████████| 1906/1906 [00:09<00:00, 200.56batch/s, Loss = 0.5817, AUC = 76.34%]"
     ]
    },
    {
     "name": "stdout",
     "output_type": "stream",
     "text": [
      "TOTAL TIME = 505.61s\n",
      "BEST AUC = 76.61% AT EPOCH 49\n"
     ]
    },
    {
     "name": "stderr",
     "output_type": "stream",
     "text": [
      "\n"
     ]
    }
   ],
   "source": [
    "model = VisionTransformer(num_classes=2, patch_size=8, hidden_size=8, num_heads=2, num_transformer_blocks=4, mlp_hidden_size=4, channels_last=True)\n",
    "train_and_evaluate(model, ep_train_dataloader, ep_valid_dataloader, num_classes=2, num_epochs=50)"
   ]
  }
 ],
 "metadata": {
  "kernelspec": {
   "display_name": "gsoc",
   "language": "python",
   "name": "gsoc"
  },
  "language_info": {
   "codemirror_mode": {
    "name": "ipython",
    "version": 3
   },
   "file_extension": ".py",
   "mimetype": "text/x-python",
   "name": "python",
   "nbconvert_exporter": "python",
   "pygments_lexer": "ipython3",
   "version": "3.11.4"
  }
 },
 "nbformat": 4,
 "nbformat_minor": 2
}
