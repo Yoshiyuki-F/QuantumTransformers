{
 "cells": [
  {
   "cell_type": "code",
   "execution_count": 1,
   "metadata": {
    "execution": {
     "iopub.execute_input": "2023-08-26T19:31:34.717564Z",
     "iopub.status.busy": "2023-08-26T19:31:34.717352Z",
     "iopub.status.idle": "2023-08-26T19:31:46.622885Z",
     "shell.execute_reply": "2023-08-26T19:31:46.622480Z"
    }
   },
   "outputs": [
    {
     "name": "stderr",
     "output_type": "stream",
     "text": [
      "2023-08-26 12:31:35.656476: E tensorflow/compiler/xla/stream_executor/cuda/cuda_dnn.cc:9342] Unable to register cuDNN factory: Attempting to register factory for plugin cuDNN when one has already been registered\n",
      "2023-08-26 12:31:35.656504: E tensorflow/compiler/xla/stream_executor/cuda/cuda_fft.cc:609] Unable to register cuFFT factory: Attempting to register factory for plugin cuFFT when one has already been registered\n",
      "2023-08-26 12:31:35.656526: E tensorflow/compiler/xla/stream_executor/cuda/cuda_blas.cc:1518] Unable to register cuBLAS factory: Attempting to register factory for plugin cuBLAS when one has already been registered\n",
      "2023-08-26 12:31:37.297548: W tensorflow/compiler/tf2tensorrt/utils/py_utils.cc:38] TF-TRT Warning: Could not find TensorRT\n"
     ]
    },
    {
     "name": "stdout",
     "output_type": "stream",
     "text": [
      "WARNING:tensorflow:From /global/common/software/m4392/conda/gsoc/lib/python3.11/site-packages/tensorflow/python/ops/distributions/distribution.py:259: ReparameterizationType.__init__ (from tensorflow.python.ops.distributions.distribution) is deprecated and will be removed after 2019-01-01.\n",
      "Instructions for updating:\n",
      "The TensorFlow Distributions library has moved to TensorFlow Probability (https://github.com/tensorflow/probability). You should update all references to use `tfp.distributions` instead of `tf.distributions`.\n",
      "WARNING:tensorflow:From /global/common/software/m4392/conda/gsoc/lib/python3.11/site-packages/tensorflow/python/ops/distributions/bernoulli.py:165: RegisterKL.__init__ (from tensorflow.python.ops.distributions.kullback_leibler) is deprecated and will be removed after 2019-01-01.\n",
      "Instructions for updating:\n",
      "The TensorFlow Distributions library has moved to TensorFlow Probability (https://github.com/tensorflow/probability). You should update all references to use `tfp.distributions` instead of `tf.distributions`.\n"
     ]
    },
    {
     "name": "stderr",
     "output_type": "stream",
     "text": [
      "Please first ``pip install -U cirq`` to enable related functionality in translation module\n"
     ]
    }
   ],
   "source": [
    "import jax\n",
    "import tensorflow as tf\n",
    "tf.config.set_visible_devices([], device_type='GPU')  # Ensure TF does not see GPU and grab all GPU memory.\n",
    "tf.random.set_seed(42)  # For reproducibility.\n",
    "\n",
    "from quantum_transformers.utils import plot_image\n",
    "from quantum_transformers.datasets import get_quark_gluon_dataloaders\n",
    "from quantum_transformers.training import train_and_evaluate\n",
    "from quantum_transformers.transformers import VisionTransformer\n",
    "\n",
    "data_dir = '/global/cfs/cdirs/m4392/salcc/data'"
   ]
  },
  {
   "cell_type": "code",
   "execution_count": 2,
   "metadata": {
    "execution": {
     "iopub.execute_input": "2023-08-26T19:31:46.625197Z",
     "iopub.status.busy": "2023-08-26T19:31:46.624839Z",
     "iopub.status.idle": "2023-08-26T19:31:47.117255Z",
     "shell.execute_reply": "2023-08-26T19:31:47.116804Z"
    }
   },
   "outputs": [
    {
     "name": "stdout",
     "output_type": "stream",
     "text": [
      "gpu:0 NVIDIA A100-SXM4-40GB\n"
     ]
    }
   ],
   "source": [
    "for d in jax.devices():\n",
    "    print(d, d.device_kind)"
   ]
  },
  {
   "cell_type": "code",
   "execution_count": 3,
   "metadata": {
    "execution": {
     "iopub.execute_input": "2023-08-26T19:31:47.118966Z",
     "iopub.status.busy": "2023-08-26T19:31:47.118818Z",
     "iopub.status.idle": "2023-08-26T19:31:53.692361Z",
     "shell.execute_reply": "2023-08-26T19:31:53.691920Z"
    }
   },
   "outputs": [
    {
     "name": "stdout",
     "output_type": "stream",
     "text": [
      "(125, 125, 3)\n"
     ]
    },
    {
     "data": {
      "image/png": "[encoded data removed]",
      "text/plain": [
       "<Figure size 900x300 with 3 Axes>"
      ]
     },
     "metadata": {},
     "output_type": "display_data"
    }
   ],
   "source": [
    "qg_train_dataloader, qg_valid_dataloader = get_quark_gluon_dataloaders(batch_size=256, data_dir=data_dir)\n",
    "first_image = next(iter(qg_train_dataloader))[0][0]\n",
    "print(first_image.shape)\n",
    "plot_image(first_image, abs_log=True)"
   ]
  },
  {
   "cell_type": "code",
   "execution_count": 4,
   "metadata": {
    "execution": {
     "iopub.execute_input": "2023-08-26T19:31:53.694011Z",
     "iopub.status.busy": "2023-08-26T19:31:53.693837Z",
     "iopub.status.idle": "2023-08-26T19:45:44.659369Z",
     "shell.execute_reply": "2023-08-26T19:45:44.658953Z"
    }
   },
   "outputs": [
    {
     "name": "stderr",
     "output_type": "stream",
     "text": [
      "Epoch   1/50: 100%|██████████| 544/544 [00:26<00:00, 20.61batch/s, Loss = 0.6638, AUC = 64.30%]\n",
      "Epoch   2/50: 100%|██████████| 544/544 [00:13<00:00, 41.03batch/s, Loss = 0.6240, AUC = 71.35%]\n",
      "Epoch   3/50: 100%|██████████| 544/544 [00:16<00:00, 32.58batch/s, Loss = 0.6102, AUC = 72.89%]\n",
      "Epoch   4/50: 100%|██████████| 544/544 [00:16<00:00, 32.01batch/s, Loss = 0.6071, AUC = 73.33%]\n",
      "Epoch   5/50: 100%|██████████| 544/544 [00:15<00:00, 34.82batch/s, Loss = 0.6032, AUC = 74.00%]\n",
      "Epoch   6/50: 100%|██████████| 544/544 [00:14<00:00, 37.42batch/s, Loss = 0.5983, AUC = 74.44%]\n",
      "Epoch   7/50: 100%|██████████| 544/544 [00:14<00:00, 38.05batch/s, Loss = 0.5974, AUC = 75.17%]\n",
      "Epoch   8/50: 100%|██████████| 544/544 [00:14<00:00, 37.21batch/s, Loss = 0.5991, AUC = 75.57%]\n",
      "Epoch   9/50: 100%|██████████| 544/544 [00:14<00:00, 38.16batch/s, Loss = 0.5940, AUC = 75.71%]\n",
      "Epoch  10/50: 100%|██████████| 544/544 [00:15<00:00, 35.71batch/s, Loss = 0.5833, AUC = 76.15%]\n",
      "Epoch  11/50: 100%|██████████| 544/544 [00:17<00:00, 31.80batch/s, Loss = 0.5833, AUC = 76.25%]\n",
      "Epoch  12/50: 100%|██████████| 544/544 [00:14<00:00, 37.84batch/s, Loss = 0.5803, AUC = 76.47%]\n",
      "Epoch  13/50: 100%|██████████| 544/544 [00:14<00:00, 38.15batch/s, Loss = 0.5818, AUC = 76.90%]\n",
      "Epoch  14/50: 100%|██████████| 544/544 [00:14<00:00, 37.02batch/s, Loss = 0.5750, AUC = 77.03%]\n",
      "Epoch  15/50: 100%|██████████| 544/544 [00:19<00:00, 27.66batch/s, Loss = 0.5795, AUC = 77.00%]\n",
      "Epoch  16/50: 100%|██████████| 544/544 [00:17<00:00, 31.83batch/s, Loss = 0.5780, AUC = 77.30%]\n",
      "Epoch  17/50: 100%|██████████| 544/544 [00:14<00:00, 38.34batch/s, Loss = 0.5725, AUC = 77.49%]\n",
      "Epoch  18/50: 100%|██████████| 544/544 [00:14<00:00, 38.09batch/s, Loss = 0.5735, AUC = 77.76%]\n",
      "Epoch  19/50: 100%|██████████| 544/544 [00:21<00:00, 24.83batch/s, Loss = 0.5706, AUC = 77.69%]\n",
      "Epoch  20/50: 100%|██████████| 544/544 [00:14<00:00, 37.21batch/s, Loss = 0.5684, AUC = 77.79%]\n",
      "Epoch  21/50: 100%|██████████| 544/544 [00:14<00:00, 36.36batch/s, Loss = 0.5717, AUC = 77.67%]\n",
      "Epoch  22/50: 100%|██████████| 544/544 [00:14<00:00, 37.51batch/s, Loss = 0.5674, AUC = 77.99%]\n",
      "Epoch  23/50: 100%|██████████| 544/544 [00:14<00:00, 38.09batch/s, Loss = 0.5674, AUC = 77.93%]\n",
      "Epoch  24/50: 100%|██████████| 544/544 [00:19<00:00, 28.46batch/s, Loss = 0.5680, AUC = 78.21%]\n",
      "Epoch  25/50: 100%|██████████| 544/544 [00:17<00:00, 30.83batch/s, Loss = 0.5693, AUC = 78.30%]\n",
      "Epoch  26/50: 100%|██████████| 544/544 [00:14<00:00, 38.32batch/s, Loss = 0.5789, AUC = 78.42%]\n",
      "Epoch  27/50: 100%|██████████| 544/544 [00:14<00:00, 37.25batch/s, Loss = 0.5649, AUC = 78.38%]\n",
      "Epoch  28/50: 100%|██████████| 544/544 [00:14<00:00, 37.77batch/s, Loss = 0.5676, AUC = 78.47%]\n",
      "Epoch  29/50: 100%|██████████| 544/544 [00:19<00:00, 28.31batch/s, Loss = 0.5595, AUC = 78.63%]\n",
      "Epoch  30/50: 100%|██████████| 544/544 [00:17<00:00, 30.63batch/s, Loss = 0.5619, AUC = 78.41%]\n",
      "Epoch  31/50: 100%|██████████| 544/544 [00:53<00:00, 10.26batch/s, Loss = 0.5606, AUC = 78.72%]\n",
      "Epoch  32/50: 100%|██████████| 544/544 [00:17<00:00, 31.95batch/s, Loss = 0.5638, AUC = 78.83%]\n",
      "Epoch  33/50: 100%|██████████| 544/544 [00:14<00:00, 37.22batch/s, Loss = 0.5599, AUC = 78.95%]\n",
      "Epoch  34/50: 100%|██████████| 544/544 [00:14<00:00, 37.45batch/s, Loss = 0.5634, AUC = 79.08%]\n",
      "Epoch  35/50: 100%|██████████| 544/544 [00:14<00:00, 37.93batch/s, Loss = 0.5572, AUC = 79.02%]\n",
      "Epoch  36/50: 100%|██████████| 544/544 [00:13<00:00, 39.17batch/s, Loss = 0.5656, AUC = 79.24%]\n",
      "Epoch  37/50: 100%|██████████| 544/544 [00:14<00:00, 37.11batch/s, Loss = 0.5642, AUC = 79.23%]\n",
      "Epoch  38/50: 100%|██████████| 544/544 [00:14<00:00, 37.72batch/s, Loss = 0.5531, AUC = 79.26%]\n",
      "Epoch  39/50: 100%|██████████| 544/544 [00:14<00:00, 36.35batch/s, Loss = 0.5614, AUC = 79.36%]\n",
      "Epoch  40/50: 100%|██████████| 544/544 [00:14<00:00, 38.49batch/s, Loss = 0.5561, AUC = 79.40%]\n",
      "Epoch  41/50: 100%|██████████| 544/544 [00:19<00:00, 28.62batch/s, Loss = 0.5518, AUC = 79.46%]\n",
      "Epoch  42/50: 100%|██████████| 544/544 [00:15<00:00, 35.15batch/s, Loss = 0.5487, AUC = 79.65%]\n",
      "Epoch  43/50: 100%|██████████| 544/544 [00:14<00:00, 38.52batch/s, Loss = 0.5502, AUC = 79.49%]\n",
      "Epoch  44/50: 100%|██████████| 544/544 [00:14<00:00, 38.03batch/s, Loss = 0.5493, AUC = 79.56%]\n",
      "Epoch  45/50: 100%|██████████| 544/544 [00:14<00:00, 37.25batch/s, Loss = 0.5578, AUC = 79.65%]\n",
      "Epoch  46/50: 100%|██████████| 544/544 [00:14<00:00, 37.10batch/s, Loss = 0.5523, AUC = 79.51%]\n",
      "Epoch  47/50: 100%|██████████| 544/544 [00:13<00:00, 40.06batch/s, Loss = 0.5452, AUC = 79.98%]\n",
      "Epoch  48/50: 100%|██████████| 544/544 [00:14<00:00, 37.73batch/s, Loss = 0.5446, AUC = 80.06%]\n",
      "Epoch  49/50: 100%|██████████| 544/544 [00:14<00:00, 37.90batch/s, Loss = 0.5600, AUC = 79.89%]\n",
      "Epoch  50/50: 100%|██████████| 544/544 [00:13<00:00, 40.46batch/s, Loss = 0.5587, AUC = 79.85%]"
     ]
    },
    {
     "name": "stdout",
     "output_type": "stream",
     "text": [
      "TOTAL TIME = 818.41s\n",
      "BEST AUC = 80.06% AT EPOCH 48\n"
     ]
    },
    {
     "name": "stderr",
     "output_type": "stream",
     "text": [
      "\n"
     ]
    }
   ],
   "source": [
    "model = VisionTransformer(num_classes=2, patch_size=10, hidden_size=64, num_heads=2, num_transformer_blocks=4, mlp_hidden_size=32, channels_last=True)\n",
    "train_and_evaluate(model, qg_train_dataloader, qg_valid_dataloader, num_classes=2, num_epochs=50)"
   ]
  },
  {
   "cell_type": "code",
   "execution_count": 5,
   "metadata": {
    "execution": {
     "iopub.execute_input": "2023-08-26T19:45:44.661698Z",
     "iopub.status.busy": "2023-08-26T19:45:44.661552Z",
     "iopub.status.idle": "2023-08-26T19:59:07.014742Z",
     "shell.execute_reply": "2023-08-26T19:59:07.014254Z"
    }
   },
   "outputs": [
    {
     "name": "stderr",
     "output_type": "stream",
     "text": [
      "Epoch   1/50: 100%|██████████| 544/544 [00:19<00:00, 28.43batch/s, Loss = 0.6932, AUC = 58.32%]\n",
      "Epoch   2/50: 100%|██████████| 544/544 [00:12<00:00, 42.73batch/s, Loss = 0.6931, AUC = 61.07%] \n",
      "Epoch   3/50: 100%|██████████| 544/544 [00:12<00:00, 42.77batch/s, Loss = 0.6928, AUC = 61.51%] \n",
      "Epoch   4/50: 100%|██████████| 544/544 [00:18<00:00, 29.82batch/s, Loss = 0.6612, AUC = 62.85%]\n",
      "Epoch   5/50: 100%|██████████| 544/544 [00:14<00:00, 37.95batch/s, Loss = 0.6571, AUC = 65.20%]\n",
      "Epoch   6/50: 100%|██████████| 544/544 [00:17<00:00, 31.26batch/s, Loss = 0.6507, AUC = 66.44%] \n",
      "Epoch   7/50: 100%|██████████| 544/544 [00:15<00:00, 35.90batch/s, Loss = 0.6473, AUC = 67.70%]\n",
      "Epoch   8/50: 100%|██████████| 544/544 [00:15<00:00, 34.74batch/s, Loss = 0.6407, AUC = 68.94%]\n",
      "Epoch   9/50: 100%|██████████| 544/544 [00:13<00:00, 39.57batch/s, Loss = 0.6377, AUC = 69.48%]\n",
      "Epoch  10/50: 100%|██████████| 544/544 [00:13<00:00, 38.93batch/s, Loss = 0.6345, AUC = 70.01%]\n",
      "Epoch  11/50: 100%|██████████| 544/544 [00:14<00:00, 37.56batch/s, Loss = 0.6316, AUC = 70.32%]\n",
      "Epoch  12/50: 100%|██████████| 544/544 [00:12<00:00, 42.94batch/s, Loss = 0.6303, AUC = 70.72%] \n",
      "Epoch  13/50: 100%|██████████| 544/544 [00:14<00:00, 37.48batch/s, Loss = 0.6265, AUC = 71.03%]\n",
      "Epoch  14/50: 100%|██████████| 544/544 [00:14<00:00, 38.35batch/s, Loss = 0.6244, AUC = 71.38%]\n",
      "Epoch  15/50: 100%|██████████| 544/544 [00:12<00:00, 42.18batch/s, Loss = 0.6243, AUC = 71.63%] \n",
      "Epoch  16/50: 100%|██████████| 544/544 [00:14<00:00, 38.46batch/s, Loss = 0.6227, AUC = 71.78%]\n",
      "Epoch  17/50: 100%|██████████| 544/544 [00:14<00:00, 37.75batch/s, Loss = 0.6215, AUC = 72.00%]\n",
      "Epoch  18/50: 100%|██████████| 544/544 [00:14<00:00, 37.77batch/s, Loss = 0.6203, AUC = 72.20%]\n",
      "Epoch  19/50: 100%|██████████| 544/544 [00:13<00:00, 40.09batch/s, Loss = 0.6214, AUC = 72.33%] \n",
      "Epoch  20/50: 100%|██████████| 544/544 [00:14<00:00, 38.72batch/s, Loss = 0.6177, AUC = 72.48%]\n",
      "Epoch  21/50: 100%|██████████| 544/544 [00:24<00:00, 21.91batch/s, Loss = 0.6155, AUC = 72.59%]\n",
      "Epoch  22/50: 100%|██████████| 544/544 [00:14<00:00, 38.26batch/s, Loss = 0.6152, AUC = 72.70%]\n",
      "Epoch  23/50: 100%|██████████| 544/544 [00:13<00:00, 40.82batch/s, Loss = 0.6152, AUC = 72.69%] \n",
      "Epoch  24/50: 100%|██████████| 544/544 [00:14<00:00, 37.05batch/s, Loss = 0.6135, AUC = 72.81%]\n",
      "Epoch  25/50: 100%|██████████| 544/544 [00:14<00:00, 37.65batch/s, Loss = 0.6132, AUC = 72.97%]\n",
      "Epoch  26/50: 100%|██████████| 544/544 [00:12<00:00, 42.11batch/s, Loss = 0.6108, AUC = 73.07%] \n",
      "Epoch  27/50: 100%|██████████| 544/544 [00:12<00:00, 41.99batch/s, Loss = 0.6136, AUC = 73.13%]\n",
      "Epoch  28/50: 100%|██████████| 544/544 [00:18<00:00, 29.59batch/s, Loss = 0.6117, AUC = 73.22%]\n",
      "Epoch  29/50: 100%|██████████| 544/544 [00:17<00:00, 31.86batch/s, Loss = 0.6101, AUC = 73.30%]\n",
      "Epoch  30/50: 100%|██████████| 544/544 [00:16<00:00, 33.52batch/s, Loss = 0.6077, AUC = 73.41%] \n",
      "Epoch  31/50: 100%|██████████| 544/544 [00:18<00:00, 29.29batch/s, Loss = 0.6082, AUC = 73.43%]\n",
      "Epoch  32/50: 100%|██████████| 544/544 [00:16<00:00, 32.19batch/s, Loss = 0.6073, AUC = 73.53%]\n",
      "Epoch  33/50: 100%|██████████| 544/544 [00:14<00:00, 36.80batch/s, Loss = 0.6058, AUC = 73.63%]\n",
      "Epoch  34/50: 100%|██████████| 544/544 [00:17<00:00, 30.45batch/s, Loss = 0.6049, AUC = 73.81%] \n",
      "Epoch  35/50: 100%|██████████| 544/544 [00:14<00:00, 38.12batch/s, Loss = 0.6076, AUC = 73.87%]\n",
      "Epoch  36/50: 100%|██████████| 544/544 [00:21<00:00, 25.67batch/s, Loss = 0.6043, AUC = 73.93%]\n",
      "Epoch  37/50: 100%|██████████| 544/544 [00:14<00:00, 36.49batch/s, Loss = 0.6049, AUC = 73.99%] \n",
      "Epoch  38/50: 100%|██████████| 544/544 [00:15<00:00, 35.00batch/s, Loss = 0.6032, AUC = 74.03%]\n",
      "Epoch  39/50: 100%|██████████| 544/544 [00:13<00:00, 39.08batch/s, Loss = 0.6031, AUC = 74.02%] \n",
      "Epoch  40/50: 100%|██████████| 544/544 [00:16<00:00, 33.83batch/s, Loss = 0.6036, AUC = 74.12%]\n",
      "Epoch  41/50: 100%|██████████| 544/544 [00:18<00:00, 30.16batch/s, Loss = 0.6010, AUC = 74.15%] \n",
      "Epoch  42/50: 100%|██████████| 544/544 [00:21<00:00, 25.53batch/s, Loss = 0.6002, AUC = 74.28%]\n",
      "Epoch  43/50: 100%|██████████| 544/544 [00:19<00:00, 27.68batch/s, Loss = 0.6000, AUC = 74.32%]\n",
      "Epoch  44/50: 100%|██████████| 544/544 [00:12<00:00, 42.82batch/s, Loss = 0.5992, AUC = 74.39%] \n",
      "Epoch  45/50: 100%|██████████| 544/544 [00:20<00:00, 26.46batch/s, Loss = 0.6000, AUC = 74.33%]\n",
      "Epoch  46/50: 100%|██████████| 544/544 [00:22<00:00, 24.56batch/s, Loss = 0.5996, AUC = 74.39%]\n",
      "Epoch  47/50: 100%|██████████| 544/544 [00:14<00:00, 38.58batch/s, Loss = 0.6001, AUC = 74.35%]\n",
      "Epoch  48/50: 100%|██████████| 544/544 [00:22<00:00, 24.63batch/s, Loss = 0.5998, AUC = 74.43%]\n",
      "Epoch  49/50: 100%|██████████| 544/544 [00:12<00:00, 43.87batch/s, Loss = 0.6000, AUC = 74.52%] \n",
      "Epoch  50/50: 100%|██████████| 544/544 [00:14<00:00, 37.90batch/s, Loss = 0.5980, AUC = 74.56%]"
     ]
    },
    {
     "name": "stdout",
     "output_type": "stream",
     "text": [
      "TOTAL TIME = 792.95s\n",
      "BEST AUC = 74.56% AT EPOCH 50\n"
     ]
    },
    {
     "name": "stderr",
     "output_type": "stream",
     "text": [
      "\n"
     ]
    }
   ],
   "source": [
    "model = VisionTransformer(num_classes=2, patch_size=10, hidden_size=8, num_heads=2, num_transformer_blocks=4, mlp_hidden_size=4, channels_last=True)\n",
    "train_and_evaluate(model, qg_train_dataloader, qg_valid_dataloader, num_classes=2, num_epochs=50)"
   ]
  }
 ],
 "metadata": {
  "kernelspec": {
   "display_name": "gsoc",
   "language": "python",
   "name": "gsoc"
  },
  "language_info": {
   "codemirror_mode": {
    "name": "ipython",
    "version": 3
   },
   "file_extension": ".py",
   "mimetype": "text/x-python",
   "name": "python",
   "nbconvert_exporter": "python",
   "pygments_lexer": "ipython3",
   "version": "3.11.4"
  }
 },
 "nbformat": 4,
 "nbformat_minor": 2
}
