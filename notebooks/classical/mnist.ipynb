{
 "cells": [
  {
   "cell_type": "code",
   "execution_count": 1,
   "metadata": {
    "execution": {
     "iopub.execute_input": "2023-07-23T16:10:41.783863Z",
     "iopub.status.busy": "2023-07-23T16:10:41.783621Z",
     "iopub.status.idle": "2023-07-23T16:10:44.543566Z",
     "shell.execute_reply": "2023-07-23T16:10:44.543165Z"
    }
   },
   "outputs": [],
   "source": [
    "from quantum_transformers.utils import plot_image\n",
    "from quantum_transformers.data import get_mnist_dataloaders\n",
    "from quantum_transformers.training import train\n",
    "from quantum_transformers.transformers import ClassicalVisionTransformer\n",
    "\n",
    "import torch"
   ]
  },
  {
   "cell_type": "code",
   "execution_count": 2,
   "metadata": {
    "execution": {
     "iopub.execute_input": "2023-07-23T16:10:44.545683Z",
     "iopub.status.busy": "2023-07-23T16:10:44.545416Z",
     "iopub.status.idle": "2023-07-23T16:10:44.735936Z",
     "shell.execute_reply": "2023-07-23T16:10:44.735563Z"
    }
   },
   "outputs": [
    {
     "data": {
      "text/plain": [
       "'NVIDIA A100-SXM4-40GB'"
      ]
     },
     "execution_count": 2,
     "metadata": {},
     "output_type": "execute_result"
    }
   ],
   "source": [
    "device = torch.device('cuda' if torch.cuda.is_available() else 'cpu')\n",
    "torch.cuda.get_device_name() if device.type == 'cuda' else 'cpu'"
   ]
  },
  {
   "cell_type": "code",
   "execution_count": 3,
   "metadata": {
    "execution": {
     "iopub.execute_input": "2023-07-23T16:10:44.761944Z",
     "iopub.status.busy": "2023-07-23T16:10:44.761656Z",
     "iopub.status.idle": "2023-07-23T16:10:44.993856Z",
     "shell.execute_reply": "2023-07-23T16:10:44.993496Z"
    }
   },
   "outputs": [
    {
     "data": {
      "image/png": "[encoded data removed]",
      "text/plain": [
       "<Figure size 300x300 with 1 Axes>"
      ]
     },
     "metadata": {},
     "output_type": "display_data"
    },
    {
     "name": "stdout",
     "output_type": "stream",
     "text": [
      "Image size: 28x28, Number of channels: 1\n"
     ]
    }
   ],
   "source": [
    "mnist_train_dataloader, mnist_valid_dataloader = get_mnist_dataloaders(batch_size=64)\n",
    "plot_image(next(iter(mnist_train_dataloader))[0][0].permute(1,2,0).numpy())\n",
    "img_size = mnist_train_dataloader.dataset[0][0].shape[1]\n",
    "num_channels = mnist_train_dataloader.dataset[0][0].shape[0]\n",
    "print(f\"Image size: {img_size}x{img_size}, Number of channels: {num_channels}\")"
   ]
  },
  {
   "cell_type": "code",
   "execution_count": 4,
   "metadata": {
    "execution": {
     "iopub.execute_input": "2023-07-23T16:10:44.995593Z",
     "iopub.status.busy": "2023-07-23T16:10:44.995353Z",
     "iopub.status.idle": "2023-07-23T16:18:53.293043Z",
     "shell.execute_reply": "2023-07-23T16:18:53.292574Z"
    }
   },
   "outputs": [
    {
     "name": "stdout",
     "output_type": "stream",
     "text": [
      "Epoch 1/30 (18.26s): Loss = 0.1801, AUC = 99.75%\n",
      "Epoch 2/30 (34.31s): Loss = 0.1292, AUC = 99.80%\n",
      "Epoch 3/30 (50.49s): Loss = 0.1121, AUC = 99.83%\n",
      "Epoch 4/30 (66.63s): Loss = 0.0938, AUC = 99.86%\n",
      "Epoch 5/30 (82.71s): Loss = 0.0861, AUC = 99.88%\n",
      "Epoch 6/30 (98.81s): Loss = 0.0796, AUC = 99.89%\n",
      "Epoch 7/30 (114.99s): Loss = 0.0879, AUC = 99.90%\n",
      "Epoch 8/30 (130.97s): Loss = 0.0843, AUC = 99.90%\n",
      "Epoch 9/30 (147.19s): Loss = 0.0784, AUC = 99.91%\n",
      "Epoch 10/30 (163.60s): Loss = 0.0741, AUC = 99.91%\n",
      "Epoch 11/30 (179.91s): Loss = 0.0739, AUC = 99.92%\n",
      "Epoch 12/30 (196.06s): Loss = 0.0730, AUC = 99.92%\n",
      "Epoch 13/30 (212.25s): Loss = 0.0691, AUC = 99.92%\n",
      "Epoch 14/30 (228.38s): Loss = 0.0673, AUC = 99.92%\n",
      "Epoch 15/30 (244.60s): Loss = 0.0672, AUC = 99.93%\n",
      "Epoch 16/30 (260.76s): Loss = 0.0702, AUC = 99.93%\n",
      "Epoch 17/30 (276.98s): Loss = 0.0663, AUC = 99.93%\n",
      "Epoch 18/30 (293.15s): Loss = 0.0607, AUC = 99.93%\n",
      "Epoch 19/30 (309.33s): Loss = 0.0583, AUC = 99.94%\n",
      "Epoch 20/30 (325.53s): Loss = 0.0669, AUC = 99.94%\n",
      "Epoch 21/30 (341.78s): Loss = 0.0569, AUC = 99.94%\n",
      "Epoch 22/30 (357.99s): Loss = 0.0575, AUC = 99.94%\n",
      "Epoch 23/30 (374.12s): Loss = 0.0582, AUC = 99.94%\n",
      "Epoch 24/30 (390.37s): Loss = 0.0621, AUC = 99.94%\n",
      "Epoch 25/30 (406.50s): Loss = 0.0631, AUC = 99.94%\n",
      "Epoch 26/30 (422.69s): Loss = 0.0569, AUC = 99.95%\n",
      "Epoch 27/30 (438.85s): Loss = 0.0610, AUC = 99.95%\n",
      "Epoch 28/30 (455.05s): Loss = 0.0583, AUC = 99.95%\n",
      "Epoch 29/30 (471.23s): Loss = 0.0534, AUC = 99.95%\n",
      "Epoch 30/30 (487.48s): Loss = 0.0579, AUC = 99.95%\n",
      "BEST AUC = 99.95% AT EPOCH 30\n"
     ]
    }
   ],
   "source": [
    "model = ClassicalVisionTransformer(img_size=28, num_channels=1, num_classes=10, patch_size=14, hidden_size=64, num_heads=2, num_transformer_blocks=4, mlp_hidden_size=32)\n",
    "train(model, mnist_train_dataloader, mnist_valid_dataloader, num_classes=10, learning_rate=0.0003, num_epochs=30, device=device)"
   ]
  },
  {
   "cell_type": "code",
   "execution_count": 5,
   "metadata": {
    "execution": {
     "iopub.execute_input": "2023-07-23T16:18:53.294746Z",
     "iopub.status.busy": "2023-07-23T16:18:53.294552Z",
     "iopub.status.idle": "2023-07-23T16:26:36.856638Z",
     "shell.execute_reply": "2023-07-23T16:26:36.856110Z"
    }
   },
   "outputs": [
    {
     "name": "stdout",
     "output_type": "stream",
     "text": [
      "Epoch 1/30 (16.18s): Loss = 1.3153, AUC = 92.99%\n",
      "Epoch 2/30 (32.42s): Loss = 0.9083, AUC = 94.23%\n",
      "Epoch 3/30 (48.96s): Loss = 0.7369, AUC = 95.07%\n",
      "Epoch 4/30 (65.23s): Loss = 0.6439, AUC = 95.66%\n",
      "Epoch 5/30 (81.50s): Loss = 0.5867, AUC = 96.09%\n",
      "Epoch 6/30 (97.66s): Loss = 0.5531, AUC = 96.42%\n",
      "Epoch 7/30 (113.88s): Loss = 0.5249, AUC = 96.68%\n",
      "Epoch 8/30 (130.18s): Loss = 0.5092, AUC = 96.88%\n",
      "Epoch 9/30 (146.55s): Loss = 0.4920, AUC = 97.05%\n",
      "Epoch 10/30 (163.15s): Loss = 0.4772, AUC = 97.19%\n",
      "Epoch 11/30 (179.53s): Loss = 0.4726, AUC = 97.31%\n",
      "Epoch 12/30 (195.78s): Loss = 0.4618, AUC = 97.42%\n",
      "Epoch 13/30 (212.53s): Loss = 0.4467, AUC = 97.51%\n",
      "Epoch 14/30 (228.30s): Loss = 0.4481, AUC = 97.59%\n",
      "Epoch 15/30 (243.28s): Loss = 0.4368, AUC = 97.66%\n",
      "Epoch 16/30 (257.84s): Loss = 0.4311, AUC = 97.73%\n",
      "Epoch 17/30 (272.40s): Loss = 0.4267, AUC = 97.79%\n",
      "Epoch 18/30 (286.91s): Loss = 0.4239, AUC = 97.84%\n",
      "Epoch 19/30 (301.29s): Loss = 0.4178, AUC = 97.89%\n",
      "Epoch 20/30 (315.63s): Loss = 0.4130, AUC = 97.93%\n",
      "Epoch 21/30 (330.09s): Loss = 0.4096, AUC = 97.98%\n",
      "Epoch 22/30 (344.36s): Loss = 0.4037, AUC = 98.02%\n",
      "Epoch 23/30 (358.70s): Loss = 0.4007, AUC = 98.05%\n",
      "Epoch 24/30 (373.43s): Loss = 0.3996, AUC = 98.09%\n",
      "Epoch 25/30 (388.50s): Loss = 0.3913, AUC = 98.12%\n",
      "Epoch 26/30 (403.64s): Loss = 0.3942, AUC = 98.15%\n",
      "Epoch 27/30 (418.59s): Loss = 0.3914, AUC = 98.18%\n",
      "Epoch 28/30 (433.59s): Loss = 0.3868, AUC = 98.20%\n",
      "Epoch 29/30 (448.50s): Loss = 0.3878, AUC = 98.23%\n",
      "Epoch 30/30 (463.55s): Loss = 0.3819, AUC = 98.25%\n",
      "BEST AUC = 98.25% AT EPOCH 30\n"
     ]
    }
   ],
   "source": [
    "model = ClassicalVisionTransformer(img_size=28, num_channels=1, num_classes=10, patch_size=14, hidden_size=6, num_heads=2, num_transformer_blocks=4, mlp_hidden_size=3)\n",
    "train(model, mnist_train_dataloader, mnist_valid_dataloader, num_classes=10, learning_rate=0.0003, num_epochs=30, device=device)"
   ]
  }
 ],
 "metadata": {
  "kernelspec": {
   "display_name": "quantum-transformers",
   "language": "python",
   "name": "python3"
  },
  "language_info": {
   "codemirror_mode": {
    "name": "ipython",
    "version": 3
   },
   "file_extension": ".py",
   "mimetype": "text/x-python",
   "name": "python",
   "nbconvert_exporter": "python",
   "pygments_lexer": "ipython3",
   "version": "3.11.4"
  }
 },
 "nbformat": 4,
 "nbformat_minor": 2
}
