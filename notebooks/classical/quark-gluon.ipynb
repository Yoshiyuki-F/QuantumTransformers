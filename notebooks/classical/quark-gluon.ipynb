{
 "cells": [
  {
   "cell_type": "code",
   "execution_count": 1,
   "metadata": {
    "execution": {
     "iopub.execute_input": "2023-07-18T09:32:32.287845Z",
     "iopub.status.busy": "2023-07-18T09:32:32.287604Z",
     "iopub.status.idle": "2023-07-18T09:32:35.810950Z",
     "shell.execute_reply": "2023-07-18T09:32:35.810436Z"
    }
   },
   "outputs": [],
   "source": [
    "from quantum_transformers.utils import plot_image\n",
    "from quantum_transformers.data import get_quark_gluon_dataloaders\n",
    "from quantum_transformers.training import train\n",
    "from quantum_transformers.transformers import ClassicalVisionTransformer\n",
    "\n",
    "import torch"
   ]
  },
  {
   "cell_type": "code",
   "execution_count": 2,
   "metadata": {
    "execution": {
     "iopub.execute_input": "2023-07-18T09:32:35.813196Z",
     "iopub.status.busy": "2023-07-18T09:32:35.812870Z",
     "iopub.status.idle": "2023-07-18T09:32:36.048487Z",
     "shell.execute_reply": "2023-07-18T09:32:36.048026Z"
    }
   },
   "outputs": [
    {
     "data": {
      "text/plain": [
       "'NVIDIA A100-SXM4-40GB'"
      ]
     },
     "execution_count": 2,
     "metadata": {},
     "output_type": "execute_result"
    }
   ],
   "source": [
    "device = torch.device('cuda' if torch.cuda.is_available() else 'cpu')\n",
    "torch.cuda.get_device_name() if device.type == 'cuda' else 'cpu'"
   ]
  },
  {
   "cell_type": "code",
   "execution_count": 3,
   "metadata": {
    "execution": {
     "iopub.execute_input": "2023-07-18T09:32:36.073709Z",
     "iopub.status.busy": "2023-07-18T09:32:36.073567Z",
     "iopub.status.idle": "2023-07-18T09:33:51.350542Z",
     "shell.execute_reply": "2023-07-18T09:33:51.350113Z"
    }
   },
   "outputs": [
    {
     "name": "stdout",
     "output_type": "stream",
     "text": [
      "/global/homes/s/salcc/data/quark-gluon already exists, skipping download\n"
     ]
    },
    {
     "data": {
      "image/png": "[encoded data removed]",
      "text/plain": [
       "<Figure size 900x300 with 3 Axes>"
      ]
     },
     "metadata": {},
     "output_type": "display_data"
    },
    {
     "name": "stdout",
     "output_type": "stream",
     "text": [
      "Image size: 125x125, Number of channels: 3\n"
     ]
    }
   ],
   "source": [
    "qgt_train_dataloader, qgt_valid_dataloader = get_quark_gluon_dataloaders(batch_size=64)\n",
    "plot_image(qgt_train_dataloader.dataset[0][0], abs_log=True)\n",
    "img_size = qgt_train_dataloader.dataset[0][0].shape[0]\n",
    "patch_size = 10\n",
    "num_channels = qgt_train_dataloader.dataset[0][0].shape[2]\n",
    "num_classes = 2\n",
    "print(f\"Image size: {img_size}x{img_size}, Number of channels: {num_channels}\")"
   ]
  },
  {
   "cell_type": "code",
   "execution_count": 4,
   "metadata": {
    "execution": {
     "iopub.execute_input": "2023-07-18T09:33:51.352431Z",
     "iopub.status.busy": "2023-07-18T09:33:51.352082Z",
     "iopub.status.idle": "2023-07-18T11:55:37.531781Z",
     "shell.execute_reply": "2023-07-18T11:55:37.531410Z"
    }
   },
   "outputs": [
    {
     "name": "stdout",
     "output_type": "stream",
     "text": [
      "Epoch 1/30 (417.80s): Loss = 0.6171, Accuracy = 66.69%, AUC = 73.16%\n",
      "Epoch 2/30 (669.79s): Loss = 0.5984, Accuracy = 68.74%, AUC = 74.52%\n",
      "Epoch 3/30 (923.55s): Loss = 0.5920, Accuracy = 68.43%, AUC = 75.58%\n",
      "Epoch 4/30 (1211.28s): Loss = 0.6094, Accuracy = 66.98%, AUC = 76.54%\n",
      "Epoch 5/30 (1479.22s): Loss = 0.5711, Accuracy = 71.06%, AUC = 77.47%\n",
      "Epoch 6/30 (1728.18s): Loss = 0.5719, Accuracy = 70.99%, AUC = 77.48%\n",
      "Epoch 7/30 (1976.32s): Loss = 0.5709, Accuracy = 71.23%, AUC = 77.76%\n",
      "Epoch 8/30 (2228.18s): Loss = 0.5648, Accuracy = 71.47%, AUC = 78.21%\n",
      "Epoch 9/30 (2478.04s): Loss = 0.5618, Accuracy = 71.73%, AUC = 78.49%\n",
      "Epoch 10/30 (2727.36s): Loss = 0.5755, Accuracy = 70.11%, AUC = 78.63%\n",
      "Epoch 11/30 (2976.70s): Loss = 0.5573, Accuracy = 72.11%, AUC = 78.94%\n",
      "Epoch 12/30 (3232.62s): Loss = 0.5569, Accuracy = 72.26%, AUC = 79.02%\n",
      "Epoch 13/30 (3528.33s): Loss = 0.5538, Accuracy = 72.42%, AUC = 79.18%\n",
      "Epoch 14/30 (3819.43s): Loss = 0.5549, Accuracy = 72.53%, AUC = 79.02%\n",
      "Epoch 15/30 (4123.76s): Loss = 0.5544, Accuracy = 72.44%, AUC = 79.34%\n",
      "Epoch 16/30 (4417.88s): Loss = 0.5616, Accuracy = 72.29%, AUC = 79.22%\n",
      "Epoch 17/30 (4726.41s): Loss = 0.5639, Accuracy = 71.85%, AUC = 79.47%\n",
      "Epoch 18/30 (5054.59s): Loss = 0.5519, Accuracy = 72.70%, AUC = 79.49%\n",
      "Epoch 19/30 (5357.58s): Loss = 0.5521, Accuracy = 72.48%, AUC = 79.49%\n",
      "Epoch 20/30 (5693.80s): Loss = 0.5496, Accuracy = 72.84%, AUC = 79.50%\n",
      "Epoch 21/30 (6024.01s): Loss = 0.5599, Accuracy = 72.01%, AUC = 79.54%\n",
      "Epoch 22/30 (6352.85s): Loss = 0.5469, Accuracy = 73.17%, AUC = 79.89%\n",
      "Epoch 23/30 (6653.08s): Loss = 0.5514, Accuracy = 72.79%, AUC = 79.73%\n",
      "Epoch 24/30 (6924.27s): Loss = 0.5470, Accuracy = 72.98%, AUC = 79.88%\n",
      "Epoch 25/30 (7172.61s): Loss = 0.5458, Accuracy = 73.07%, AUC = 79.88%\n",
      "Epoch 26/30 (7421.27s): Loss = 0.5481, Accuracy = 73.03%, AUC = 79.72%\n",
      "Epoch 27/30 (7680.11s): Loss = 0.5450, Accuracy = 73.05%, AUC = 80.03%\n",
      "Epoch 28/30 (7954.18s): Loss = 0.5588, Accuracy = 72.45%, AUC = 79.75%\n",
      "Epoch 29/30 (8232.11s): Loss = 0.5469, Accuracy = 72.73%, AUC = 79.83%\n",
      "Epoch 30/30 (8505.40s): Loss = 0.5455, Accuracy = 73.13%, AUC = 79.96%\n",
      "BEST AUC = 80.03% AT EPOCH 27\n"
     ]
    }
   ],
   "source": [
    "model = ClassicalVisionTransformer(img_size=img_size, num_channels=num_channels, num_classes=num_classes, patch_size=patch_size, hidden_size=64, num_heads=2, num_transformer_blocks=4, mlp_hidden_size=32, channels_last=True)\n",
    "train(model, qgt_train_dataloader, qgt_valid_dataloader, learning_rate=0.0003, num_epochs=30, device=device)"
   ]
  },
  {
   "cell_type": "code",
   "execution_count": 5,
   "metadata": {
    "execution": {
     "iopub.execute_input": "2023-07-18T11:55:37.533475Z",
     "iopub.status.busy": "2023-07-18T11:55:37.533262Z",
     "iopub.status.idle": "2023-07-18T14:21:34.277486Z",
     "shell.execute_reply": "2023-07-18T14:21:34.277126Z"
    }
   },
   "outputs": [
    {
     "name": "stdout",
     "output_type": "stream",
     "text": [
      "Epoch 1/30 (277.08s): Loss = 0.6932, Accuracy = 50.00%, AUC = 65.14%\n",
      "Epoch 2/30 (585.99s): Loss = 0.6504, Accuracy = 62.43%, AUC = 67.35%\n",
      "Epoch 3/30 (906.67s): Loss = 0.6360, Accuracy = 65.30%, AUC = 70.47%\n",
      "Epoch 4/30 (1219.77s): Loss = 0.6235, Accuracy = 66.81%, AUC = 71.68%\n",
      "Epoch 5/30 (1565.06s): Loss = 0.6190, Accuracy = 66.95%, AUC = 72.38%\n",
      "Epoch 6/30 (1907.24s): Loss = 0.6166, Accuracy = 66.99%, AUC = 72.48%\n",
      "Epoch 7/30 (2191.65s): Loss = 0.6114, Accuracy = 67.85%, AUC = 73.25%\n",
      "Epoch 8/30 (2435.10s): Loss = 0.6113, Accuracy = 67.65%, AUC = 73.14%\n",
      "Epoch 9/30 (2679.89s): Loss = 0.6077, Accuracy = 67.55%, AUC = 73.34%\n",
      "Epoch 10/30 (2923.74s): Loss = 0.6060, Accuracy = 68.04%, AUC = 73.64%\n",
      "Epoch 11/30 (3167.43s): Loss = 0.6044, Accuracy = 67.98%, AUC = 73.77%\n",
      "Epoch 12/30 (3415.94s): Loss = 0.6078, Accuracy = 67.69%, AUC = 73.67%\n",
      "Epoch 13/30 (3665.71s): Loss = 0.6042, Accuracy = 67.86%, AUC = 73.79%\n",
      "Epoch 14/30 (3968.35s): Loss = 0.6054, Accuracy = 67.99%, AUC = 74.00%\n",
      "Epoch 15/30 (4246.48s): Loss = 0.6025, Accuracy = 68.08%, AUC = 74.02%\n",
      "Epoch 16/30 (4498.38s): Loss = 0.6018, Accuracy = 68.05%, AUC = 74.14%\n",
      "Epoch 17/30 (4759.56s): Loss = 0.6001, Accuracy = 68.23%, AUC = 74.33%\n",
      "Epoch 18/30 (5167.67s): Loss = 0.6042, Accuracy = 68.27%, AUC = 74.12%\n",
      "Epoch 19/30 (5447.60s): Loss = 0.6027, Accuracy = 68.20%, AUC = 74.18%\n",
      "Epoch 20/30 (5714.56s): Loss = 0.6024, Accuracy = 67.52%, AUC = 74.08%\n",
      "Epoch 21/30 (6007.50s): Loss = 0.6018, Accuracy = 68.24%, AUC = 74.28%\n",
      "Epoch 22/30 (6301.57s): Loss = 0.6011, Accuracy = 68.08%, AUC = 74.22%\n",
      "Epoch 23/30 (6600.63s): Loss = 0.6024, Accuracy = 68.23%, AUC = 74.22%\n",
      "Epoch 24/30 (6893.69s): Loss = 0.6024, Accuracy = 68.18%, AUC = 74.09%\n",
      "Epoch 25/30 (7181.36s): Loss = 0.6058, Accuracy = 67.73%, AUC = 74.05%\n",
      "Epoch 26/30 (7459.93s): Loss = 0.6040, Accuracy = 67.79%, AUC = 74.18%\n",
      "Epoch 27/30 (7741.69s): Loss = 0.6064, Accuracy = 68.40%, AUC = 74.15%\n",
      "Epoch 28/30 (8243.52s): Loss = 0.6035, Accuracy = 68.21%, AUC = 74.19%\n",
      "Epoch 29/30 (8502.78s): Loss = 0.6040, Accuracy = 68.27%, AUC = 74.05%\n",
      "Epoch 30/30 (8756.74s): Loss = 0.6040, Accuracy = 68.45%, AUC = 74.12%\n",
      "BEST AUC = 74.33% AT EPOCH 17\n"
     ]
    }
   ],
   "source": [
    "model = ClassicalVisionTransformer(img_size=img_size, num_channels=num_channels, num_classes=num_classes, patch_size=patch_size, hidden_size=6, num_heads=2, num_transformer_blocks=4, mlp_hidden_size=3, channels_last=True)\n",
    "train(model, qgt_train_dataloader, qgt_valid_dataloader, learning_rate=0.0003, num_epochs=30, device=device)"
   ]
  }
 ],
 "metadata": {
  "kernelspec": {
   "display_name": "quantum-transformers",
   "language": "python",
   "name": "python3"
  },
  "language_info": {
   "codemirror_mode": {
    "name": "ipython",
    "version": 3
   },
   "file_extension": ".py",
   "mimetype": "text/x-python",
   "name": "python",
   "nbconvert_exporter": "python",
   "pygments_lexer": "ipython3",
   "version": "3.11.4"
  }
 },
 "nbformat": 4,
 "nbformat_minor": 2
}
