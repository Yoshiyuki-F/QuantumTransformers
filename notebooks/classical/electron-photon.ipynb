{
 "cells": [
  {
   "cell_type": "code",
   "execution_count": 1,
   "metadata": {
    "execution": {
     "iopub.execute_input": "2023-08-22T07:35:54.979520Z",
     "iopub.status.busy": "2023-08-22T07:35:54.979264Z",
     "iopub.status.idle": "2023-08-22T07:36:05.622278Z",
     "shell.execute_reply": "2023-08-22T07:36:05.621753Z"
    }
   },
   "outputs": [
    {
     "name": "stderr",
     "output_type": "stream",
     "text": [
      "2023-08-22 00:35:57.951714: E tensorflow/compiler/xla/stream_executor/cuda/cuda_dnn.cc:9342] Unable to register cuDNN factory: Attempting to register factory for plugin cuDNN when one has already been registered\n",
      "2023-08-22 00:35:57.951737: E tensorflow/compiler/xla/stream_executor/cuda/cuda_fft.cc:609] Unable to register cuFFT factory: Attempting to register factory for plugin cuFFT when one has already been registered\n",
      "2023-08-22 00:35:57.951753: E tensorflow/compiler/xla/stream_executor/cuda/cuda_blas.cc:1518] Unable to register cuBLAS factory: Attempting to register factory for plugin cuBLAS when one has already been registered\n",
      "2023-08-22 00:35:59.437716: W tensorflow/compiler/tf2tensorrt/utils/py_utils.cc:38] TF-TRT Warning: Could not find TensorRT\n"
     ]
    },
    {
     "name": "stdout",
     "output_type": "stream",
     "text": [
      "WARNING:tensorflow:From /global/common/software/m4392/conda/gsoc/lib/python3.11/site-packages/tensorflow/python/ops/distributions/distribution.py:259: ReparameterizationType.__init__ (from tensorflow.python.ops.distributions.distribution) is deprecated and will be removed after 2019-01-01.\n",
      "Instructions for updating:\n",
      "The TensorFlow Distributions library has moved to TensorFlow Probability (https://github.com/tensorflow/probability). You should update all references to use `tfp.distributions` instead of `tf.distributions`.\n",
      "WARNING:tensorflow:From /global/common/software/m4392/conda/gsoc/lib/python3.11/site-packages/tensorflow/python/ops/distributions/bernoulli.py:165: RegisterKL.__init__ (from tensorflow.python.ops.distributions.kullback_leibler) is deprecated and will be removed after 2019-01-01.\n",
      "Instructions for updating:\n",
      "The TensorFlow Distributions library has moved to TensorFlow Probability (https://github.com/tensorflow/probability). You should update all references to use `tfp.distributions` instead of `tf.distributions`.\n"
     ]
    },
    {
     "name": "stderr",
     "output_type": "stream",
     "text": [
      "Please first ``pip install -U cirq`` to enable related functionality in translation module\n"
     ]
    }
   ],
   "source": [
    "import jax\n",
    "\n",
    "from quantum_transformers.utils import plot_image\n",
    "from quantum_transformers.datasets import get_electron_photon_dataloaders\n",
    "from quantum_transformers.training import train_and_evaluate\n",
    "from quantum_transformers.transformers import VisionTransformer\n",
    "\n",
    "data_dir = '/global/cfs/cdirs/m4392/salcc/data'"
   ]
  },
  {
   "cell_type": "code",
   "execution_count": 2,
   "metadata": {
    "execution": {
     "iopub.execute_input": "2023-08-22T07:36:05.624640Z",
     "iopub.status.busy": "2023-08-22T07:36:05.624163Z",
     "iopub.status.idle": "2023-08-22T07:36:05.862873Z",
     "shell.execute_reply": "2023-08-22T07:36:05.862412Z"
    }
   },
   "outputs": [
    {
     "name": "stdout",
     "output_type": "stream",
     "text": [
      "gpu:0 NVIDIA A100-SXM4-80GB\n"
     ]
    }
   ],
   "source": [
    "for d in jax.devices():\n",
    "    print(d, d.device_kind)"
   ]
  },
  {
   "cell_type": "code",
   "execution_count": 3,
   "metadata": {
    "execution": {
     "iopub.execute_input": "2023-08-22T07:36:05.864638Z",
     "iopub.status.busy": "2023-08-22T07:36:05.864499Z",
     "iopub.status.idle": "2023-08-22T07:36:10.330640Z",
     "shell.execute_reply": "2023-08-22T07:36:10.330161Z"
    }
   },
   "outputs": [
    {
     "name": "stdout",
     "output_type": "stream",
     "text": [
      "(32, 32, 2)\n"
     ]
    },
    {
     "data": {
      "image/png": "[encoded data removed]",
      "text/plain": [
       "<Figure size 600x300 with 2 Axes>"
      ]
     },
     "metadata": {},
     "output_type": "display_data"
    }
   ],
   "source": [
    "ep_train_dataloader, ep_valid_dataloader = get_electron_photon_dataloaders(batch_size=256, data_dir=data_dir)\n",
    "first_image = next(iter(ep_train_dataloader))[0][0]\n",
    "print(first_image.shape)\n",
    "plot_image(first_image, abs_log=True)"
   ]
  },
  {
   "cell_type": "code",
   "execution_count": 4,
   "metadata": {
    "execution": {
     "iopub.execute_input": "2023-08-22T07:36:10.332394Z",
     "iopub.status.busy": "2023-08-22T07:36:10.332254Z",
     "iopub.status.idle": "2023-08-22T07:50:40.793305Z",
     "shell.execute_reply": "2023-08-22T07:50:40.792694Z"
    }
   },
   "outputs": [
    {
     "name": "stderr",
     "output_type": "stream",
     "text": [
      "Epoch   1/50: 100%|██████████| 1906/1906 [00:15<00:00, 119.35batch/s, Loss = 0.6481, AUC = 66.49%]                                        \n",
      "Epoch   2/50: 100%|██████████| 1906/1906 [00:09<00:00, 204.60batch/s, Loss = 0.6266, AUC = 70.72%]                                        \n",
      "Epoch   3/50: 100%|██████████| 1906/1906 [00:13<00:00, 141.72batch/s, Loss = 0.6015, AUC = 73.79%]                                        \n",
      "Epoch   4/50: 100%|██████████| 1906/1906 [00:10<00:00, 178.32batch/s, Loss = 0.5895, AUC = 75.19%]                                        \n",
      "Epoch   5/50: 100%|██████████| 1906/1906 [00:11<00:00, 166.89batch/s, Loss = 0.5872, AUC = 75.84%]                                        \n",
      "Epoch   6/50: 100%|██████████| 1906/1906 [00:15<00:00, 119.92batch/s, Loss = 0.5976, AUC = 75.47%]                                        \n",
      "Epoch   7/50: 100%|██████████| 1906/1906 [00:17<00:00, 110.85batch/s, Loss = 0.5794, AUC = 76.47%]                                        \n",
      "Epoch   8/50: 100%|██████████| 1906/1906 [00:18<00:00, 104.85batch/s, Loss = 0.5814, AUC = 76.55%]                                        \n",
      "Epoch   9/50: 100%|██████████| 1906/1906 [00:19<00:00, 97.39batch/s, Loss = 0.5777, AUC = 76.71%]                                         \n",
      "Epoch  10/50: 100%|██████████| 1906/1906 [00:17<00:00, 107.54batch/s, Loss = 0.5775, AUC = 76.62%]                                        \n",
      "Epoch  11/50: 100%|██████████| 1906/1906 [00:17<00:00, 105.96batch/s, Loss = 0.5746, AUC = 76.95%]                                        \n",
      "Epoch  12/50: 100%|██████████| 1906/1906 [00:18<00:00, 105.86batch/s, Loss = 0.5716, AUC = 77.36%]                                        \n",
      "Epoch  13/50: 100%|██████████| 1906/1906 [00:17<00:00, 109.30batch/s, Loss = 0.5689, AUC = 77.53%]                                        \n",
      "Epoch  14/50: 100%|██████████| 1906/1906 [00:17<00:00, 107.90batch/s, Loss = 0.5698, AUC = 77.40%]                                        \n",
      "Epoch  15/50: 100%|██████████| 1906/1906 [00:17<00:00, 109.18batch/s, Loss = 0.5723, AUC = 77.61%]                                        \n",
      "Epoch  16/50: 100%|██████████| 1906/1906 [00:15<00:00, 124.44batch/s, Loss = 0.5715, AUC = 77.32%]                                        \n",
      "Epoch  17/50: 100%|██████████| 1906/1906 [00:19<00:00, 100.31batch/s, Loss = 0.5649, AUC = 77.88%]                                        \n",
      "Epoch  18/50: 100%|██████████| 1906/1906 [00:20<00:00, 94.98batch/s, Loss = 0.5641, AUC = 78.08%]                                         \n",
      "Epoch  19/50: 100%|██████████| 1906/1906 [00:17<00:00, 109.45batch/s, Loss = 0.5727, AUC = 77.62%]                                        \n",
      "Epoch  20/50: 100%|██████████| 1906/1906 [00:18<00:00, 105.54batch/s, Loss = 0.5676, AUC = 77.92%]                                        \n",
      "Epoch  21/50: 100%|██████████| 1906/1906 [00:17<00:00, 108.28batch/s, Loss = 0.5666, AUC = 78.00%]                                        \n",
      "Epoch  22/50: 100%|██████████| 1906/1906 [00:17<00:00, 109.44batch/s, Loss = 0.5676, AUC = 77.86%]                                        \n",
      "Epoch  23/50: 100%|██████████| 1906/1906 [00:17<00:00, 108.71batch/s, Loss = 0.5632, AUC = 78.35%]                                        \n",
      "Epoch  24/50: 100%|██████████| 1906/1906 [00:18<00:00, 102.34batch/s, Loss = 0.5611, AUC = 78.41%]                                        \n",
      "Epoch  25/50: 100%|██████████| 1906/1906 [00:17<00:00, 109.22batch/s, Loss = 0.5600, AUC = 78.47%]                                        \n",
      "Epoch  26/50: 100%|██████████| 1906/1906 [00:17<00:00, 110.91batch/s, Loss = 0.5593, AUC = 78.58%]                                        \n",
      "Epoch  27/50: 100%|██████████| 1906/1906 [00:17<00:00, 111.88batch/s, Loss = 0.5618, AUC = 78.32%]                                        \n",
      "Epoch  28/50: 100%|██████████| 1906/1906 [00:18<00:00, 103.89batch/s, Loss = 0.5629, AUC = 78.56%]                                        \n",
      "Epoch  29/50: 100%|██████████| 1906/1906 [00:17<00:00, 110.62batch/s, Loss = 0.5589, AUC = 78.60%]                                        \n",
      "Epoch  30/50: 100%|██████████| 1906/1906 [00:17<00:00, 107.97batch/s, Loss = 0.5581, AUC = 78.75%]                                        \n",
      "Epoch  31/50: 100%|██████████| 1906/1906 [00:18<00:00, 102.93batch/s, Loss = 0.5604, AUC = 78.84%]                                        \n",
      "Epoch  32/50: 100%|██████████| 1906/1906 [00:17<00:00, 108.33batch/s, Loss = 0.5556, AUC = 78.85%]                                        \n",
      "Epoch  33/50: 100%|██████████| 1906/1906 [00:17<00:00, 106.75batch/s, Loss = 0.5572, AUC = 78.83%]                                        \n",
      "Epoch  34/50: 100%|██████████| 1906/1906 [00:17<00:00, 106.12batch/s, Loss = 0.5594, AUC = 78.93%]                                        \n",
      "Epoch  35/50: 100%|██████████| 1906/1906 [00:17<00:00, 110.41batch/s, Loss = 0.5571, AUC = 78.79%]                                        \n",
      "Epoch  36/50: 100%|██████████| 1906/1906 [00:17<00:00, 106.86batch/s, Loss = 0.5549, AUC = 78.98%]                                        \n",
      "Epoch  37/50: 100%|██████████| 1906/1906 [00:17<00:00, 106.82batch/s, Loss = 0.5560, AUC = 78.80%]                                        \n",
      "Epoch  38/50: 100%|██████████| 1906/1906 [00:17<00:00, 109.67batch/s, Loss = 0.5543, AUC = 78.99%]                                        \n",
      "Epoch  39/50: 100%|██████████| 1906/1906 [00:17<00:00, 106.04batch/s, Loss = 0.5559, AUC = 78.85%]                                        \n",
      "Epoch  40/50: 100%|██████████| 1906/1906 [00:17<00:00, 110.36batch/s, Loss = 0.5545, AUC = 79.10%]                                        \n",
      "Epoch  41/50: 100%|██████████| 1906/1906 [00:17<00:00, 107.09batch/s, Loss = 0.5557, AUC = 79.12%]                                        \n",
      "Epoch  42/50: 100%|██████████| 1906/1906 [00:18<00:00, 105.81batch/s, Loss = 0.5525, AUC = 79.11%]                                        \n",
      "Epoch  43/50: 100%|██████████| 1906/1906 [00:17<00:00, 106.63batch/s, Loss = 0.5539, AUC = 79.10%]                                        \n",
      "Epoch  44/50: 100%|██████████| 1906/1906 [00:17<00:00, 109.02batch/s, Loss = 0.5535, AUC = 79.25%]                                        \n",
      "Epoch  45/50: 100%|██████████| 1906/1906 [00:17<00:00, 111.05batch/s, Loss = 0.5514, AUC = 79.31%]                                        \n",
      "Epoch  46/50: 100%|██████████| 1906/1906 [00:17<00:00, 107.18batch/s, Loss = 0.5515, AUC = 79.33%]                                        \n",
      "Epoch  47/50: 100%|██████████| 1906/1906 [00:17<00:00, 108.61batch/s, Loss = 0.5535, AUC = 79.15%]                                        \n",
      "Epoch  48/50: 100%|██████████| 1906/1906 [00:17<00:00, 107.11batch/s, Loss = 0.5562, AUC = 79.00%]                                        \n",
      "Epoch  49/50: 100%|██████████| 1906/1906 [00:17<00:00, 106.91batch/s, Loss = 0.5538, AUC = 79.16%]                                        \n",
      "Epoch  50/50: 100%|██████████| 1906/1906 [00:18<00:00, 105.71batch/s, Loss = 0.5495, AUC = 79.45%]                                        "
     ]
    },
    {
     "name": "stdout",
     "output_type": "stream",
     "text": [
      "TOTAL TIME = 858.79s\n",
      "BEST AUC = 79.45% AT EPOCH 50\n"
     ]
    },
    {
     "name": "stderr",
     "output_type": "stream",
     "text": [
      "\n"
     ]
    }
   ],
   "source": [
    "model = VisionTransformer(num_classes=2, patch_size=8, hidden_size=64, num_heads=2, num_transformer_blocks=4, mlp_hidden_size=32, channels_last=True)\n",
    "train_and_evaluate(model, ep_train_dataloader, ep_valid_dataloader, num_classes=2, learning_rate=0.0003, num_epochs=50)"
   ]
  },
  {
   "cell_type": "code",
   "execution_count": 5,
   "metadata": {
    "execution": {
     "iopub.execute_input": "2023-08-22T07:50:40.795377Z",
     "iopub.status.busy": "2023-08-22T07:50:40.795023Z",
     "iopub.status.idle": "2023-08-22T08:06:51.066526Z",
     "shell.execute_reply": "2023-08-22T08:06:51.066035Z"
    }
   },
   "outputs": [
    {
     "name": "stderr",
     "output_type": "stream",
     "text": [
      "Epoch   1/50: 100%|██████████| 1906/1906 [00:32<00:00, 58.73batch/s, Loss = 0.6900, AUC = 55.33%]                                         \n",
      "Epoch   2/50: 100%|██████████| 1906/1906 [00:25<00:00, 75.77batch/s, Loss = 0.6695, AUC = 63.32%]                                         \n",
      "Epoch   3/50: 100%|██████████| 1906/1906 [00:15<00:00, 119.62batch/s, Loss = 0.6514, AUC = 66.39%]                                        \n",
      "Epoch   4/50: 100%|██████████| 1906/1906 [00:21<00:00, 87.92batch/s, Loss = 0.6376, AUC = 68.98%]                                         \n",
      "Epoch   5/50: 100%|██████████| 1906/1906 [00:25<00:00, 73.72batch/s, Loss = 0.6270, AUC = 70.29%]                                         \n",
      "Epoch   6/50: 100%|██████████| 1906/1906 [00:23<00:00, 81.43batch/s, Loss = 0.6179, AUC = 71.57%]                                         \n",
      "Epoch   7/50: 100%|██████████| 1906/1906 [00:22<00:00, 83.43batch/s, Loss = 0.6136, AUC = 72.17%]                                         \n",
      "Epoch   8/50: 100%|██████████| 1906/1906 [00:20<00:00, 93.31batch/s, Loss = 0.6066, AUC = 73.16%]                                         \n",
      "Epoch   9/50: 100%|██████████| 1906/1906 [00:20<00:00, 92.08batch/s, Loss = 0.6130, AUC = 72.81%]                                         \n",
      "Epoch  10/50: 100%|██████████| 1906/1906 [00:21<00:00, 88.49batch/s, Loss = 0.6154, AUC = 73.04%]                                         \n",
      "Epoch  11/50: 100%|██████████| 1906/1906 [00:19<00:00, 97.83batch/s, Loss = 0.6018, AUC = 73.83%]                                         \n",
      "Epoch  12/50: 100%|██████████| 1906/1906 [00:22<00:00, 84.46batch/s, Loss = 0.6100, AUC = 73.55%]                                         \n",
      "Epoch  13/50: 100%|██████████| 1906/1906 [00:21<00:00, 87.74batch/s, Loss = 0.6016, AUC = 73.82%]                                         \n",
      "Epoch  14/50: 100%|██████████| 1906/1906 [00:22<00:00, 85.80batch/s, Loss = 0.6018, AUC = 73.85%]                                         \n",
      "Epoch  15/50: 100%|██████████| 1906/1906 [00:20<00:00, 91.96batch/s, Loss = 0.6060, AUC = 73.55%]                                         \n",
      "Epoch  16/50: 100%|██████████| 1906/1906 [00:21<00:00, 88.86batch/s, Loss = 0.6007, AUC = 74.02%]                                         \n",
      "Epoch  17/50: 100%|██████████| 1906/1906 [00:21<00:00, 87.19batch/s, Loss = 0.6120, AUC = 73.67%]                                         \n",
      "Epoch  18/50: 100%|██████████| 1906/1906 [00:21<00:00, 88.36batch/s, Loss = 0.6001, AUC = 74.07%]                                         \n",
      "Epoch  19/50: 100%|██████████| 1906/1906 [00:22<00:00, 85.95batch/s, Loss = 0.6023, AUC = 73.97%]                                         \n",
      "Epoch  20/50: 100%|██████████| 1906/1906 [00:22<00:00, 83.87batch/s, Loss = 0.6018, AUC = 74.09%]                                         \n",
      "Epoch  21/50: 100%|██████████| 1906/1906 [00:21<00:00, 89.07batch/s, Loss = 0.6019, AUC = 74.13%]                     \n",
      "Epoch  22/50: 100%|██████████| 1906/1906 [00:22<00:00, 85.10batch/s, Loss = 0.6002, AUC = 74.14%]                     \n",
      "Epoch  23/50: 100%|██████████| 1906/1906 [00:22<00:00, 84.11batch/s, Loss = 0.6011, AUC = 73.91%]                     \n",
      "Epoch  24/50: 100%|██████████| 1906/1906 [00:22<00:00, 84.77batch/s, Loss = 0.5975, AUC = 74.28%]                     \n",
      "Epoch  25/50: 100%|██████████| 1906/1906 [00:20<00:00, 92.04batch/s, Loss = 0.5995, AUC = 74.35%]                     \n",
      "Epoch  26/50: 100%|██████████| 1906/1906 [00:20<00:00, 91.16batch/s, Loss = 0.5956, AUC = 74.57%]                     \n",
      "Epoch  27/50: 100%|██████████| 1906/1906 [00:22<00:00, 84.90batch/s, Loss = 0.5941, AUC = 74.68%]                     \n",
      "Epoch  28/50: 100%|██████████| 1906/1906 [00:21<00:00, 87.40batch/s, Loss = 0.5940, AUC = 74.71%]                     \n",
      "Epoch  29/50: 100%|██████████| 1906/1906 [00:21<00:00, 89.75batch/s, Loss = 0.5957, AUC = 74.49%]                     \n",
      "Epoch  30/50: 100%|██████████| 1906/1906 [00:20<00:00, 94.10batch/s, Loss = 0.5983, AUC = 74.61%]                     \n",
      "Epoch  31/50: 100%|██████████| 1906/1906 [00:23<00:00, 80.40batch/s, Loss = 0.5952, AUC = 74.59%]                     \n",
      "Epoch  32/50: 100%|██████████| 1906/1906 [00:21<00:00, 89.00batch/s, Loss = 0.6114, AUC = 73.87%]                     \n",
      "Epoch  33/50: 100%|██████████| 1906/1906 [00:22<00:00, 85.14batch/s, Loss = 0.5941, AUC = 74.64%]                     \n",
      "Epoch  34/50: 100%|██████████| 1906/1906 [00:21<00:00, 87.23batch/s, Loss = 0.5961, AUC = 74.57%]                     \n",
      "Epoch  35/50: 100%|██████████| 1906/1906 [00:22<00:00, 85.69batch/s, Loss = 0.5976, AUC = 74.47%]                     \n",
      "Epoch  36/50: 100%|██████████| 1906/1906 [00:12<00:00, 151.53batch/s, Loss = 0.5957, AUC = 74.62%]                    \n",
      "Epoch  37/50: 100%|██████████| 1906/1906 [00:12<00:00, 157.02batch/s, Loss = 0.5924, AUC = 74.90%]                    \n",
      "Epoch  38/50: 100%|██████████| 1906/1906 [00:12<00:00, 156.49batch/s, Loss = 0.5925, AUC = 74.89%]                    \n",
      "Epoch  39/50: 100%|██████████| 1906/1906 [00:12<00:00, 154.29batch/s, Loss = 0.5921, AUC = 74.95%]                    \n",
      "Epoch  40/50: 100%|██████████| 1906/1906 [00:12<00:00, 154.48batch/s, Loss = 0.5990, AUC = 74.41%]                    \n",
      "Epoch  41/50: 100%|██████████| 1906/1906 [00:11<00:00, 161.34batch/s, Loss = 0.6037, AUC = 74.29%]                    \n",
      "Epoch  42/50: 100%|██████████| 1906/1906 [00:12<00:00, 153.21batch/s, Loss = 0.5992, AUC = 74.53%]                    \n",
      "Epoch  43/50: 100%|██████████| 1906/1906 [00:12<00:00, 156.03batch/s, Loss = 0.5912, AUC = 75.01%]                    \n",
      "Epoch  44/50: 100%|██████████| 1906/1906 [00:12<00:00, 156.25batch/s, Loss = 0.5953, AUC = 74.69%]                    \n",
      "Epoch  45/50: 100%|██████████| 1906/1906 [00:12<00:00, 155.33batch/s, Loss = 0.5921, AUC = 74.97%]                    \n",
      "Epoch  46/50: 100%|██████████| 1906/1906 [00:12<00:00, 152.51batch/s, Loss = 0.6006, AUC = 74.64%]                    \n",
      "Epoch  47/50: 100%|██████████| 1906/1906 [00:12<00:00, 151.21batch/s, Loss = 0.5999, AUC = 74.60%]                    \n",
      "Epoch  48/50: 100%|██████████| 1906/1906 [00:12<00:00, 154.93batch/s, Loss = 0.6002, AUC = 74.69%]                    \n",
      "Epoch  49/50: 100%|██████████| 1906/1906 [00:12<00:00, 151.44batch/s, Loss = 0.5916, AUC = 75.10%]                    \n",
      "Epoch  50/50: 100%|██████████| 1906/1906 [00:12<00:00, 148.36batch/s, Loss = 0.5929, AUC = 74.84%]                    "
     ]
    },
    {
     "name": "stdout",
     "output_type": "stream",
     "text": [
      "TOTAL TIME = 959.85s\n",
      "BEST AUC = 75.10% AT EPOCH 49\n"
     ]
    },
    {
     "name": "stderr",
     "output_type": "stream",
     "text": [
      "\n"
     ]
    }
   ],
   "source": [
    "model = VisionTransformer(num_classes=2, patch_size=8, hidden_size=6, num_heads=2, num_transformer_blocks=4, mlp_hidden_size=3, channels_last=True)\n",
    "train_and_evaluate(model, ep_train_dataloader, ep_valid_dataloader, num_classes=2, learning_rate=0.0003, num_epochs=50)"
   ]
  }
 ],
 "metadata": {
  "kernelspec": {
   "display_name": "gsoc",
   "language": "python",
   "name": "gsoc"
  },
  "language_info": {
   "codemirror_mode": {
    "name": "ipython",
    "version": 3
   },
   "file_extension": ".py",
   "mimetype": "text/x-python",
   "name": "python",
   "nbconvert_exporter": "python",
   "pygments_lexer": "ipython3",
   "version": "3.11.4"
  }
 },
 "nbformat": 4,
 "nbformat_minor": 2
}
