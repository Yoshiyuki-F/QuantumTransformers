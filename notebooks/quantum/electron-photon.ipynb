{
 "cells": [
  {
   "cell_type": "markdown",
   "metadata": {},
   "source": [
    "# Electron-Photon\n",
    "\n",
    "Information about the dataset: https://arxiv.org/abs/1807.11916"
   ]
  },
  {
   "cell_type": "code",
   "execution_count": 1,
   "metadata": {
    "execution": {
     "iopub.execute_input": "2023-10-09T22:05:56.067959Z",
     "iopub.status.busy": "2023-10-09T22:05:56.067728Z",
     "iopub.status.idle": "2023-10-09T22:06:17.703137Z",
     "shell.execute_reply": "2023-10-09T22:06:17.702714Z"
    }
   },
   "outputs": [
    {
     "name": "stderr",
     "output_type": "stream",
     "text": [
      "2023-10-09 15:06:03.315563: E tensorflow/compiler/xla/stream_executor/cuda/cuda_dnn.cc:9342] Unable to register cuDNN factory: Attempting to register factory for plugin cuDNN when one has already been registered\n",
      "2023-10-09 15:06:03.315593: E tensorflow/compiler/xla/stream_executor/cuda/cuda_fft.cc:609] Unable to register cuFFT factory: Attempting to register factory for plugin cuFFT when one has already been registered\n",
      "2023-10-09 15:06:03.315619: E tensorflow/compiler/xla/stream_executor/cuda/cuda_blas.cc:1518] Unable to register cuBLAS factory: Attempting to register factory for plugin cuBLAS when one has already been registered\n",
      "2023-10-09 15:06:06.639486: W tensorflow/compiler/tf2tensorrt/utils/py_utils.cc:38] TF-TRT Warning: Could not find TensorRT\n",
      "Please first ``pip install -U cirq`` to enable related functionality in translation module\n"
     ]
    }
   ],
   "source": [
    "import jax\n",
    "\n",
    "from quantum_transformers.utils import plot_image\n",
    "from quantum_transformers.datasets import get_electron_photon_dataloaders\n",
    "from quantum_transformers.training import train_and_evaluate\n",
    "from quantum_transformers.transformers import VisionTransformer\n",
    "from quantum_transformers.quantum_layer import get_circuit\n",
    "\n",
    "data_dir = '/global/cfs/cdirs/m4392/salcc/data'"
   ]
  },
  {
   "cell_type": "code",
   "execution_count": 2,
   "metadata": {
    "execution": {
     "iopub.execute_input": "2023-10-09T22:06:17.705244Z",
     "iopub.status.busy": "2023-10-09T22:06:17.704907Z",
     "iopub.status.idle": "2023-10-09T22:06:17.960993Z",
     "shell.execute_reply": "2023-10-09T22:06:17.960529Z"
    }
   },
   "outputs": [
    {
     "name": "stdout",
     "output_type": "stream",
     "text": [
      "gpu:0 NVIDIA A100-SXM4-40GB\n"
     ]
    }
   ],
   "source": [
    "for d in jax.devices():\n",
    "    print(d, d.device_kind)"
   ]
  },
  {
   "cell_type": "code",
   "execution_count": 3,
   "metadata": {
    "execution": {
     "iopub.execute_input": "2023-10-09T22:06:17.962778Z",
     "iopub.status.busy": "2023-10-09T22:06:17.962535Z",
     "iopub.status.idle": "2023-10-09T22:06:18.720157Z",
     "shell.execute_reply": "2023-10-09T22:06:18.719759Z"
    }
   },
   "outputs": [
    {
     "name": "stdout",
     "output_type": "stream",
     "text": [
      "Cardinalities (train, val, test): 439200 48800 10000\n",
      "(32, 32, 2)\n"
     ]
    },
    {
     "data": {
      "image/png": "[encoded data removed]",
      "text/plain": [
       "<Figure size 600x300 with 2 Axes>"
      ]
     },
     "metadata": {},
     "output_type": "display_data"
    }
   ],
   "source": [
    "ep_train_dataloader, ep_valid_dataloader, ep_test_dataloader = get_electron_photon_dataloaders(batch_size=256, data_dir=data_dir)\n",
    "first_image = next(iter(ep_train_dataloader))[0][0]\n",
    "print(first_image.shape)\n",
    "plot_image(first_image, abs_log=True)"
   ]
  },
  {
   "cell_type": "code",
   "execution_count": 4,
   "metadata": {
    "execution": {
     "iopub.execute_input": "2023-10-09T22:06:18.721943Z",
     "iopub.status.busy": "2023-10-09T22:06:18.721673Z",
     "iopub.status.idle": "2023-10-09T22:51:12.097897Z",
     "shell.execute_reply": "2023-10-09T22:51:12.097253Z"
    }
   },
   "outputs": [
    {
     "name": "stdout",
     "output_type": "stream",
     "text": [
      "Number of parameters = 1280\n"
     ]
    },
    {
     "name": "stderr",
     "output_type": "stream",
     "text": [
      "Epoch   1/50: 100%|██████████| 1715/1715 [01:27<00:00, 19.63batch/s, Loss = 0.6933, AUC = 52.41%]\n",
      "Epoch   2/50: 100%|██████████| 1715/1715 [00:53<00:00, 32.33batch/s, Loss = 0.6900, AUC = 61.18%]\n",
      "Epoch   3/50: 100%|██████████| 1715/1715 [00:53<00:00, 32.34batch/s, Loss = 0.6739, AUC = 63.16%]\n",
      "Epoch   4/50: 100%|██████████| 1715/1715 [00:52<00:00, 32.38batch/s, Loss = 0.6606, AUC = 66.39%]\n",
      "Epoch   5/50: 100%|██████████| 1715/1715 [00:52<00:00, 32.50batch/s, Loss = 0.6505, AUC = 68.49%]\n",
      "Epoch   6/50: 100%|██████████| 1715/1715 [00:53<00:00, 32.31batch/s, Loss = 0.6344, AUC = 69.70%]\n",
      "Epoch   7/50: 100%|██████████| 1715/1715 [00:52<00:00, 32.52batch/s, Loss = 0.6326, AUC = 70.42%]\n",
      "Epoch   8/50: 100%|██████████| 1715/1715 [00:52<00:00, 32.39batch/s, Loss = 0.6307, AUC = 71.05%]\n",
      "Epoch   9/50: 100%|██████████| 1715/1715 [00:53<00:00, 32.28batch/s, Loss = 0.6246, AUC = 71.55%]\n",
      "Epoch  10/50: 100%|██████████| 1715/1715 [00:52<00:00, 32.68batch/s, Loss = 0.6199, AUC = 71.79%]\n",
      "Epoch  11/50: 100%|██████████| 1715/1715 [00:52<00:00, 32.39batch/s, Loss = 0.6169, AUC = 72.27%]\n",
      "Epoch  12/50: 100%|██████████| 1715/1715 [00:52<00:00, 32.52batch/s, Loss = 0.6169, AUC = 72.25%]\n",
      "Epoch  13/50: 100%|██████████| 1715/1715 [00:52<00:00, 32.37batch/s, Loss = 0.6140, AUC = 72.76%]\n",
      "Epoch  14/50: 100%|██████████| 1715/1715 [00:52<00:00, 32.59batch/s, Loss = 0.6126, AUC = 72.73%]\n",
      "Epoch  15/50: 100%|██████████| 1715/1715 [00:52<00:00, 32.36batch/s, Loss = 0.6107, AUC = 73.14%]\n",
      "Epoch  16/50: 100%|██████████| 1715/1715 [00:53<00:00, 32.34batch/s, Loss = 0.6091, AUC = 73.04%]\n",
      "Epoch  17/50: 100%|██████████| 1715/1715 [00:52<00:00, 32.55batch/s, Loss = 0.6066, AUC = 73.50%]\n",
      "Epoch  18/50: 100%|██████████| 1715/1715 [00:53<00:00, 32.26batch/s, Loss = 0.6052, AUC = 73.63%]\n",
      "Epoch  19/50: 100%|██████████| 1715/1715 [00:52<00:00, 32.53batch/s, Loss = 0.6041, AUC = 73.64%]\n",
      "Epoch  20/50: 100%|██████████| 1715/1715 [00:52<00:00, 32.37batch/s, Loss = 0.6044, AUC = 73.61%]\n",
      "Epoch  21/50: 100%|██████████| 1715/1715 [00:53<00:00, 32.35batch/s, Loss = 0.6029, AUC = 73.76%]\n",
      "Epoch  22/50: 100%|██████████| 1715/1715 [00:52<00:00, 32.37batch/s, Loss = 0.6025, AUC = 73.81%]\n",
      "Epoch  23/50: 100%|██████████| 1715/1715 [00:52<00:00, 32.71batch/s, Loss = 0.6026, AUC = 73.89%]\n",
      "Epoch  24/50: 100%|██████████| 1715/1715 [00:52<00:00, 32.41batch/s, Loss = 0.6040, AUC = 73.83%]\n",
      "Epoch  25/50: 100%|██████████| 1715/1715 [00:53<00:00, 32.34batch/s, Loss = 0.6017, AUC = 73.88%]\n",
      "Epoch  26/50: 100%|██████████| 1715/1715 [00:52<00:00, 32.54batch/s, Loss = 0.6015, AUC = 73.92%]\n",
      "Epoch  27/50: 100%|██████████| 1715/1715 [00:52<00:00, 32.38batch/s, Loss = 0.6012, AUC = 73.94%]\n",
      "Epoch  28/50: 100%|██████████| 1715/1715 [00:52<00:00, 32.58batch/s, Loss = 0.6015, AUC = 73.91%]\n",
      "Epoch  29/50: 100%|██████████| 1715/1715 [00:52<00:00, 32.38batch/s, Loss = 0.6012, AUC = 73.94%]\n",
      "Epoch  30/50: 100%|██████████| 1715/1715 [00:53<00:00, 32.34batch/s, Loss = 0.6012, AUC = 73.94%]\n",
      "Epoch  31/50: 100%|██████████| 1715/1715 [00:52<00:00, 32.52batch/s, Loss = 0.6013, AUC = 73.94%]\n",
      "Epoch  32/50: 100%|██████████| 1715/1715 [00:52<00:00, 32.54batch/s, Loss = 0.6013, AUC = 73.94%]\n",
      "Epoch  33/50: 100%|██████████| 1715/1715 [00:52<00:00, 32.36batch/s, Loss = 0.6013, AUC = 73.94%]\n",
      "Epoch  34/50: 100%|██████████| 1715/1715 [00:53<00:00, 32.33batch/s, Loss = 0.6013, AUC = 73.93%]\n",
      "Epoch  35/50: 100%|██████████| 1715/1715 [00:52<00:00, 32.50batch/s, Loss = 0.6015, AUC = 73.91%]\n",
      "Epoch  36/50: 100%|██████████| 1715/1715 [00:52<00:00, 32.39batch/s, Loss = 0.6014, AUC = 73.92%]\n",
      "Epoch  37/50: 100%|██████████| 1715/1715 [00:53<00:00, 32.36batch/s, Loss = 0.6014, AUC = 73.92%]\n",
      "Epoch  38/50: 100%|██████████| 1715/1715 [00:52<00:00, 32.56batch/s, Loss = 0.6014, AUC = 73.92%]\n",
      "Epoch  39/50: 100%|██████████| 1715/1715 [00:52<00:00, 32.43batch/s, Loss = 0.6014, AUC = 73.92%]\n",
      "Epoch  40/50: 100%|██████████| 1715/1715 [00:52<00:00, 32.43batch/s, Loss = 0.6013, AUC = 73.93%]\n",
      "Epoch  41/50: 100%|██████████| 1715/1715 [00:52<00:00, 32.59batch/s, Loss = 0.6013, AUC = 73.93%]\n",
      "Epoch  42/50: 100%|██████████| 1715/1715 [00:52<00:00, 32.42batch/s, Loss = 0.6013, AUC = 73.93%]\n",
      "Epoch  43/50: 100%|██████████| 1715/1715 [00:52<00:00, 32.43batch/s, Loss = 0.6012, AUC = 73.94%]\n",
      "Epoch  44/50: 100%|██████████| 1715/1715 [00:52<00:00, 32.57batch/s, Loss = 0.6014, AUC = 73.92%]\n",
      "Epoch  45/50: 100%|██████████| 1715/1715 [00:52<00:00, 32.58batch/s, Loss = 0.6013, AUC = 73.93%]\n",
      "Epoch  46/50: 100%|██████████| 1715/1715 [00:52<00:00, 32.56batch/s, Loss = 0.6013, AUC = 73.93%]\n",
      "Epoch  47/50: 100%|██████████| 1715/1715 [00:52<00:00, 32.48batch/s, Loss = 0.6013, AUC = 73.94%]\n",
      "Epoch  48/50: 100%|██████████| 1715/1715 [00:52<00:00, 32.65batch/s, Loss = 0.6014, AUC = 73.92%]\n",
      "Epoch  49/50: 100%|██████████| 1715/1715 [00:52<00:00, 32.57batch/s, Loss = 0.6013, AUC = 73.93%]\n",
      "Epoch  50/50: 100%|██████████| 1715/1715 [00:52<00:00, 32.62batch/s, Loss = 0.6012, AUC = 73.94%]\n"
     ]
    },
    {
     "name": "stdout",
     "output_type": "stream",
     "text": [
      "Total training time = 2676.78s, best validation AUC = 73.94% at epoch 30\n"
     ]
    },
    {
     "name": "stderr",
     "output_type": "stream",
     "text": [
      "Testing: 100%|██████████| 39/39 [00:01<00:00, 21.47batch/s, Loss = 0.6076, AUC = 73.25%]\n"
     ]
    }
   ],
   "source": [
    "model = VisionTransformer(num_classes=2, patch_size=8, hidden_size=6, num_heads=2, num_transformer_blocks=4, mlp_hidden_size=3,\n",
    "                          quantum_attn_circuit=get_circuit(), quantum_mlp_circuit=get_circuit())\n",
    "test_loss, test_auc, test_fpr, test_tpr = train_and_evaluate(model, ep_train_dataloader, ep_valid_dataloader, ep_test_dataloader, num_classes=2, num_epochs=50)"
   ]
  },
  {
   "cell_type": "code",
   "execution_count": 5,
   "metadata": {
    "execution": {
     "iopub.execute_input": "2023-10-09T22:51:12.100142Z",
     "iopub.status.busy": "2023-10-09T22:51:12.099990Z",
     "iopub.status.idle": "2023-10-10T00:04:30.699185Z",
     "shell.execute_reply": "2023-10-10T00:04:30.698736Z"
    }
   },
   "outputs": [
    {
     "name": "stdout",
     "output_type": "stream",
     "text": [
      "Number of parameters = 2290\n"
     ]
    },
    {
     "name": "stderr",
     "output_type": "stream",
     "text": [
      "Epoch   1/50: 100%|██████████| 1715/1715 [02:12<00:00, 12.97batch/s, Loss = 0.6914, AUC = 56.77%]\n",
      "Epoch   2/50: 100%|██████████| 1715/1715 [01:27<00:00, 19.69batch/s, Loss = 0.6730, AUC = 64.05%]\n",
      "Epoch   3/50: 100%|██████████| 1715/1715 [01:26<00:00, 19.76batch/s, Loss = 0.6509, AUC = 66.24%]\n",
      "Epoch   4/50: 100%|██████████| 1715/1715 [01:27<00:00, 19.69batch/s, Loss = 0.6470, AUC = 66.82%]\n",
      "Epoch   5/50: 100%|██████████| 1715/1715 [01:26<00:00, 19.77batch/s, Loss = 0.6439, AUC = 67.37%]\n",
      "Epoch   6/50: 100%|██████████| 1715/1715 [01:26<00:00, 19.73batch/s, Loss = 0.6405, AUC = 67.94%]\n",
      "Epoch   7/50: 100%|██████████| 1715/1715 [01:27<00:00, 19.70batch/s, Loss = 0.6373, AUC = 68.49%]\n",
      "Epoch   8/50: 100%|██████████| 1715/1715 [01:26<00:00, 19.71batch/s, Loss = 0.6346, AUC = 68.99%]\n",
      "Epoch   9/50: 100%|██████████| 1715/1715 [01:27<00:00, 19.69batch/s, Loss = 0.6269, AUC = 70.39%]\n",
      "Epoch  10/50: 100%|██████████| 1715/1715 [01:26<00:00, 19.78batch/s, Loss = 0.6185, AUC = 71.58%]\n",
      "Epoch  11/50: 100%|██████████| 1715/1715 [01:26<00:00, 19.82batch/s, Loss = 0.6111, AUC = 72.47%]\n",
      "Epoch  12/50: 100%|██████████| 1715/1715 [01:26<00:00, 19.76batch/s, Loss = 0.6056, AUC = 73.23%]\n",
      "Epoch  13/50: 100%|██████████| 1715/1715 [01:27<00:00, 19.67batch/s, Loss = 0.6038, AUC = 73.53%]\n",
      "Epoch  14/50: 100%|██████████| 1715/1715 [01:26<00:00, 19.79batch/s, Loss = 0.5997, AUC = 73.97%]\n",
      "Epoch  15/50: 100%|██████████| 1715/1715 [01:27<00:00, 19.68batch/s, Loss = 0.5958, AUC = 74.38%]\n",
      "Epoch  16/50: 100%|██████████| 1715/1715 [01:26<00:00, 19.77batch/s, Loss = 0.5946, AUC = 74.54%]\n",
      "Epoch  17/50: 100%|██████████| 1715/1715 [01:27<00:00, 19.70batch/s, Loss = 0.5944, AUC = 74.73%]\n",
      "Epoch  18/50: 100%|██████████| 1715/1715 [01:26<00:00, 19.77batch/s, Loss = 0.5897, AUC = 75.03%]\n",
      "Epoch  19/50: 100%|██████████| 1715/1715 [01:27<00:00, 19.70batch/s, Loss = 0.5909, AUC = 75.06%]\n",
      "Epoch  20/50: 100%|██████████| 1715/1715 [01:26<00:00, 19.78batch/s, Loss = 0.5921, AUC = 75.28%]\n",
      "Epoch  21/50: 100%|██████████| 1715/1715 [01:26<00:00, 19.73batch/s, Loss = 0.5904, AUC = 75.22%]\n",
      "Epoch  22/50: 100%|██████████| 1715/1715 [01:26<00:00, 19.80batch/s, Loss = 0.5876, AUC = 75.41%]\n",
      "Epoch  23/50: 100%|██████████| 1715/1715 [01:27<00:00, 19.67batch/s, Loss = 0.5872, AUC = 75.56%]\n",
      "Epoch  24/50: 100%|██████████| 1715/1715 [01:26<00:00, 19.75batch/s, Loss = 0.5849, AUC = 75.53%]\n",
      "Epoch  25/50: 100%|██████████| 1715/1715 [01:27<00:00, 19.68batch/s, Loss = 0.5856, AUC = 75.58%]\n",
      "Epoch  26/50: 100%|██████████| 1715/1715 [01:26<00:00, 19.82batch/s, Loss = 0.5852, AUC = 75.68%]\n",
      "Epoch  27/50: 100%|██████████| 1715/1715 [01:27<00:00, 19.70batch/s, Loss = 0.5843, AUC = 75.67%]\n",
      "Epoch  28/50: 100%|██████████| 1715/1715 [01:26<00:00, 19.77batch/s, Loss = 0.5846, AUC = 75.67%]\n",
      "Epoch  29/50: 100%|██████████| 1715/1715 [01:27<00:00, 19.69batch/s, Loss = 0.5846, AUC = 75.65%]\n",
      "Epoch  30/50: 100%|██████████| 1715/1715 [01:26<00:00, 19.81batch/s, Loss = 0.5846, AUC = 75.65%]\n",
      "Epoch  31/50: 100%|██████████| 1715/1715 [01:27<00:00, 19.70batch/s, Loss = 0.5846, AUC = 75.66%]\n",
      "Epoch  32/50: 100%|██████████| 1715/1715 [01:26<00:00, 19.82batch/s, Loss = 0.5844, AUC = 75.68%]\n",
      "Epoch  33/50: 100%|██████████| 1715/1715 [01:26<00:00, 19.72batch/s, Loss = 0.5847, AUC = 75.64%]\n",
      "Epoch  34/50: 100%|██████████| 1715/1715 [01:26<00:00, 19.75batch/s, Loss = 0.5846, AUC = 75.66%]\n",
      "Epoch  35/50: 100%|██████████| 1715/1715 [01:26<00:00, 19.75batch/s, Loss = 0.5844, AUC = 75.68%]\n",
      "Epoch  36/50: 100%|██████████| 1715/1715 [01:26<00:00, 19.73batch/s, Loss = 0.5847, AUC = 75.64%]\n",
      "Epoch  37/50: 100%|██████████| 1715/1715 [01:26<00:00, 19.74batch/s, Loss = 0.5847, AUC = 75.64%]\n",
      "Epoch  38/50: 100%|██████████| 1715/1715 [01:26<00:00, 19.78batch/s, Loss = 0.5846, AUC = 75.66%]\n",
      "Epoch  39/50: 100%|██████████| 1715/1715 [01:26<00:00, 19.75batch/s, Loss = 0.5847, AUC = 75.64%]\n",
      "Epoch  40/50: 100%|██████████| 1715/1715 [01:26<00:00, 19.78batch/s, Loss = 0.5847, AUC = 75.64%]\n",
      "Epoch  41/50: 100%|██████████| 1715/1715 [01:27<00:00, 19.68batch/s, Loss = 0.5846, AUC = 75.65%]\n",
      "Epoch  42/50: 100%|██████████| 1715/1715 [01:26<00:00, 19.77batch/s, Loss = 0.5846, AUC = 75.65%]\n",
      "Epoch  43/50: 100%|██████████| 1715/1715 [01:27<00:00, 19.70batch/s, Loss = 0.5847, AUC = 75.65%]\n",
      "Epoch  44/50: 100%|██████████| 1715/1715 [01:26<00:00, 19.80batch/s, Loss = 0.5846, AUC = 75.66%]\n",
      "Epoch  45/50: 100%|██████████| 1715/1715 [01:27<00:00, 19.68batch/s, Loss = 0.5846, AUC = 75.65%]\n",
      "Epoch  46/50: 100%|██████████| 1715/1715 [01:26<00:00, 19.83batch/s, Loss = 0.5846, AUC = 75.66%]\n",
      "Epoch  47/50: 100%|██████████| 1715/1715 [01:26<00:00, 19.73batch/s, Loss = 0.5844, AUC = 75.68%]\n",
      "Epoch  48/50: 100%|██████████| 1715/1715 [01:26<00:00, 19.83batch/s, Loss = 0.5847, AUC = 75.64%]\n",
      "Epoch  49/50: 100%|██████████| 1715/1715 [01:27<00:00, 19.68batch/s, Loss = 0.5846, AUC = 75.66%]\n",
      "Epoch  50/50: 100%|██████████| 1715/1715 [01:26<00:00, 19.74batch/s, Loss = 0.5846, AUC = 75.66%]\n"
     ]
    },
    {
     "name": "stdout",
     "output_type": "stream",
     "text": [
      "Total training time = 4388.94s, best validation AUC = 75.68% at epoch 26\n"
     ]
    },
    {
     "name": "stderr",
     "output_type": "stream",
     "text": [
      "Testing: 100%|██████████| 39/39 [00:01<00:00, 26.67batch/s, Loss = 0.5907, AUC = 75.30%]\n"
     ]
    }
   ],
   "source": [
    "model = VisionTransformer(num_classes=2, patch_size=10, hidden_size=8, num_heads=2, num_transformer_blocks=4, mlp_hidden_size=4,\n",
    "                          quantum_attn_circuit=get_circuit(), quantum_mlp_circuit=get_circuit())\n",
    "test_loss, test_auc, test_fpr, test_tpr = train_and_evaluate(model, ep_train_dataloader, ep_valid_dataloader, ep_test_dataloader, num_classes=2, num_epochs=50)"
   ]
  },
  {
   "cell_type": "markdown",
   "metadata": {},
   "source": [
    "---"
   ]
  },
  {
   "cell_type": "code",
   "execution_count": 6,
   "metadata": {
    "execution": {
     "iopub.execute_input": "2023-10-10T00:04:30.701076Z",
     "iopub.status.busy": "2023-10-10T00:04:30.700836Z",
     "iopub.status.idle": "2023-10-10T00:04:30.702958Z",
     "shell.execute_reply": "2023-10-10T00:04:30.702660Z"
    }
   },
   "outputs": [],
   "source": [
    "import tensorcircuit as tc"
   ]
  },
  {
   "cell_type": "code",
   "execution_count": 7,
   "metadata": {
    "execution": {
     "iopub.execute_input": "2023-10-10T00:04:30.704290Z",
     "iopub.status.busy": "2023-10-10T00:04:30.704173Z",
     "iopub.status.idle": "2023-10-10T00:04:30.707098Z",
     "shell.execute_reply": "2023-10-10T00:04:30.706804Z"
    }
   },
   "outputs": [],
   "source": [
    "def vqc_rot_xyz(c: tc.Circuit, inputs, weights):\n",
    "    num_qubits = inputs.shape[-1]\n",
    "    num_qlayers = weights.shape[-2]\n",
    "\n",
    "    for i in range(num_qlayers):\n",
    "        for j in range(num_qubits):\n",
    "            c.r_gate(j, theta=weights[i, j, 0], alpha=weights[i, j, 1], phi=weights[i, j, 2])\n",
    "        if num_qubits == 2:\n",
    "            c.cnot(0, 1)\n",
    "        elif num_qubits > 2:\n",
    "            for j in range(num_qubits):\n",
    "                c.cnot(j, (j + 1) % num_qubits)"
   ]
  },
  {
   "cell_type": "code",
   "execution_count": 8,
   "metadata": {
    "execution": {
     "iopub.execute_input": "2023-10-10T00:04:30.708422Z",
     "iopub.status.busy": "2023-10-10T00:04:30.708301Z",
     "iopub.status.idle": "2023-10-10T01:17:44.492147Z",
     "shell.execute_reply": "2023-10-10T01:17:44.491578Z"
    }
   },
   "outputs": [
    {
     "name": "stdout",
     "output_type": "stream",
     "text": [
      "Number of parameters = 2290\n"
     ]
    },
    {
     "name": "stderr",
     "output_type": "stream",
     "text": [
      "Epoch   1/50: 100%|██████████| 1715/1715 [02:10<00:00, 13.12batch/s, Loss = 0.6912, AUC = 56.67%]\n",
      "Epoch   2/50: 100%|██████████| 1715/1715 [01:26<00:00, 19.86batch/s, Loss = 0.6726, AUC = 63.91%]\n",
      "Epoch   3/50: 100%|██████████| 1715/1715 [01:26<00:00, 19.75batch/s, Loss = 0.6543, AUC = 66.08%]\n",
      "Epoch   4/50: 100%|██████████| 1715/1715 [01:27<00:00, 19.70batch/s, Loss = 0.6455, AUC = 67.10%]\n",
      "Epoch   5/50: 100%|██████████| 1715/1715 [01:26<00:00, 19.76batch/s, Loss = 0.6444, AUC = 67.43%]\n",
      "Epoch   6/50: 100%|██████████| 1715/1715 [01:27<00:00, 19.70batch/s, Loss = 0.6413, AUC = 67.75%]\n",
      "Epoch   7/50: 100%|██████████| 1715/1715 [01:26<00:00, 19.82batch/s, Loss = 0.6386, AUC = 68.13%]\n",
      "Epoch   8/50: 100%|██████████| 1715/1715 [01:26<00:00, 19.73batch/s, Loss = 0.6325, AUC = 69.38%]\n",
      "Epoch   9/50: 100%|██████████| 1715/1715 [01:26<00:00, 19.77batch/s, Loss = 0.6234, AUC = 70.97%]\n",
      "Epoch  10/50: 100%|██████████| 1715/1715 [01:27<00:00, 19.71batch/s, Loss = 0.6164, AUC = 71.88%]\n",
      "Epoch  11/50: 100%|██████████| 1715/1715 [01:26<00:00, 19.76batch/s, Loss = 0.6137, AUC = 72.49%]\n",
      "Epoch  12/50: 100%|██████████| 1715/1715 [01:26<00:00, 19.76batch/s, Loss = 0.6119, AUC = 73.17%]\n",
      "Epoch  13/50: 100%|██████████| 1715/1715 [01:27<00:00, 19.68batch/s, Loss = 0.6063, AUC = 73.35%]\n",
      "Epoch  14/50: 100%|██████████| 1715/1715 [01:26<00:00, 19.78batch/s, Loss = 0.6013, AUC = 73.86%]\n",
      "Epoch  15/50: 100%|██████████| 1715/1715 [01:27<00:00, 19.67batch/s, Loss = 0.6005, AUC = 74.28%]\n",
      "Epoch  16/50: 100%|██████████| 1715/1715 [01:26<00:00, 19.82batch/s, Loss = 0.5948, AUC = 74.47%]\n",
      "Epoch  17/50: 100%|██████████| 1715/1715 [01:27<00:00, 19.67batch/s, Loss = 0.5978, AUC = 74.68%]\n",
      "Epoch  18/50: 100%|██████████| 1715/1715 [01:26<00:00, 19.82batch/s, Loss = 0.5953, AUC = 74.98%]\n",
      "Epoch  19/50: 100%|██████████| 1715/1715 [01:26<00:00, 19.74batch/s, Loss = 0.5905, AUC = 75.01%]\n",
      "Epoch  20/50: 100%|██████████| 1715/1715 [01:26<00:00, 19.78batch/s, Loss = 0.5910, AUC = 75.21%]\n",
      "Epoch  21/50: 100%|██████████| 1715/1715 [01:26<00:00, 19.74batch/s, Loss = 0.5893, AUC = 75.37%]\n",
      "Epoch  22/50: 100%|██████████| 1715/1715 [01:26<00:00, 19.77batch/s, Loss = 0.5869, AUC = 75.37%]\n",
      "Epoch  23/50: 100%|██████████| 1715/1715 [01:26<00:00, 19.76batch/s, Loss = 0.5870, AUC = 75.36%]\n",
      "Epoch  24/50: 100%|██████████| 1715/1715 [01:27<00:00, 19.65batch/s, Loss = 0.5878, AUC = 75.53%]\n",
      "Epoch  25/50: 100%|██████████| 1715/1715 [01:26<00:00, 19.73batch/s, Loss = 0.5854, AUC = 75.53%]\n",
      "Epoch  26/50: 100%|██████████| 1715/1715 [01:27<00:00, 19.71batch/s, Loss = 0.5862, AUC = 75.59%]\n",
      "Epoch  27/50: 100%|██████████| 1715/1715 [01:27<00:00, 19.71batch/s, Loss = 0.5859, AUC = 75.59%]\n",
      "Epoch  28/50: 100%|██████████| 1715/1715 [01:27<00:00, 19.69batch/s, Loss = 0.5855, AUC = 75.61%]\n",
      "Epoch  29/50: 100%|██████████| 1715/1715 [01:27<00:00, 19.70batch/s, Loss = 0.5855, AUC = 75.62%]\n",
      "Epoch  30/50: 100%|██████████| 1715/1715 [01:26<00:00, 19.76batch/s, Loss = 0.5859, AUC = 75.57%]\n",
      "Epoch  31/50: 100%|██████████| 1715/1715 [01:27<00:00, 19.71batch/s, Loss = 0.5859, AUC = 75.57%]\n",
      "Epoch  32/50: 100%|██████████| 1715/1715 [01:27<00:00, 19.71batch/s, Loss = 0.5857, AUC = 75.59%]\n",
      "Epoch  33/50: 100%|██████████| 1715/1715 [01:27<00:00, 19.54batch/s, Loss = 0.5859, AUC = 75.57%]\n",
      "Epoch  34/50: 100%|██████████| 1715/1715 [01:26<00:00, 19.80batch/s, Loss = 0.5858, AUC = 75.58%]\n",
      "Epoch  35/50: 100%|██████████| 1715/1715 [01:26<00:00, 19.74batch/s, Loss = 0.5859, AUC = 75.57%]\n",
      "Epoch  36/50: 100%|██████████| 1715/1715 [01:27<00:00, 19.69batch/s, Loss = 0.5859, AUC = 75.57%]\n",
      "Epoch  37/50: 100%|██████████| 1715/1715 [01:27<00:00, 19.60batch/s, Loss = 0.5858, AUC = 75.59%]\n",
      "Epoch  38/50: 100%|██████████| 1715/1715 [01:26<00:00, 19.81batch/s, Loss = 0.5858, AUC = 75.59%]\n",
      "Epoch  39/50: 100%|██████████| 1715/1715 [01:27<00:00, 19.54batch/s, Loss = 0.5859, AUC = 75.57%]\n",
      "Epoch  40/50: 100%|██████████| 1715/1715 [01:27<00:00, 19.70batch/s, Loss = 0.5857, AUC = 75.59%]\n",
      "Epoch  41/50: 100%|██████████| 1715/1715 [01:26<00:00, 19.82batch/s, Loss = 0.5857, AUC = 75.59%]\n",
      "Epoch  42/50: 100%|██████████| 1715/1715 [01:26<00:00, 19.75batch/s, Loss = 0.5858, AUC = 75.59%]\n",
      "Epoch  43/50: 100%|██████████| 1715/1715 [01:26<00:00, 19.76batch/s, Loss = 0.5859, AUC = 75.57%]\n",
      "Epoch  44/50: 100%|██████████| 1715/1715 [01:27<00:00, 19.70batch/s, Loss = 0.5857, AUC = 75.59%]\n",
      "Epoch  45/50: 100%|██████████| 1715/1715 [01:26<00:00, 19.79batch/s, Loss = 0.5858, AUC = 75.59%]\n",
      "Epoch  46/50: 100%|██████████| 1715/1715 [01:27<00:00, 19.68batch/s, Loss = 0.5858, AUC = 75.59%]\n",
      "Epoch  47/50: 100%|██████████| 1715/1715 [01:26<00:00, 19.75batch/s, Loss = 0.5857, AUC = 75.59%]\n",
      "Epoch  48/50: 100%|██████████| 1715/1715 [01:27<00:00, 19.70batch/s, Loss = 0.5857, AUC = 75.59%]\n",
      "Epoch  49/50: 100%|██████████| 1715/1715 [01:26<00:00, 19.80batch/s, Loss = 0.5858, AUC = 75.59%]\n",
      "Epoch  50/50: 100%|██████████| 1715/1715 [01:26<00:00, 19.73batch/s, Loss = 0.5857, AUC = 75.59%]\n"
     ]
    },
    {
     "name": "stdout",
     "output_type": "stream",
     "text": [
      "Total training time = 4389.95s, best validation AUC = 75.62% at epoch 29\n"
     ]
    },
    {
     "name": "stderr",
     "output_type": "stream",
     "text": [
      "Testing: 100%|██████████| 39/39 [00:01<00:00, 27.24batch/s, Loss = 0.5912, AUC = 75.17%]\n"
     ]
    }
   ],
   "source": [
    "model = VisionTransformer(num_classes=2, patch_size=10, hidden_size=8, num_heads=2, num_transformer_blocks=4, mlp_hidden_size=4,\n",
    "                          quantum_attn_circuit=get_circuit(), quantum_mlp_circuit=get_circuit())\n",
    "test_loss, test_auc, test_fpr, test_tpr = train_and_evaluate(model, ep_train_dataloader, ep_valid_dataloader, ep_test_dataloader, num_classes=2, num_epochs=50)"
   ]
  }
 ],
 "metadata": {
  "kernelspec": {
   "display_name": "gsoc",
   "language": "python",
   "name": "python3"
  },
  "language_info": {
   "codemirror_mode": {
    "name": "ipython",
    "version": 3
   },
   "file_extension": ".py",
   "mimetype": "text/x-python",
   "name": "python",
   "nbconvert_exporter": "python",
   "pygments_lexer": "ipython3",
   "version": "3.11.4"
  }
 },
 "nbformat": 4,
 "nbformat_minor": 2
}
