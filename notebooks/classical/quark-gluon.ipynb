{
 "cells": [
  {
   "cell_type": "markdown",
   "metadata": {},
   "source": [
    "# Quark-Gluon (Classical)\n",
    "\n",
    "This notebook trains and evaluates classical baselines for the quark-gluon classification task.\n",
    "You can find information about the dataset at https://arxiv.org/abs/1902.08276."
   ]
  },
  {
   "cell_type": "code",
   "execution_count": 1,
   "metadata": {
    "execution": {
     "iopub.execute_input": "2023-09-25T19:24:18.737997Z",
     "iopub.status.busy": "2023-09-25T19:24:18.737705Z",
     "iopub.status.idle": "2023-09-25T19:24:40.457515Z",
     "shell.execute_reply": "2023-09-25T19:24:40.457116Z"
    }
   },
   "outputs": [
    {
     "name": "stderr",
     "output_type": "stream",
     "text": [
      "2023-09-28 00:06:55.675850: E tensorflow/compiler/xla/stream_executor/cuda/cuda_dnn.cc:9342] Unable to register cuDNN factory: Attempting to register factory for plugin cuDNN when one has already been registered\n",
      "2023-09-28 00:06:55.675896: E tensorflow/compiler/xla/stream_executor/cuda/cuda_fft.cc:609] Unable to register cuFFT factory: Attempting to register factory for plugin cuFFT when one has already been registered\n",
      "2023-09-28 00:06:55.675933: E tensorflow/compiler/xla/stream_executor/cuda/cuda_blas.cc:1518] Unable to register cuBLAS factory: Attempting to register factory for plugin cuBLAS when one has already been registered\n",
      "2023-09-28 00:06:57.032149: W tensorflow/compiler/tf2tensorrt/utils/py_utils.cc:38] TF-TRT Warning: Could not find TensorRT\n"
     ]
    },
    {
     "name": "stdout",
     "output_type": "stream",
     "text": [
      "WARNING:tensorflow:From /global/common/software/m4392/conda/gsoc/lib/python3.11/site-packages/tensorflow/python/ops/distributions/distribution.py:259: ReparameterizationType.__init__ (from tensorflow.python.ops.distributions.distribution) is deprecated and will be removed after 2019-01-01.\n",
      "Instructions for updating:\n",
      "The TensorFlow Distributions library has moved to TensorFlow Probability (https://github.com/tensorflow/probability). You should update all references to use `tfp.distributions` instead of `tf.distributions`.\n",
      "WARNING:tensorflow:From /global/common/software/m4392/conda/gsoc/lib/python3.11/site-packages/tensorflow/python/ops/distributions/bernoulli.py:165: RegisterKL.__init__ (from tensorflow.python.ops.distributions.kullback_leibler) is deprecated and will be removed after 2019-01-01.\n",
      "Instructions for updating:\n",
      "The TensorFlow Distributions library has moved to TensorFlow Probability (https://github.com/tensorflow/probability). You should update all references to use `tfp.distributions` instead of `tf.distributions`.\n"
     ]
    },
    {
     "name": "stderr",
     "output_type": "stream",
     "text": [
      "Please first ``pip install -U cirq`` to enable related functionality in translation module\n"
     ]
    }
   ],
   "source": [
    "import jax\n",
    "import tensorflow as tf\n",
    "tf.config.set_visible_devices([], device_type='GPU')  # Ensure TF does not see GPU and grab all GPU memory.\n",
    "tf.random.set_seed(42)  # For reproducibility.\n",
    "\n",
    "from quantum_transformers.utils import plot_image\n",
    "from quantum_transformers.datasets import get_quark_gluon_dataloaders\n",
    "from quantum_transformers.training import train_and_evaluate\n",
    "from quantum_transformers.transformers import VisionTransformer\n",
    "\n",
    "data_dir = '/global/cfs/cdirs/m4392/salcc/data'"
   ]
  },
  {
   "cell_type": "markdown",
   "metadata": {},
   "source": [
    "The models are trained using the following devices:"
   ]
  },
  {
   "cell_type": "code",
   "execution_count": 2,
   "metadata": {
    "execution": {
     "iopub.execute_input": "2023-09-25T19:24:40.459753Z",
     "iopub.status.busy": "2023-09-25T19:24:40.459401Z",
     "iopub.status.idle": "2023-09-25T19:24:40.932251Z",
     "shell.execute_reply": "2023-09-25T19:24:40.931874Z"
    }
   },
   "outputs": [
    {
     "name": "stdout",
     "output_type": "stream",
     "text": [
      "gpu:0 NVIDIA A100-PCIE-40GB\n"
     ]
    }
   ],
   "source": [
    "for d in jax.devices():\n",
    "    print(d, d.device_kind)"
   ]
  },
  {
   "cell_type": "markdown",
   "metadata": {},
   "source": [
    "Let's check how many samples the dataset has, the shape of the input data, and how one sample looks like."
   ]
  },
  {
   "cell_type": "code",
   "execution_count": 3,
   "metadata": {
    "execution": {
     "iopub.execute_input": "2023-09-25T19:24:40.933945Z",
     "iopub.status.busy": "2023-09-25T19:24:40.933748Z",
     "iopub.status.idle": "2023-09-25T19:24:42.957537Z",
     "shell.execute_reply": "2023-09-25T19:24:42.957143Z"
    }
   },
   "outputs": [
    {
     "name": "stdout",
     "output_type": "stream",
     "text": [
      "Cardinalities (train, val, test): 714510 79390 139306\n",
      "(125, 125, 3)\n"
     ]
    },
    {
     "data": {
      "image/png": "[encoded data removed]",
      "text/plain": [
       "<Figure size 900x300 with 3 Axes>"
      ]
     },
     "metadata": {},
     "output_type": "display_data"
    }
   ],
   "source": [
    "qg_train_dataloader, qg_val_dataloader, qg_test_dataloader = get_quark_gluon_dataloaders(batch_size=256, data_dir=data_dir)\n",
    "first_image = next(iter(qg_train_dataloader))[0][0]\n",
    "print(first_image.shape)\n",
    "plot_image(first_image, abs_log=True)"
   ]
  },
  {
   "cell_type": "markdown",
   "metadata": {},
   "source": [
    "Next, we train a ViT that obtains a good AUC score on the test set (hyperparameters found by random hyperparameter search)."
   ]
  },
  {
   "cell_type": "code",
   "execution_count": 4,
   "metadata": {
    "execution": {
     "iopub.execute_input": "2023-09-25T20:02:04.902655Z",
     "iopub.status.busy": "2023-09-25T20:02:04.902480Z",
     "iopub.status.idle": "2023-09-25T20:39:32.523854Z",
     "shell.execute_reply": "2023-09-25T20:39:32.523197Z"
    }
   },
   "outputs": [
    {
     "name": "stdout",
     "output_type": "stream",
     "text": [
      "Number of parameters = 5178\n"
     ]
    },
    {
     "name": "stderr",
     "output_type": "stream",
     "text": [
      "Epoch   1/25: 100%|██████████| 2791/2791 [01:10<00:00, 39.68batch/s, Loss = 0.5908, AUC = 75.51%]\n",
      "Epoch   2/25: 100%|██████████| 2791/2791 [01:01<00:00, 45.48batch/s, Loss = 0.5674, AUC = 78.41%]\n",
      "Epoch   3/25: 100%|██████████| 2791/2791 [01:04<00:00, 43.46batch/s, Loss = 0.5579, AUC = 78.93%]\n",
      "Epoch   4/25: 100%|██████████| 2791/2791 [01:01<00:00, 45.69batch/s, Loss = 0.5548, AUC = 79.20%]\n",
      "Epoch   5/25: 100%|██████████| 2791/2791 [01:02<00:00, 44.74batch/s, Loss = 0.5533, AUC = 79.33%]\n",
      "Epoch   6/25: 100%|██████████| 2791/2791 [01:01<00:00, 45.58batch/s, Loss = 0.5511, AUC = 79.44%]\n",
      "Epoch   7/25: 100%|██████████| 2791/2791 [01:01<00:00, 45.20batch/s, Loss = 0.5536, AUC = 79.50%]\n",
      "Epoch   8/25: 100%|██████████| 2791/2791 [01:02<00:00, 44.48batch/s, Loss = 0.5549, AUC = 79.55%]\n",
      "Epoch   9/25: 100%|██████████| 2791/2791 [01:01<00:00, 45.63batch/s, Loss = 0.5510, AUC = 79.58%]\n",
      "Epoch  10/25: 100%|██████████| 2791/2791 [01:03<00:00, 44.14batch/s, Loss = 0.5507, AUC = 79.61%]\n",
      "Epoch  11/25: 100%|██████████| 2791/2791 [01:00<00:00, 46.48batch/s, Loss = 0.5509, AUC = 79.66%]\n",
      "Epoch  12/25: 100%|██████████| 2791/2791 [01:04<00:00, 43.14batch/s, Loss = 0.5502, AUC = 79.67%]\n",
      "Epoch  13/25: 100%|██████████| 2791/2791 [01:04<00:00, 43.29batch/s, Loss = 0.5503, AUC = 79.73%]\n",
      "Epoch  14/25: 100%|██████████| 2791/2791 [01:02<00:00, 44.60batch/s, Loss = 0.5499, AUC = 79.73%]\n",
      "Epoch  15/25: 100%|██████████| 2791/2791 [01:03<00:00, 44.01batch/s, Loss = 0.5506, AUC = 79.74%]\n",
      "Epoch  16/25: 100%|██████████| 2791/2791 [01:03<00:00, 43.97batch/s, Loss = 0.5497, AUC = 79.76%]\n",
      "Epoch  17/25: 100%|██████████| 2791/2791 [01:04<00:00, 43.11batch/s, Loss = 0.5503, AUC = 79.75%]\n",
      "Epoch  18/25: 100%|██████████| 2791/2791 [01:02<00:00, 44.94batch/s, Loss = 0.5501, AUC = 79.75%]\n",
      "Epoch  19/25: 100%|██████████| 2791/2791 [01:02<00:00, 44.80batch/s, Loss = 0.5501, AUC = 79.75%]\n",
      "Epoch  20/25: 100%|██████████| 2791/2791 [01:00<00:00, 46.23batch/s, Loss = 0.5500, AUC = 79.76%]\n",
      "Epoch  21/25: 100%|██████████| 2791/2791 [01:05<00:00, 42.66batch/s, Loss = 0.5501, AUC = 79.75%]\n",
      "Epoch  22/25: 100%|██████████| 2791/2791 [01:03<00:00, 43.68batch/s, Loss = 0.5500, AUC = 79.76%]\n",
      "Epoch  23/25: 100%|██████████| 2791/2791 [01:01<00:00, 45.41batch/s, Loss = 0.5501, AUC = 79.76%]\n",
      "Epoch  24/25: 100%|██████████| 2791/2791 [01:01<00:00, 45.46batch/s, Loss = 0.5501, AUC = 79.75%]\n",
      "Epoch  25/25: 100%|██████████| 2791/2791 [01:02<00:00, 44.54batch/s, Loss = 0.5500, AUC = 79.76%]\n"
     ]
    },
    {
     "name": "stdout",
     "output_type": "stream",
     "text": [
      "Total training time = 1572.68s, best validation AUC = 79.76% at epoch 25\n"
     ]
    },
    {
     "name": "stderr",
     "output_type": "stream",
     "text": [
      "Testing: 100%|██████████| 544/544 [00:30<00:00, 18.00batch/s, Loss = 0.5553, AUC = 79.37%]\n"
     ]
    }
   ],
   "source": [
    "model = VisionTransformer(num_classes=2, patch_size=10, hidden_size=8, num_heads=2, num_transformer_blocks=4, mlp_hidden_size=4)\n",
    "test_loss, test_auc, test_fpr, test_tpr = train_and_evaluate(model, qg_train_dataloader, qg_val_dataloader, qg_test_dataloader, num_classes=2, num_epochs=25)"
   ]
  },
  {
   "cell_type": "code",
   "execution_count": 17,
   "metadata": {},
   "outputs": [],
   "source": [
    "import pickle\n",
    "with open('qg_pr.pkl', 'wb') as f:\n",
    "    pickle.dump((test_fpr, test_tpr, test_auc / 100), f)"
   ]
  }
 ],
 "metadata": {
  "kernelspec": {
   "display_name": "gsoc",
   "language": "python",
   "name": "python3"
  },
  "language_info": {
   "codemirror_mode": {
    "name": "ipython",
    "version": 3
   },
   "file_extension": ".py",
   "mimetype": "text/x-python",
   "name": "python",
   "nbconvert_exporter": "python",
   "pygments_lexer": "ipython3",
   "version": "3.11.4"
  }
 },
 "nbformat": 4,
 "nbformat_minor": 2
}
