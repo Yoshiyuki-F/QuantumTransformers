{
 "cells": [
  {
   "cell_type": "code",
   "execution_count": 1,
   "metadata": {
    "execution": {
     "iopub.execute_input": "2023-08-21T21:50:58.192920Z",
     "iopub.status.busy": "2023-08-21T21:50:58.192798Z",
     "iopub.status.idle": "2023-08-21T21:51:18.530770Z",
     "shell.execute_reply": "2023-08-21T21:51:18.530312Z"
    }
   },
   "outputs": [
    {
     "name": "stderr",
     "output_type": "stream",
     "text": [
      "2023-08-22 00:08:08.321635: E tensorflow/compiler/xla/stream_executor/cuda/cuda_dnn.cc:9342] Unable to register cuDNN factory: Attempting to register factory for plugin cuDNN when one has already been registered\n",
      "2023-08-22 00:08:08.321672: E tensorflow/compiler/xla/stream_executor/cuda/cuda_fft.cc:609] Unable to register cuFFT factory: Attempting to register factory for plugin cuFFT when one has already been registered\n",
      "2023-08-22 00:08:08.321692: E tensorflow/compiler/xla/stream_executor/cuda/cuda_blas.cc:1518] Unable to register cuBLAS factory: Attempting to register factory for plugin cuBLAS when one has already been registered\n",
      "2023-08-22 00:08:09.315512: W tensorflow/compiler/tf2tensorrt/utils/py_utils.cc:38] TF-TRT Warning: Could not find TensorRT\n"
     ]
    },
    {
     "name": "stdout",
     "output_type": "stream",
     "text": [
      "WARNING:tensorflow:From /global/common/software/m4392/conda/gsoc/lib/python3.11/site-packages/tensorflow/python/ops/distributions/distribution.py:259: ReparameterizationType.__init__ (from tensorflow.python.ops.distributions.distribution) is deprecated and will be removed after 2019-01-01.\n",
      "Instructions for updating:\n",
      "The TensorFlow Distributions library has moved to TensorFlow Probability (https://github.com/tensorflow/probability). You should update all references to use `tfp.distributions` instead of `tf.distributions`.\n",
      "WARNING:tensorflow:From /global/common/software/m4392/conda/gsoc/lib/python3.11/site-packages/tensorflow/python/ops/distributions/bernoulli.py:165: RegisterKL.__init__ (from tensorflow.python.ops.distributions.kullback_leibler) is deprecated and will be removed after 2019-01-01.\n",
      "Instructions for updating:\n",
      "The TensorFlow Distributions library has moved to TensorFlow Probability (https://github.com/tensorflow/probability). You should update all references to use `tfp.distributions` instead of `tf.distributions`.\n"
     ]
    },
    {
     "name": "stderr",
     "output_type": "stream",
     "text": [
      "Please first ``pip install -U cirq`` to enable related functionality in translation module\n"
     ]
    }
   ],
   "source": [
    "import jax\n",
    "\n",
    "from quantum_transformers.utils import plot_image\n",
    "from quantum_transformers.datasets import get_mnist_dataloaders\n",
    "from quantum_transformers.training import train_and_evaluate\n",
    "from quantum_transformers.transformers import VisionTransformer\n",
    "\n",
    "data_dir = '/global/cfs/cdirs/m4392/salcc/data'"
   ]
  },
  {
   "cell_type": "code",
   "execution_count": 2,
   "metadata": {},
   "outputs": [
    {
     "name": "stdout",
     "output_type": "stream",
     "text": [
      "gpu:0 NVIDIA A100-SXM4-80GB\n"
     ]
    }
   ],
   "source": [
    "for d in jax.devices():\n",
    "    print(d, d.device_kind)"
   ]
  },
  {
   "cell_type": "code",
   "execution_count": 3,
   "metadata": {
    "execution": {
     "iopub.execute_input": "2023-08-21T21:51:18.533301Z",
     "iopub.status.busy": "2023-08-21T21:51:18.532891Z",
     "iopub.status.idle": "2023-08-21T21:51:19.338293Z",
     "shell.execute_reply": "2023-08-21T21:51:19.337903Z"
    }
   },
   "outputs": [
    {
     "name": "stdout",
     "output_type": "stream",
     "text": [
      "(28, 28, 1)\n"
     ]
    },
    {
     "data": {
      "image/png": "[encoded data removed]",
      "text/plain": [
       "<Figure size 300x300 with 1 Axes>"
      ]
     },
     "metadata": {},
     "output_type": "display_data"
    }
   ],
   "source": [
    "mnist_train_dataloader, mnist_valid_dataloader = get_mnist_dataloaders(batch_size=64, data_dir=data_dir)\n",
    "first_image = next(iter(mnist_train_dataloader))[0][0]\n",
    "print(first_image.shape)\n",
    "plot_image(first_image)"
   ]
  },
  {
   "cell_type": "code",
   "execution_count": 4,
   "metadata": {
    "execution": {
     "iopub.execute_input": "2023-08-21T21:51:19.340177Z",
     "iopub.status.busy": "2023-08-21T21:51:19.339906Z",
     "iopub.status.idle": "2023-08-21T21:55:18.654837Z",
     "shell.execute_reply": "2023-08-21T21:55:18.654413Z"
    }
   },
   "outputs": [
    {
     "name": "stderr",
     "output_type": "stream",
     "text": [
      "Epoch   1/30: 100%|██████████| 937/937 [00:14<00:00, 63.31batch/s, Loss = 0.2017, AUC = 99.67%]                                           \n",
      "Epoch   2/30: 100%|██████████| 937/937 [00:07<00:00, 122.37batch/s, Loss = 0.1455, AUC = 99.83%]                                          \n",
      "Epoch   3/30: 100%|██████████| 937/937 [00:12<00:00, 76.70batch/s, Loss = 0.1245, AUC = 99.88%]                                           \n",
      "Epoch   4/30: 100%|██████████| 937/937 [00:08<00:00, 110.80batch/s, Loss = 0.1120, AUC = 99.91%]                                          \n",
      "Epoch   5/30: 100%|██████████| 937/937 [00:10<00:00, 93.45batch/s, Loss = 0.1013, AUC = 99.92%]                                           \n",
      "Epoch   6/30: 100%|██████████| 937/937 [00:12<00:00, 74.94batch/s, Loss = 0.0952, AUC = 99.93%]                                           \n",
      "Epoch   7/30: 100%|██████████| 937/937 [00:10<00:00, 91.58batch/s, Loss = 0.0882, AUC = 99.94%]                                           \n",
      "Epoch   8/30: 100%|██████████| 937/937 [00:08<00:00, 111.23batch/s, Loss = 0.0862, AUC = 99.95%]                                          \n",
      "Epoch   9/30: 100%|██████████| 937/937 [00:10<00:00, 86.90batch/s, Loss = 0.0803, AUC = 99.95%]                                           \n",
      "Epoch  10/30: 100%|██████████| 937/937 [00:12<00:00, 76.13batch/s, Loss = 0.0810, AUC = 99.95%]                                           \n",
      "Epoch  11/30: 100%|██████████| 937/937 [00:10<00:00, 87.84batch/s, Loss = 0.0737, AUC = 99.96%]                                           \n",
      "Epoch  12/30: 100%|██████████| 937/937 [00:11<00:00, 80.95batch/s, Loss = 0.0739, AUC = 99.96%]                                           \n",
      "Epoch  13/30: 100%|██████████| 937/937 [00:15<00:00, 59.59batch/s, Loss = 0.0793, AUC = 99.96%]                                           \n",
      "Epoch  14/30: 100%|██████████| 937/937 [00:14<00:00, 64.38batch/s, Loss = 0.0726, AUC = 99.96%]                                           \n",
      "Epoch  15/30: 100%|██████████| 937/937 [00:14<00:00, 64.39batch/s, Loss = 0.0689, AUC = 99.97%]                                           \n",
      "Epoch  16/30: 100%|██████████| 937/937 [00:13<00:00, 68.34batch/s, Loss = 0.0684, AUC = 99.97%]                                           \n",
      "Epoch  17/30: 100%|██████████| 937/937 [00:12<00:00, 78.03batch/s, Loss = 0.0635, AUC = 99.97%]                                           \n",
      "Epoch  18/30: 100%|██████████| 937/937 [00:15<00:00, 60.79batch/s, Loss = 0.0636, AUC = 99.97%]                                           \n",
      "Epoch  19/30: 100%|██████████| 937/937 [00:15<00:00, 59.66batch/s, Loss = 0.0702, AUC = 99.97%]                                           \n",
      "Epoch  20/30: 100%|██████████| 937/937 [00:14<00:00, 64.41batch/s, Loss = 0.0663, AUC = 99.97%]                                           \n",
      "Epoch  21/30: 100%|██████████| 937/937 [00:12<00:00, 74.77batch/s, Loss = 0.0641, AUC = 99.97%]                                           \n",
      "Epoch  22/30: 100%|██████████| 937/937 [00:13<00:00, 69.00batch/s, Loss = 0.0619, AUC = 99.97%]                                           \n",
      "Epoch  23/30: 100%|██████████| 937/937 [00:15<00:00, 60.61batch/s, Loss = 0.0663, AUC = 99.97%]                                           \n",
      "Epoch  24/30: 100%|██████████| 937/937 [00:15<00:00, 61.47batch/s, Loss = 0.0593, AUC = 99.98%]                                           \n",
      "Epoch  25/30: 100%|██████████| 937/937 [00:13<00:00, 68.81batch/s, Loss = 0.0603, AUC = 99.98%]                                           \n",
      "Epoch  26/30: 100%|██████████| 937/937 [00:13<00:00, 67.89batch/s, Loss = 0.0616, AUC = 99.98%]                                           \n",
      "Epoch  27/30: 100%|██████████| 937/937 [00:12<00:00, 74.64batch/s, Loss = 0.0594, AUC = 99.98%]                                           \n",
      "Epoch  28/30: 100%|██████████| 937/937 [00:15<00:00, 62.09batch/s, Loss = 0.0658, AUC = 99.97%]                                           \n",
      "Epoch  29/30: 100%|██████████| 937/937 [00:14<00:00, 64.13batch/s, Loss = 0.0596, AUC = 99.98%]                                           \n",
      "Epoch  30/30: 100%|██████████| 937/937 [00:15<00:00, 61.12batch/s, Loss = 0.0601, AUC = 99.98%]                                           "
     ]
    },
    {
     "name": "stdout",
     "output_type": "stream",
     "text": [
      "TOTAL TIME = 387.73s\n",
      "BEST AUC = 99.98% AT EPOCH 29\n"
     ]
    },
    {
     "name": "stderr",
     "output_type": "stream",
     "text": [
      "\n"
     ]
    }
   ],
   "source": [
    "model = VisionTransformer(num_classes=10, patch_size=14, hidden_size=64, num_heads=2, num_transformer_blocks=4, mlp_hidden_size=32)\n",
    "train_and_evaluate(model, mnist_train_dataloader, mnist_valid_dataloader, num_classes=10, learning_rate=0.0003, num_epochs=30)"
   ]
  },
  {
   "cell_type": "code",
   "execution_count": 5,
   "metadata": {
    "execution": {
     "iopub.execute_input": "2023-08-21T21:55:18.656953Z",
     "iopub.status.busy": "2023-08-21T21:55:18.656779Z",
     "iopub.status.idle": "2023-08-21T21:58:00.624829Z",
     "shell.execute_reply": "2023-08-21T21:58:00.624240Z"
    }
   },
   "outputs": [
    {
     "name": "stderr",
     "output_type": "stream",
     "text": [
      "Epoch   1/30: 100%|██████████| 937/937 [00:14<00:00, 64.78batch/s, Loss = 1.7837, AUC = 82.21%]                                           \n",
      "Epoch   2/30: 100%|██████████| 937/937 [00:08<00:00, 112.94batch/s, Loss = 1.4358, AUC = 89.21%]                                          \n",
      "Epoch   3/30: 100%|██████████| 937/937 [00:08<00:00, 113.92batch/s, Loss = 1.2125, AUC = 92.21%]                                          \n",
      "Epoch   4/30: 100%|██████████| 937/937 [00:09<00:00, 100.93batch/s, Loss = 1.0593, AUC = 94.27%]                                          \n",
      "Epoch   5/30: 100%|██████████| 937/937 [00:08<00:00, 111.98batch/s, Loss = 0.9239, AUC = 95.38%]                                          \n",
      "Epoch   6/30: 100%|██████████| 937/937 [00:07<00:00, 127.57batch/s, Loss = 0.8283, AUC = 96.06%]                                          \n",
      "Epoch   7/30: 100%|██████████| 937/937 [00:08<00:00, 108.97batch/s, Loss = 0.7525, AUC = 96.61%]                                          \n",
      "Epoch   8/30: 100%|██████████| 937/937 [00:09<00:00, 97.52batch/s, Loss = 0.6891, AUC = 97.05%]                                           \n",
      "Epoch   9/30: 100%|██████████| 937/937 [00:07<00:00, 118.86batch/s, Loss = 0.6433, AUC = 97.33%]                                          \n",
      "Epoch  10/30: 100%|██████████| 937/937 [00:10<00:00, 89.43batch/s, Loss = 0.6098, AUC = 97.56%]                                           \n",
      "Epoch  11/30: 100%|██████████| 937/937 [00:09<00:00, 97.93batch/s, Loss = 0.5770, AUC = 97.77%]                                           \n",
      "Epoch  12/30: 100%|██████████| 937/937 [00:10<00:00, 87.01batch/s, Loss = 0.5543, AUC = 97.93%]                                           \n",
      "Epoch  13/30: 100%|██████████| 937/937 [00:08<00:00, 115.75batch/s, Loss = 0.5294, AUC = 98.09%]                                          \n",
      "Epoch  14/30: 100%|██████████| 937/937 [00:09<00:00, 103.17batch/s, Loss = 0.5195, AUC = 98.13%]                                          \n",
      "Epoch  15/30: 100%|██████████| 937/937 [00:08<00:00, 113.22batch/s, Loss = 0.4979, AUC = 98.26%]                                          \n",
      "Epoch  16/30: 100%|██████████| 937/937 [00:10<00:00, 86.72batch/s, Loss = 0.4833, AUC = 98.32%]                                           \n",
      "Epoch  17/30: 100%|██████████| 937/937 [00:09<00:00, 97.89batch/s, Loss = 0.4715, AUC = 98.37%]                                           \n",
      "Epoch  18/30: 100%|██████████| 937/937 [00:10<00:00, 86.65batch/s, Loss = 0.4625, AUC = 98.41%]                                           \n",
      "Epoch  19/30: 100%|██████████| 937/937 [00:07<00:00, 124.92batch/s, Loss = 0.4515, AUC = 98.47%]                                          \n",
      "Epoch  20/30: 100%|██████████| 937/937 [00:08<00:00, 105.13batch/s, Loss = 0.4361, AUC = 98.55%]                                          \n",
      "Epoch  21/30: 100%|██████████| 937/937 [00:09<00:00, 101.94batch/s, Loss = 0.4324, AUC = 98.56%]                                          \n",
      "Epoch  22/30: 100%|██████████| 937/937 [00:11<00:00, 85.13batch/s, Loss = 0.4202, AUC = 98.62%]                                           \n",
      "Epoch  23/30: 100%|██████████| 937/937 [00:08<00:00, 105.09batch/s, Loss = 0.4092, AUC = 98.68%]                                          \n",
      "Epoch  24/30: 100%|██████████| 937/937 [00:09<00:00, 94.63batch/s, Loss = 0.4066, AUC = 98.68%]                                           \n",
      "Epoch  25/30: 100%|██████████| 937/937 [00:06<00:00, 135.11batch/s, Loss = 0.3952, AUC = 98.75%]                                          \n",
      "Epoch  26/30: 100%|██████████| 937/937 [00:10<00:00, 91.41batch/s, Loss = 0.3976, AUC = 98.74%]                                           \n",
      "Epoch  27/30: 100%|██████████| 937/937 [00:09<00:00, 97.48batch/s, Loss = 0.3903, AUC = 98.78%]                                           \n",
      "Epoch  28/30: 100%|██████████| 937/937 [00:10<00:00, 90.83batch/s, Loss = 0.3873, AUC = 98.82%]                                           \n",
      "Epoch  29/30: 100%|██████████| 937/937 [00:08<00:00, 116.38batch/s, Loss = 0.3783, AUC = 98.85%]                                          \n",
      "Epoch  30/30: 100%|██████████| 937/937 [00:08<00:00, 105.81batch/s, Loss = 0.3769, AUC = 98.85%]                                          "
     ]
    },
    {
     "name": "stdout",
     "output_type": "stream",
     "text": [
      "TOTAL TIME = 279.03s\n",
      "BEST AUC = 98.85% AT EPOCH 29\n"
     ]
    },
    {
     "name": "stderr",
     "output_type": "stream",
     "text": [
      "\n"
     ]
    }
   ],
   "source": [
    "model = VisionTransformer(num_classes=10, patch_size=14, hidden_size=6, num_heads=2, num_transformer_blocks=4, mlp_hidden_size=3)\n",
    "train_and_evaluate(model, mnist_train_dataloader, mnist_valid_dataloader, num_classes=10, learning_rate=0.0003, num_epochs=30)"
   ]
  }
 ],
 "metadata": {
  "kernelspec": {
   "display_name": "gsoc",
   "language": "python",
   "name": "gsoc"
  },
  "language_info": {
   "codemirror_mode": {
    "name": "ipython",
    "version": 3
   },
   "file_extension": ".py",
   "mimetype": "text/x-python",
   "name": "python",
   "nbconvert_exporter": "python",
   "pygments_lexer": "ipython3",
   "version": "3.11.4"
  }
 },
 "nbformat": 4,
 "nbformat_minor": 2
}
