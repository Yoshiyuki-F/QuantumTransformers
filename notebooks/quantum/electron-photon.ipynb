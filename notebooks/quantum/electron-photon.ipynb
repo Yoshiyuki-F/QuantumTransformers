{
 "cells": [
  {
   "cell_type": "code",
   "execution_count": 1,
   "metadata": {
    "execution": {
     "iopub.execute_input": "2023-08-22T13:52:50.450612Z",
     "iopub.status.busy": "2023-08-22T13:52:50.450492Z",
     "iopub.status.idle": "2023-08-22T13:53:07.900209Z",
     "shell.execute_reply": "2023-08-22T13:53:07.899745Z"
    }
   },
   "outputs": [
    {
     "name": "stderr",
     "output_type": "stream",
     "text": [
      "2023-08-22 06:52:55.417622: E tensorflow/compiler/xla/stream_executor/cuda/cuda_dnn.cc:9342] Unable to register cuDNN factory: Attempting to register factory for plugin cuDNN when one has already been registered\n",
      "2023-08-22 06:52:55.417644: E tensorflow/compiler/xla/stream_executor/cuda/cuda_fft.cc:609] Unable to register cuFFT factory: Attempting to register factory for plugin cuFFT when one has already been registered\n",
      "2023-08-22 06:52:55.417665: E tensorflow/compiler/xla/stream_executor/cuda/cuda_blas.cc:1518] Unable to register cuBLAS factory: Attempting to register factory for plugin cuBLAS when one has already been registered\n",
      "2023-08-22 06:52:57.713164: W tensorflow/compiler/tf2tensorrt/utils/py_utils.cc:38] TF-TRT Warning: Could not find TensorRT\n"
     ]
    },
    {
     "name": "stdout",
     "output_type": "stream",
     "text": [
      "WARNING:tensorflow:From /global/common/software/m4392/conda/gsoc/lib/python3.11/site-packages/tensorflow/python/ops/distributions/distribution.py:259: ReparameterizationType.__init__ (from tensorflow.python.ops.distributions.distribution) is deprecated and will be removed after 2019-01-01.\n",
      "Instructions for updating:\n",
      "The TensorFlow Distributions library has moved to TensorFlow Probability (https://github.com/tensorflow/probability). You should update all references to use `tfp.distributions` instead of `tf.distributions`.\n",
      "WARNING:tensorflow:From /global/common/software/m4392/conda/gsoc/lib/python3.11/site-packages/tensorflow/python/ops/distributions/bernoulli.py:165: RegisterKL.__init__ (from tensorflow.python.ops.distributions.kullback_leibler) is deprecated and will be removed after 2019-01-01.\n",
      "Instructions for updating:\n",
      "The TensorFlow Distributions library has moved to TensorFlow Probability (https://github.com/tensorflow/probability). You should update all references to use `tfp.distributions` instead of `tf.distributions`.\n"
     ]
    },
    {
     "name": "stderr",
     "output_type": "stream",
     "text": [
      "Please first ``pip install -U cirq`` to enable related functionality in translation module\n"
     ]
    }
   ],
   "source": [
    "import jax\n",
    "\n",
    "from quantum_transformers.utils import plot_image\n",
    "from quantum_transformers.datasets import get_electron_photon_dataloaders\n",
    "from quantum_transformers.training import train_and_evaluate\n",
    "from quantum_transformers.transformers import VisionTransformer\n",
    "from quantum_transformers.quantum_layer import get_circuit\n",
    "\n",
    "data_dir = '/global/cfs/cdirs/m4392/salcc/data'"
   ]
  },
  {
   "cell_type": "code",
   "execution_count": 2,
   "metadata": {
    "execution": {
     "iopub.execute_input": "2023-08-22T13:53:07.902508Z",
     "iopub.status.busy": "2023-08-22T13:53:07.902119Z",
     "iopub.status.idle": "2023-08-22T13:53:08.196301Z",
     "shell.execute_reply": "2023-08-22T13:53:08.195854Z"
    }
   },
   "outputs": [
    {
     "name": "stdout",
     "output_type": "stream",
     "text": [
      "gpu:0 NVIDIA A100-SXM4-40GB\n"
     ]
    }
   ],
   "source": [
    "for d in jax.devices():\n",
    "    print(d, d.device_kind)"
   ]
  },
  {
   "cell_type": "code",
   "execution_count": 3,
   "metadata": {
    "execution": {
     "iopub.execute_input": "2023-08-22T13:53:08.197984Z",
     "iopub.status.busy": "2023-08-22T13:53:08.197832Z",
     "iopub.status.idle": "2023-08-22T13:53:12.538249Z",
     "shell.execute_reply": "2023-08-22T13:53:12.537745Z"
    }
   },
   "outputs": [
    {
     "name": "stdout",
     "output_type": "stream",
     "text": [
      "(32, 32, 2)\n"
     ]
    },
    {
     "data": {
      "image/png": "[encoded data removed]",
      "text/plain": [
       "<Figure size 600x300 with 2 Axes>"
      ]
     },
     "metadata": {},
     "output_type": "display_data"
    }
   ],
   "source": [
    "ep_train_dataloader, ep_valid_dataloader = get_electron_photon_dataloaders(batch_size=256, data_dir=data_dir)\n",
    "first_image = next(iter(ep_train_dataloader))[0][0]\n",
    "print(first_image.shape)\n",
    "plot_image(first_image, abs_log=True)"
   ]
  },
  {
   "cell_type": "code",
   "execution_count": 4,
   "metadata": {
    "execution": {
     "iopub.execute_input": "2023-08-22T13:53:12.540062Z",
     "iopub.status.busy": "2023-08-22T13:53:12.539886Z",
     "iopub.status.idle": "2023-08-22T14:41:42.016346Z",
     "shell.execute_reply": "2023-08-22T14:41:42.015739Z"
    }
   },
   "outputs": [
    {
     "name": "stderr",
     "output_type": "stream",
     "text": [
      "Epoch   1/50: 100%|██████████| 1906/1906 [01:30<00:00, 21.17batch/s, Loss = 0.6921, AUC = 55.22%]\n",
      "Epoch   2/50: 100%|██████████| 1906/1906 [00:57<00:00, 33.35batch/s, Loss = 0.6903, AUC = 59.15%]\n",
      "Epoch   3/50: 100%|██████████| 1906/1906 [00:57<00:00, 33.29batch/s, Loss = 0.6634, AUC = 64.42%]\n",
      "Epoch   4/50: 100%|██████████| 1906/1906 [00:57<00:00, 33.39batch/s, Loss = 0.6688, AUC = 66.43%]\n",
      "Epoch   5/50: 100%|██████████| 1906/1906 [00:56<00:00, 33.50batch/s, Loss = 0.6460, AUC = 67.56%]\n",
      "Epoch   6/50: 100%|██████████| 1906/1906 [00:57<00:00, 33.40batch/s, Loss = 0.6559, AUC = 68.29%]\n",
      "Epoch   7/50: 100%|██████████| 1906/1906 [00:56<00:00, 33.54batch/s, Loss = 0.6428, AUC = 69.07%]\n",
      "Epoch   8/50: 100%|██████████| 1906/1906 [00:57<00:00, 33.38batch/s, Loss = 0.6398, AUC = 69.72%]\n",
      "Epoch   9/50: 100%|██████████| 1906/1906 [00:56<00:00, 33.48batch/s, Loss = 0.6394, AUC = 70.36%]\n",
      "Epoch  10/50: 100%|██████████| 1906/1906 [00:57<00:00, 33.11batch/s, Loss = 0.6300, AUC = 70.65%]\n",
      "Epoch  11/50: 100%|██████████| 1906/1906 [00:57<00:00, 33.14batch/s, Loss = 0.6312, AUC = 71.17%]\n",
      "Epoch  12/50: 100%|██████████| 1906/1906 [00:57<00:00, 33.29batch/s, Loss = 0.6271, AUC = 71.13%]\n",
      "Epoch  13/50: 100%|██████████| 1906/1906 [00:57<00:00, 33.42batch/s, Loss = 0.6273, AUC = 71.59%]\n",
      "Epoch  14/50: 100%|██████████| 1906/1906 [00:57<00:00, 33.38batch/s, Loss = 0.6277, AUC = 71.53%]\n",
      "Epoch  15/50: 100%|██████████| 1906/1906 [00:57<00:00, 33.41batch/s, Loss = 0.6229, AUC = 72.04%]\n",
      "Epoch  16/50: 100%|██████████| 1906/1906 [00:56<00:00, 33.47batch/s, Loss = 0.6250, AUC = 71.82%]\n",
      "Epoch  17/50: 100%|██████████| 1906/1906 [00:57<00:00, 33.24batch/s, Loss = 0.6194, AUC = 72.10%]\n",
      "Epoch  18/50: 100%|██████████| 1906/1906 [00:57<00:00, 33.42batch/s, Loss = 0.6180, AUC = 72.26%]\n",
      "Epoch  19/50: 100%|██████████| 1906/1906 [00:57<00:00, 33.02batch/s, Loss = 0.6172, AUC = 72.25%]\n",
      "Epoch  20/50: 100%|██████████| 1906/1906 [00:57<00:00, 33.18batch/s, Loss = 0.6157, AUC = 72.31%]\n",
      "Epoch  21/50: 100%|██████████| 1906/1906 [00:56<00:00, 33.46batch/s, Loss = 0.6162, AUC = 72.60%]\n",
      "Epoch  22/50: 100%|██████████| 1906/1906 [00:56<00:00, 33.56batch/s, Loss = 0.6309, AUC = 72.55%]\n",
      "Epoch  23/50: 100%|██████████| 1906/1906 [00:56<00:00, 33.55batch/s, Loss = 0.6277, AUC = 72.65%]\n",
      "Epoch  24/50: 100%|██████████| 1906/1906 [00:57<00:00, 33.21batch/s, Loss = 0.6134, AUC = 72.50%]\n",
      "Epoch  25/50: 100%|██████████| 1906/1906 [00:57<00:00, 33.34batch/s, Loss = 0.6107, AUC = 72.76%]\n",
      "Epoch  26/50: 100%|██████████| 1906/1906 [00:57<00:00, 33.24batch/s, Loss = 0.6129, AUC = 72.86%]\n",
      "Epoch  27/50: 100%|██████████| 1906/1906 [00:57<00:00, 33.12batch/s, Loss = 0.6121, AUC = 72.98%]\n",
      "Epoch  28/50: 100%|██████████| 1906/1906 [00:57<00:00, 33.27batch/s, Loss = 0.6251, AUC = 73.16%]\n",
      "Epoch  29/50: 100%|██████████| 1906/1906 [00:57<00:00, 33.43batch/s, Loss = 0.6082, AUC = 73.12%]\n",
      "Epoch  30/50: 100%|██████████| 1906/1906 [00:57<00:00, 33.39batch/s, Loss = 0.6120, AUC = 73.04%]\n",
      "Epoch  31/50: 100%|██████████| 1906/1906 [00:56<00:00, 33.51batch/s, Loss = 0.6183, AUC = 73.45%]\n",
      "Epoch  32/50: 100%|██████████| 1906/1906 [00:57<00:00, 33.37batch/s, Loss = 0.6058, AUC = 73.65%]\n",
      "Epoch  33/50: 100%|██████████| 1906/1906 [00:57<00:00, 33.23batch/s, Loss = 0.6123, AUC = 73.61%]\n",
      "Epoch  34/50: 100%|██████████| 1906/1906 [00:57<00:00, 33.40batch/s, Loss = 0.6042, AUC = 73.55%]\n",
      "Epoch  35/50: 100%|██████████| 1906/1906 [00:56<00:00, 33.52batch/s, Loss = 0.6084, AUC = 73.68%]\n",
      "Epoch  36/50: 100%|██████████| 1906/1906 [00:57<00:00, 33.17batch/s, Loss = 0.6125, AUC = 73.88%]\n",
      "Epoch  37/50: 100%|██████████| 1906/1906 [00:57<00:00, 33.26batch/s, Loss = 0.6068, AUC = 73.91%]\n",
      "Epoch  38/50: 100%|██████████| 1906/1906 [00:57<00:00, 33.28batch/s, Loss = 0.6060, AUC = 73.90%]\n",
      "Epoch  39/50: 100%|██████████| 1906/1906 [00:57<00:00, 33.42batch/s, Loss = 0.6214, AUC = 73.87%]\n",
      "Epoch  40/50: 100%|██████████| 1906/1906 [00:56<00:00, 33.48batch/s, Loss = 0.6171, AUC = 73.91%]\n",
      "Epoch  41/50: 100%|██████████| 1906/1906 [00:57<00:00, 33.10batch/s, Loss = 0.6063, AUC = 73.93%]\n",
      "Epoch  42/50: 100%|██████████| 1906/1906 [00:57<00:00, 33.34batch/s, Loss = 0.6005, AUC = 73.86%]\n",
      "Epoch  43/50: 100%|██████████| 1906/1906 [00:57<00:00, 33.32batch/s, Loss = 0.6018, AUC = 73.96%]\n",
      "Epoch  44/50: 100%|██████████| 1906/1906 [00:57<00:00, 33.30batch/s, Loss = 0.6036, AUC = 73.96%]\n",
      "Epoch  45/50: 100%|██████████| 1906/1906 [00:56<00:00, 33.51batch/s, Loss = 0.6012, AUC = 73.86%]\n",
      "Epoch  46/50: 100%|██████████| 1906/1906 [00:56<00:00, 33.59batch/s, Loss = 0.6011, AUC = 73.95%]\n",
      "Epoch  47/50: 100%|██████████| 1906/1906 [00:57<00:00, 33.35batch/s, Loss = 0.6010, AUC = 74.12%]\n",
      "Epoch  48/50: 100%|██████████| 1906/1906 [00:57<00:00, 33.39batch/s, Loss = 0.6148, AUC = 73.88%]\n",
      "Epoch  49/50: 100%|██████████| 1906/1906 [00:57<00:00, 33.37batch/s, Loss = 0.6048, AUC = 73.99%]\n",
      "Epoch  50/50: 100%|██████████| 1906/1906 [00:56<00:00, 33.45batch/s, Loss = 0.6096, AUC = 74.16%]"
     ]
    },
    {
     "name": "stdout",
     "output_type": "stream",
     "text": [
      "TOTAL TIME = 2890.21s\n",
      "BEST AUC = 74.16% AT EPOCH 50\n"
     ]
    },
    {
     "name": "stderr",
     "output_type": "stream",
     "text": [
      "\n"
     ]
    }
   ],
   "source": [
    "model = VisionTransformer(num_classes=2, patch_size=8, hidden_size=6, num_heads=2, num_transformer_blocks=4, mlp_hidden_size=3, channels_last=True,\n",
    "                          quantum_attn_circuit=get_circuit(), quantum_mlp_circuit=get_circuit())\n",
    "train_and_evaluate(model, ep_train_dataloader, ep_valid_dataloader, num_classes=2, learning_rate=0.0003, num_epochs=50)"
   ]
  }
 ],
 "metadata": {
  "kernelspec": {
   "display_name": "gsoc",
   "language": "python",
   "name": "gsoc"
  },
  "language_info": {
   "codemirror_mode": {
    "name": "ipython",
    "version": 3
   },
   "file_extension": ".py",
   "mimetype": "text/x-python",
   "name": "python",
   "nbconvert_exporter": "python",
   "pygments_lexer": "ipython3",
   "version": "3.11.4"
  }
 },
 "nbformat": 4,
 "nbformat_minor": 2
}
