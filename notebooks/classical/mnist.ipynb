{
 "cells": [
  {
   "cell_type": "code",
   "execution_count": 1,
   "metadata": {
    "execution": {
     "iopub.execute_input": "2023-08-26T15:09:15.194079Z",
     "iopub.status.busy": "2023-08-26T15:09:15.193942Z",
     "iopub.status.idle": "2023-08-26T15:09:24.619420Z",
     "shell.execute_reply": "2023-08-26T15:09:24.618900Z"
    }
   },
   "outputs": [
    {
     "name": "stderr",
     "output_type": "stream",
     "text": [
      "2023-08-26 08:09:17.800670: E tensorflow/compiler/xla/stream_executor/cuda/cuda_dnn.cc:9342] Unable to register cuDNN factory: Attempting to register factory for plugin cuDNN when one has already been registered\n",
      "2023-08-26 08:09:17.800694: E tensorflow/compiler/xla/stream_executor/cuda/cuda_fft.cc:609] Unable to register cuFFT factory: Attempting to register factory for plugin cuFFT when one has already been registered\n",
      "2023-08-26 08:09:17.800709: E tensorflow/compiler/xla/stream_executor/cuda/cuda_blas.cc:1518] Unable to register cuBLAS factory: Attempting to register factory for plugin cuBLAS when one has already been registered\n",
      "2023-08-26 08:09:19.095701: W tensorflow/compiler/tf2tensorrt/utils/py_utils.cc:38] TF-TRT Warning: Could not find TensorRT\n"
     ]
    },
    {
     "name": "stdout",
     "output_type": "stream",
     "text": [
      "WARNING:tensorflow:From /global/common/software/m4392/conda/gsoc/lib/python3.11/site-packages/tensorflow/python/ops/distributions/distribution.py:259: ReparameterizationType.__init__ (from tensorflow.python.ops.distributions.distribution) is deprecated and will be removed after 2019-01-01.\n",
      "Instructions for updating:\n",
      "The TensorFlow Distributions library has moved to TensorFlow Probability (https://github.com/tensorflow/probability). You should update all references to use `tfp.distributions` instead of `tf.distributions`.\n",
      "WARNING:tensorflow:From /global/common/software/m4392/conda/gsoc/lib/python3.11/site-packages/tensorflow/python/ops/distributions/bernoulli.py:165: RegisterKL.__init__ (from tensorflow.python.ops.distributions.kullback_leibler) is deprecated and will be removed after 2019-01-01.\n",
      "Instructions for updating:\n",
      "The TensorFlow Distributions library has moved to TensorFlow Probability (https://github.com/tensorflow/probability). You should update all references to use `tfp.distributions` instead of `tf.distributions`.\n"
     ]
    },
    {
     "name": "stderr",
     "output_type": "stream",
     "text": [
      "Please first ``pip install -U cirq`` to enable related functionality in translation module\n"
     ]
    }
   ],
   "source": [
    "import jax\n",
    "\n",
    "from quantum_transformers.utils import plot_image\n",
    "from quantum_transformers.datasets import get_mnist_dataloaders\n",
    "from quantum_transformers.training import train_and_evaluate\n",
    "from quantum_transformers.transformers import VisionTransformer\n",
    "\n",
    "data_dir = '/global/cfs/cdirs/m4392/salcc/data'"
   ]
  },
  {
   "cell_type": "code",
   "execution_count": 2,
   "metadata": {
    "execution": {
     "iopub.execute_input": "2023-08-26T15:09:24.621728Z",
     "iopub.status.busy": "2023-08-26T15:09:24.621395Z",
     "iopub.status.idle": "2023-08-26T15:09:24.789745Z",
     "shell.execute_reply": "2023-08-26T15:09:24.789262Z"
    }
   },
   "outputs": [
    {
     "name": "stdout",
     "output_type": "stream",
     "text": [
      "gpu:0 NVIDIA A100-SXM4-40GB\n"
     ]
    }
   ],
   "source": [
    "for d in jax.devices():\n",
    "    print(d, d.device_kind)"
   ]
  },
  {
   "cell_type": "code",
   "execution_count": 3,
   "metadata": {
    "execution": {
     "iopub.execute_input": "2023-08-26T15:09:24.791572Z",
     "iopub.status.busy": "2023-08-26T15:09:24.791434Z",
     "iopub.status.idle": "2023-08-26T15:09:25.657955Z",
     "shell.execute_reply": "2023-08-26T15:09:25.657572Z"
    }
   },
   "outputs": [
    {
     "name": "stdout",
     "output_type": "stream",
     "text": [
      "(28, 28, 1)\n"
     ]
    },
    {
     "data": {
      "image/png": "[encoded data removed]",
      "text/plain": [
       "<Figure size 300x300 with 1 Axes>"
      ]
     },
     "metadata": {},
     "output_type": "display_data"
    }
   ],
   "source": [
    "mnist_train_dataloader, mnist_valid_dataloader = get_mnist_dataloaders(batch_size=64, data_dir=data_dir)\n",
    "first_image = next(iter(mnist_train_dataloader))[0][0]\n",
    "print(first_image.shape)\n",
    "plot_image(first_image)"
   ]
  },
  {
   "cell_type": "code",
   "execution_count": 4,
   "metadata": {
    "execution": {
     "iopub.execute_input": "2023-08-26T15:09:25.659853Z",
     "iopub.status.busy": "2023-08-26T15:09:25.659656Z",
     "iopub.status.idle": "2023-08-26T15:12:11.571229Z",
     "shell.execute_reply": "2023-08-26T15:12:11.570736Z"
    }
   },
   "outputs": [
    {
     "name": "stderr",
     "output_type": "stream",
     "text": [
      "Epoch   1/30: 100%|██████████| 937/937 [00:11<00:00, 82.12batch/s, Loss = 0.2008, AUC = 99.68%] \n",
      "Epoch   2/30: 100%|██████████| 937/937 [00:05<00:00, 181.56batch/s, Loss = 0.1379, AUC = 99.84%]\n",
      "Epoch   3/30: 100%|██████████| 937/937 [00:05<00:00, 180.91batch/s, Loss = 0.1195, AUC = 99.88%]\n",
      "Epoch   4/30: 100%|██████████| 937/937 [00:05<00:00, 184.07batch/s, Loss = 0.1015, AUC = 99.91%]\n",
      "Epoch   5/30: 100%|██████████| 937/937 [00:05<00:00, 179.96batch/s, Loss = 0.0955, AUC = 99.93%]\n",
      "Epoch   6/30: 100%|██████████| 937/937 [00:05<00:00, 175.10batch/s, Loss = 0.0856, AUC = 99.94%]\n",
      "Epoch   7/30: 100%|██████████| 937/937 [00:05<00:00, 180.54batch/s, Loss = 0.0826, AUC = 99.95%]\n",
      "Epoch   8/30: 100%|██████████| 937/937 [00:05<00:00, 180.98batch/s, Loss = 0.0791, AUC = 99.95%]\n",
      "Epoch   9/30: 100%|██████████| 937/937 [00:05<00:00, 183.22batch/s, Loss = 0.0801, AUC = 99.95%]\n",
      "Epoch  10/30: 100%|██████████| 937/937 [00:05<00:00, 179.82batch/s, Loss = 0.0741, AUC = 99.96%]\n",
      "Epoch  11/30: 100%|██████████| 937/937 [00:05<00:00, 180.19batch/s, Loss = 0.0722, AUC = 99.96%]\n",
      "Epoch  12/30: 100%|██████████| 937/937 [00:05<00:00, 174.16batch/s, Loss = 0.0697, AUC = 99.96%]\n",
      "Epoch  13/30: 100%|██████████| 937/937 [00:05<00:00, 182.83batch/s, Loss = 0.0715, AUC = 99.96%]\n",
      "Epoch  14/30: 100%|██████████| 937/937 [00:05<00:00, 182.75batch/s, Loss = 0.0718, AUC = 99.96%]\n",
      "Epoch  15/30: 100%|██████████| 937/937 [00:04<00:00, 187.88batch/s, Loss = 0.0681, AUC = 99.96%]\n",
      "Epoch  16/30: 100%|██████████| 937/937 [00:04<00:00, 190.47batch/s, Loss = 0.0728, AUC = 99.96%]\n",
      "Epoch  17/30: 100%|██████████| 937/937 [00:05<00:00, 182.02batch/s, Loss = 0.0661, AUC = 99.96%]\n",
      "Epoch  18/30: 100%|██████████| 937/937 [00:05<00:00, 173.60batch/s, Loss = 0.0720, AUC = 99.96%]\n",
      "Epoch  19/30: 100%|██████████| 937/937 [00:05<00:00, 181.22batch/s, Loss = 0.0674, AUC = 99.97%]\n",
      "Epoch  20/30: 100%|██████████| 937/937 [00:05<00:00, 181.30batch/s, Loss = 0.0688, AUC = 99.97%]\n",
      "Epoch  21/30: 100%|██████████| 937/937 [00:05<00:00, 184.94batch/s, Loss = 0.0657, AUC = 99.97%]\n",
      "Epoch  22/30: 100%|██████████| 937/937 [00:04<00:00, 189.81batch/s, Loss = 0.0622, AUC = 99.98%]\n",
      "Epoch  23/30: 100%|██████████| 937/937 [00:04<00:00, 187.74batch/s, Loss = 0.0626, AUC = 99.98%]\n",
      "Epoch  24/30: 100%|██████████| 937/937 [00:05<00:00, 179.67batch/s, Loss = 0.0651, AUC = 99.97%]\n",
      "Epoch  25/30: 100%|██████████| 937/937 [00:04<00:00, 195.33batch/s, Loss = 0.0650, AUC = 99.97%]\n",
      "Epoch  26/30: 100%|██████████| 937/937 [00:05<00:00, 186.79batch/s, Loss = 0.0710, AUC = 99.97%]\n",
      "Epoch  27/30: 100%|██████████| 937/937 [00:05<00:00, 187.28batch/s, Loss = 0.0707, AUC = 99.97%]\n",
      "Epoch  28/30: 100%|██████████| 937/937 [00:05<00:00, 186.27batch/s, Loss = 0.0707, AUC = 99.97%]\n",
      "Epoch  29/30: 100%|██████████| 937/937 [00:05<00:00, 185.93batch/s, Loss = 0.0705, AUC = 99.97%]\n",
      "Epoch  30/30: 100%|██████████| 937/937 [00:05<00:00, 186.99batch/s, Loss = 0.0667, AUC = 99.98%]"
     ]
    },
    {
     "name": "stdout",
     "output_type": "stream",
     "text": [
      "TOTAL TIME = 159.86s\n",
      "BEST AUC = 99.98% AT EPOCH 22\n"
     ]
    },
    {
     "name": "stderr",
     "output_type": "stream",
     "text": [
      "\n"
     ]
    }
   ],
   "source": [
    "model = VisionTransformer(num_classes=10, patch_size=14, hidden_size=64, num_heads=2, num_transformer_blocks=4, mlp_hidden_size=32)\n",
    "train_and_evaluate(model, mnist_train_dataloader, mnist_valid_dataloader, num_classes=10, learning_rate=0.0003, num_epochs=30)"
   ]
  },
  {
   "cell_type": "code",
   "execution_count": 5,
   "metadata": {
    "execution": {
     "iopub.execute_input": "2023-08-26T15:12:11.573505Z",
     "iopub.status.busy": "2023-08-26T15:12:11.573371Z",
     "iopub.status.idle": "2023-08-26T15:14:49.325448Z",
     "shell.execute_reply": "2023-08-26T15:14:49.325066Z"
    }
   },
   "outputs": [
    {
     "name": "stderr",
     "output_type": "stream",
     "text": [
      "Epoch   1/30: 100%|██████████| 937/937 [00:09<00:00, 99.92batch/s, Loss = 1.1313, AUC = 93.81%] \n",
      "Epoch   2/30: 100%|██████████| 937/937 [00:04<00:00, 188.54batch/s, Loss = 0.6963, AUC = 97.21%]\n",
      "Epoch   3/30: 100%|██████████| 937/937 [00:05<00:00, 182.58batch/s, Loss = 0.5271, AUC = 98.26%]\n",
      "Epoch   4/30: 100%|██████████| 937/937 [00:05<00:00, 179.80batch/s, Loss = 0.4440, AUC = 98.67%]\n",
      "Epoch   5/30: 100%|██████████| 937/937 [00:04<00:00, 189.26batch/s, Loss = 0.3969, AUC = 98.90%]\n",
      "Epoch   6/30: 100%|██████████| 937/937 [00:04<00:00, 189.17batch/s, Loss = 0.3664, AUC = 99.04%]\n",
      "Epoch   7/30: 100%|██████████| 937/937 [00:04<00:00, 191.29batch/s, Loss = 0.3476, AUC = 99.11%]\n",
      "Epoch   8/30: 100%|██████████| 937/937 [00:04<00:00, 188.68batch/s, Loss = 0.3346, AUC = 99.18%]\n",
      "Epoch   9/30: 100%|██████████| 937/937 [00:04<00:00, 188.72batch/s, Loss = 0.3197, AUC = 99.24%]\n",
      "Epoch  10/30: 100%|██████████| 937/937 [00:05<00:00, 179.72batch/s, Loss = 0.3135, AUC = 99.27%]\n",
      "Epoch  11/30: 100%|██████████| 937/937 [00:04<00:00, 190.64batch/s, Loss = 0.3054, AUC = 99.30%]\n",
      "Epoch  12/30: 100%|██████████| 937/937 [00:05<00:00, 184.34batch/s, Loss = 0.2983, AUC = 99.33%]\n",
      "Epoch  13/30: 100%|██████████| 937/937 [00:04<00:00, 187.98batch/s, Loss = 0.2912, AUC = 99.37%]\n",
      "Epoch  14/30: 100%|██████████| 937/937 [00:04<00:00, 194.11batch/s, Loss = 0.2844, AUC = 99.39%]\n",
      "Epoch  15/30: 100%|██████████| 937/937 [00:05<00:00, 186.39batch/s, Loss = 0.2820, AUC = 99.40%]\n",
      "Epoch  16/30: 100%|██████████| 937/937 [00:04<00:00, 192.75batch/s, Loss = 0.2726, AUC = 99.43%]\n",
      "Epoch  17/30: 100%|██████████| 937/937 [00:05<00:00, 184.47batch/s, Loss = 0.2712, AUC = 99.45%]\n",
      "Epoch  18/30: 100%|██████████| 937/937 [00:04<00:00, 195.25batch/s, Loss = 0.2638, AUC = 99.48%]\n",
      "Epoch  19/30: 100%|██████████| 937/937 [00:04<00:00, 189.48batch/s, Loss = 0.2621, AUC = 99.48%]\n",
      "Epoch  20/30: 100%|██████████| 937/937 [00:04<00:00, 189.88batch/s, Loss = 0.2572, AUC = 99.49%]\n",
      "Epoch  21/30: 100%|██████████| 937/937 [00:05<00:00, 176.71batch/s, Loss = 0.2535, AUC = 99.51%]\n",
      "Epoch  22/30: 100%|██████████| 937/937 [00:05<00:00, 187.18batch/s, Loss = 0.2467, AUC = 99.54%]\n",
      "Epoch  23/30: 100%|██████████| 937/937 [00:05<00:00, 180.19batch/s, Loss = 0.2452, AUC = 99.55%]\n",
      "Epoch  24/30: 100%|██████████| 937/937 [00:04<00:00, 192.38batch/s, Loss = 0.2456, AUC = 99.55%]\n",
      "Epoch  25/30: 100%|██████████| 937/937 [00:05<00:00, 185.04batch/s, Loss = 0.2410, AUC = 99.56%]\n",
      "Epoch  26/30: 100%|██████████| 937/937 [00:05<00:00, 186.07batch/s, Loss = 0.2368, AUC = 99.57%]\n",
      "Epoch  27/30: 100%|██████████| 937/937 [00:05<00:00, 186.46batch/s, Loss = 0.2362, AUC = 99.57%]\n",
      "Epoch  28/30: 100%|██████████| 937/937 [00:05<00:00, 185.28batch/s, Loss = 0.2320, AUC = 99.60%]\n",
      "Epoch  29/30: 100%|██████████| 937/937 [00:05<00:00, 184.43batch/s, Loss = 0.2290, AUC = 99.60%]\n",
      "Epoch  30/30: 100%|██████████| 937/937 [00:05<00:00, 178.11batch/s, Loss = 0.2262, AUC = 99.61%]"
     ]
    },
    {
     "name": "stdout",
     "output_type": "stream",
     "text": [
      "TOTAL TIME = 155.04s\n",
      "BEST AUC = 99.61% AT EPOCH 30\n"
     ]
    },
    {
     "name": "stderr",
     "output_type": "stream",
     "text": [
      "\n"
     ]
    }
   ],
   "source": [
    "model = VisionTransformer(num_classes=10, patch_size=14, hidden_size=8, num_heads=2, num_transformer_blocks=4, mlp_hidden_size=4)\n",
    "train_and_evaluate(model, mnist_train_dataloader, mnist_valid_dataloader, num_classes=10, learning_rate=0.0003, num_epochs=30)"
   ]
  }
 ],
 "metadata": {
  "kernelspec": {
   "display_name": "gsoc",
   "language": "python",
   "name": "python3"
  },
  "language_info": {
   "codemirror_mode": {
    "name": "ipython",
    "version": 3
   },
   "file_extension": ".py",
   "mimetype": "text/x-python",
   "name": "python",
   "nbconvert_exporter": "python",
   "pygments_lexer": "ipython3",
   "version": "3.11.4"
  }
 },
 "nbformat": 4,
 "nbformat_minor": 2
}
