{
 "cells": [
  {
   "cell_type": "code",
   "execution_count": 1,
   "metadata": {
    "execution": {
     "iopub.execute_input": "2023-08-23T14:55:17.871606Z",
     "iopub.status.busy": "2023-08-23T14:55:17.871314Z",
     "iopub.status.idle": "2023-08-23T14:55:38.641346Z",
     "shell.execute_reply": "2023-08-23T14:55:38.640932Z"
    }
   },
   "outputs": [
    {
     "name": "stderr",
     "output_type": "stream",
     "text": [
      "2023-08-23 07:55:23.369679: E tensorflow/compiler/xla/stream_executor/cuda/cuda_dnn.cc:9342] Unable to register cuDNN factory: Attempting to register factory for plugin cuDNN when one has already been registered\n",
      "2023-08-23 07:55:23.369704: E tensorflow/compiler/xla/stream_executor/cuda/cuda_fft.cc:609] Unable to register cuFFT factory: Attempting to register factory for plugin cuFFT when one has already been registered\n",
      "2023-08-23 07:55:23.369723: E tensorflow/compiler/xla/stream_executor/cuda/cuda_blas.cc:1518] Unable to register cuBLAS factory: Attempting to register factory for plugin cuBLAS when one has already been registered\n",
      "2023-08-23 07:55:26.086257: W tensorflow/compiler/tf2tensorrt/utils/py_utils.cc:38] TF-TRT Warning: Could not find TensorRT\n"
     ]
    },
    {
     "name": "stdout",
     "output_type": "stream",
     "text": [
      "WARNING:tensorflow:From /global/common/software/m4392/conda/gsoc/lib/python3.11/site-packages/tensorflow/python/ops/distributions/distribution.py:259: ReparameterizationType.__init__ (from tensorflow.python.ops.distributions.distribution) is deprecated and will be removed after 2019-01-01.\n",
      "Instructions for updating:\n",
      "The TensorFlow Distributions library has moved to TensorFlow Probability (https://github.com/tensorflow/probability). You should update all references to use `tfp.distributions` instead of `tf.distributions`.\n",
      "WARNING:tensorflow:From /global/common/software/m4392/conda/gsoc/lib/python3.11/site-packages/tensorflow/python/ops/distributions/bernoulli.py:165: RegisterKL.__init__ (from tensorflow.python.ops.distributions.kullback_leibler) is deprecated and will be removed after 2019-01-01.\n",
      "Instructions for updating:\n",
      "The TensorFlow Distributions library has moved to TensorFlow Probability (https://github.com/tensorflow/probability). You should update all references to use `tfp.distributions` instead of `tf.distributions`.\n"
     ]
    },
    {
     "name": "stderr",
     "output_type": "stream",
     "text": [
      "Please first ``pip install -U cirq`` to enable related functionality in translation module\n"
     ]
    }
   ],
   "source": [
    "import jax\n",
    "\n",
    "from quantum_transformers.datasets import get_imdb_dataloaders\n",
    "from quantum_transformers.training import train_and_evaluate\n",
    "from quantum_transformers.transformers import Transformer\n",
    "from quantum_transformers.quantum_layer import get_circuit\n",
    "\n",
    "data_dir = '/global/cfs/cdirs/m4392/salcc/data'"
   ]
  },
  {
   "cell_type": "code",
   "execution_count": 2,
   "metadata": {
    "execution": {
     "iopub.execute_input": "2023-08-23T14:55:38.644022Z",
     "iopub.status.busy": "2023-08-23T14:55:38.643328Z",
     "iopub.status.idle": "2023-08-23T14:55:38.824005Z",
     "shell.execute_reply": "2023-08-23T14:55:38.823634Z"
    }
   },
   "outputs": [
    {
     "name": "stdout",
     "output_type": "stream",
     "text": [
      "gpu:0 NVIDIA A100-SXM4-40GB\n"
     ]
    }
   ],
   "source": [
    "for d in jax.devices():\n",
    "    print(d, d.device_kind)"
   ]
  },
  {
   "cell_type": "code",
   "execution_count": 3,
   "metadata": {
    "execution": {
     "iopub.execute_input": "2023-08-23T14:55:38.825753Z",
     "iopub.status.busy": "2023-08-23T14:55:38.825616Z",
     "iopub.status.idle": "2023-08-23T14:57:17.083629Z",
     "shell.execute_reply": "2023-08-23T14:57:17.083121Z"
    }
   },
   "outputs": [
    {
     "name": "stdout",
     "output_type": "stream",
     "text": [
      "Vocabulary size: 19169\n",
      "[  103   109    99    42   535    97   111  2205    17   171   112   356\n",
      "   104    95  5327    97    42  1447    97    42  1345  2131   152   119\n",
      "  2810   113   125  4296   667   113    42  3502  3842   102  4129  7681\n",
      "   107   347   108 16219   132    42   462   108    42  9910  7915    98\n",
      "   157    34   101   668   102   103   111    17   171   112   356   104\n",
      "    42  5374   500   152   257   119 12278   102    95  5782  4431  1364\n",
      "   102  2496   410  3234    98  3093   102    42     5 11760 17463     5\n",
      "  5120    17    17    17  7461    15  6851  7952    15  8347  1711    15\n",
      "   615    17    34   101   668   102   103   111    17   171   112   356\n",
      "   104    42   421    11    96  1637  1188    12  2027   152 13487   103\n",
      "   264  5374    52    17    57    17    98   119   265    97   125  5782\n",
      "  4316  2131    98  3123    42 11401   128   202  2935   124    95  5001\n",
      "   253    95  9185  4923    34   101   668   102   103   111    17   152\n",
      "   112   119   865   104    95  5374  1698   251    10    61  1019   104\n",
      "    42  1225  1811   105  6880   128   589    96   152  3507  1985  9166\n",
      "    96   605   179    34   101   668   102   103   111    17   152   112\n",
      "   119   865   104    42   691    97   391  1443  1170    16   147   102\n",
      "    42 11642   122    42  4137  3707   104    95  5001   668   816   152\n",
      "  9317   136   158  1556   122    95  1809    97    95  1225  1443   126\n",
      "   161   133  1305    10   337    34   123   211   101   102   103   111\n",
      "    15    96   411   191   707  7889   135    98    95 11642    95  5001\n",
      "   326   896   581  2780   992  8213 11325    17   152   112   356   104\n",
      "    15   210    95  1036 16841    96   102   882   720    15    95  1788\n",
      "  1145    95   904    10    60  4595    15   137   114   117   493    15\n",
      "   106    95   500   115   105  1506   108    96   104    95   904    15\n",
      "   102  1141   720   210  1002  1036 16841    15   398   104    95 11401\n",
      "   159    98   119 16527    95   470   340    34   375   123   233   118\n",
      "   133  1539   102   125  3197 16746  3262    98   469   153   554    95\n",
      "   391  1376   152   119   676   128   133    98   186   101    42   207\n",
      "  3689   113    95  5001    17   103   127    16   546   109   233   119\n",
      "  2810   113    42  1116    97    95   443  1305   342   198    17   137\n",
      "   101   161    15    50    10    54   345   101   152   171   163    17\n",
      "   196   101   122   220   297  3174    17     0     0     0     0     0\n",
      "     0     0     0     0     0     0     0     0     0     0     0     0\n",
      "     0     0     0     0     0     0     0     0     0     0     0     0\n",
      "     0     0     0     0     0     0     0     0     0     0     0     0\n",
      "     0     0     0     0     0     0     0     0     0     0     0     0\n",
      "     0     0     0     0     0     0     0     0     0     0     0     0\n",
      "     0     0     0     0     0     0     0     0     0     0     0     0\n",
      "     0     0     0     0     0     0     0     0     0     0     0     0\n",
      "     0     0     0     0     0     0     0     0     0     0     0     0\n",
      "     0     0     0     0     0     0     0     0     0     0     0     0\n",
      "     0     0     0     0     0     0     0     0]\n",
      "this movie is a waste of film stock . do you believe that the map of a plan of a military mission would be placed on an easel on a patio in broad daylight for anyone with binoculars or a camera with a zoom lens to see ? it happened in this film . do you believe that a deaf person would actually be enlisted in the active duty army in europe during wwii to serve in a \" negro \" unit . . . cooking , supply services , burial detail , etc . ? it happened in this film . do you believe that a black ( and supposedly intelligent ) officer would select this same deaf k . p . to be part of an active combat mission to protect a dam from being destroyed by the germans before the allies arrived ? it happened in this film . would you be surprised that the deaf soldier didn ' t realize that a german plane was approaching from behind and would strafe and kill him ? it happened in this film . would you be surprised that a group of american soldiers hold - up in a barn at a farmhouse that the germans happened upon would shout out their emotions at the sight of the german soldiers who were just 50 ' away ? they did it in this film , and left any possible entrances to the barn the germans might check totally unprotected . would you believe that , over the airwaves and in clear english , the captain mentioned the general ' s rank , if not his name , as the person he was speaking with and that the general , in plain english over open airwaves , said that the dam had to be protected the next day ? maybe they should have just sent in an emissary to tell which direction the american attack would be coming from just to make it a little easier on the germans . this so - called movie should be placed on a list of the top 50 worst films . if it were , i ' m sure it would do well . watch it at your own risk . [PAD] [PAD] [PAD] [PAD] [PAD] [PAD] [PAD] [PAD] [PAD] [PAD] [PAD] [PAD] [PAD] [PAD] [PAD] [PAD] [PAD] [PAD] [PAD] [PAD] [PAD] [PAD] [PAD] [PAD] [PAD] [PAD] [PAD] [PAD] [PAD] [PAD] [PAD] [PAD] [PAD] [PAD] [PAD] [PAD] [PAD] [PAD] [PAD] [PAD] [PAD] [PAD] [PAD] [PAD] [PAD] [PAD] [PAD] [PAD] [PAD] [PAD] [PAD] [PAD] [PAD] [PAD] [PAD] [PAD] [PAD] [PAD] [PAD] [PAD] [PAD] [PAD] [PAD] [PAD] [PAD] [PAD] [PAD] [PAD] [PAD] [PAD] [PAD] [PAD] [PAD] [PAD] [PAD] [PAD] [PAD] [PAD] [PAD] [PAD] [PAD] [PAD] [PAD] [PAD] [PAD] [PAD] [PAD] [PAD] [PAD] [PAD] [PAD] [PAD] [PAD] [PAD] [PAD] [PAD] [PAD] [PAD] [PAD] [PAD] [PAD] [PAD] [PAD] [PAD] [PAD] [PAD] [PAD] [PAD] [PAD] [PAD] [PAD] [PAD] [PAD] [PAD] [PAD] [PAD] [PAD] [PAD] [PAD] [PAD] [PAD]\n"
     ]
    }
   ],
   "source": [
    "(imdb_train_dataloader, imdb_valid_dataloader), vocab, tokenizer = get_imdb_dataloaders(batch_size=32, data_dir=data_dir, max_vocab_size=20_000, max_seq_len=512)\n",
    "print(f\"Vocabulary size: {len(vocab)}\")\n",
    "first_batch = next(iter(imdb_train_dataloader))\n",
    "print(first_batch[0][0])\n",
    "print(' '.join(map(bytes.decode, tokenizer.detokenize(first_batch[0])[0].numpy().tolist())))"
   ]
  },
  {
   "cell_type": "code",
   "execution_count": 4,
   "metadata": {
    "execution": {
     "iopub.execute_input": "2023-08-23T14:57:17.085386Z",
     "iopub.status.busy": "2023-08-23T14:57:17.085163Z",
     "iopub.status.idle": "2023-08-23T15:48:49.868326Z",
     "shell.execute_reply": "2023-08-23T15:48:49.867831Z"
    }
   },
   "outputs": [
    {
     "name": "stderr",
     "output_type": "stream",
     "text": [
      "Epoch   1/30: 100%|██████████| 781/781 [02:15<00:00,  5.75batch/s, Loss = 0.6912, AUC = 59.24%]\n",
      "Epoch   2/30: 100%|██████████| 781/781 [01:41<00:00,  7.69batch/s, Loss = 0.6883, AUC = 66.22%]\n",
      "Epoch   3/30: 100%|██████████| 781/781 [01:41<00:00,  7.72batch/s, Loss = 0.6828, AUC = 70.52%]\n",
      "Epoch   4/30: 100%|██████████| 781/781 [01:41<00:00,  7.69batch/s, Loss = 0.6747, AUC = 72.93%]\n",
      "Epoch   5/30: 100%|██████████| 781/781 [01:41<00:00,  7.69batch/s, Loss = 0.6596, AUC = 74.56%]\n",
      "Epoch   6/30: 100%|██████████| 781/781 [01:41<00:00,  7.69batch/s, Loss = 0.6393, AUC = 75.82%]\n",
      "Epoch   7/30: 100%|██████████| 781/781 [01:41<00:00,  7.68batch/s, Loss = 0.6139, AUC = 77.54%]\n",
      "Epoch   8/30: 100%|██████████| 781/781 [01:41<00:00,  7.72batch/s, Loss = 0.5814, AUC = 79.94%]\n",
      "Epoch   9/30: 100%|██████████| 781/781 [01:41<00:00,  7.69batch/s, Loss = 0.5376, AUC = 82.61%]\n",
      "Epoch  10/30: 100%|██████████| 781/781 [01:41<00:00,  7.68batch/s, Loss = 0.4960, AUC = 84.62%]\n",
      "Epoch  11/30: 100%|██████████| 781/781 [01:41<00:00,  7.69batch/s, Loss = 0.4776, AUC = 85.69%]\n",
      "Epoch  12/30: 100%|██████████| 781/781 [01:41<00:00,  7.69batch/s, Loss = 0.4858, AUC = 86.19%]\n",
      "Epoch  13/30: 100%|██████████| 781/781 [01:41<00:00,  7.67batch/s, Loss = 0.4940, AUC = 86.42%]\n",
      "Epoch  14/30: 100%|██████████| 781/781 [01:41<00:00,  7.69batch/s, Loss = 0.4462, AUC = 87.55%]\n",
      "Epoch  15/30: 100%|██████████| 781/781 [01:41<00:00,  7.70batch/s, Loss = 0.4586, AUC = 87.80%]\n",
      "Epoch  16/30: 100%|██████████| 781/781 [01:41<00:00,  7.67batch/s, Loss = 0.4761, AUC = 87.92%]\n",
      "Epoch  17/30: 100%|██████████| 781/781 [01:41<00:00,  7.69batch/s, Loss = 0.4471, AUC = 88.39%]\n",
      "Epoch  18/30: 100%|██████████| 781/781 [01:41<00:00,  7.69batch/s, Loss = 0.4528, AUC = 88.49%]\n",
      "Epoch  19/30: 100%|██████████| 781/781 [01:41<00:00,  7.67batch/s, Loss = 0.4498, AUC = 88.61%]\n",
      "Epoch  20/30: 100%|██████████| 781/781 [01:41<00:00,  7.71batch/s, Loss = 0.4593, AUC = 88.69%]\n",
      "Epoch  21/30: 100%|██████████| 781/781 [01:41<00:00,  7.70batch/s, Loss = 0.4669, AUC = 88.78%]\n",
      "Epoch  22/30: 100%|██████████| 781/781 [01:41<00:00,  7.70batch/s, Loss = 0.4549, AUC = 88.89%]\n",
      "Epoch  23/30: 100%|██████████| 781/781 [01:41<00:00,  7.69batch/s, Loss = 0.4707, AUC = 88.89%]\n",
      "Epoch  24/30: 100%|██████████| 781/781 [01:41<00:00,  7.69batch/s, Loss = 0.4854, AUC = 88.82%]\n",
      "Epoch  25/30: 100%|██████████| 781/781 [01:41<00:00,  7.69batch/s, Loss = 0.4985, AUC = 88.77%]\n",
      "Epoch  26/30: 100%|██████████| 781/781 [01:41<00:00,  7.69batch/s, Loss = 0.4769, AUC = 88.88%]\n",
      "Epoch  27/30: 100%|██████████| 781/781 [01:41<00:00,  7.69batch/s, Loss = 0.5306, AUC = 88.76%]\n",
      "Epoch  28/30: 100%|██████████| 781/781 [01:41<00:00,  7.67batch/s, Loss = 0.5231, AUC = 88.85%]\n",
      "Epoch  29/30: 100%|██████████| 781/781 [01:41<00:00,  7.72batch/s, Loss = 0.5330, AUC = 88.89%]\n",
      "Epoch  30/30: 100%|██████████| 781/781 [01:41<00:00,  7.71batch/s, Loss = 0.5260, AUC = 88.89%]"
     ]
    },
    {
     "name": "stdout",
     "output_type": "stream",
     "text": [
      "TOTAL TIME = 3080.57s\n",
      "BEST AUC = 88.89% AT EPOCH 29\n"
     ]
    },
    {
     "name": "stderr",
     "output_type": "stream",
     "text": [
      "\n"
     ]
    }
   ],
   "source": [
    "model = Transformer(num_tokens=len(vocab), max_seq_len=512, num_classes=2, hidden_size=6, num_heads=2, num_transformer_blocks=4, mlp_hidden_size=3,\n",
    "                    quantum_attn_circuit=get_circuit(), quantum_mlp_circuit=get_circuit())\n",
    "train_and_evaluate(model, imdb_train_dataloader, imdb_valid_dataloader, num_classes=2, learning_rate=0.0003, num_epochs=30)"
   ]
  }
 ],
 "metadata": {
  "kernelspec": {
   "display_name": "gsoc",
   "language": "python",
   "name": "gsoc"
  },
  "language_info": {
   "codemirror_mode": {
    "name": "ipython",
    "version": 3
   },
   "file_extension": ".py",
   "mimetype": "text/x-python",
   "name": "python",
   "nbconvert_exporter": "python",
   "pygments_lexer": "ipython3",
   "version": "3.11.4"
  }
 },
 "nbformat": 4,
 "nbformat_minor": 2
}
