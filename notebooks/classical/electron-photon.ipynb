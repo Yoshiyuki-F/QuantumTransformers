{
 "cells": [
  {
   "cell_type": "code",
   "execution_count": 1,
   "metadata": {
    "execution": {
     "iopub.execute_input": "2023-08-22T10:37:09.439221Z",
     "iopub.status.busy": "2023-08-22T10:37:09.439007Z",
     "iopub.status.idle": "2023-08-22T10:37:27.394892Z",
     "shell.execute_reply": "2023-08-22T10:37:27.394496Z"
    }
   },
   "outputs": [
    {
     "name": "stderr",
     "output_type": "stream",
     "text": [
      "2023-08-22 03:37:14.550519: E tensorflow/compiler/xla/stream_executor/cuda/cuda_dnn.cc:9342] Unable to register cuDNN factory: Attempting to register factory for plugin cuDNN when one has already been registered\n",
      "2023-08-22 03:37:14.550546: E tensorflow/compiler/xla/stream_executor/cuda/cuda_fft.cc:609] Unable to register cuFFT factory: Attempting to register factory for plugin cuFFT when one has already been registered\n",
      "2023-08-22 03:37:14.550563: E tensorflow/compiler/xla/stream_executor/cuda/cuda_blas.cc:1518] Unable to register cuBLAS factory: Attempting to register factory for plugin cuBLAS when one has already been registered\n",
      "2023-08-22 03:37:16.929118: W tensorflow/compiler/tf2tensorrt/utils/py_utils.cc:38] TF-TRT Warning: Could not find TensorRT\n"
     ]
    },
    {
     "name": "stdout",
     "output_type": "stream",
     "text": [
      "WARNING:tensorflow:From /global/common/software/m4392/conda/gsoc/lib/python3.11/site-packages/tensorflow/python/ops/distributions/distribution.py:259: ReparameterizationType.__init__ (from tensorflow.python.ops.distributions.distribution) is deprecated and will be removed after 2019-01-01.\n",
      "Instructions for updating:\n",
      "The TensorFlow Distributions library has moved to TensorFlow Probability (https://github.com/tensorflow/probability). You should update all references to use `tfp.distributions` instead of `tf.distributions`.\n",
      "WARNING:tensorflow:From /global/common/software/m4392/conda/gsoc/lib/python3.11/site-packages/tensorflow/python/ops/distributions/bernoulli.py:165: RegisterKL.__init__ (from tensorflow.python.ops.distributions.kullback_leibler) is deprecated and will be removed after 2019-01-01.\n",
      "Instructions for updating:\n",
      "The TensorFlow Distributions library has moved to TensorFlow Probability (https://github.com/tensorflow/probability). You should update all references to use `tfp.distributions` instead of `tf.distributions`.\n"
     ]
    },
    {
     "name": "stderr",
     "output_type": "stream",
     "text": [
      "Please first ``pip install -U cirq`` to enable related functionality in translation module\n"
     ]
    }
   ],
   "source": [
    "import jax\n",
    "\n",
    "from quantum_transformers.utils import plot_image\n",
    "from quantum_transformers.datasets import get_electron_photon_dataloaders\n",
    "from quantum_transformers.training import train_and_evaluate\n",
    "from quantum_transformers.transformers import VisionTransformer\n",
    "\n",
    "data_dir = '/global/cfs/cdirs/m4392/salcc/data'"
   ]
  },
  {
   "cell_type": "code",
   "execution_count": 2,
   "metadata": {
    "execution": {
     "iopub.execute_input": "2023-08-22T10:37:27.397312Z",
     "iopub.status.busy": "2023-08-22T10:37:27.396661Z",
     "iopub.status.idle": "2023-08-22T10:37:27.651703Z",
     "shell.execute_reply": "2023-08-22T10:37:27.651274Z"
    }
   },
   "outputs": [
    {
     "name": "stdout",
     "output_type": "stream",
     "text": [
      "gpu:0 NVIDIA A100-SXM4-40GB\n"
     ]
    }
   ],
   "source": [
    "for d in jax.devices():\n",
    "    print(d, d.device_kind)"
   ]
  },
  {
   "cell_type": "code",
   "execution_count": 3,
   "metadata": {
    "execution": {
     "iopub.execute_input": "2023-08-22T10:37:27.653472Z",
     "iopub.status.busy": "2023-08-22T10:37:27.653269Z",
     "iopub.status.idle": "2023-08-22T10:37:32.107705Z",
     "shell.execute_reply": "2023-08-22T10:37:32.107256Z"
    }
   },
   "outputs": [
    {
     "name": "stdout",
     "output_type": "stream",
     "text": [
      "(32, 32, 2)\n"
     ]
    },
    {
     "data": {
      "image/png": "[encoded data removed]",
      "text/plain": [
       "<Figure size 600x300 with 2 Axes>"
      ]
     },
     "metadata": {},
     "output_type": "display_data"
    }
   ],
   "source": [
    "ep_train_dataloader, ep_valid_dataloader = get_electron_photon_dataloaders(batch_size=256, data_dir=data_dir)\n",
    "first_image = next(iter(ep_train_dataloader))[0][0]\n",
    "print(first_image.shape)\n",
    "plot_image(first_image, abs_log=True)"
   ]
  },
  {
   "cell_type": "code",
   "execution_count": 4,
   "metadata": {
    "execution": {
     "iopub.execute_input": "2023-08-22T10:37:32.109314Z",
     "iopub.status.busy": "2023-08-22T10:37:32.109149Z",
     "iopub.status.idle": "2023-08-22T10:46:19.114782Z",
     "shell.execute_reply": "2023-08-22T10:46:19.114193Z"
    }
   },
   "outputs": [
    {
     "name": "stderr",
     "output_type": "stream",
     "text": [
      "Epoch   1/50: 100%|██████████| 1906/1906 [00:15<00:00, 120.36batch/s, Loss = 0.6423, AUC = 68.14%]\n",
      "Epoch   2/50: 100%|██████████| 1906/1906 [00:09<00:00, 190.89batch/s, Loss = 0.6151, AUC = 72.45%]\n",
      "Epoch   3/50: 100%|██████████| 1906/1906 [00:10<00:00, 190.09batch/s, Loss = 0.5938, AUC = 74.64%]\n",
      "Epoch   4/50: 100%|██████████| 1906/1906 [00:10<00:00, 182.20batch/s, Loss = 0.5861, AUC = 75.63%]\n",
      "Epoch   5/50: 100%|██████████| 1906/1906 [00:10<00:00, 185.02batch/s, Loss = 0.5847, AUC = 75.88%]\n",
      "Epoch   6/50: 100%|██████████| 1906/1906 [00:10<00:00, 187.78batch/s, Loss = 0.5828, AUC = 76.48%]\n",
      "Epoch   7/50: 100%|██████████| 1906/1906 [00:10<00:00, 188.46batch/s, Loss = 0.5768, AUC = 76.93%]\n",
      "Epoch   8/50: 100%|██████████| 1906/1906 [00:09<00:00, 192.26batch/s, Loss = 0.5745, AUC = 77.15%]\n",
      "Epoch   9/50: 100%|██████████| 1906/1906 [00:09<00:00, 193.76batch/s, Loss = 0.5780, AUC = 76.64%]\n",
      "Epoch  10/50: 100%|██████████| 1906/1906 [00:09<00:00, 191.73batch/s, Loss = 0.5746, AUC = 77.24%]\n",
      "Epoch  11/50: 100%|██████████| 1906/1906 [00:10<00:00, 189.08batch/s, Loss = 0.5716, AUC = 77.36%]\n",
      "Epoch  12/50: 100%|██████████| 1906/1906 [00:10<00:00, 179.71batch/s, Loss = 0.5678, AUC = 77.66%]\n",
      "Epoch  13/50: 100%|██████████| 1906/1906 [00:12<00:00, 158.31batch/s, Loss = 0.5670, AUC = 77.76%]\n",
      "Epoch  14/50: 100%|██████████| 1906/1906 [00:09<00:00, 198.29batch/s, Loss = 0.5663, AUC = 77.93%]\n",
      "Epoch  15/50: 100%|██████████| 1906/1906 [00:10<00:00, 188.94batch/s, Loss = 0.5713, AUC = 77.24%]\n",
      "Epoch  16/50: 100%|██████████| 1906/1906 [00:09<00:00, 193.10batch/s, Loss = 0.5650, AUC = 77.88%]\n",
      "Epoch  17/50: 100%|██████████| 1906/1906 [00:10<00:00, 182.71batch/s, Loss = 0.5648, AUC = 78.09%]\n",
      "Epoch  18/50: 100%|██████████| 1906/1906 [00:10<00:00, 184.03batch/s, Loss = 0.5598, AUC = 78.36%]\n",
      "Epoch  19/50: 100%|██████████| 1906/1906 [00:10<00:00, 188.11batch/s, Loss = 0.5673, AUC = 78.39%]\n",
      "Epoch  20/50: 100%|██████████| 1906/1906 [00:10<00:00, 190.21batch/s, Loss = 0.5612, AUC = 78.35%]\n",
      "Epoch  21/50: 100%|██████████| 1906/1906 [00:10<00:00, 186.80batch/s, Loss = 0.5650, AUC = 78.07%]\n",
      "Epoch  22/50: 100%|██████████| 1906/1906 [00:09<00:00, 195.92batch/s, Loss = 0.5606, AUC = 78.50%]\n",
      "Epoch  23/50: 100%|██████████| 1906/1906 [00:09<00:00, 197.04batch/s, Loss = 0.5644, AUC = 78.00%]\n",
      "Epoch  24/50: 100%|██████████| 1906/1906 [00:09<00:00, 193.27batch/s, Loss = 0.5613, AUC = 78.47%]\n",
      "Epoch  25/50: 100%|██████████| 1906/1906 [00:10<00:00, 183.23batch/s, Loss = 0.5596, AUC = 78.62%]\n",
      "Epoch  26/50: 100%|██████████| 1906/1906 [00:09<00:00, 194.29batch/s, Loss = 0.5583, AUC = 78.64%]\n",
      "Epoch  27/50: 100%|██████████| 1906/1906 [00:10<00:00, 190.32batch/s, Loss = 0.5595, AUC = 78.67%]\n",
      "Epoch  28/50: 100%|██████████| 1906/1906 [00:10<00:00, 187.57batch/s, Loss = 0.5584, AUC = 78.82%]\n",
      "Epoch  29/50: 100%|██████████| 1906/1906 [00:10<00:00, 187.98batch/s, Loss = 0.5582, AUC = 78.80%]\n",
      "Epoch  30/50: 100%|██████████| 1906/1906 [00:10<00:00, 187.33batch/s, Loss = 0.5611, AUC = 78.65%]\n",
      "Epoch  31/50: 100%|██████████| 1906/1906 [00:10<00:00, 181.48batch/s, Loss = 0.5557, AUC = 79.00%]\n",
      "Epoch  32/50: 100%|██████████| 1906/1906 [00:10<00:00, 189.88batch/s, Loss = 0.5540, AUC = 79.00%]\n",
      "Epoch  33/50: 100%|██████████| 1906/1906 [00:09<00:00, 196.49batch/s, Loss = 0.5556, AUC = 78.94%]\n",
      "Epoch  34/50: 100%|██████████| 1906/1906 [00:09<00:00, 190.67batch/s, Loss = 0.5570, AUC = 78.71%]\n",
      "Epoch  35/50: 100%|██████████| 1906/1906 [00:09<00:00, 191.14batch/s, Loss = 0.5532, AUC = 79.09%]\n",
      "Epoch  36/50: 100%|██████████| 1906/1906 [00:10<00:00, 189.27batch/s, Loss = 0.5546, AUC = 79.10%]\n",
      "Epoch  37/50: 100%|██████████| 1906/1906 [00:10<00:00, 186.98batch/s, Loss = 0.5604, AUC = 78.75%]\n",
      "Epoch  38/50: 100%|██████████| 1906/1906 [00:09<00:00, 196.45batch/s, Loss = 0.5534, AUC = 79.14%]\n",
      "Epoch  39/50: 100%|██████████| 1906/1906 [00:10<00:00, 186.95batch/s, Loss = 0.5571, AUC = 78.84%]\n",
      "Epoch  40/50: 100%|██████████| 1906/1906 [00:10<00:00, 187.69batch/s, Loss = 0.5531, AUC = 79.09%]\n",
      "Epoch  41/50: 100%|██████████| 1906/1906 [00:10<00:00, 184.78batch/s, Loss = 0.5515, AUC = 79.26%]\n",
      "Epoch  42/50: 100%|██████████| 1906/1906 [00:10<00:00, 183.62batch/s, Loss = 0.5625, AUC = 78.45%]\n",
      "Epoch  43/50: 100%|██████████| 1906/1906 [00:10<00:00, 188.58batch/s, Loss = 0.5540, AUC = 79.16%]\n",
      "Epoch  44/50: 100%|██████████| 1906/1906 [00:10<00:00, 187.00batch/s, Loss = 0.5516, AUC = 79.31%]\n",
      "Epoch  45/50: 100%|██████████| 1906/1906 [00:10<00:00, 186.69batch/s, Loss = 0.5575, AUC = 79.03%]\n",
      "Epoch  46/50: 100%|██████████| 1906/1906 [00:09<00:00, 192.56batch/s, Loss = 0.5531, AUC = 79.20%]\n",
      "Epoch  47/50: 100%|██████████| 1906/1906 [00:10<00:00, 179.95batch/s, Loss = 0.5516, AUC = 79.48%]\n",
      "Epoch  48/50: 100%|██████████| 1906/1906 [00:10<00:00, 185.92batch/s, Loss = 0.5549, AUC = 79.07%]\n",
      "Epoch  49/50: 100%|██████████| 1906/1906 [00:10<00:00, 187.57batch/s, Loss = 0.5508, AUC = 79.40%]\n",
      "Epoch  50/50: 100%|██████████| 1906/1906 [00:10<00:00, 188.47batch/s, Loss = 0.5511, AUC = 79.41%]"
     ]
    },
    {
     "name": "stdout",
     "output_type": "stream",
     "text": [
      "TOTAL TIME = 512.78s\n",
      "BEST AUC = 79.48% AT EPOCH 47\n"
     ]
    },
    {
     "name": "stderr",
     "output_type": "stream",
     "text": [
      "\n"
     ]
    }
   ],
   "source": [
    "model = VisionTransformer(num_classes=2, patch_size=8, hidden_size=64, num_heads=2, num_transformer_blocks=4, mlp_hidden_size=32, channels_last=True)\n",
    "train_and_evaluate(model, ep_train_dataloader, ep_valid_dataloader, num_classes=2, learning_rate=0.0003, num_epochs=50)"
   ]
  },
  {
   "cell_type": "code",
   "execution_count": 5,
   "metadata": {
    "execution": {
     "iopub.execute_input": "2023-08-22T10:46:19.116570Z",
     "iopub.status.busy": "2023-08-22T10:46:19.116426Z",
     "iopub.status.idle": "2023-08-22T10:54:30.609622Z",
     "shell.execute_reply": "2023-08-22T10:54:30.609075Z"
    }
   },
   "outputs": [
    {
     "name": "stderr",
     "output_type": "stream",
     "text": [
      "Epoch   1/50: 100%|██████████| 1906/1906 [00:14<00:00, 134.01batch/s, Loss = 0.6879, AUC = 56.61%]\n",
      "Epoch   2/50: 100%|██████████| 1906/1906 [00:09<00:00, 191.87batch/s, Loss = 0.6658, AUC = 64.04%]\n",
      "Epoch   3/50: 100%|██████████| 1906/1906 [00:09<00:00, 205.38batch/s, Loss = 0.6503, AUC = 66.77%]\n",
      "Epoch   4/50: 100%|██████████| 1906/1906 [00:09<00:00, 199.29batch/s, Loss = 0.6399, AUC = 68.44%]\n",
      "Epoch   5/50: 100%|██████████| 1906/1906 [00:09<00:00, 205.47batch/s, Loss = 0.6267, AUC = 70.31%]\n",
      "Epoch   6/50: 100%|██████████| 1906/1906 [00:09<00:00, 199.79batch/s, Loss = 0.6197, AUC = 71.68%]\n",
      "Epoch   7/50: 100%|██████████| 1906/1906 [00:09<00:00, 197.40batch/s, Loss = 0.6128, AUC = 72.25%]\n",
      "Epoch   8/50: 100%|██████████| 1906/1906 [00:09<00:00, 197.84batch/s, Loss = 0.6189, AUC = 72.69%]\n",
      "Epoch   9/50: 100%|██████████| 1906/1906 [00:09<00:00, 204.33batch/s, Loss = 0.6096, AUC = 72.87%]\n",
      "Epoch  10/50: 100%|██████████| 1906/1906 [00:09<00:00, 192.37batch/s, Loss = 0.6086, AUC = 73.12%]\n",
      "Epoch  11/50: 100%|██████████| 1906/1906 [00:09<00:00, 199.22batch/s, Loss = 0.6109, AUC = 73.15%]\n",
      "Epoch  12/50: 100%|██████████| 1906/1906 [00:09<00:00, 200.57batch/s, Loss = 0.6068, AUC = 73.33%]\n",
      "Epoch  13/50: 100%|██████████| 1906/1906 [00:09<00:00, 194.42batch/s, Loss = 0.6021, AUC = 73.88%]\n",
      "Epoch  14/50: 100%|██████████| 1906/1906 [00:09<00:00, 200.52batch/s, Loss = 0.6002, AUC = 73.99%]\n",
      "Epoch  15/50: 100%|██████████| 1906/1906 [00:09<00:00, 197.40batch/s, Loss = 0.6093, AUC = 73.69%]\n",
      "Epoch  16/50: 100%|██████████| 1906/1906 [00:09<00:00, 196.47batch/s, Loss = 0.6002, AUC = 74.14%]\n",
      "Epoch  17/50: 100%|██████████| 1906/1906 [00:09<00:00, 207.48batch/s, Loss = 0.5998, AUC = 74.11%]\n",
      "Epoch  18/50: 100%|██████████| 1906/1906 [00:09<00:00, 206.07batch/s, Loss = 0.6010, AUC = 74.13%]\n",
      "Epoch  19/50: 100%|██████████| 1906/1906 [00:09<00:00, 195.86batch/s, Loss = 0.5977, AUC = 74.47%]\n",
      "Epoch  20/50: 100%|██████████| 1906/1906 [00:09<00:00, 207.95batch/s, Loss = 0.6034, AUC = 74.22%]\n",
      "Epoch  21/50: 100%|██████████| 1906/1906 [00:09<00:00, 200.79batch/s, Loss = 0.6165, AUC = 73.64%]\n",
      "Epoch  22/50: 100%|██████████| 1906/1906 [00:09<00:00, 202.99batch/s, Loss = 0.6072, AUC = 74.04%]\n",
      "Epoch  23/50: 100%|██████████| 1906/1906 [00:09<00:00, 196.90batch/s, Loss = 0.6022, AUC = 74.48%]\n",
      "Epoch  24/50: 100%|██████████| 1906/1906 [00:09<00:00, 196.12batch/s, Loss = 0.5982, AUC = 74.64%]\n",
      "Epoch  25/50: 100%|██████████| 1906/1906 [00:09<00:00, 193.61batch/s, Loss = 0.6056, AUC = 74.48%]\n",
      "Epoch  26/50: 100%|██████████| 1906/1906 [00:09<00:00, 197.94batch/s, Loss = 0.5927, AUC = 74.93%]\n",
      "Epoch  27/50: 100%|██████████| 1906/1906 [00:09<00:00, 198.18batch/s, Loss = 0.5943, AUC = 74.81%]\n",
      "Epoch  28/50: 100%|██████████| 1906/1906 [00:09<00:00, 194.63batch/s, Loss = 0.5994, AUC = 74.78%]\n",
      "Epoch  29/50: 100%|██████████| 1906/1906 [00:09<00:00, 194.94batch/s, Loss = 0.5954, AUC = 75.08%]\n",
      "Epoch  30/50: 100%|██████████| 1906/1906 [00:09<00:00, 193.69batch/s, Loss = 0.5880, AUC = 75.36%]\n",
      "Epoch  31/50: 100%|██████████| 1906/1906 [00:09<00:00, 198.56batch/s, Loss = 0.5967, AUC = 75.09%]\n",
      "Epoch  32/50: 100%|██████████| 1906/1906 [00:09<00:00, 198.57batch/s, Loss = 0.5889, AUC = 75.41%]\n",
      "Epoch  33/50: 100%|██████████| 1906/1906 [00:09<00:00, 196.25batch/s, Loss = 0.5978, AUC = 75.12%]\n",
      "Epoch  34/50: 100%|██████████| 1906/1906 [00:09<00:00, 206.56batch/s, Loss = 0.5924, AUC = 75.31%]\n",
      "Epoch  35/50: 100%|██████████| 1906/1906 [00:10<00:00, 190.41batch/s, Loss = 0.6037, AUC = 74.71%]\n",
      "Epoch  36/50: 100%|██████████| 1906/1906 [00:09<00:00, 198.50batch/s, Loss = 0.5900, AUC = 75.28%]\n",
      "Epoch  37/50: 100%|██████████| 1906/1906 [00:09<00:00, 198.71batch/s, Loss = 0.5868, AUC = 75.50%]\n",
      "Epoch  38/50: 100%|██████████| 1906/1906 [00:09<00:00, 200.73batch/s, Loss = 0.5942, AUC = 75.31%]\n",
      "Epoch  39/50: 100%|██████████| 1906/1906 [00:09<00:00, 192.49batch/s, Loss = 0.5924, AUC = 75.37%]\n",
      "Epoch  40/50: 100%|██████████| 1906/1906 [00:09<00:00, 201.32batch/s, Loss = 0.5919, AUC = 75.53%]\n",
      "Epoch  41/50: 100%|██████████| 1906/1906 [00:09<00:00, 199.53batch/s, Loss = 0.6053, AUC = 74.87%]\n",
      "Epoch  42/50: 100%|██████████| 1906/1906 [00:09<00:00, 206.25batch/s, Loss = 0.6132, AUC = 74.64%]\n",
      "Epoch  43/50: 100%|██████████| 1906/1906 [00:09<00:00, 203.50batch/s, Loss = 0.5952, AUC = 75.18%]\n",
      "Epoch  44/50: 100%|██████████| 1906/1906 [00:09<00:00, 193.12batch/s, Loss = 0.5851, AUC = 75.67%]\n",
      "Epoch  45/50: 100%|██████████| 1906/1906 [00:09<00:00, 196.79batch/s, Loss = 0.5883, AUC = 75.52%]\n",
      "Epoch  46/50: 100%|██████████| 1906/1906 [00:09<00:00, 194.60batch/s, Loss = 0.5894, AUC = 75.60%]\n",
      "Epoch  47/50: 100%|██████████| 1906/1906 [00:10<00:00, 190.07batch/s, Loss = 0.5952, AUC = 75.08%]\n",
      "Epoch  48/50: 100%|██████████| 1906/1906 [00:09<00:00, 199.85batch/s, Loss = 0.5876, AUC = 75.71%]\n",
      "Epoch  49/50: 100%|██████████| 1906/1906 [00:09<00:00, 196.71batch/s, Loss = 0.5860, AUC = 75.74%]\n",
      "Epoch  50/50: 100%|██████████| 1906/1906 [00:09<00:00, 202.99batch/s, Loss = 0.5902, AUC = 75.68%]"
     ]
    },
    {
     "name": "stdout",
     "output_type": "stream",
     "text": [
      "TOTAL TIME = 484.62s\n",
      "BEST AUC = 75.74% AT EPOCH 49\n"
     ]
    },
    {
     "name": "stderr",
     "output_type": "stream",
     "text": [
      "\n"
     ]
    }
   ],
   "source": [
    "model = VisionTransformer(num_classes=2, patch_size=8, hidden_size=6, num_heads=2, num_transformer_blocks=4, mlp_hidden_size=3, channels_last=True)\n",
    "train_and_evaluate(model, ep_train_dataloader, ep_valid_dataloader, num_classes=2, learning_rate=0.0003, num_epochs=50)"
   ]
  }
 ],
 "metadata": {
  "kernelspec": {
   "display_name": "gsoc",
   "language": "python",
   "name": "gsoc"
  },
  "language_info": {
   "codemirror_mode": {
    "name": "ipython",
    "version": 3
   },
   "file_extension": ".py",
   "mimetype": "text/x-python",
   "name": "python",
   "nbconvert_exporter": "python",
   "pygments_lexer": "ipython3",
   "version": "3.11.4"
  }
 },
 "nbformat": 4,
 "nbformat_minor": 2
}
