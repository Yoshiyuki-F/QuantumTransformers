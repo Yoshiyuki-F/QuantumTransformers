{
 "cells": [
  {
   "cell_type": "code",
   "execution_count": 1,
   "metadata": {
    "execution": {
     "iopub.execute_input": "2023-07-18T21:55:31.724800Z",
     "iopub.status.busy": "2023-07-18T21:55:31.724515Z",
     "iopub.status.idle": "2023-07-18T21:55:37.928332Z",
     "shell.execute_reply": "2023-07-18T21:55:37.927868Z"
    }
   },
   "outputs": [],
   "source": [
    "from quantum_transformers.utils import plot_image\n",
    "from quantum_transformers.data import get_electron_photon_dataloaders\n",
    "from quantum_transformers.training import train\n",
    "from quantum_transformers.transformers import ClassicalVisionTransformer\n",
    "\n",
    "import torch"
   ]
  },
  {
   "cell_type": "code",
   "execution_count": 2,
   "metadata": {
    "execution": {
     "iopub.execute_input": "2023-07-18T21:55:37.930605Z",
     "iopub.status.busy": "2023-07-18T21:55:37.930303Z",
     "iopub.status.idle": "2023-07-18T21:55:38.146770Z",
     "shell.execute_reply": "2023-07-18T21:55:38.146360Z"
    }
   },
   "outputs": [
    {
     "data": {
      "text/plain": [
       "'NVIDIA A100-SXM4-40GB'"
      ]
     },
     "execution_count": 2,
     "metadata": {},
     "output_type": "execute_result"
    }
   ],
   "source": [
    "device = torch.device('cuda' if torch.cuda.is_available() else 'cpu')\n",
    "torch.cuda.get_device_name() if device.type == 'cuda' else 'cpu'"
   ]
  },
  {
   "cell_type": "code",
   "execution_count": 3,
   "metadata": {
    "execution": {
     "iopub.execute_input": "2023-07-18T21:55:38.172221Z",
     "iopub.status.busy": "2023-07-18T21:55:38.172077Z",
     "iopub.status.idle": "2023-07-18T21:59:46.163857Z",
     "shell.execute_reply": "2023-07-18T21:59:46.163499Z"
    }
   },
   "outputs": [
    {
     "name": "stdout",
     "output_type": "stream",
     "text": [
      "/global/homes/s/salcc/data/electron-photon already exists, skipping download\n"
     ]
    },
    {
     "data": {
      "image/png": "[encoded data removed]",
      "text/plain": [
       "<Figure size 600x300 with 2 Axes>"
      ]
     },
     "metadata": {},
     "output_type": "display_data"
    },
    {
     "name": "stdout",
     "output_type": "stream",
     "text": [
      "Image size: 32x32, Number of channels: 2\n"
     ]
    }
   ],
   "source": [
    "ep_train_dataloader, ep_valid_dataloader = get_electron_photon_dataloaders(batch_size=256, num_workers=4, pin_memory=True)\n",
    "plot_image(ep_train_dataloader.dataset[0][0], abs_log=True)\n",
    "img_size = ep_train_dataloader.dataset[0][0].shape[0]\n",
    "patch_size = 8\n",
    "num_channels = ep_train_dataloader.dataset[0][0].shape[2]\n",
    "num_classes = 2\n",
    "print(f\"Image size: {img_size}x{img_size}, Number of channels: {num_channels}\")"
   ]
  },
  {
   "cell_type": "code",
   "execution_count": 4,
   "metadata": {
    "execution": {
     "iopub.execute_input": "2023-07-18T21:59:46.165418Z",
     "iopub.status.busy": "2023-07-18T21:59:46.165244Z",
     "iopub.status.idle": "2023-07-18T23:19:05.771259Z",
     "shell.execute_reply": "2023-07-18T23:19:05.770800Z"
    }
   },
   "outputs": [
    {
     "name": "stdout",
     "output_type": "stream",
     "text": [
      "Epoch 1/30 (256.69s): Loss = 0.6350, Accuracy = 63.75%, AUC = 68.67%\n",
      "Epoch 2/30 (410.50s): Loss = 0.6152, Accuracy = 67.24%, AUC = 72.09%\n",
      "Epoch 3/30 (587.37s): Loss = 0.6005, Accuracy = 68.52%, AUC = 74.14%\n",
      "Epoch 4/30 (744.67s): Loss = 0.5999, Accuracy = 68.11%, AUC = 74.19%\n",
      "Epoch 5/30 (900.26s): Loss = 0.5867, Accuracy = 69.43%, AUC = 75.83%\n",
      "Epoch 6/30 (1053.08s): Loss = 0.5826, Accuracy = 70.00%, AUC = 76.32%\n",
      "Epoch 7/30 (1204.18s): Loss = 0.5826, Accuracy = 69.85%, AUC = 76.42%\n",
      "Epoch 8/30 (1356.12s): Loss = 0.5819, Accuracy = 69.83%, AUC = 76.52%\n",
      "Epoch 9/30 (1507.36s): Loss = 0.5767, Accuracy = 70.58%, AUC = 76.86%\n",
      "Epoch 10/30 (1659.15s): Loss = 0.5815, Accuracy = 69.61%, AUC = 76.60%\n",
      "Epoch 11/30 (1811.48s): Loss = 0.5753, Accuracy = 70.45%, AUC = 77.00%\n",
      "Epoch 12/30 (1960.11s): Loss = 0.5733, Accuracy = 70.49%, AUC = 77.12%\n",
      "Epoch 13/30 (2107.52s): Loss = 0.5719, Accuracy = 70.87%, AUC = 77.69%\n",
      "Epoch 14/30 (2254.57s): Loss = 0.5676, Accuracy = 71.25%, AUC = 77.77%\n",
      "Epoch 15/30 (2405.97s): Loss = 0.5681, Accuracy = 71.21%, AUC = 77.71%\n",
      "Epoch 16/30 (2565.32s): Loss = 0.5650, Accuracy = 71.15%, AUC = 77.91%\n",
      "Epoch 17/30 (2728.70s): Loss = 0.5637, Accuracy = 71.10%, AUC = 78.01%\n",
      "Epoch 18/30 (2882.99s): Loss = 0.5627, Accuracy = 71.20%, AUC = 78.02%\n",
      "Epoch 19/30 (3034.59s): Loss = 0.5650, Accuracy = 71.82%, AUC = 78.16%\n",
      "Epoch 20/30 (3184.99s): Loss = 0.5662, Accuracy = 71.21%, AUC = 78.03%\n",
      "Epoch 21/30 (3362.22s): Loss = 0.5654, Accuracy = 71.21%, AUC = 77.96%\n",
      "Epoch 22/30 (3513.47s): Loss = 0.5649, Accuracy = 71.74%, AUC = 78.25%\n",
      "Epoch 23/30 (3678.77s): Loss = 0.5686, Accuracy = 70.90%, AUC = 78.26%\n",
      "Epoch 24/30 (3830.92s): Loss = 0.5621, Accuracy = 71.52%, AUC = 78.57%\n",
      "Epoch 25/30 (3986.71s): Loss = 0.5575, Accuracy = 71.71%, AUC = 78.73%\n",
      "Epoch 26/30 (4147.83s): Loss = 0.5601, Accuracy = 71.49%, AUC = 78.67%\n",
      "Epoch 27/30 (4300.08s): Loss = 0.5628, Accuracy = 71.32%, AUC = 78.55%\n",
      "Epoch 28/30 (4450.46s): Loss = 0.5606, Accuracy = 71.56%, AUC = 78.29%\n",
      "Epoch 29/30 (4604.82s): Loss = 0.5612, Accuracy = 71.80%, AUC = 78.58%\n",
      "Epoch 30/30 (4757.74s): Loss = 0.5594, Accuracy = 71.97%, AUC = 78.66%\n",
      "BEST AUC = 78.73% AT EPOCH 25\n"
     ]
    }
   ],
   "source": [
    "model = ClassicalVisionTransformer(img_size=img_size, num_channels=num_channels, num_classes=num_classes, patch_size=patch_size, hidden_size=64, num_heads=2, num_transformer_blocks=4, mlp_hidden_size=32, channels_last=True)\n",
    "train(model, ep_train_dataloader, ep_valid_dataloader, learning_rate=0.0003, num_epochs=30, device=device)"
   ]
  },
  {
   "cell_type": "code",
   "execution_count": 5,
   "metadata": {
    "execution": {
     "iopub.execute_input": "2023-07-18T23:19:05.773145Z",
     "iopub.status.busy": "2023-07-18T23:19:05.772984Z",
     "iopub.status.idle": "2023-07-19T00:35:59.217266Z",
     "shell.execute_reply": "2023-07-19T00:35:59.216775Z"
    }
   },
   "outputs": [
    {
     "name": "stdout",
     "output_type": "stream",
     "text": [
      "Epoch 1/30 (157.45s): Loss = 0.6484, Accuracy = 62.86%, AUC = 66.25%\n",
      "Epoch 2/30 (311.42s): Loss = 0.6302, Accuracy = 65.61%, AUC = 68.73%\n",
      "Epoch 3/30 (463.74s): Loss = 0.6211, Accuracy = 66.85%, AUC = 69.91%\n",
      "Epoch 4/30 (614.59s): Loss = 0.6167, Accuracy = 67.42%, AUC = 70.46%\n",
      "Epoch 5/30 (766.92s): Loss = 0.6170, Accuracy = 67.33%, AUC = 70.92%\n",
      "Epoch 6/30 (918.58s): Loss = 0.6147, Accuracy = 67.32%, AUC = 71.07%\n",
      "Epoch 7/30 (1067.30s): Loss = 0.6131, Accuracy = 67.93%, AUC = 71.45%\n",
      "Epoch 8/30 (1219.47s): Loss = 0.6118, Accuracy = 67.69%, AUC = 71.92%\n",
      "Epoch 9/30 (1366.96s): Loss = 0.6116, Accuracy = 67.98%, AUC = 72.64%\n",
      "Epoch 10/30 (1514.30s): Loss = 0.6070, Accuracy = 68.28%, AUC = 73.33%\n",
      "Epoch 11/30 (1662.11s): Loss = 0.6034, Accuracy = 68.33%, AUC = 73.64%\n",
      "Epoch 12/30 (1810.92s): Loss = 0.6027, Accuracy = 68.34%, AUC = 73.86%\n",
      "Epoch 13/30 (1958.68s): Loss = 0.5998, Accuracy = 68.75%, AUC = 74.06%\n",
      "Epoch 14/30 (2132.78s): Loss = 0.6015, Accuracy = 68.95%, AUC = 74.22%\n",
      "Epoch 15/30 (2284.99s): Loss = 0.6000, Accuracy = 68.92%, AUC = 74.38%\n",
      "Epoch 16/30 (2435.98s): Loss = 0.6021, Accuracy = 68.62%, AUC = 74.49%\n",
      "Epoch 17/30 (2600.68s): Loss = 0.5976, Accuracy = 68.60%, AUC = 74.38%\n",
      "Epoch 18/30 (2767.10s): Loss = 0.5986, Accuracy = 68.97%, AUC = 74.49%\n",
      "Epoch 19/30 (2916.08s): Loss = 0.6008, Accuracy = 68.70%, AUC = 74.83%\n",
      "Epoch 20/30 (3084.84s): Loss = 0.5965, Accuracy = 69.05%, AUC = 74.80%\n",
      "Epoch 21/30 (3233.68s): Loss = 0.5973, Accuracy = 68.54%, AUC = 74.38%\n",
      "Epoch 22/30 (3382.88s): Loss = 0.5942, Accuracy = 69.35%, AUC = 75.12%\n",
      "Epoch 23/30 (3533.37s): Loss = 0.5948, Accuracy = 68.79%, AUC = 74.78%\n",
      "Epoch 24/30 (3684.51s): Loss = 0.5935, Accuracy = 69.17%, AUC = 74.95%\n",
      "Epoch 25/30 (3847.09s): Loss = 0.5937, Accuracy = 69.37%, AUC = 75.02%\n",
      "Epoch 26/30 (4005.46s): Loss = 0.5926, Accuracy = 69.35%, AUC = 75.14%\n",
      "Epoch 27/30 (4158.00s): Loss = 0.5943, Accuracy = 69.12%, AUC = 75.12%\n",
      "Epoch 28/30 (4308.48s): Loss = 0.5931, Accuracy = 69.26%, AUC = 75.31%\n",
      "Epoch 29/30 (4460.24s): Loss = 0.5924, Accuracy = 69.43%, AUC = 75.23%\n",
      "Epoch 30/30 (4613.44s): Loss = 0.5939, Accuracy = 69.32%, AUC = 75.25%\n",
      "BEST AUC = 75.31% AT EPOCH 28\n"
     ]
    }
   ],
   "source": [
    "model = ClassicalVisionTransformer(img_size=img_size, num_channels=num_channels, num_classes=num_classes, patch_size=patch_size, hidden_size=6, num_heads=2, num_transformer_blocks=4, mlp_hidden_size=3, channels_last=True)\n",
    "train(model, ep_train_dataloader, ep_valid_dataloader, learning_rate=0.0003, num_epochs=30, device=device)"
   ]
  }
 ],
 "metadata": {
  "kernelspec": {
   "display_name": "quantum-transformers",
   "language": "python",
   "name": "python3"
  },
  "language_info": {
   "codemirror_mode": {
    "name": "ipython",
    "version": 3
   },
   "file_extension": ".py",
   "mimetype": "text/x-python",
   "name": "python",
   "nbconvert_exporter": "python",
   "pygments_lexer": "ipython3",
   "version": "3.11.4"
  }
 },
 "nbformat": 4,
 "nbformat_minor": 2
}
