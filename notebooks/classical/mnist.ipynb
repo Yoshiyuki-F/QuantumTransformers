{
 "cells": [
  {
   "cell_type": "code",
   "execution_count": 1,
   "metadata": {
    "execution": {
     "iopub.execute_input": "2023-08-26T19:31:35.331378Z",
     "iopub.status.busy": "2023-08-26T19:31:35.331128Z",
     "iopub.status.idle": "2023-08-26T19:31:46.622915Z",
     "shell.execute_reply": "2023-08-26T19:31:46.622509Z"
    }
   },
   "outputs": [
    {
     "name": "stderr",
     "output_type": "stream",
     "text": [
      "2023-08-26 12:31:36.032343: E tensorflow/compiler/xla/stream_executor/cuda/cuda_dnn.cc:9342] Unable to register cuDNN factory: Attempting to register factory for plugin cuDNN when one has already been registered\n",
      "2023-08-26 12:31:36.032368: E tensorflow/compiler/xla/stream_executor/cuda/cuda_fft.cc:609] Unable to register cuFFT factory: Attempting to register factory for plugin cuFFT when one has already been registered\n",
      "2023-08-26 12:31:36.032384: E tensorflow/compiler/xla/stream_executor/cuda/cuda_blas.cc:1518] Unable to register cuBLAS factory: Attempting to register factory for plugin cuBLAS when one has already been registered\n",
      "2023-08-26 12:31:37.297551: W tensorflow/compiler/tf2tensorrt/utils/py_utils.cc:38] TF-TRT Warning: Could not find TensorRT\n"
     ]
    },
    {
     "name": "stdout",
     "output_type": "stream",
     "text": [
      "WARNING:tensorflow:From /global/common/software/m4392/conda/gsoc/lib/python3.11/site-packages/tensorflow/python/ops/distributions/distribution.py:259: ReparameterizationType.__init__ (from tensorflow.python.ops.distributions.distribution) is deprecated and will be removed after 2019-01-01.\n",
      "Instructions for updating:\n",
      "The TensorFlow Distributions library has moved to TensorFlow Probability (https://github.com/tensorflow/probability). You should update all references to use `tfp.distributions` instead of `tf.distributions`.\n",
      "WARNING:tensorflow:From /global/common/software/m4392/conda/gsoc/lib/python3.11/site-packages/tensorflow/python/ops/distributions/bernoulli.py:165: RegisterKL.__init__ (from tensorflow.python.ops.distributions.kullback_leibler) is deprecated and will be removed after 2019-01-01.\n",
      "Instructions for updating:\n",
      "The TensorFlow Distributions library has moved to TensorFlow Probability (https://github.com/tensorflow/probability). You should update all references to use `tfp.distributions` instead of `tf.distributions`.\n"
     ]
    },
    {
     "name": "stderr",
     "output_type": "stream",
     "text": [
      "Please first ``pip install -U cirq`` to enable related functionality in translation module\n"
     ]
    }
   ],
   "source": [
    "import jax\n",
    "import tensorflow as tf\n",
    "tf.config.set_visible_devices([], device_type='GPU')  # Ensure TF does not see GPU and grab all GPU memory.\n",
    "tf.random.set_seed(42)  # For reproducibility.\n",
    "\n",
    "from quantum_transformers.utils import plot_image\n",
    "from quantum_transformers.datasets import get_mnist_dataloaders\n",
    "from quantum_transformers.training import train_and_evaluate\n",
    "from quantum_transformers.transformers import VisionTransformer\n",
    "\n",
    "data_dir = '/global/cfs/cdirs/m4392/salcc/data'"
   ]
  },
  {
   "cell_type": "code",
   "execution_count": 2,
   "metadata": {
    "execution": {
     "iopub.execute_input": "2023-08-26T19:31:46.625232Z",
     "iopub.status.busy": "2023-08-26T19:31:46.624869Z",
     "iopub.status.idle": "2023-08-26T19:31:47.123679Z",
     "shell.execute_reply": "2023-08-26T19:31:47.123301Z"
    }
   },
   "outputs": [
    {
     "name": "stdout",
     "output_type": "stream",
     "text": [
      "gpu:0 NVIDIA A100-SXM4-40GB\n"
     ]
    }
   ],
   "source": [
    "for d in jax.devices():\n",
    "    print(d, d.device_kind)"
   ]
  },
  {
   "cell_type": "code",
   "execution_count": 3,
   "metadata": {
    "execution": {
     "iopub.execute_input": "2023-08-26T19:31:47.125278Z",
     "iopub.status.busy": "2023-08-26T19:31:47.125110Z",
     "iopub.status.idle": "2023-08-26T19:31:47.922560Z",
     "shell.execute_reply": "2023-08-26T19:31:47.922175Z"
    }
   },
   "outputs": [
    {
     "name": "stdout",
     "output_type": "stream",
     "text": [
      "(28, 28, 1)\n"
     ]
    },
    {
     "data": {
      "image/png": "[encoded data removed]",
      "text/plain": [
       "<Figure size 300x300 with 1 Axes>"
      ]
     },
     "metadata": {},
     "output_type": "display_data"
    }
   ],
   "source": [
    "mnist_train_dataloader, mnist_valid_dataloader = get_mnist_dataloaders(batch_size=64, data_dir=data_dir)\n",
    "first_image = next(iter(mnist_train_dataloader))[0][0]\n",
    "print(first_image.shape)\n",
    "plot_image(first_image)"
   ]
  },
  {
   "cell_type": "code",
   "execution_count": 4,
   "metadata": {
    "execution": {
     "iopub.execute_input": "2023-08-26T19:31:47.924266Z",
     "iopub.status.busy": "2023-08-26T19:31:47.924043Z",
     "iopub.status.idle": "2023-08-26T19:34:41.573866Z",
     "shell.execute_reply": "2023-08-26T19:34:41.573273Z"
    }
   },
   "outputs": [
    {
     "name": "stderr",
     "output_type": "stream",
     "text": [
      "Epoch   1/30: 100%|██████████| 937/937 [00:12<00:00, 77.28batch/s, Loss = 0.1984, AUC = 99.68%] \n",
      "Epoch   2/30: 100%|██████████| 937/937 [00:05<00:00, 169.82batch/s, Loss = 0.1417, AUC = 99.84%]\n",
      "Epoch   3/30: 100%|██████████| 937/937 [00:05<00:00, 175.38batch/s, Loss = 0.1181, AUC = 99.89%]\n",
      "Epoch   4/30: 100%|██████████| 937/937 [00:05<00:00, 175.93batch/s, Loss = 0.1029, AUC = 99.92%]\n",
      "Epoch   5/30: 100%|██████████| 937/937 [00:05<00:00, 184.85batch/s, Loss = 0.0979, AUC = 99.93%]\n",
      "Epoch   6/30: 100%|██████████| 937/937 [00:05<00:00, 173.30batch/s, Loss = 0.0908, AUC = 99.93%]\n",
      "Epoch   7/30: 100%|██████████| 937/937 [00:05<00:00, 173.86batch/s, Loss = 0.0865, AUC = 99.95%]\n",
      "Epoch   8/30: 100%|██████████| 937/937 [00:05<00:00, 171.28batch/s, Loss = 0.0786, AUC = 99.95%]\n",
      "Epoch   9/30: 100%|██████████| 937/937 [00:05<00:00, 174.73batch/s, Loss = 0.0749, AUC = 99.96%]\n",
      "Epoch  10/30: 100%|██████████| 937/937 [00:05<00:00, 171.79batch/s, Loss = 0.0721, AUC = 99.96%]\n",
      "Epoch  11/30: 100%|██████████| 937/937 [00:05<00:00, 182.19batch/s, Loss = 0.0800, AUC = 99.95%]\n",
      "Epoch  12/30: 100%|██████████| 937/937 [00:05<00:00, 180.51batch/s, Loss = 0.0709, AUC = 99.96%]\n",
      "Epoch  13/30: 100%|██████████| 937/937 [00:05<00:00, 172.94batch/s, Loss = 0.0696, AUC = 99.97%]\n",
      "Epoch  14/30: 100%|██████████| 937/937 [00:05<00:00, 172.29batch/s, Loss = 0.0727, AUC = 99.96%]\n",
      "Epoch  15/30: 100%|██████████| 937/937 [00:05<00:00, 178.10batch/s, Loss = 0.0678, AUC = 99.97%]\n",
      "Epoch  16/30: 100%|██████████| 937/937 [00:05<00:00, 173.73batch/s, Loss = 0.0684, AUC = 99.97%]\n",
      "Epoch  17/30: 100%|██████████| 937/937 [00:05<00:00, 185.17batch/s, Loss = 0.0681, AUC = 99.97%]\n",
      "Epoch  18/30: 100%|██████████| 937/937 [00:05<00:00, 168.93batch/s, Loss = 0.0641, AUC = 99.98%]\n",
      "Epoch  19/30: 100%|██████████| 937/937 [00:05<00:00, 174.12batch/s, Loss = 0.0663, AUC = 99.97%]\n",
      "Epoch  20/30: 100%|██████████| 937/937 [00:05<00:00, 174.72batch/s, Loss = 0.0680, AUC = 99.97%]\n",
      "Epoch  21/30: 100%|██████████| 937/937 [00:05<00:00, 170.64batch/s, Loss = 0.0641, AUC = 99.98%]\n",
      "Epoch  22/30: 100%|██████████| 937/937 [00:05<00:00, 178.52batch/s, Loss = 0.0669, AUC = 99.98%]\n",
      "Epoch  23/30: 100%|██████████| 937/937 [00:05<00:00, 177.60batch/s, Loss = 0.0634, AUC = 99.98%]\n",
      "Epoch  24/30: 100%|██████████| 937/937 [00:05<00:00, 169.56batch/s, Loss = 0.0707, AUC = 99.97%]\n",
      "Epoch  25/30: 100%|██████████| 937/937 [00:05<00:00, 181.75batch/s, Loss = 0.0649, AUC = 99.98%]\n",
      "Epoch  26/30: 100%|██████████| 937/937 [00:05<00:00, 177.40batch/s, Loss = 0.0640, AUC = 99.98%]\n",
      "Epoch  27/30: 100%|██████████| 937/937 [00:05<00:00, 170.34batch/s, Loss = 0.0605, AUC = 99.98%]\n",
      "Epoch  28/30: 100%|██████████| 937/937 [00:05<00:00, 177.18batch/s, Loss = 0.0619, AUC = 99.98%]\n",
      "Epoch  29/30: 100%|██████████| 937/937 [00:05<00:00, 171.94batch/s, Loss = 0.0641, AUC = 99.98%]\n",
      "Epoch  30/30: 100%|██████████| 937/937 [00:05<00:00, 182.81batch/s, Loss = 0.0670, AUC = 99.98%]"
     ]
    },
    {
     "name": "stdout",
     "output_type": "stream",
     "text": [
      "TOTAL TIME = 167.05s\n",
      "BEST AUC = 99.98% AT EPOCH 27\n"
     ]
    },
    {
     "name": "stderr",
     "output_type": "stream",
     "text": [
      "\n"
     ]
    }
   ],
   "source": [
    "model = VisionTransformer(num_classes=10, patch_size=14, hidden_size=64, num_heads=2, num_transformer_blocks=4, mlp_hidden_size=32)\n",
    "train_and_evaluate(model, mnist_train_dataloader, mnist_valid_dataloader, num_classes=10, num_epochs=30)"
   ]
  },
  {
   "cell_type": "code",
   "execution_count": 5,
   "metadata": {
    "execution": {
     "iopub.execute_input": "2023-08-26T19:34:41.576279Z",
     "iopub.status.busy": "2023-08-26T19:34:41.576095Z",
     "iopub.status.idle": "2023-08-26T19:37:24.930086Z",
     "shell.execute_reply": "2023-08-26T19:37:24.929642Z"
    }
   },
   "outputs": [
    {
     "name": "stderr",
     "output_type": "stream",
     "text": [
      "Epoch   1/30: 100%|██████████| 937/937 [00:10<00:00, 88.89batch/s, Loss = 1.1291, AUC = 93.84%] \n",
      "Epoch   2/30: 100%|██████████| 937/937 [00:05<00:00, 183.50batch/s, Loss = 0.6936, AUC = 97.25%]\n",
      "Epoch   3/30: 100%|██████████| 937/937 [00:05<00:00, 186.01batch/s, Loss = 0.5259, AUC = 98.24%]\n",
      "Epoch   4/30: 100%|██████████| 937/937 [00:05<00:00, 169.51batch/s, Loss = 0.4387, AUC = 98.68%]\n",
      "Epoch   5/30: 100%|██████████| 937/937 [00:05<00:00, 184.91batch/s, Loss = 0.3957, AUC = 98.90%]\n",
      "Epoch   6/30: 100%|██████████| 937/937 [00:05<00:00, 174.39batch/s, Loss = 0.3687, AUC = 99.03%]\n",
      "Epoch   7/30: 100%|██████████| 937/937 [00:05<00:00, 183.37batch/s, Loss = 0.3485, AUC = 99.12%]\n",
      "Epoch   8/30: 100%|██████████| 937/937 [00:05<00:00, 186.99batch/s, Loss = 0.3358, AUC = 99.17%]\n",
      "Epoch   9/30: 100%|██████████| 937/937 [00:05<00:00, 179.08batch/s, Loss = 0.3308, AUC = 99.19%]\n",
      "Epoch  10/30: 100%|██████████| 937/937 [00:05<00:00, 182.03batch/s, Loss = 0.3160, AUC = 99.26%]\n",
      "Epoch  11/30: 100%|██████████| 937/937 [00:05<00:00, 178.84batch/s, Loss = 0.3111, AUC = 99.28%]\n",
      "Epoch  12/30: 100%|██████████| 937/937 [00:05<00:00, 183.09batch/s, Loss = 0.3024, AUC = 99.32%]\n",
      "Epoch  13/30: 100%|██████████| 937/937 [00:05<00:00, 180.49batch/s, Loss = 0.2948, AUC = 99.36%]\n",
      "Epoch  14/30: 100%|██████████| 937/937 [00:04<00:00, 190.05batch/s, Loss = 0.2916, AUC = 99.37%]\n",
      "Epoch  15/30: 100%|██████████| 937/937 [00:04<00:00, 190.80batch/s, Loss = 0.2843, AUC = 99.40%]\n",
      "Epoch  16/30: 100%|██████████| 937/937 [00:05<00:00, 178.93batch/s, Loss = 0.2779, AUC = 99.43%]\n",
      "Epoch  17/30: 100%|██████████| 937/937 [00:05<00:00, 173.62batch/s, Loss = 0.2734, AUC = 99.44%]\n",
      "Epoch  18/30: 100%|██████████| 937/937 [00:05<00:00, 184.03batch/s, Loss = 0.2682, AUC = 99.46%]\n",
      "Epoch  19/30: 100%|██████████| 937/937 [00:05<00:00, 177.49batch/s, Loss = 0.2647, AUC = 99.47%]\n",
      "Epoch  20/30: 100%|██████████| 937/937 [00:05<00:00, 172.68batch/s, Loss = 0.2596, AUC = 99.49%]\n",
      "Epoch  21/30: 100%|██████████| 937/937 [00:05<00:00, 179.74batch/s, Loss = 0.2566, AUC = 99.50%]\n",
      "Epoch  22/30: 100%|██████████| 937/937 [00:05<00:00, 177.82batch/s, Loss = 0.2522, AUC = 99.52%]\n",
      "Epoch  23/30: 100%|██████████| 937/937 [00:05<00:00, 183.63batch/s, Loss = 0.2493, AUC = 99.54%]\n",
      "Epoch  24/30: 100%|██████████| 937/937 [00:05<00:00, 186.22batch/s, Loss = 0.2458, AUC = 99.55%]\n",
      "Epoch  25/30: 100%|██████████| 937/937 [00:05<00:00, 183.31batch/s, Loss = 0.2418, AUC = 99.55%]\n",
      "Epoch  26/30: 100%|██████████| 937/937 [00:05<00:00, 177.38batch/s, Loss = 0.2415, AUC = 99.57%]\n",
      "Epoch  27/30: 100%|██████████| 937/937 [00:05<00:00, 181.93batch/s, Loss = 0.2376, AUC = 99.58%]\n",
      "Epoch  28/30: 100%|██████████| 937/937 [00:05<00:00, 185.73batch/s, Loss = 0.2360, AUC = 99.58%]\n",
      "Epoch  29/30: 100%|██████████| 937/937 [00:05<00:00, 179.16batch/s, Loss = 0.2322, AUC = 99.59%]\n",
      "Epoch  30/30: 100%|██████████| 937/937 [00:05<00:00, 184.22batch/s, Loss = 0.2318, AUC = 99.59%]"
     ]
    },
    {
     "name": "stdout",
     "output_type": "stream",
     "text": [
      "TOTAL TIME = 160.54s\n",
      "BEST AUC = 99.59% AT EPOCH 30\n"
     ]
    },
    {
     "name": "stderr",
     "output_type": "stream",
     "text": [
      "\n"
     ]
    }
   ],
   "source": [
    "model = VisionTransformer(num_classes=10, patch_size=14, hidden_size=8, num_heads=2, num_transformer_blocks=4, mlp_hidden_size=4)\n",
    "train_and_evaluate(model, mnist_train_dataloader, mnist_valid_dataloader, num_classes=10, num_epochs=30)"
   ]
  }
 ],
 "metadata": {
  "kernelspec": {
   "display_name": "gsoc",
   "language": "python",
   "name": "python3"
  },
  "language_info": {
   "codemirror_mode": {
    "name": "ipython",
    "version": 3
   },
   "file_extension": ".py",
   "mimetype": "text/x-python",
   "name": "python",
   "nbconvert_exporter": "python",
   "pygments_lexer": "ipython3",
   "version": "3.11.4"
  }
 },
 "nbformat": 4,
 "nbformat_minor": 2
}
