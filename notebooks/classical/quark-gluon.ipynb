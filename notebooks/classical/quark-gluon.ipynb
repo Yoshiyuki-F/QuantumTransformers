{
 "cells": [
  {
   "cell_type": "code",
   "execution_count": 1,
   "metadata": {
    "execution": {
     "iopub.execute_input": "2023-08-22T10:36:01.130388Z",
     "iopub.status.busy": "2023-08-22T10:36:01.130119Z",
     "iopub.status.idle": "2023-08-22T10:36:20.357616Z",
     "shell.execute_reply": "2023-08-22T10:36:20.357217Z"
    }
   },
   "outputs": [
    {
     "name": "stderr",
     "output_type": "stream",
     "text": [
      "2023-08-22 03:36:06.518507: E tensorflow/compiler/xla/stream_executor/cuda/cuda_dnn.cc:9342] Unable to register cuDNN factory: Attempting to register factory for plugin cuDNN when one has already been registered\n",
      "2023-08-22 03:36:06.518531: E tensorflow/compiler/xla/stream_executor/cuda/cuda_fft.cc:609] Unable to register cuFFT factory: Attempting to register factory for plugin cuFFT when one has already been registered\n",
      "2023-08-22 03:36:06.518548: E tensorflow/compiler/xla/stream_executor/cuda/cuda_blas.cc:1518] Unable to register cuBLAS factory: Attempting to register factory for plugin cuBLAS when one has already been registered\n",
      "2023-08-22 03:36:08.927539: W tensorflow/compiler/tf2tensorrt/utils/py_utils.cc:38] TF-TRT Warning: Could not find TensorRT\n"
     ]
    },
    {
     "name": "stdout",
     "output_type": "stream",
     "text": [
      "WARNING:tensorflow:From /global/common/software/m4392/conda/gsoc/lib/python3.11/site-packages/tensorflow/python/ops/distributions/distribution.py:259: ReparameterizationType.__init__ (from tensorflow.python.ops.distributions.distribution) is deprecated and will be removed after 2019-01-01.\n",
      "Instructions for updating:\n",
      "The TensorFlow Distributions library has moved to TensorFlow Probability (https://github.com/tensorflow/probability). You should update all references to use `tfp.distributions` instead of `tf.distributions`.\n",
      "WARNING:tensorflow:From /global/common/software/m4392/conda/gsoc/lib/python3.11/site-packages/tensorflow/python/ops/distributions/bernoulli.py:165: RegisterKL.__init__ (from tensorflow.python.ops.distributions.kullback_leibler) is deprecated and will be removed after 2019-01-01.\n",
      "Instructions for updating:\n",
      "The TensorFlow Distributions library has moved to TensorFlow Probability (https://github.com/tensorflow/probability). You should update all references to use `tfp.distributions` instead of `tf.distributions`.\n"
     ]
    },
    {
     "name": "stderr",
     "output_type": "stream",
     "text": [
      "Please first ``pip install -U cirq`` to enable related functionality in translation module\n"
     ]
    }
   ],
   "source": [
    "import jax\n",
    "\n",
    "from quantum_transformers.utils import plot_image\n",
    "from quantum_transformers.datasets import get_quark_gluon_dataloaders\n",
    "from quantum_transformers.training import train_and_evaluate\n",
    "from quantum_transformers.transformers import VisionTransformer\n",
    "\n",
    "data_dir = '/global/cfs/cdirs/m4392/salcc/data'"
   ]
  },
  {
   "cell_type": "code",
   "execution_count": 2,
   "metadata": {
    "execution": {
     "iopub.execute_input": "2023-08-22T10:36:20.359786Z",
     "iopub.status.busy": "2023-08-22T10:36:20.359377Z",
     "iopub.status.idle": "2023-08-22T10:36:20.650752Z",
     "shell.execute_reply": "2023-08-22T10:36:20.650324Z"
    }
   },
   "outputs": [
    {
     "name": "stdout",
     "output_type": "stream",
     "text": [
      "gpu:0 NVIDIA A100-SXM4-40GB\n"
     ]
    }
   ],
   "source": [
    "for d in jax.devices():\n",
    "    print(d, d.device_kind)"
   ]
  },
  {
   "cell_type": "code",
   "execution_count": 3,
   "metadata": {
    "execution": {
     "iopub.execute_input": "2023-08-22T10:36:20.652538Z",
     "iopub.status.busy": "2023-08-22T10:36:20.652332Z",
     "iopub.status.idle": "2023-08-22T10:36:26.914140Z",
     "shell.execute_reply": "2023-08-22T10:36:26.913767Z"
    }
   },
   "outputs": [
    {
     "name": "stdout",
     "output_type": "stream",
     "text": [
      "(125, 125, 3)\n"
     ]
    },
    {
     "data": {
      "image/png": "[encoded data removed]",
      "text/plain": [
       "<Figure size 900x300 with 3 Axes>"
      ]
     },
     "metadata": {},
     "output_type": "display_data"
    }
   ],
   "source": [
    "qg_train_dataloader, qg_valid_dataloader = get_quark_gluon_dataloaders(batch_size=256, data_dir=data_dir)\n",
    "first_image = next(iter(qg_train_dataloader))[0][0]\n",
    "print(first_image.shape)\n",
    "plot_image(first_image, abs_log=True)"
   ]
  },
  {
   "cell_type": "code",
   "execution_count": 4,
   "metadata": {
    "execution": {
     "iopub.execute_input": "2023-08-22T10:36:26.915841Z",
     "iopub.status.busy": "2023-08-22T10:36:26.915627Z",
     "iopub.status.idle": "2023-08-22T10:48:42.762621Z",
     "shell.execute_reply": "2023-08-22T10:48:42.762099Z"
    }
   },
   "outputs": [
    {
     "name": "stderr",
     "output_type": "stream",
     "text": [
      "Epoch   1/50: 100%|██████████| 544/544 [00:19<00:00, 27.23batch/s, Loss = 0.6515, AUC = 67.89%]\n",
      "Epoch   2/50: 100%|██████████| 544/544 [00:14<00:00, 38.59batch/s, Loss = 0.6103, AUC = 74.14%]\n",
      "Epoch   3/50: 100%|██████████| 544/544 [00:13<00:00, 41.30batch/s, Loss = 0.5889, AUC = 76.47%]\n",
      "Epoch   4/50: 100%|██████████| 544/544 [00:14<00:00, 38.47batch/s, Loss = 0.5796, AUC = 77.04%]\n",
      "Epoch   5/50: 100%|██████████| 544/544 [00:14<00:00, 38.04batch/s, Loss = 0.5962, AUC = 77.57%]\n",
      "Epoch   6/50: 100%|██████████| 544/544 [00:13<00:00, 40.32batch/s, Loss = 0.5852, AUC = 77.90%]\n",
      "Epoch   7/50: 100%|██████████| 544/544 [00:14<00:00, 38.40batch/s, Loss = 0.5693, AUC = 78.17%]\n",
      "Epoch   8/50: 100%|██████████| 544/544 [00:14<00:00, 37.85batch/s, Loss = 0.5672, AUC = 78.45%]\n",
      "Epoch   9/50: 100%|██████████| 544/544 [00:14<00:00, 37.75batch/s, Loss = 0.5709, AUC = 78.82%]\n",
      "Epoch  10/50: 100%|██████████| 544/544 [00:14<00:00, 38.11batch/s, Loss = 0.5689, AUC = 78.78%]\n",
      "Epoch  11/50: 100%|██████████| 544/544 [00:14<00:00, 37.53batch/s, Loss = 0.5562, AUC = 79.01%]\n",
      "Epoch  12/50: 100%|██████████| 544/544 [00:14<00:00, 37.77batch/s, Loss = 0.5589, AUC = 79.04%]\n",
      "Epoch  13/50: 100%|██████████| 544/544 [00:16<00:00, 33.86batch/s, Loss = 0.5538, AUC = 79.38%]\n",
      "Epoch  14/50: 100%|██████████| 544/544 [00:14<00:00, 37.84batch/s, Loss = 0.5723, AUC = 79.37%]\n",
      "Epoch  15/50: 100%|██████████| 544/544 [00:13<00:00, 41.04batch/s, Loss = 0.5487, AUC = 79.66%]\n",
      "Epoch  16/50: 100%|██████████| 544/544 [00:14<00:00, 38.12batch/s, Loss = 0.5599, AUC = 79.76%]\n",
      "Epoch  17/50: 100%|██████████| 544/544 [00:17<00:00, 31.24batch/s, Loss = 0.5456, AUC = 79.89%]\n",
      "Epoch  18/50: 100%|██████████| 544/544 [00:14<00:00, 38.24batch/s, Loss = 0.5509, AUC = 79.86%]\n",
      "Epoch  19/50: 100%|██████████| 544/544 [00:14<00:00, 38.55batch/s, Loss = 0.5642, AUC = 79.81%]\n",
      "Epoch  20/50: 100%|██████████| 544/544 [00:13<00:00, 38.97batch/s, Loss = 0.5525, AUC = 80.12%]\n",
      "Epoch  21/50: 100%|██████████| 544/544 [00:13<00:00, 39.81batch/s, Loss = 0.5501, AUC = 80.24%]\n",
      "Epoch  22/50: 100%|██████████| 544/544 [00:14<00:00, 38.60batch/s, Loss = 0.5564, AUC = 80.24%]\n",
      "Epoch  23/50: 100%|██████████| 544/544 [00:14<00:00, 38.05batch/s, Loss = 0.5427, AUC = 80.19%]\n",
      "Epoch  24/50: 100%|██████████| 544/544 [00:14<00:00, 37.37batch/s, Loss = 0.5401, AUC = 80.50%]\n",
      "Epoch  25/50: 100%|██████████| 544/544 [00:14<00:00, 37.96batch/s, Loss = 0.5447, AUC = 80.29%]\n",
      "Epoch  26/50: 100%|██████████| 544/544 [00:13<00:00, 41.14batch/s, Loss = 0.5427, AUC = 80.51%]\n",
      "Epoch  27/50: 100%|██████████| 544/544 [00:13<00:00, 39.41batch/s, Loss = 0.5440, AUC = 80.52%]\n",
      "Epoch  28/50: 100%|██████████| 544/544 [00:14<00:00, 38.13batch/s, Loss = 0.5430, AUC = 80.65%]\n",
      "Epoch  29/50: 100%|██████████| 544/544 [00:14<00:00, 37.79batch/s, Loss = 0.5428, AUC = 80.58%]\n",
      "Epoch  30/50: 100%|██████████| 544/544 [00:13<00:00, 41.15batch/s, Loss = 0.5370, AUC = 80.74%]\n",
      "Epoch  31/50: 100%|██████████| 544/544 [00:14<00:00, 37.75batch/s, Loss = 0.5453, AUC = 80.90%]\n",
      "Epoch  32/50: 100%|██████████| 544/544 [00:14<00:00, 37.90batch/s, Loss = 0.5500, AUC = 80.63%]\n",
      "Epoch  33/50: 100%|██████████| 544/544 [00:13<00:00, 40.72batch/s, Loss = 0.5613, AUC = 80.76%]\n",
      "Epoch  34/50: 100%|██████████| 544/544 [00:13<00:00, 40.84batch/s, Loss = 0.5491, AUC = 80.98%]\n",
      "Epoch  35/50: 100%|██████████| 544/544 [00:14<00:00, 38.11batch/s, Loss = 0.5327, AUC = 81.17%]\n",
      "Epoch  36/50: 100%|██████████| 544/544 [00:13<00:00, 40.69batch/s, Loss = 0.5423, AUC = 81.12%]\n",
      "Epoch  37/50: 100%|██████████| 544/544 [00:14<00:00, 37.41batch/s, Loss = 0.5465, AUC = 81.16%]\n",
      "Epoch  38/50: 100%|██████████| 544/544 [00:14<00:00, 37.93batch/s, Loss = 0.5425, AUC = 81.28%]\n",
      "Epoch  39/50: 100%|██████████| 544/544 [00:14<00:00, 37.98batch/s, Loss = 0.5383, AUC = 81.27%]\n",
      "Epoch  40/50: 100%|██████████| 544/544 [00:14<00:00, 38.25batch/s, Loss = 0.5280, AUC = 81.46%]\n",
      "Epoch  41/50: 100%|██████████| 544/544 [00:13<00:00, 41.03batch/s, Loss = 0.5460, AUC = 81.19%]\n",
      "Epoch  42/50: 100%|██████████| 544/544 [00:14<00:00, 38.60batch/s, Loss = 0.5325, AUC = 81.46%]\n",
      "Epoch  43/50: 100%|██████████| 544/544 [00:13<00:00, 39.69batch/s, Loss = 0.5395, AUC = 81.42%]\n",
      "Epoch  44/50: 100%|██████████| 544/544 [00:13<00:00, 40.60batch/s, Loss = 0.5260, AUC = 81.63%]\n",
      "Epoch  45/50: 100%|██████████| 544/544 [00:14<00:00, 37.37batch/s, Loss = 0.5264, AUC = 81.76%]\n",
      "Epoch  46/50: 100%|██████████| 544/544 [00:14<00:00, 38.14batch/s, Loss = 0.5362, AUC = 81.54%]\n",
      "Epoch  47/50: 100%|██████████| 544/544 [00:14<00:00, 38.01batch/s, Loss = 0.5282, AUC = 81.76%]\n",
      "Epoch  48/50: 100%|██████████| 544/544 [00:14<00:00, 38.68batch/s, Loss = 0.5281, AUC = 81.92%]\n",
      "Epoch  49/50: 100%|██████████| 544/544 [00:14<00:00, 37.49batch/s, Loss = 0.5237, AUC = 82.04%]\n",
      "Epoch  50/50: 100%|██████████| 544/544 [00:14<00:00, 38.35batch/s, Loss = 0.5320, AUC = 81.87%]"
     ]
    },
    {
     "name": "stdout",
     "output_type": "stream",
     "text": [
      "TOTAL TIME = 713.77s\n",
      "BEST AUC = 82.04% AT EPOCH 49\n"
     ]
    },
    {
     "name": "stderr",
     "output_type": "stream",
     "text": [
      "\n"
     ]
    }
   ],
   "source": [
    "model = VisionTransformer(num_classes=2, patch_size=10, hidden_size=64, num_heads=2, num_transformer_blocks=4, mlp_hidden_size=32, channels_last=True)\n",
    "train_and_evaluate(model, qg_train_dataloader, qg_valid_dataloader, num_classes=2, learning_rate=0.0003, num_epochs=50)"
   ]
  },
  {
   "cell_type": "code",
   "execution_count": 5,
   "metadata": {
    "execution": {
     "iopub.execute_input": "2023-08-22T10:48:42.764521Z",
     "iopub.status.busy": "2023-08-22T10:48:42.764390Z",
     "iopub.status.idle": "2023-08-22T11:00:15.094662Z",
     "shell.execute_reply": "2023-08-22T11:00:15.094227Z"
    }
   },
   "outputs": [
    {
     "name": "stderr",
     "output_type": "stream",
     "text": [
      "Epoch   1/50: 100%|██████████| 544/544 [00:16<00:00, 32.29batch/s, Loss = 0.6940, AUC = 59.83%] \n",
      "Epoch   2/50: 100%|██████████| 544/544 [00:12<00:00, 43.00batch/s, Loss = 0.6610, AUC = 66.53%] \n",
      "Epoch   3/50: 100%|██████████| 544/544 [00:13<00:00, 38.92batch/s, Loss = 0.6139, AUC = 72.80%]\n",
      "Epoch   4/50: 100%|██████████| 544/544 [00:12<00:00, 43.55batch/s, Loss = 0.5974, AUC = 74.72%] \n",
      "Epoch   5/50: 100%|██████████| 544/544 [00:13<00:00, 39.33batch/s, Loss = 0.5976, AUC = 74.89%]\n",
      "Epoch   6/50: 100%|██████████| 544/544 [00:14<00:00, 38.85batch/s, Loss = 0.5960, AUC = 75.13%]\n",
      "Epoch   7/50: 100%|██████████| 544/544 [00:12<00:00, 43.85batch/s, Loss = 0.6079, AUC = 75.48%] \n",
      "Epoch   8/50: 100%|██████████| 544/544 [00:13<00:00, 39.02batch/s, Loss = 0.6067, AUC = 75.57%]\n",
      "Epoch   9/50: 100%|██████████| 544/544 [00:13<00:00, 39.01batch/s, Loss = 0.5997, AUC = 75.40%]\n",
      "Epoch  10/50: 100%|██████████| 544/544 [00:13<00:00, 41.44batch/s, Loss = 0.5964, AUC = 75.63%]\n",
      "Epoch  11/50: 100%|██████████| 544/544 [00:14<00:00, 38.77batch/s, Loss = 0.6000, AUC = 75.67%]\n",
      "Epoch  12/50: 100%|██████████| 544/544 [00:13<00:00, 39.17batch/s, Loss = 0.5915, AUC = 75.77%]\n",
      "Epoch  13/50: 100%|██████████| 544/544 [00:13<00:00, 39.22batch/s, Loss = 0.6309, AUC = 75.94%]\n",
      "Epoch  14/50: 100%|██████████| 544/544 [00:13<00:00, 39.93batch/s, Loss = 0.5911, AUC = 75.83%]\n",
      "Epoch  15/50: 100%|██████████| 544/544 [00:13<00:00, 38.91batch/s, Loss = 0.5941, AUC = 75.96%]\n",
      "Epoch  16/50: 100%|██████████| 544/544 [00:13<00:00, 39.36batch/s, Loss = 0.5947, AUC = 75.98%]\n",
      "Epoch  17/50: 100%|██████████| 544/544 [00:14<00:00, 38.67batch/s, Loss = 0.5851, AUC = 76.18%]\n",
      "Epoch  18/50: 100%|██████████| 544/544 [00:13<00:00, 39.31batch/s, Loss = 0.5848, AUC = 76.21%]\n",
      "Epoch  19/50: 100%|██████████| 544/544 [00:13<00:00, 39.00batch/s, Loss = 0.5911, AUC = 76.29%]\n",
      "Epoch  20/50: 100%|██████████| 544/544 [00:13<00:00, 39.38batch/s, Loss = 0.5911, AUC = 76.37%]\n",
      "Epoch  21/50: 100%|██████████| 544/544 [00:12<00:00, 43.96batch/s, Loss = 0.5841, AUC = 76.41%] \n",
      "Epoch  22/50: 100%|██████████| 544/544 [00:14<00:00, 38.14batch/s, Loss = 0.5904, AUC = 76.41%]\n",
      "Epoch  23/50: 100%|██████████| 544/544 [00:12<00:00, 43.36batch/s, Loss = 0.5850, AUC = 76.43%] \n",
      "Epoch  24/50: 100%|██████████| 544/544 [00:13<00:00, 38.98batch/s, Loss = 0.5856, AUC = 76.56%]\n",
      "Epoch  25/50: 100%|██████████| 544/544 [00:12<00:00, 43.28batch/s, Loss = 0.5849, AUC = 76.59%] \n",
      "Epoch  26/50: 100%|██████████| 544/544 [00:13<00:00, 39.38batch/s, Loss = 0.5803, AUC = 76.63%]\n",
      "Epoch  27/50: 100%|██████████| 544/544 [00:13<00:00, 39.48batch/s, Loss = 0.5812, AUC = 76.68%]\n",
      "Epoch  28/50: 100%|██████████| 544/544 [00:14<00:00, 38.31batch/s, Loss = 0.5828, AUC = 76.63%]\n",
      "Epoch  29/50: 100%|██████████| 544/544 [00:14<00:00, 38.79batch/s, Loss = 0.5912, AUC = 76.72%]\n",
      "Epoch  30/50: 100%|██████████| 544/544 [00:14<00:00, 38.79batch/s, Loss = 0.5849, AUC = 76.70%]\n",
      "Epoch  31/50: 100%|██████████| 544/544 [00:13<00:00, 39.63batch/s, Loss = 0.5800, AUC = 76.74%]\n",
      "Epoch  32/50: 100%|██████████| 544/544 [00:13<00:00, 39.04batch/s, Loss = 0.5833, AUC = 76.73%]\n",
      "Epoch  33/50: 100%|██████████| 544/544 [00:13<00:00, 39.54batch/s, Loss = 0.5809, AUC = 76.71%]\n",
      "Epoch  34/50: 100%|██████████| 544/544 [00:12<00:00, 43.89batch/s, Loss = 0.5798, AUC = 76.74%] \n",
      "Epoch  35/50: 100%|██████████| 544/544 [00:14<00:00, 38.42batch/s, Loss = 0.5814, AUC = 76.80%]\n",
      "Epoch  36/50: 100%|██████████| 544/544 [00:12<00:00, 44.18batch/s, Loss = 0.5899, AUC = 76.88%] \n",
      "Epoch  37/50: 100%|██████████| 544/544 [00:12<00:00, 43.23batch/s, Loss = 0.5782, AUC = 76.84%] \n",
      "Epoch  38/50: 100%|██████████| 544/544 [00:12<00:00, 43.68batch/s, Loss = 0.5804, AUC = 76.86%] \n",
      "Epoch  39/50: 100%|██████████| 544/544 [00:12<00:00, 42.89batch/s, Loss = 0.5795, AUC = 76.87%] \n",
      "Epoch  40/50: 100%|██████████| 544/544 [00:13<00:00, 39.22batch/s, Loss = 0.5792, AUC = 76.95%]\n",
      "Epoch  41/50: 100%|██████████| 544/544 [00:14<00:00, 38.53batch/s, Loss = 0.5882, AUC = 76.98%]\n",
      "Epoch  42/50: 100%|██████████| 544/544 [00:13<00:00, 39.13batch/s, Loss = 0.5883, AUC = 76.98%]\n",
      "Epoch  43/50: 100%|██████████| 544/544 [00:13<00:00, 39.04batch/s, Loss = 0.5974, AUC = 77.06%]\n",
      "Epoch  44/50: 100%|██████████| 544/544 [00:13<00:00, 38.99batch/s, Loss = 0.5771, AUC = 77.00%]\n",
      "Epoch  45/50: 100%|██████████| 544/544 [00:13<00:00, 39.24batch/s, Loss = 0.5877, AUC = 77.05%]\n",
      "Epoch  46/50: 100%|██████████| 544/544 [00:13<00:00, 39.10batch/s, Loss = 0.5787, AUC = 77.13%]\n",
      "Epoch  47/50: 100%|██████████| 544/544 [00:13<00:00, 39.06batch/s, Loss = 0.5901, AUC = 77.18%]\n",
      "Epoch  48/50: 100%|██████████| 544/544 [00:14<00:00, 38.70batch/s, Loss = 0.5876, AUC = 77.27%]\n",
      "Epoch  49/50: 100%|██████████| 544/544 [00:13<00:00, 38.89batch/s, Loss = 0.5759, AUC = 77.43%]\n",
      "Epoch  50/50: 100%|██████████| 544/544 [00:13<00:00, 38.97batch/s, Loss = 0.5787, AUC = 77.48%]"
     ]
    },
    {
     "name": "stdout",
     "output_type": "stream",
     "text": [
      "TOTAL TIME = 683.22s\n",
      "BEST AUC = 77.48% AT EPOCH 50\n"
     ]
    },
    {
     "name": "stderr",
     "output_type": "stream",
     "text": [
      "\n"
     ]
    }
   ],
   "source": [
    "model = VisionTransformer(num_classes=2, patch_size=10, hidden_size=6, num_heads=2, num_transformer_blocks=4, mlp_hidden_size=3, channels_last=True)\n",
    "train_and_evaluate(model, qg_train_dataloader, qg_valid_dataloader, num_classes=2, learning_rate=0.0003, num_epochs=50)"
   ]
  }
 ],
 "metadata": {
  "kernelspec": {
   "display_name": "gsoc",
   "language": "python",
   "name": "gsoc"
  },
  "language_info": {
   "codemirror_mode": {
    "name": "ipython",
    "version": 3
   },
   "file_extension": ".py",
   "mimetype": "text/x-python",
   "name": "python",
   "nbconvert_exporter": "python",
   "pygments_lexer": "ipython3",
   "version": "3.11.4"
  }
 },
 "nbformat": 4,
 "nbformat_minor": 2
}
