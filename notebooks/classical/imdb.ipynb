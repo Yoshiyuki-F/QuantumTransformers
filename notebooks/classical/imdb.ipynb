{
 "cells": [
  {
   "cell_type": "code",
   "execution_count": 1,
   "metadata": {
    "execution": {
     "iopub.execute_input": "2023-07-23T16:10:45.734916Z",
     "iopub.status.busy": "2023-07-23T16:10:45.734785Z",
     "iopub.status.idle": "2023-07-23T16:10:50.935822Z",
     "shell.execute_reply": "2023-07-23T16:10:50.935418Z"
    }
   },
   "outputs": [],
   "source": [
    "from quantum_transformers.datasets.nlp import get_imdb_dataloaders\n",
    "from quantum_transformers.training import train\n",
    "from quantum_transformers.transformers import ClassicalTransformer\n",
    "\n",
    "import torch"
   ]
  },
  {
   "cell_type": "code",
   "execution_count": 2,
   "metadata": {
    "execution": {
     "iopub.execute_input": "2023-07-23T16:10:50.938078Z",
     "iopub.status.busy": "2023-07-23T16:10:50.937718Z",
     "iopub.status.idle": "2023-07-23T16:10:51.123767Z",
     "shell.execute_reply": "2023-07-23T16:10:51.123367Z"
    }
   },
   "outputs": [
    {
     "data": {
      "text/plain": [
       "'NVIDIA A100-PCIE-40GB'"
      ]
     },
     "execution_count": 2,
     "metadata": {},
     "output_type": "execute_result"
    }
   ],
   "source": [
    "device = torch.device('cuda' if torch.cuda.is_available() else 'cpu')\n",
    "torch.cuda.get_device_name() if device.type == 'cuda' else 'cpu'"
   ]
  },
  {
   "cell_type": "code",
   "execution_count": 3,
   "metadata": {
    "execution": {
     "iopub.execute_input": "2023-07-23T16:10:51.149492Z",
     "iopub.status.busy": "2023-07-23T16:10:51.149315Z",
     "iopub.status.idle": "2023-07-23T16:10:56.956722Z",
     "shell.execute_reply": "2023-07-23T16:10:56.956193Z"
    }
   },
   "outputs": [
    {
     "name": "stdout",
     "output_type": "stream",
     "text": [
      "Number of training examples: 25000, Number of validation examples: 25000\n",
      "Vocabulary size: 20439\n",
      "I rented I AM CURIOUS-YELLOW from my video store because of all the controversy that surrounded it when it was first released in 1967. I also heard that at first it was seized by U.S. customs if it ever tried to enter this country, therefore being a fan of films considered \"controversial\" I really had to see this for myself.<br /><br />The plot is centered around a young Swedish drama student named Lena who wants to learn everything she can about life. In particular she wants to focus her attentions to making some sort of documentary on what the average Swede thought about certain political issues such as the Vietnam War and race issues in the United States. In between asking politicians and ordinary denizens of Stockholm about their opinions on politics, she has sex with her drama teacher, classmates, and married men.<br /><br />What kills me about I AM CURIOUS-YELLOW is that 40 years ago, this was considered pornographic. Really, the sex and nudity scenes are few and far between, even then it's not shot like some cheaply made porno. While my countrymen mind find it shocking, in reality sex and nudity are a major staple in Swedish cinema. Even Ingmar Bergman, arguably their answer to good old boy John Ford, had sex scenes in his films.<br /><br />I do commend the filmmakers for the fact that any sex shown in the film is shown for artistic purposes rather than just to shock people and make money to be shown in pornographic theaters in America. I AM CURIOUS-YELLOW is a good film for anyone wanting to study the meat and potatoes (no pun intended) of Swedish cinema. But really, this film doesn't have much of a plot.\n"
     ]
    }
   ],
   "source": [
    "(imdb_train_dataloader, imdb_valid_dataloader), vocab = get_imdb_dataloaders(batch_size=32)\n",
    "print(f\"Number of training examples: {len(imdb_train_dataloader.dataset)}, Number of validation examples: {len(imdb_valid_dataloader.dataset)}\")\n",
    "print(f\"Vocabulary size: {len(vocab)}\")\n",
    "print(imdb_train_dataloader.dataset[0][1])"
   ]
  },
  {
   "cell_type": "code",
   "execution_count": 4,
   "metadata": {
    "execution": {
     "iopub.execute_input": "2023-07-23T16:10:56.958484Z",
     "iopub.status.busy": "2023-07-23T16:10:56.958280Z",
     "iopub.status.idle": "2023-07-23T16:35:06.541711Z",
     "shell.execute_reply": "2023-07-23T16:35:06.541331Z"
    }
   },
   "outputs": [
    {
     "name": "stdout",
     "output_type": "stream",
     "text": [
      "Epoch 1/30 (49.87s): Loss = 0.5543, AUC = 80.43%\n",
      "Epoch 2/30 (98.11s): Loss = 0.4564, AUC = 83.66%\n",
      "Epoch 3/30 (147.50s): Loss = 0.4526, AUC = 85.12%\n",
      "Epoch 4/30 (195.85s): Loss = 0.4005, AUC = 86.74%\n",
      "Epoch 5/30 (244.34s): Loss = 0.3795, AUC = 87.78%\n",
      "Epoch 6/30 (292.87s): Loss = 0.4103, AUC = 88.44%\n",
      "Epoch 7/30 (341.44s): Loss = 0.3947, AUC = 88.79%\n",
      "Epoch 8/30 (389.75s): Loss = 0.3592, AUC = 89.39%\n",
      "Epoch 9/30 (439.29s): Loss = 0.3721, AUC = 89.84%\n",
      "Epoch 10/30 (489.57s): Loss = 0.3602, AUC = 90.24%\n",
      "Epoch 11/30 (539.49s): Loss = 0.3558, AUC = 90.58%\n",
      "Epoch 12/30 (589.37s): Loss = 0.4232, AUC = 90.67%\n",
      "Epoch 13/30 (638.96s): Loss = 0.3888, AUC = 90.89%\n",
      "Epoch 14/30 (689.06s): Loss = 0.3637, AUC = 91.10%\n",
      "Epoch 15/30 (736.32s): Loss = 0.4269, AUC = 91.21%\n",
      "Epoch 16/30 (783.19s): Loss = 0.4057, AUC = 91.33%\n",
      "Epoch 17/30 (829.86s): Loss = 0.4214, AUC = 91.43%\n",
      "Epoch 18/30 (876.85s): Loss = 0.3710, AUC = 91.58%\n",
      "Epoch 19/30 (923.44s): Loss = 0.4700, AUC = 91.63%\n",
      "Epoch 20/30 (970.42s): Loss = 0.4868, AUC = 91.66%\n",
      "Epoch 21/30 (1017.25s): Loss = 0.4567, AUC = 91.72%\n",
      "Epoch 22/30 (1064.32s): Loss = 0.4312, AUC = 91.79%\n",
      "Epoch 23/30 (1112.65s): Loss = 0.5045, AUC = 91.81%\n",
      "Epoch 24/30 (1161.81s): Loss = 0.4822, AUC = 91.85%\n",
      "Epoch 25/30 (1211.10s): Loss = 0.4614, AUC = 91.89%\n",
      "Epoch 26/30 (1260.90s): Loss = 0.4659, AUC = 91.93%\n",
      "Epoch 27/30 (1308.72s): Loss = 0.5185, AUC = 91.94%\n",
      "Epoch 28/30 (1355.72s): Loss = 0.5875, AUC = 91.91%\n",
      "Epoch 29/30 (1402.30s): Loss = 0.4934, AUC = 91.94%\n",
      "Epoch 30/30 (1448.75s): Loss = 0.5689, AUC = 91.93%\n",
      "BEST AUC = 91.94% AT EPOCH 27\n"
     ]
    }
   ],
   "source": [
    "model = ClassicalTransformer(num_tokens=len(vocab), num_classes=2, hidden_size=64, num_heads=2, num_transformer_blocks=4, mlp_hidden_size=32)\n",
    "train(model, imdb_train_dataloader, imdb_valid_dataloader, num_classes=2, learning_rate=0.0003, num_epochs=30, device=device)"
   ]
  },
  {
   "cell_type": "code",
   "execution_count": 5,
   "metadata": {
    "execution": {
     "iopub.execute_input": "2023-07-23T16:35:06.543341Z",
     "iopub.status.busy": "2023-07-23T16:35:06.543203Z",
     "iopub.status.idle": "2023-07-23T16:57:14.586605Z",
     "shell.execute_reply": "2023-07-23T16:57:14.586095Z"
    }
   },
   "outputs": [
    {
     "name": "stdout",
     "output_type": "stream",
     "text": [
      "Epoch 1/30 (43.91s): Loss = 0.6910, AUC = 54.30%\n",
      "Epoch 2/30 (88.22s): Loss = 0.6935, AUC = 55.08%\n",
      "Epoch 3/30 (132.36s): Loss = 0.6860, AUC = 55.89%\n",
      "Epoch 4/30 (176.74s): Loss = 0.6737, AUC = 58.78%\n",
      "Epoch 5/30 (220.92s): Loss = 0.5804, AUC = 63.60%\n",
      "Epoch 6/30 (265.14s): Loss = 0.5982, AUC = 66.66%\n",
      "Epoch 7/30 (309.26s): Loss = 0.5927, AUC = 69.03%\n",
      "Epoch 8/30 (353.41s): Loss = 0.5644, AUC = 71.09%\n",
      "Epoch 9/30 (397.74s): Loss = 0.4978, AUC = 72.87%\n",
      "Epoch 10/30 (442.29s): Loss = 0.4949, AUC = 74.38%\n",
      "Epoch 11/30 (486.43s): Loss = 0.4723, AUC = 75.55%\n",
      "Epoch 12/30 (529.93s): Loss = 0.4650, AUC = 76.65%\n",
      "Epoch 13/30 (574.03s): Loss = 0.4591, AUC = 77.57%\n",
      "Epoch 14/30 (618.21s): Loss = 0.4530, AUC = 78.47%\n",
      "Epoch 15/30 (662.22s): Loss = 0.4545, AUC = 79.29%\n",
      "Epoch 16/30 (706.22s): Loss = 0.4576, AUC = 79.83%\n",
      "Epoch 17/30 (750.47s): Loss = 0.4451, AUC = 80.52%\n",
      "Epoch 18/30 (794.84s): Loss = 0.4210, AUC = 81.14%\n",
      "Epoch 19/30 (839.23s): Loss = 0.4195, AUC = 81.71%\n",
      "Epoch 20/30 (883.80s): Loss = 0.4481, AUC = 82.22%\n",
      "Epoch 21/30 (928.28s): Loss = 0.4329, AUC = 82.70%\n",
      "Epoch 22/30 (972.90s): Loss = 0.4301, AUC = 83.15%\n",
      "Epoch 23/30 (1017.09s): Loss = 0.4103, AUC = 83.58%\n",
      "Epoch 24/30 (1061.54s): Loss = 0.3922, AUC = 83.97%\n",
      "Epoch 25/30 (1105.89s): Loss = 0.4482, AUC = 84.30%\n",
      "Epoch 26/30 (1150.31s): Loss = 0.3913, AUC = 84.64%\n",
      "Epoch 27/30 (1194.85s): Loss = 0.4358, AUC = 84.95%\n",
      "Epoch 28/30 (1239.12s): Loss = 0.4112, AUC = 85.26%\n",
      "Epoch 29/30 (1283.57s): Loss = 0.3863, AUC = 85.52%\n",
      "Epoch 30/30 (1328.04s): Loss = 0.3958, AUC = 85.80%\n",
      "BEST AUC = 85.80% AT EPOCH 30\n"
     ]
    }
   ],
   "source": [
    "model = ClassicalTransformer(num_tokens=len(vocab), num_classes=2, hidden_size=6, num_heads=2, num_transformer_blocks=4, mlp_hidden_size=3)\n",
    "train(model, imdb_train_dataloader, imdb_valid_dataloader, num_classes=2, learning_rate=0.0003, num_epochs=30, device=device)"
   ]
  }
 ],
 "metadata": {
  "kernelspec": {
   "display_name": "quantum-transformers",
   "language": "python",
   "name": "python3"
  },
  "language_info": {
   "codemirror_mode": {
    "name": "ipython",
    "version": 3
   },
   "file_extension": ".py",
   "mimetype": "text/x-python",
   "name": "python",
   "nbconvert_exporter": "python",
   "pygments_lexer": "ipython3",
   "version": "3.11.4"
  }
 },
 "nbformat": 4,
 "nbformat_minor": 2
}
