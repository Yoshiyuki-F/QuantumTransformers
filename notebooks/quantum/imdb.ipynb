{
 "cells": [
  {
   "cell_type": "code",
   "execution_count": 1,
   "metadata": {
    "execution": {
     "iopub.execute_input": "2023-08-22T13:52:32.362618Z",
     "iopub.status.busy": "2023-08-22T13:52:32.362339Z",
     "iopub.status.idle": "2023-08-22T13:52:41.668465Z",
     "shell.execute_reply": "2023-08-22T13:52:41.668039Z"
    }
   },
   "outputs": [
    {
     "name": "stderr",
     "output_type": "stream",
     "text": [
      "2023-08-22 06:52:34.279398: E tensorflow/compiler/xla/stream_executor/cuda/cuda_dnn.cc:9342] Unable to register cuDNN factory: Attempting to register factory for plugin cuDNN when one has already been registered\n",
      "2023-08-22 06:52:34.279422: E tensorflow/compiler/xla/stream_executor/cuda/cuda_fft.cc:609] Unable to register cuFFT factory: Attempting to register factory for plugin cuFFT when one has already been registered\n",
      "2023-08-22 06:52:34.279438: E tensorflow/compiler/xla/stream_executor/cuda/cuda_blas.cc:1518] Unable to register cuBLAS factory: Attempting to register factory for plugin cuBLAS when one has already been registered\n",
      "2023-08-22 06:52:35.412248: W tensorflow/compiler/tf2tensorrt/utils/py_utils.cc:38] TF-TRT Warning: Could not find TensorRT\n"
     ]
    },
    {
     "name": "stdout",
     "output_type": "stream",
     "text": [
      "WARNING:tensorflow:From /global/common/software/m4392/conda/gsoc/lib/python3.11/site-packages/tensorflow/python/ops/distributions/distribution.py:259: ReparameterizationType.__init__ (from tensorflow.python.ops.distributions.distribution) is deprecated and will be removed after 2019-01-01.\n",
      "Instructions for updating:\n",
      "The TensorFlow Distributions library has moved to TensorFlow Probability (https://github.com/tensorflow/probability). You should update all references to use `tfp.distributions` instead of `tf.distributions`.\n",
      "WARNING:tensorflow:From /global/common/software/m4392/conda/gsoc/lib/python3.11/site-packages/tensorflow/python/ops/distributions/bernoulli.py:165: RegisterKL.__init__ (from tensorflow.python.ops.distributions.kullback_leibler) is deprecated and will be removed after 2019-01-01.\n",
      "Instructions for updating:\n",
      "The TensorFlow Distributions library has moved to TensorFlow Probability (https://github.com/tensorflow/probability). You should update all references to use `tfp.distributions` instead of `tf.distributions`.\n"
     ]
    },
    {
     "name": "stderr",
     "output_type": "stream",
     "text": [
      "Please first ``pip install -U cirq`` to enable related functionality in translation module\n"
     ]
    }
   ],
   "source": [
    "import jax\n",
    "\n",
    "from quantum_transformers.datasets import get_imdb_dataloaders\n",
    "from quantum_transformers.training import train_and_evaluate\n",
    "from quantum_transformers.transformers import Transformer\n",
    "from quantum_transformers.quantum_layer import get_circuit\n",
    "\n",
    "data_dir = '/global/cfs/cdirs/m4392/salcc/data'"
   ]
  },
  {
   "cell_type": "code",
   "execution_count": 2,
   "metadata": {
    "execution": {
     "iopub.execute_input": "2023-08-22T13:52:41.670867Z",
     "iopub.status.busy": "2023-08-22T13:52:41.670512Z",
     "iopub.status.idle": "2023-08-22T13:52:42.052027Z",
     "shell.execute_reply": "2023-08-22T13:52:42.051574Z"
    }
   },
   "outputs": [
    {
     "name": "stdout",
     "output_type": "stream",
     "text": [
      "gpu:0 NVIDIA A100-SXM4-40GB\n"
     ]
    }
   ],
   "source": [
    "for d in jax.devices():\n",
    "    print(d, d.device_kind)"
   ]
  },
  {
   "cell_type": "code",
   "execution_count": 3,
   "metadata": {
    "execution": {
     "iopub.execute_input": "2023-08-22T13:52:42.053783Z",
     "iopub.status.busy": "2023-08-22T13:52:42.053644Z",
     "iopub.status.idle": "2023-08-22T13:54:16.075252Z",
     "shell.execute_reply": "2023-08-22T13:54:16.074828Z"
    }
   },
   "outputs": [
    {
     "name": "stdout",
     "output_type": "stream",
     "text": [
      "Vocabulary size: 8175\n",
      "[ 103   99   42  179  112    4    4    4   31  100   18   33   31  100\n",
      "   18   33   50  178  321  103  112  145  101  498  136   17   50  134\n",
      " 1214  321  103  112  275   96  101  229 2100  148   98  152 2059   97\n",
      "  101   17   42  276   97  204  162  400  145  162  163 1368  183   10\n",
      "   61  414   98 1263  148  145  162  202  192  407  102  207   17   95\n",
      "  112   99  267   42  179 1186   10   60  584   97   95  685   97  204\n",
      "  186  188   17 2048   99  123  118  214   15  122   95  257  267  217\n",
      "   42  146  141  395   96 3172 2370  105  146  141  123 3801   95  155\n",
      " 4331   95  109  479  411 7227  101   17   95 1250   97   95  112   99\n",
      "  848  108]\n",
      "this is a great film ! ! ! < br / > < br / > i first saw this film when it came out . i just recently saw this film again and it still holds up to my memory of it . a lot of films we watched when we were younger don ' t seem to hold up when we watch them later in life . the film is actually a great 80 ' s example of the type of films made then . keaton is at his best , all the actors actually did a very good job and ron howard was very good at letting the story push the movie along instead forcing it . the pace of the film is fast with\n"
     ]
    }
   ],
   "source": [
    "(imdb_train_dataloader, imdb_valid_dataloader), vocab, tokenizer = get_imdb_dataloaders(batch_size=32, data_dir=data_dir, max_vocab_size=8192, max_seq_len=128)\n",
    "print(f\"Vocabulary size: {len(vocab)}\")\n",
    "first_batch = next(iter(imdb_train_dataloader))\n",
    "print(first_batch[0][0])\n",
    "print(' '.join(map(bytes.decode, tokenizer.detokenize(first_batch[0])[0].numpy().tolist())))"
   ]
  },
  {
   "cell_type": "code",
   "execution_count": 4,
   "metadata": {
    "execution": {
     "iopub.execute_input": "2023-08-22T13:54:16.076984Z",
     "iopub.status.busy": "2023-08-22T13:54:16.076800Z",
     "iopub.status.idle": "2023-08-22T14:10:44.940378Z",
     "shell.execute_reply": "2023-08-22T14:10:44.939872Z"
    }
   },
   "outputs": [
    {
     "name": "stderr",
     "output_type": "stream",
     "text": [
      "Epoch   1/30: 100%|██████████| 781/781 [01:05<00:00, 11.87batch/s, Loss = 0.6898, AUC = 57.49%]\n",
      "Epoch   2/30: 100%|██████████| 781/781 [00:31<00:00, 24.80batch/s, Loss = 0.6832, AUC = 61.94%]\n",
      "Epoch   3/30: 100%|██████████| 781/781 [00:31<00:00, 25.06batch/s, Loss = 0.6713, AUC = 65.27%]\n",
      "Epoch   4/30: 100%|██████████| 781/781 [00:31<00:00, 25.03batch/s, Loss = 0.6551, AUC = 67.79%]\n",
      "Epoch   5/30: 100%|██████████| 781/781 [00:31<00:00, 24.76batch/s, Loss = 0.6384, AUC = 70.28%]\n",
      "Epoch   6/30: 100%|██████████| 781/781 [00:31<00:00, 25.03batch/s, Loss = 0.6221, AUC = 72.03%]\n",
      "Epoch   7/30: 100%|██████████| 781/781 [00:31<00:00, 25.01batch/s, Loss = 0.6078, AUC = 73.22%]\n",
      "Epoch   8/30: 100%|██████████| 781/781 [00:31<00:00, 24.70batch/s, Loss = 0.6041, AUC = 73.91%]\n",
      "Epoch   9/30: 100%|██████████| 781/781 [00:31<00:00, 24.85batch/s, Loss = 0.5947, AUC = 74.61%]\n",
      "Epoch  10/30: 100%|██████████| 781/781 [00:31<00:00, 24.75batch/s, Loss = 0.5938, AUC = 75.06%]\n",
      "Epoch  11/30: 100%|██████████| 781/781 [00:31<00:00, 24.80batch/s, Loss = 0.5913, AUC = 75.45%]\n",
      "Epoch  12/30: 100%|██████████| 781/781 [00:31<00:00, 24.87batch/s, Loss = 0.5936, AUC = 75.80%]\n",
      "Epoch  13/30: 100%|██████████| 781/781 [00:31<00:00, 24.97batch/s, Loss = 0.5941, AUC = 76.00%]\n",
      "Epoch  14/30: 100%|██████████| 781/781 [00:31<00:00, 24.67batch/s, Loss = 0.5978, AUC = 76.11%]\n",
      "Epoch  15/30: 100%|██████████| 781/781 [00:31<00:00, 25.05batch/s, Loss = 0.6059, AUC = 76.22%]\n",
      "Epoch  16/30: 100%|██████████| 781/781 [00:31<00:00, 25.00batch/s, Loss = 0.6093, AUC = 76.45%]\n",
      "Epoch  17/30: 100%|██████████| 781/781 [00:31<00:00, 24.69batch/s, Loss = 0.6089, AUC = 76.50%]\n",
      "Epoch  18/30: 100%|██████████| 781/781 [00:31<00:00, 25.10batch/s, Loss = 0.6137, AUC = 76.58%]\n",
      "Epoch  19/30: 100%|██████████| 781/781 [00:31<00:00, 24.81batch/s, Loss = 0.6213, AUC = 76.62%]\n",
      "Epoch  20/30: 100%|██████████| 781/781 [00:31<00:00, 24.50batch/s, Loss = 0.6260, AUC = 76.69%]\n",
      "Epoch  21/30: 100%|██████████| 781/781 [00:31<00:00, 24.83batch/s, Loss = 0.6346, AUC = 76.67%]\n",
      "Epoch  22/30: 100%|██████████| 781/781 [00:31<00:00, 24.99batch/s, Loss = 0.6406, AUC = 76.63%]\n",
      "Epoch  23/30: 100%|██████████| 781/781 [00:31<00:00, 24.72batch/s, Loss = 0.6479, AUC = 76.71%]\n",
      "Epoch  24/30: 100%|██████████| 781/781 [00:31<00:00, 25.02batch/s, Loss = 0.6595, AUC = 76.68%]\n",
      "Epoch  25/30: 100%|██████████| 781/781 [00:31<00:00, 24.89batch/s, Loss = 0.6660, AUC = 76.60%]\n",
      "Epoch  26/30: 100%|██████████| 781/781 [00:31<00:00, 24.69batch/s, Loss = 0.6780, AUC = 76.70%]\n",
      "Epoch  27/30: 100%|██████████| 781/781 [00:31<00:00, 24.76batch/s, Loss = 0.6834, AUC = 76.61%]\n",
      "Epoch  28/30: 100%|██████████| 781/781 [00:31<00:00, 24.77batch/s, Loss = 0.6958, AUC = 76.63%]\n",
      "Epoch  29/30: 100%|██████████| 781/781 [00:31<00:00, 24.48batch/s, Loss = 0.7032, AUC = 76.59%]\n",
      "Epoch  30/30: 100%|██████████| 781/781 [00:31<00:00, 24.97batch/s, Loss = 0.7142, AUC = 76.48%]"
     ]
    },
    {
     "name": "stdout",
     "output_type": "stream",
     "text": [
      "TOTAL TIME = 977.46s\n",
      "BEST AUC = 76.71% AT EPOCH 23\n"
     ]
    },
    {
     "name": "stderr",
     "output_type": "stream",
     "text": [
      "\n"
     ]
    }
   ],
   "source": [
    "model = Transformer(num_tokens=len(vocab), max_seq_len=128, num_classes=2, hidden_size=6, num_heads=2, num_transformer_blocks=4, mlp_hidden_size=3,\n",
    "                    quantum_attn_circuit=get_circuit(), quantum_mlp_circuit=get_circuit())\n",
    "train_and_evaluate(model, imdb_train_dataloader, imdb_valid_dataloader, num_classes=2, learning_rate=0.0003, num_epochs=30)"
   ]
  }
 ],
 "metadata": {
  "kernelspec": {
   "display_name": "gsoc",
   "language": "python",
   "name": "gsoc"
  },
  "language_info": {
   "codemirror_mode": {
    "name": "ipython",
    "version": 3
   },
   "file_extension": ".py",
   "mimetype": "text/x-python",
   "name": "python",
   "nbconvert_exporter": "python",
   "pygments_lexer": "ipython3",
   "version": "3.11.4"
  }
 },
 "nbformat": 4,
 "nbformat_minor": 2
}
