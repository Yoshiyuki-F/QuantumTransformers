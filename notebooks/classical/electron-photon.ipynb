{
 "cells": [
  {
   "cell_type": "code",
   "execution_count": 1,
   "metadata": {
    "execution": {
     "iopub.execute_input": "2023-08-26T15:09:15.644566Z",
     "iopub.status.busy": "2023-08-26T15:09:15.644443Z",
     "iopub.status.idle": "2023-08-26T15:09:25.809540Z",
     "shell.execute_reply": "2023-08-26T15:09:25.809016Z"
    }
   },
   "outputs": [
    {
     "name": "stderr",
     "output_type": "stream",
     "text": [
      "2023-08-26 08:09:18.298609: E tensorflow/compiler/xla/stream_executor/cuda/cuda_dnn.cc:9342] Unable to register cuDNN factory: Attempting to register factory for plugin cuDNN when one has already been registered\n",
      "2023-08-26 08:09:18.298632: E tensorflow/compiler/xla/stream_executor/cuda/cuda_fft.cc:609] Unable to register cuFFT factory: Attempting to register factory for plugin cuFFT when one has already been registered\n",
      "2023-08-26 08:09:18.298648: E tensorflow/compiler/xla/stream_executor/cuda/cuda_blas.cc:1518] Unable to register cuBLAS factory: Attempting to register factory for plugin cuBLAS when one has already been registered\n",
      "2023-08-26 08:09:19.612974: W tensorflow/compiler/tf2tensorrt/utils/py_utils.cc:38] TF-TRT Warning: Could not find TensorRT\n"
     ]
    },
    {
     "name": "stdout",
     "output_type": "stream",
     "text": [
      "WARNING:tensorflow:From /global/common/software/m4392/conda/gsoc/lib/python3.11/site-packages/tensorflow/python/ops/distributions/distribution.py:259: ReparameterizationType.__init__ (from tensorflow.python.ops.distributions.distribution) is deprecated and will be removed after 2019-01-01.\n",
      "Instructions for updating:\n",
      "The TensorFlow Distributions library has moved to TensorFlow Probability (https://github.com/tensorflow/probability). You should update all references to use `tfp.distributions` instead of `tf.distributions`.\n",
      "WARNING:tensorflow:From /global/common/software/m4392/conda/gsoc/lib/python3.11/site-packages/tensorflow/python/ops/distributions/bernoulli.py:165: RegisterKL.__init__ (from tensorflow.python.ops.distributions.kullback_leibler) is deprecated and will be removed after 2019-01-01.\n",
      "Instructions for updating:\n",
      "The TensorFlow Distributions library has moved to TensorFlow Probability (https://github.com/tensorflow/probability). You should update all references to use `tfp.distributions` instead of `tf.distributions`.\n"
     ]
    },
    {
     "name": "stderr",
     "output_type": "stream",
     "text": [
      "Please first ``pip install -U cirq`` to enable related functionality in translation module\n"
     ]
    }
   ],
   "source": [
    "import jax\n",
    "\n",
    "from quantum_transformers.utils import plot_image\n",
    "from quantum_transformers.datasets import get_electron_photon_dataloaders\n",
    "from quantum_transformers.training import train_and_evaluate\n",
    "from quantum_transformers.transformers import VisionTransformer\n",
    "\n",
    "data_dir = '/global/cfs/cdirs/m4392/salcc/data'"
   ]
  },
  {
   "cell_type": "code",
   "execution_count": 2,
   "metadata": {
    "execution": {
     "iopub.execute_input": "2023-08-26T15:09:25.811736Z",
     "iopub.status.busy": "2023-08-26T15:09:25.811395Z",
     "iopub.status.idle": "2023-08-26T15:09:26.054480Z",
     "shell.execute_reply": "2023-08-26T15:09:26.053967Z"
    }
   },
   "outputs": [
    {
     "name": "stdout",
     "output_type": "stream",
     "text": [
      "gpu:0 NVIDIA A100-SXM4-40GB\n"
     ]
    }
   ],
   "source": [
    "for d in jax.devices():\n",
    "    print(d, d.device_kind)"
   ]
  },
  {
   "cell_type": "code",
   "execution_count": 3,
   "metadata": {
    "execution": {
     "iopub.execute_input": "2023-08-26T15:09:26.056374Z",
     "iopub.status.busy": "2023-08-26T15:09:26.056166Z",
     "iopub.status.idle": "2023-08-26T15:09:30.341542Z",
     "shell.execute_reply": "2023-08-26T15:09:30.341153Z"
    }
   },
   "outputs": [
    {
     "name": "stdout",
     "output_type": "stream",
     "text": [
      "(32, 32, 2)\n"
     ]
    },
    {
     "data": {
      "image/png": "[encoded data removed]",
      "text/plain": [
       "<Figure size 600x300 with 2 Axes>"
      ]
     },
     "metadata": {},
     "output_type": "display_data"
    }
   ],
   "source": [
    "ep_train_dataloader, ep_valid_dataloader = get_electron_photon_dataloaders(batch_size=256, data_dir=data_dir)\n",
    "first_image = next(iter(ep_train_dataloader))[0][0]\n",
    "print(first_image.shape)\n",
    "plot_image(first_image, abs_log=True)"
   ]
  },
  {
   "cell_type": "code",
   "execution_count": 4,
   "metadata": {
    "execution": {
     "iopub.execute_input": "2023-08-26T15:09:30.343179Z",
     "iopub.status.busy": "2023-08-26T15:09:30.343005Z",
     "iopub.status.idle": "2023-08-26T15:18:16.493156Z",
     "shell.execute_reply": "2023-08-26T15:18:16.492657Z"
    }
   },
   "outputs": [
    {
     "name": "stderr",
     "output_type": "stream",
     "text": [
      "Epoch   1/50: 100%|██████████| 1906/1906 [00:16<00:00, 115.93batch/s, Loss = 0.6450, AUC = 67.22%]\n",
      "Epoch   2/50: 100%|██████████| 1906/1906 [00:10<00:00, 187.59batch/s, Loss = 0.6124, AUC = 72.30%]\n",
      "Epoch   3/50: 100%|██████████| 1906/1906 [00:10<00:00, 190.41batch/s, Loss = 0.5944, AUC = 74.60%]\n",
      "Epoch   4/50: 100%|██████████| 1906/1906 [00:10<00:00, 190.52batch/s, Loss = 0.5911, AUC = 75.12%]\n",
      "Epoch   5/50: 100%|██████████| 1906/1906 [00:10<00:00, 187.26batch/s, Loss = 0.5883, AUC = 75.62%]\n",
      "Epoch   6/50: 100%|██████████| 1906/1906 [00:10<00:00, 183.82batch/s, Loss = 0.5824, AUC = 76.10%]\n",
      "Epoch   7/50: 100%|██████████| 1906/1906 [00:10<00:00, 185.24batch/s, Loss = 0.5823, AUC = 76.13%]\n",
      "Epoch   8/50: 100%|██████████| 1906/1906 [00:09<00:00, 193.96batch/s, Loss = 0.5821, AUC = 76.22%]\n",
      "Epoch   9/50: 100%|██████████| 1906/1906 [00:09<00:00, 196.94batch/s, Loss = 0.5788, AUC = 76.63%]\n",
      "Epoch  10/50: 100%|██████████| 1906/1906 [00:10<00:00, 188.58batch/s, Loss = 0.5771, AUC = 76.85%]\n",
      "Epoch  11/50: 100%|██████████| 1906/1906 [00:10<00:00, 189.13batch/s, Loss = 0.5757, AUC = 77.10%]\n",
      "Epoch  12/50: 100%|██████████| 1906/1906 [00:10<00:00, 185.18batch/s, Loss = 0.5736, AUC = 77.18%]\n",
      "Epoch  13/50: 100%|██████████| 1906/1906 [00:10<00:00, 189.83batch/s, Loss = 0.5708, AUC = 77.37%]\n",
      "Epoch  14/50: 100%|██████████| 1906/1906 [00:10<00:00, 181.16batch/s, Loss = 0.5684, AUC = 77.60%]\n",
      "Epoch  15/50: 100%|██████████| 1906/1906 [00:10<00:00, 183.04batch/s, Loss = 0.5683, AUC = 77.73%]\n",
      "Epoch  16/50: 100%|██████████| 1906/1906 [00:09<00:00, 194.43batch/s, Loss = 0.5675, AUC = 77.72%]\n",
      "Epoch  17/50: 100%|██████████| 1906/1906 [00:10<00:00, 187.34batch/s, Loss = 0.5646, AUC = 77.96%]\n",
      "Epoch  18/50: 100%|██████████| 1906/1906 [00:10<00:00, 182.26batch/s, Loss = 0.5645, AUC = 78.08%]\n",
      "Epoch  19/50: 100%|██████████| 1906/1906 [00:09<00:00, 195.15batch/s, Loss = 0.5636, AUC = 78.01%]\n",
      "Epoch  20/50: 100%|██████████| 1906/1906 [00:10<00:00, 187.43batch/s, Loss = 0.5657, AUC = 77.88%]\n",
      "Epoch  21/50: 100%|██████████| 1906/1906 [00:10<00:00, 190.51batch/s, Loss = 0.5612, AUC = 78.27%]\n",
      "Epoch  22/50: 100%|██████████| 1906/1906 [00:10<00:00, 179.37batch/s, Loss = 0.5616, AUC = 78.42%]\n",
      "Epoch  23/50: 100%|██████████| 1906/1906 [00:10<00:00, 185.37batch/s, Loss = 0.5612, AUC = 78.43%]\n",
      "Epoch  24/50: 100%|██████████| 1906/1906 [00:10<00:00, 180.95batch/s, Loss = 0.5589, AUC = 78.65%]\n",
      "Epoch  25/50: 100%|██████████| 1906/1906 [00:10<00:00, 185.19batch/s, Loss = 0.5618, AUC = 78.37%]\n",
      "Epoch  26/50: 100%|██████████| 1906/1906 [00:10<00:00, 187.93batch/s, Loss = 0.5604, AUC = 78.52%]\n",
      "Epoch  27/50: 100%|██████████| 1906/1906 [00:09<00:00, 196.09batch/s, Loss = 0.5602, AUC = 78.55%]\n",
      "Epoch  28/50: 100%|██████████| 1906/1906 [00:10<00:00, 182.85batch/s, Loss = 0.5581, AUC = 78.57%]\n",
      "Epoch  29/50: 100%|██████████| 1906/1906 [00:10<00:00, 182.63batch/s, Loss = 0.5624, AUC = 78.38%]\n",
      "Epoch  30/50: 100%|██████████| 1906/1906 [00:10<00:00, 183.63batch/s, Loss = 0.5542, AUC = 78.91%]\n",
      "Epoch  31/50: 100%|██████████| 1906/1906 [00:10<00:00, 189.47batch/s, Loss = 0.5540, AUC = 79.00%]\n",
      "Epoch  32/50: 100%|██████████| 1906/1906 [00:10<00:00, 178.33batch/s, Loss = 0.5582, AUC = 78.66%]\n",
      "Epoch  33/50: 100%|██████████| 1906/1906 [00:09<00:00, 192.20batch/s, Loss = 0.5581, AUC = 78.73%]\n",
      "Epoch  34/50: 100%|██████████| 1906/1906 [00:09<00:00, 191.25batch/s, Loss = 0.5578, AUC = 78.88%]\n",
      "Epoch  35/50: 100%|██████████| 1906/1906 [00:10<00:00, 188.01batch/s, Loss = 0.5565, AUC = 78.66%]\n",
      "Epoch  36/50: 100%|██████████| 1906/1906 [00:10<00:00, 180.83batch/s, Loss = 0.5596, AUC = 78.69%]\n",
      "Epoch  37/50: 100%|██████████| 1906/1906 [00:10<00:00, 180.81batch/s, Loss = 0.5549, AUC = 78.85%]\n",
      "Epoch  38/50: 100%|██████████| 1906/1906 [00:10<00:00, 186.00batch/s, Loss = 0.5532, AUC = 79.08%]\n",
      "Epoch  39/50: 100%|██████████| 1906/1906 [00:10<00:00, 189.56batch/s, Loss = 0.5568, AUC = 78.88%]\n",
      "Epoch  40/50: 100%|██████████| 1906/1906 [00:10<00:00, 180.92batch/s, Loss = 0.5554, AUC = 78.90%]\n",
      "Epoch  41/50: 100%|██████████| 1906/1906 [00:09<00:00, 190.87batch/s, Loss = 0.5523, AUC = 79.14%]\n",
      "Epoch  42/50: 100%|██████████| 1906/1906 [00:10<00:00, 188.73batch/s, Loss = 0.5577, AUC = 78.98%]\n",
      "Epoch  43/50: 100%|██████████| 1906/1906 [00:10<00:00, 182.84batch/s, Loss = 0.5553, AUC = 78.86%]\n",
      "Epoch  44/50: 100%|██████████| 1906/1906 [00:10<00:00, 187.21batch/s, Loss = 0.5559, AUC = 78.97%]\n",
      "Epoch  45/50: 100%|██████████| 1906/1906 [00:09<00:00, 200.38batch/s, Loss = 0.5542, AUC = 79.07%]\n",
      "Epoch  46/50: 100%|██████████| 1906/1906 [00:10<00:00, 183.53batch/s, Loss = 0.5561, AUC = 78.97%]\n",
      "Epoch  47/50: 100%|██████████| 1906/1906 [00:10<00:00, 185.58batch/s, Loss = 0.5510, AUC = 79.36%]\n",
      "Epoch  48/50: 100%|██████████| 1906/1906 [00:10<00:00, 188.12batch/s, Loss = 0.5492, AUC = 79.45%]\n",
      "Epoch  49/50: 100%|██████████| 1906/1906 [00:10<00:00, 186.82batch/s, Loss = 0.5530, AUC = 79.03%]\n",
      "Epoch  50/50: 100%|██████████| 1906/1906 [00:10<00:00, 183.35batch/s, Loss = 0.5496, AUC = 79.39%]"
     ]
    },
    {
     "name": "stdout",
     "output_type": "stream",
     "text": [
      "TOTAL TIME = 515.97s\n",
      "BEST AUC = 79.45% AT EPOCH 48\n"
     ]
    },
    {
     "name": "stderr",
     "output_type": "stream",
     "text": [
      "\n"
     ]
    }
   ],
   "source": [
    "model = VisionTransformer(num_classes=2, patch_size=8, hidden_size=64, num_heads=2, num_transformer_blocks=4, mlp_hidden_size=32, channels_last=True)\n",
    "train_and_evaluate(model, ep_train_dataloader, ep_valid_dataloader, num_classes=2, learning_rate=0.0003, num_epochs=50)"
   ]
  },
  {
   "cell_type": "code",
   "execution_count": 5,
   "metadata": {
    "execution": {
     "iopub.execute_input": "2023-08-26T15:18:16.494867Z",
     "iopub.status.busy": "2023-08-26T15:18:16.494694Z",
     "iopub.status.idle": "2023-08-26T15:26:33.299615Z",
     "shell.execute_reply": "2023-08-26T15:26:33.299027Z"
    }
   },
   "outputs": [
    {
     "name": "stderr",
     "output_type": "stream",
     "text": [
      "Epoch   1/50: 100%|██████████| 1906/1906 [00:15<00:00, 126.84batch/s, Loss = 0.6704, AUC = 61.89%]\n",
      "Epoch   2/50: 100%|██████████| 1906/1906 [00:09<00:00, 193.80batch/s, Loss = 0.6629, AUC = 63.39%]\n",
      "Epoch   3/50: 100%|██████████| 1906/1906 [00:08<00:00, 211.84batch/s, Loss = 0.6514, AUC = 65.74%]\n",
      "Epoch   4/50: 100%|██████████| 1906/1906 [00:09<00:00, 196.22batch/s, Loss = 0.6437, AUC = 67.31%]\n",
      "Epoch   5/50: 100%|██████████| 1906/1906 [00:09<00:00, 195.70batch/s, Loss = 0.6356, AUC = 68.47%]\n",
      "Epoch   6/50: 100%|██████████| 1906/1906 [00:09<00:00, 192.50batch/s, Loss = 0.6292, AUC = 69.63%]\n",
      "Epoch   7/50: 100%|██████████| 1906/1906 [00:09<00:00, 190.68batch/s, Loss = 0.6247, AUC = 71.04%]\n",
      "Epoch   8/50: 100%|██████████| 1906/1906 [00:09<00:00, 195.25batch/s, Loss = 0.6134, AUC = 72.04%]\n",
      "Epoch   9/50: 100%|██████████| 1906/1906 [00:09<00:00, 196.51batch/s, Loss = 0.6109, AUC = 72.62%]\n",
      "Epoch  10/50: 100%|██████████| 1906/1906 [00:09<00:00, 198.71batch/s, Loss = 0.6058, AUC = 73.23%]\n",
      "Epoch  11/50: 100%|██████████| 1906/1906 [00:09<00:00, 201.31batch/s, Loss = 0.6048, AUC = 73.29%]\n",
      "Epoch  12/50: 100%|██████████| 1906/1906 [00:09<00:00, 200.93batch/s, Loss = 0.6043, AUC = 73.44%]\n",
      "Epoch  13/50: 100%|██████████| 1906/1906 [00:09<00:00, 198.26batch/s, Loss = 0.6022, AUC = 73.69%]\n",
      "Epoch  14/50: 100%|██████████| 1906/1906 [00:09<00:00, 195.99batch/s, Loss = 0.5996, AUC = 73.94%]\n",
      "Epoch  15/50: 100%|██████████| 1906/1906 [00:10<00:00, 189.38batch/s, Loss = 0.6000, AUC = 74.05%]\n",
      "Epoch  16/50: 100%|██████████| 1906/1906 [00:09<00:00, 194.81batch/s, Loss = 0.6004, AUC = 74.32%]\n",
      "Epoch  17/50: 100%|██████████| 1906/1906 [00:09<00:00, 197.94batch/s, Loss = 0.5984, AUC = 74.30%]\n",
      "Epoch  18/50: 100%|██████████| 1906/1906 [00:09<00:00, 194.96batch/s, Loss = 0.5995, AUC = 74.48%]\n",
      "Epoch  19/50: 100%|██████████| 1906/1906 [00:09<00:00, 195.34batch/s, Loss = 0.5940, AUC = 74.88%]\n",
      "Epoch  20/50: 100%|██████████| 1906/1906 [00:09<00:00, 197.12batch/s, Loss = 0.5929, AUC = 74.86%]\n",
      "Epoch  21/50: 100%|██████████| 1906/1906 [00:09<00:00, 197.78batch/s, Loss = 0.5915, AUC = 75.03%]\n",
      "Epoch  22/50: 100%|██████████| 1906/1906 [00:09<00:00, 190.91batch/s, Loss = 0.5919, AUC = 75.11%]\n",
      "Epoch  23/50: 100%|██████████| 1906/1906 [00:09<00:00, 193.75batch/s, Loss = 0.5898, AUC = 75.29%]\n",
      "Epoch  24/50: 100%|██████████| 1906/1906 [00:10<00:00, 190.24batch/s, Loss = 0.5890, AUC = 75.35%]\n",
      "Epoch  25/50: 100%|██████████| 1906/1906 [00:09<00:00, 192.63batch/s, Loss = 0.5854, AUC = 75.92%]\n",
      "Epoch  26/50: 100%|██████████| 1906/1906 [00:09<00:00, 191.55batch/s, Loss = 0.5866, AUC = 75.67%]\n",
      "Epoch  27/50: 100%|██████████| 1906/1906 [00:09<00:00, 193.67batch/s, Loss = 0.5856, AUC = 75.68%]\n",
      "Epoch  28/50: 100%|██████████| 1906/1906 [00:10<00:00, 189.51batch/s, Loss = 0.5874, AUC = 75.88%]\n",
      "Epoch  29/50: 100%|██████████| 1906/1906 [00:09<00:00, 194.14batch/s, Loss = 0.5874, AUC = 75.65%]\n",
      "Epoch  30/50: 100%|██████████| 1906/1906 [00:09<00:00, 202.15batch/s, Loss = 0.5851, AUC = 76.03%]\n",
      "Epoch  31/50: 100%|██████████| 1906/1906 [00:09<00:00, 204.76batch/s, Loss = 0.5873, AUC = 75.46%]\n",
      "Epoch  32/50: 100%|██████████| 1906/1906 [00:09<00:00, 201.97batch/s, Loss = 0.5848, AUC = 75.75%]\n",
      "Epoch  33/50: 100%|██████████| 1906/1906 [00:09<00:00, 194.16batch/s, Loss = 0.5852, AUC = 75.78%]\n",
      "Epoch  34/50: 100%|██████████| 1906/1906 [00:09<00:00, 209.08batch/s, Loss = 0.5834, AUC = 76.06%]\n",
      "Epoch  35/50: 100%|██████████| 1906/1906 [00:10<00:00, 189.62batch/s, Loss = 0.5836, AUC = 76.05%]\n",
      "Epoch  36/50: 100%|██████████| 1906/1906 [00:09<00:00, 201.00batch/s, Loss = 0.5840, AUC = 76.14%]\n",
      "Epoch  37/50: 100%|██████████| 1906/1906 [00:09<00:00, 196.05batch/s, Loss = 0.5843, AUC = 76.35%]\n",
      "Epoch  38/50: 100%|██████████| 1906/1906 [00:09<00:00, 205.34batch/s, Loss = 0.5858, AUC = 75.93%]\n",
      "Epoch  39/50: 100%|██████████| 1906/1906 [00:09<00:00, 201.52batch/s, Loss = 0.5817, AUC = 76.32%]\n",
      "Epoch  40/50: 100%|██████████| 1906/1906 [00:09<00:00, 192.57batch/s, Loss = 0.5800, AUC = 76.47%]\n",
      "Epoch  41/50: 100%|██████████| 1906/1906 [00:09<00:00, 193.89batch/s, Loss = 0.5814, AUC = 76.42%]\n",
      "Epoch  42/50: 100%|██████████| 1906/1906 [00:09<00:00, 205.12batch/s, Loss = 0.5809, AUC = 76.29%]\n",
      "Epoch  43/50: 100%|██████████| 1906/1906 [00:09<00:00, 198.31batch/s, Loss = 0.5821, AUC = 76.39%]\n",
      "Epoch  44/50: 100%|██████████| 1906/1906 [00:09<00:00, 195.93batch/s, Loss = 0.5821, AUC = 76.40%]\n",
      "Epoch  45/50: 100%|██████████| 1906/1906 [00:09<00:00, 196.59batch/s, Loss = 0.5812, AUC = 76.26%]\n",
      "Epoch  46/50: 100%|██████████| 1906/1906 [00:09<00:00, 199.72batch/s, Loss = 0.5789, AUC = 76.56%]\n",
      "Epoch  47/50: 100%|██████████| 1906/1906 [00:09<00:00, 201.13batch/s, Loss = 0.5798, AUC = 76.43%]\n",
      "Epoch  48/50: 100%|██████████| 1906/1906 [00:09<00:00, 191.84batch/s, Loss = 0.5798, AUC = 76.31%]\n",
      "Epoch  49/50: 100%|██████████| 1906/1906 [00:09<00:00, 192.37batch/s, Loss = 0.5795, AUC = 76.32%]\n",
      "Epoch  50/50: 100%|██████████| 1906/1906 [00:09<00:00, 199.80batch/s, Loss = 0.5795, AUC = 76.53%]"
     ]
    },
    {
     "name": "stdout",
     "output_type": "stream",
     "text": [
      "TOTAL TIME = 489.90s\n",
      "BEST AUC = 76.56% AT EPOCH 46\n"
     ]
    },
    {
     "name": "stderr",
     "output_type": "stream",
     "text": [
      "\n"
     ]
    }
   ],
   "source": [
    "model = VisionTransformer(num_classes=2, patch_size=8, hidden_size=8, num_heads=2, num_transformer_blocks=4, mlp_hidden_size=4, channels_last=True)\n",
    "train_and_evaluate(model, ep_train_dataloader, ep_valid_dataloader, num_classes=2, learning_rate=0.0003, num_epochs=50)"
   ]
  }
 ],
 "metadata": {
  "kernelspec": {
   "display_name": "gsoc",
   "language": "python",
   "name": "gsoc"
  },
  "language_info": {
   "codemirror_mode": {
    "name": "ipython",
    "version": 3
   },
   "file_extension": ".py",
   "mimetype": "text/x-python",
   "name": "python",
   "nbconvert_exporter": "python",
   "pygments_lexer": "ipython3",
   "version": "3.11.4"
  }
 },
 "nbformat": 4,
 "nbformat_minor": 2
}
