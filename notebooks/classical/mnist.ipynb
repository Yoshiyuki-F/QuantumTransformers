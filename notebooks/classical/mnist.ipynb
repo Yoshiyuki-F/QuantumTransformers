{
 "cells": [
  {
   "cell_type": "code",
   "execution_count": 1,
   "metadata": {
    "execution": {
     "iopub.execute_input": "2023-07-18T08:32:39.678793Z",
     "iopub.status.busy": "2023-07-18T08:32:39.678479Z",
     "iopub.status.idle": "2023-07-18T08:32:43.933659Z",
     "shell.execute_reply": "2023-07-18T08:32:43.933185Z"
    }
   },
   "outputs": [],
   "source": [
    "from quantum_transformers.utils import plot_image\n",
    "from quantum_transformers.data import get_mnist_dataloaders\n",
    "from quantum_transformers.training import train\n",
    "from quantum_transformers.transformers import ClassicalVisionTransformer\n",
    "\n",
    "import torch"
   ]
  },
  {
   "cell_type": "code",
   "execution_count": 2,
   "metadata": {
    "execution": {
     "iopub.execute_input": "2023-07-18T08:32:43.935840Z",
     "iopub.status.busy": "2023-07-18T08:32:43.935554Z",
     "iopub.status.idle": "2023-07-18T08:32:44.186792Z",
     "shell.execute_reply": "2023-07-18T08:32:44.186358Z"
    }
   },
   "outputs": [
    {
     "data": {
      "text/plain": [
       "'NVIDIA A100-SXM4-40GB'"
      ]
     },
     "execution_count": 2,
     "metadata": {},
     "output_type": "execute_result"
    }
   ],
   "source": [
    "device = torch.device('cuda' if torch.cuda.is_available() else 'cpu')\n",
    "torch.cuda.get_device_name() if device.type == 'cuda' else 'cpu'"
   ]
  },
  {
   "cell_type": "code",
   "execution_count": 3,
   "metadata": {
    "execution": {
     "iopub.execute_input": "2023-07-18T08:32:44.211421Z",
     "iopub.status.busy": "2023-07-18T08:32:44.211235Z",
     "iopub.status.idle": "2023-07-18T08:32:44.450080Z",
     "shell.execute_reply": "2023-07-18T08:32:44.449647Z"
    }
   },
   "outputs": [
    {
     "data": {
      "image/png": "[encoded data removed]",
      "text/plain": [
       "<Figure size 300x300 with 1 Axes>"
      ]
     },
     "metadata": {},
     "output_type": "display_data"
    },
    {
     "name": "stdout",
     "output_type": "stream",
     "text": [
      "Image size: 28x28, Number of channels: 1\n"
     ]
    }
   ],
   "source": [
    "mnist_train_dataloader, mnist_valid_dataloader = get_mnist_dataloaders(batch_size=64)\n",
    "plot_image(next(iter(mnist_train_dataloader))[0][0].permute(1,2,0).numpy())\n",
    "img_size = mnist_train_dataloader.dataset[0][0].shape[1]\n",
    "num_channels = mnist_train_dataloader.dataset[0][0].shape[0]\n",
    "print(f\"Image size: {img_size}x{img_size}, Number of channels: {num_channels}\")"
   ]
  },
  {
   "cell_type": "code",
   "execution_count": 4,
   "metadata": {
    "execution": {
     "iopub.execute_input": "2023-07-18T08:32:44.451700Z",
     "iopub.status.busy": "2023-07-18T08:32:44.451522Z",
     "iopub.status.idle": "2023-07-18T08:40:31.201452Z",
     "shell.execute_reply": "2023-07-18T08:40:31.201013Z"
    }
   },
   "outputs": [
    {
     "name": "stdout",
     "output_type": "stream",
     "text": [
      "Epoch 1/30 (16.85s): Loss = 0.1774, Accuracy = 95.04%, AUC = 99.75%\n",
      "Epoch 2/30 (32.86s): Loss = 0.1330, Accuracy = 95.97%, AUC = 99.86%\n",
      "Epoch 3/30 (48.81s): Loss = 0.1186, Accuracy = 96.37%, AUC = 99.90%\n",
      "Epoch 4/30 (64.24s): Loss = 0.1039, Accuracy = 96.64%, AUC = 99.91%\n",
      "Epoch 5/30 (79.68s): Loss = 0.0921, Accuracy = 97.11%, AUC = 99.93%\n",
      "Epoch 6/30 (95.10s): Loss = 0.0885, Accuracy = 97.40%, AUC = 99.94%\n",
      "Epoch 7/30 (110.53s): Loss = 0.0833, Accuracy = 97.43%, AUC = 99.95%\n",
      "Epoch 8/30 (125.95s): Loss = 0.0807, Accuracy = 97.58%, AUC = 99.95%\n",
      "Epoch 9/30 (141.38s): Loss = 0.0745, Accuracy = 97.81%, AUC = 99.96%\n",
      "Epoch 10/30 (156.86s): Loss = 0.0773, Accuracy = 97.63%, AUC = 99.95%\n",
      "Epoch 11/30 (172.33s): Loss = 0.0730, Accuracy = 97.79%, AUC = 99.96%\n",
      "Epoch 12/30 (187.84s): Loss = 0.0819, Accuracy = 97.55%, AUC = 99.96%\n",
      "Epoch 13/30 (203.31s): Loss = 0.0704, Accuracy = 97.89%, AUC = 99.96%\n",
      "Epoch 14/30 (218.78s): Loss = 0.0759, Accuracy = 97.86%, AUC = 99.96%\n",
      "Epoch 15/30 (234.18s): Loss = 0.0686, Accuracy = 97.95%, AUC = 99.96%\n",
      "Epoch 16/30 (249.57s): Loss = 0.0687, Accuracy = 98.02%, AUC = 99.97%\n",
      "Epoch 17/30 (265.01s): Loss = 0.0719, Accuracy = 97.81%, AUC = 99.97%\n",
      "Epoch 18/30 (280.40s): Loss = 0.0741, Accuracy = 97.83%, AUC = 99.96%\n",
      "Epoch 19/30 (295.81s): Loss = 0.0683, Accuracy = 97.94%, AUC = 99.97%\n",
      "Epoch 20/30 (311.21s): Loss = 0.0660, Accuracy = 98.03%, AUC = 99.97%\n",
      "Epoch 21/30 (326.58s): Loss = 0.0623, Accuracy = 98.10%, AUC = 99.97%\n",
      "Epoch 22/30 (342.05s): Loss = 0.0629, Accuracy = 98.04%, AUC = 99.97%\n",
      "Epoch 23/30 (357.54s): Loss = 0.0666, Accuracy = 98.16%, AUC = 99.97%\n",
      "Epoch 24/30 (373.04s): Loss = 0.0653, Accuracy = 98.00%, AUC = 99.97%\n",
      "Epoch 25/30 (388.53s): Loss = 0.0610, Accuracy = 98.10%, AUC = 99.98%\n",
      "Epoch 26/30 (404.01s): Loss = 0.0641, Accuracy = 98.12%, AUC = 99.97%\n",
      "Epoch 27/30 (419.49s): Loss = 0.0620, Accuracy = 98.15%, AUC = 99.97%\n",
      "Epoch 28/30 (434.95s): Loss = 0.0627, Accuracy = 98.17%, AUC = 99.97%\n",
      "Epoch 29/30 (450.45s): Loss = 0.0641, Accuracy = 98.26%, AUC = 99.97%\n",
      "Epoch 30/30 (465.95s): Loss = 0.0640, Accuracy = 98.24%, AUC = 99.97%\n",
      "BEST AUC = 99.98% AT EPOCH 25\n"
     ]
    }
   ],
   "source": [
    "model = ClassicalVisionTransformer(img_size=28, num_channels=1, num_classes=10, patch_size=14, hidden_size=64, num_heads=2, num_transformer_blocks=4, mlp_hidden_size=32)\n",
    "train(model, mnist_train_dataloader, mnist_valid_dataloader, learning_rate=0.0003, num_epochs=30, device=device)"
   ]
  },
  {
   "cell_type": "code",
   "execution_count": 5,
   "metadata": {
    "execution": {
     "iopub.execute_input": "2023-07-18T08:40:31.203214Z",
     "iopub.status.busy": "2023-07-18T08:40:31.203077Z",
     "iopub.status.idle": "2023-07-18T08:48:10.935655Z",
     "shell.execute_reply": "2023-07-18T08:48:10.935215Z"
    }
   },
   "outputs": [
    {
     "name": "stdout",
     "output_type": "stream",
     "text": [
      "Epoch 1/30 (15.42s): Loss = 1.3066, Accuracy = 62.61%, AUC = 93.06%\n",
      "Epoch 2/30 (30.82s): Loss = 0.9646, Accuracy = 71.78%, AUC = 95.21%\n",
      "Epoch 3/30 (46.15s): Loss = 0.7954, Accuracy = 76.98%, AUC = 96.31%\n",
      "Epoch 4/30 (61.44s): Loss = 0.6996, Accuracy = 80.64%, AUC = 97.01%\n",
      "Epoch 5/30 (76.77s): Loss = 0.6342, Accuracy = 82.62%, AUC = 97.41%\n",
      "Epoch 6/30 (92.06s): Loss = 0.5888, Accuracy = 84.14%, AUC = 97.68%\n",
      "Epoch 7/30 (107.34s): Loss = 0.5514, Accuracy = 85.24%, AUC = 97.84%\n",
      "Epoch 8/30 (122.61s): Loss = 0.5229, Accuracy = 86.01%, AUC = 97.99%\n",
      "Epoch 9/30 (137.86s): Loss = 0.5013, Accuracy = 86.66%, AUC = 98.11%\n",
      "Epoch 10/30 (153.11s): Loss = 0.4797, Accuracy = 87.01%, AUC = 98.27%\n",
      "Epoch 11/30 (168.38s): Loss = 0.4640, Accuracy = 87.33%, AUC = 98.32%\n",
      "Epoch 12/30 (183.67s): Loss = 0.4499, Accuracy = 87.87%, AUC = 98.43%\n",
      "Epoch 13/30 (198.95s): Loss = 0.4405, Accuracy = 87.94%, AUC = 98.51%\n",
      "Epoch 14/30 (214.23s): Loss = 0.4271, Accuracy = 88.08%, AUC = 98.56%\n",
      "Epoch 15/30 (229.57s): Loss = 0.4223, Accuracy = 88.25%, AUC = 98.61%\n",
      "Epoch 16/30 (244.93s): Loss = 0.4203, Accuracy = 88.13%, AUC = 98.62%\n",
      "Epoch 17/30 (260.28s): Loss = 0.4123, Accuracy = 88.43%, AUC = 98.66%\n",
      "Epoch 18/30 (275.66s): Loss = 0.4043, Accuracy = 88.83%, AUC = 98.68%\n",
      "Epoch 19/30 (290.99s): Loss = 0.4051, Accuracy = 88.68%, AUC = 98.71%\n",
      "Epoch 20/30 (306.44s): Loss = 0.3989, Accuracy = 88.70%, AUC = 98.74%\n",
      "Epoch 21/30 (321.76s): Loss = 0.3941, Accuracy = 88.95%, AUC = 98.77%\n",
      "Epoch 22/30 (337.10s): Loss = 0.3923, Accuracy = 89.00%, AUC = 98.79%\n",
      "Epoch 23/30 (352.43s): Loss = 0.3837, Accuracy = 89.24%, AUC = 98.83%\n",
      "Epoch 24/30 (367.73s): Loss = 0.3870, Accuracy = 89.08%, AUC = 98.82%\n",
      "Epoch 25/30 (383.03s): Loss = 0.3808, Accuracy = 89.36%, AUC = 98.85%\n",
      "Epoch 26/30 (398.35s): Loss = 0.3830, Accuracy = 89.06%, AUC = 98.85%\n",
      "Epoch 27/30 (413.66s): Loss = 0.3782, Accuracy = 89.42%, AUC = 98.86%\n",
      "Epoch 28/30 (428.98s): Loss = 0.3739, Accuracy = 89.41%, AUC = 98.89%\n",
      "Epoch 29/30 (444.35s): Loss = 0.3732, Accuracy = 89.51%, AUC = 98.89%\n",
      "Epoch 30/30 (459.73s): Loss = 0.3695, Accuracy = 89.38%, AUC = 98.92%\n",
      "BEST AUC = 98.92% AT EPOCH 30\n"
     ]
    }
   ],
   "source": [
    "model = ClassicalVisionTransformer(img_size=28, num_channels=1, num_classes=10, patch_size=14, hidden_size=6, num_heads=2, num_transformer_blocks=4, mlp_hidden_size=3)\n",
    "train(model, mnist_train_dataloader, mnist_valid_dataloader, learning_rate=0.0003, num_epochs=30, device=device)"
   ]
  }
 ],
 "metadata": {
  "kernelspec": {
   "display_name": "quantum-transformers",
   "language": "python",
   "name": "python3"
  },
  "language_info": {
   "codemirror_mode": {
    "name": "ipython",
    "version": 3
   },
   "file_extension": ".py",
   "mimetype": "text/x-python",
   "name": "python",
   "nbconvert_exporter": "python",
   "pygments_lexer": "ipython3",
   "version": "3.11.4"
  }
 },
 "nbformat": 4,
 "nbformat_minor": 2
}
