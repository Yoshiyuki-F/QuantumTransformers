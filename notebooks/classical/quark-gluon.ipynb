{
 "cells": [
  {
   "cell_type": "code",
   "execution_count": 1,
   "metadata": {
    "execution": {
     "iopub.execute_input": "2023-08-27T14:21:01.537944Z",
     "iopub.status.busy": "2023-08-27T14:21:01.537813Z",
     "iopub.status.idle": "2023-08-27T14:21:16.814474Z",
     "shell.execute_reply": "2023-08-27T14:21:16.813959Z"
    }
   },
   "outputs": [
    {
     "name": "stderr",
     "output_type": "stream",
     "text": [
      "2023-08-27 07:21:02.950648: E tensorflow/compiler/xla/stream_executor/cuda/cuda_dnn.cc:9342] Unable to register cuDNN factory: Attempting to register factory for plugin cuDNN when one has already been registered\n",
      "2023-08-27 07:21:02.950691: E tensorflow/compiler/xla/stream_executor/cuda/cuda_fft.cc:609] Unable to register cuFFT factory: Attempting to register factory for plugin cuFFT when one has already been registered\n",
      "2023-08-27 07:21:02.950718: E tensorflow/compiler/xla/stream_executor/cuda/cuda_blas.cc:1518] Unable to register cuBLAS factory: Attempting to register factory for plugin cuBLAS when one has already been registered\n",
      "2023-08-27 07:21:04.969859: W tensorflow/compiler/tf2tensorrt/utils/py_utils.cc:38] TF-TRT Warning: Could not find TensorRT\n"
     ]
    },
    {
     "name": "stdout",
     "output_type": "stream",
     "text": [
      "WARNING:tensorflow:From /global/common/software/m4392/conda/gsoc/lib/python3.11/site-packages/tensorflow/python/ops/distributions/distribution.py:259: ReparameterizationType.__init__ (from tensorflow.python.ops.distributions.distribution) is deprecated and will be removed after 2019-01-01.\n",
      "Instructions for updating:\n",
      "The TensorFlow Distributions library has moved to TensorFlow Probability (https://github.com/tensorflow/probability). You should update all references to use `tfp.distributions` instead of `tf.distributions`.\n",
      "WARNING:tensorflow:From /global/common/software/m4392/conda/gsoc/lib/python3.11/site-packages/tensorflow/python/ops/distributions/bernoulli.py:165: RegisterKL.__init__ (from tensorflow.python.ops.distributions.kullback_leibler) is deprecated and will be removed after 2019-01-01.\n",
      "Instructions for updating:\n",
      "The TensorFlow Distributions library has moved to TensorFlow Probability (https://github.com/tensorflow/probability). You should update all references to use `tfp.distributions` instead of `tf.distributions`.\n"
     ]
    },
    {
     "name": "stderr",
     "output_type": "stream",
     "text": [
      "Please first ``pip install -U cirq`` to enable related functionality in translation module\n"
     ]
    }
   ],
   "source": [
    "import jax\n",
    "import tensorflow as tf\n",
    "tf.config.set_visible_devices([], device_type='GPU')  # Ensure TF does not see GPU and grab all GPU memory.\n",
    "tf.random.set_seed(42)  # For reproducibility.\n",
    "\n",
    "from quantum_transformers.utils import plot_image\n",
    "from quantum_transformers.datasets import get_quark_gluon_dataloaders\n",
    "from quantum_transformers.training import train_and_evaluate\n",
    "from quantum_transformers.transformers import VisionTransformer\n",
    "\n",
    "data_dir = '/global/cfs/cdirs/m4392/salcc/data'"
   ]
  },
  {
   "cell_type": "code",
   "execution_count": 2,
   "metadata": {
    "execution": {
     "iopub.execute_input": "2023-08-27T14:21:16.816868Z",
     "iopub.status.busy": "2023-08-27T14:21:16.816516Z",
     "iopub.status.idle": "2023-08-27T14:21:17.190717Z",
     "shell.execute_reply": "2023-08-27T14:21:17.190353Z"
    }
   },
   "outputs": [
    {
     "name": "stdout",
     "output_type": "stream",
     "text": [
      "gpu:0 NVIDIA A100-SXM4-40GB\n"
     ]
    }
   ],
   "source": [
    "for d in jax.devices():\n",
    "    print(d, d.device_kind)"
   ]
  },
  {
   "cell_type": "code",
   "execution_count": 3,
   "metadata": {
    "execution": {
     "iopub.execute_input": "2023-08-27T14:21:17.192534Z",
     "iopub.status.busy": "2023-08-27T14:21:17.192364Z",
     "iopub.status.idle": "2023-08-27T14:21:23.268035Z",
     "shell.execute_reply": "2023-08-27T14:21:23.267572Z"
    }
   },
   "outputs": [
    {
     "name": "stdout",
     "output_type": "stream",
     "text": [
      "(125, 125, 3)\n"
     ]
    },
    {
     "data": {
      "image/png": "[encoded data removed]",
      "text/plain": [
       "<Figure size 900x300 with 3 Axes>"
      ]
     },
     "metadata": {},
     "output_type": "display_data"
    }
   ],
   "source": [
    "qg_train_dataloader, qg_val_dataloader, qg_test_dataloader = get_quark_gluon_dataloaders(batch_size=256, data_dir=data_dir)\n",
    "first_image = next(iter(qg_train_dataloader))[0][0]\n",
    "print(first_image.shape)\n",
    "plot_image(first_image, abs_log=True)"
   ]
  },
  {
   "cell_type": "code",
   "execution_count": 4,
   "metadata": {
    "execution": {
     "iopub.execute_input": "2023-08-27T14:21:23.270092Z",
     "iopub.status.busy": "2023-08-27T14:21:23.269744Z",
     "iopub.status.idle": "2023-08-27T14:33:02.929591Z",
     "shell.execute_reply": "2023-08-27T14:33:02.928968Z"
    }
   },
   "outputs": [
    {
     "name": "stderr",
     "output_type": "stream",
     "text": [
      "Epoch   1/50: 100%|██████████| 489/489 [00:20<00:00, 24.20batch/s, Loss = 0.6942, AUC = 58.25%]\n",
      "Epoch   2/50: 100%|██████████| 489/489 [00:12<00:00, 37.80batch/s, Loss = 0.6621, AUC = 62.49%]\n",
      "Epoch   3/50: 100%|██████████| 489/489 [00:13<00:00, 35.13batch/s, Loss = 0.6292, AUC = 70.56%]\n",
      "Epoch   4/50: 100%|██████████| 489/489 [00:12<00:00, 37.70batch/s, Loss = 0.6162, AUC = 72.47%]\n",
      "Epoch   5/50: 100%|██████████| 489/489 [00:12<00:00, 37.65batch/s, Loss = 0.6074, AUC = 73.40%]\n",
      "Epoch   6/50: 100%|██████████| 489/489 [00:13<00:00, 35.07batch/s, Loss = 0.6086, AUC = 74.08%]\n",
      "Epoch   7/50: 100%|██████████| 489/489 [00:13<00:00, 35.36batch/s, Loss = 0.5955, AUC = 74.91%]\n",
      "Epoch   8/50: 100%|██████████| 489/489 [00:13<00:00, 35.18batch/s, Loss = 0.6002, AUC = 75.45%]\n",
      "Epoch   9/50: 100%|██████████| 489/489 [00:13<00:00, 35.34batch/s, Loss = 0.5882, AUC = 75.95%]\n",
      "Epoch  10/50: 100%|██████████| 489/489 [00:12<00:00, 38.20batch/s, Loss = 0.5785, AUC = 76.64%]\n",
      "Epoch  11/50: 100%|██████████| 489/489 [00:13<00:00, 37.46batch/s, Loss = 0.5951, AUC = 76.85%]\n",
      "Epoch  12/50: 100%|██████████| 489/489 [00:13<00:00, 35.25batch/s, Loss = 0.5802, AUC = 77.15%]\n",
      "Epoch  13/50: 100%|██████████| 489/489 [00:13<00:00, 35.75batch/s, Loss = 0.5735, AUC = 77.26%]\n",
      "Epoch  14/50: 100%|██████████| 489/489 [00:12<00:00, 38.05batch/s, Loss = 0.5941, AUC = 77.18%]\n",
      "Epoch  15/50: 100%|██████████| 489/489 [00:14<00:00, 34.80batch/s, Loss = 0.5784, AUC = 77.51%]\n",
      "Epoch  16/50: 100%|██████████| 489/489 [00:13<00:00, 35.13batch/s, Loss = 0.5682, AUC = 77.79%]\n",
      "Epoch  17/50: 100%|██████████| 489/489 [00:13<00:00, 35.21batch/s, Loss = 0.5858, AUC = 77.96%]\n",
      "Epoch  18/50: 100%|██████████| 489/489 [00:14<00:00, 34.76batch/s, Loss = 0.5756, AUC = 77.95%]\n",
      "Epoch  19/50: 100%|██████████| 489/489 [00:14<00:00, 34.90batch/s, Loss = 0.5670, AUC = 78.05%]\n",
      "Epoch  20/50: 100%|██████████| 489/489 [00:12<00:00, 38.48batch/s, Loss = 0.5654, AUC = 78.17%]\n",
      "Epoch  21/50: 100%|██████████| 489/489 [00:13<00:00, 36.95batch/s, Loss = 0.5654, AUC = 78.06%]\n",
      "Epoch  22/50: 100%|██████████| 489/489 [00:12<00:00, 37.81batch/s, Loss = 0.5771, AUC = 78.06%]\n",
      "Epoch  23/50: 100%|██████████| 489/489 [00:12<00:00, 37.75batch/s, Loss = 0.5756, AUC = 78.20%]\n",
      "Epoch  24/50: 100%|██████████| 489/489 [00:12<00:00, 38.37batch/s, Loss = 0.5635, AUC = 78.28%]\n",
      "Epoch  25/50: 100%|██████████| 489/489 [00:13<00:00, 35.08batch/s, Loss = 0.5640, AUC = 78.25%]\n",
      "Epoch  26/50: 100%|██████████| 489/489 [00:13<00:00, 34.97batch/s, Loss = 0.5623, AUC = 78.34%]\n",
      "Epoch  27/50: 100%|██████████| 489/489 [00:12<00:00, 37.73batch/s, Loss = 0.5820, AUC = 78.06%]\n",
      "Epoch  28/50: 100%|██████████| 489/489 [00:12<00:00, 38.43batch/s, Loss = 0.5649, AUC = 78.34%]\n",
      "Epoch  29/50: 100%|██████████| 489/489 [00:13<00:00, 37.17batch/s, Loss = 0.5732, AUC = 78.32%]\n",
      "Epoch  30/50: 100%|██████████| 489/489 [00:13<00:00, 37.55batch/s, Loss = 0.5618, AUC = 78.49%]\n",
      "Epoch  31/50: 100%|██████████| 489/489 [00:13<00:00, 35.59batch/s, Loss = 0.5700, AUC = 78.14%]\n",
      "Epoch  32/50: 100%|██████████| 489/489 [00:13<00:00, 35.18batch/s, Loss = 0.5642, AUC = 78.42%]\n",
      "Epoch  33/50: 100%|██████████| 489/489 [00:13<00:00, 35.26batch/s, Loss = 0.5639, AUC = 78.36%]\n",
      "Epoch  34/50: 100%|██████████| 489/489 [00:13<00:00, 35.61batch/s, Loss = 0.5616, AUC = 78.42%]\n",
      "Epoch  35/50: 100%|██████████| 489/489 [00:14<00:00, 34.85batch/s, Loss = 0.5624, AUC = 78.44%]\n",
      "Epoch  36/50: 100%|██████████| 489/489 [00:13<00:00, 37.18batch/s, Loss = 0.5599, AUC = 78.59%]\n",
      "Epoch  37/50: 100%|██████████| 489/489 [00:13<00:00, 35.19batch/s, Loss = 0.5634, AUC = 78.54%]\n",
      "Epoch  38/50: 100%|██████████| 489/489 [00:13<00:00, 35.76batch/s, Loss = 0.5672, AUC = 78.05%]\n",
      "Epoch  39/50: 100%|██████████| 489/489 [00:13<00:00, 35.44batch/s, Loss = 0.5597, AUC = 78.63%]\n",
      "Epoch  40/50: 100%|██████████| 489/489 [00:14<00:00, 34.36batch/s, Loss = 0.5618, AUC = 78.40%]\n",
      "Epoch  41/50: 100%|██████████| 489/489 [00:13<00:00, 35.14batch/s, Loss = 0.5645, AUC = 78.36%]\n",
      "Epoch  42/50: 100%|██████████| 489/489 [00:13<00:00, 35.37batch/s, Loss = 0.5672, AUC = 78.36%]\n",
      "Epoch  43/50: 100%|██████████| 489/489 [00:13<00:00, 35.63batch/s, Loss = 0.5621, AUC = 78.51%]\n",
      "Epoch  44/50: 100%|██████████| 489/489 [00:13<00:00, 35.19batch/s, Loss = 0.5639, AUC = 78.62%]\n",
      "Epoch  45/50: 100%|██████████| 489/489 [00:13<00:00, 35.11batch/s, Loss = 0.5636, AUC = 78.52%]\n",
      "Epoch  46/50: 100%|██████████| 489/489 [00:13<00:00, 35.93batch/s, Loss = 0.5602, AUC = 78.57%]\n",
      "Epoch  47/50: 100%|██████████| 489/489 [00:13<00:00, 35.59batch/s, Loss = 0.5693, AUC = 78.66%]\n",
      "Epoch  48/50: 100%|██████████| 489/489 [00:13<00:00, 35.44batch/s, Loss = 0.5633, AUC = 78.62%]\n",
      "Epoch  49/50: 100%|██████████| 489/489 [00:13<00:00, 35.54batch/s, Loss = 0.5640, AUC = 78.56%]\n",
      "Epoch  50/50: 100%|██████████| 489/489 [00:13<00:00, 35.48batch/s, Loss = 0.5655, AUC = 78.47%]\n"
     ]
    },
    {
     "name": "stdout",
     "output_type": "stream",
     "text": [
      "Total training time = 685.22s, best validation AUC = 78.66% at epoch 47\n"
     ]
    },
    {
     "name": "stderr",
     "output_type": "stream",
     "text": [
      "Testing: 100%|██████████| 39/39 [00:02<00:00, 16.96batch/s, Loss = 0.5599, AUC = 79.67%]\n"
     ]
    }
   ],
   "source": [
    "model = VisionTransformer(num_classes=2, patch_size=10, hidden_size=64, num_heads=2, num_transformer_blocks=4, mlp_hidden_size=32)\n",
    "train_and_evaluate(model, qg_train_dataloader, qg_val_dataloader, qg_test_dataloader, num_classes=2, num_epochs=50)"
   ]
  },
  {
   "cell_type": "code",
   "execution_count": 5,
   "metadata": {
    "execution": {
     "iopub.execute_input": "2023-08-27T14:33:02.931776Z",
     "iopub.status.busy": "2023-08-27T14:33:02.931596Z",
     "iopub.status.idle": "2023-08-27T14:44:37.991836Z",
     "shell.execute_reply": "2023-08-27T14:44:37.991288Z"
    }
   },
   "outputs": [
    {
     "name": "stderr",
     "output_type": "stream",
     "text": [
      "Epoch   1/50: 100%|██████████| 489/489 [00:18<00:00, 26.02batch/s, Loss = 0.6931, AUC = 52.02%]\n",
      "Epoch   2/50: 100%|██████████| 489/489 [00:13<00:00, 35.34batch/s, Loss = 0.6930, AUC = 54.93%]\n",
      "Epoch   3/50: 100%|██████████| 489/489 [00:13<00:00, 35.90batch/s, Loss = 0.6930, AUC = 57.72%]\n",
      "Epoch   4/50: 100%|██████████| 489/489 [00:13<00:00, 36.16batch/s, Loss = 0.6928, AUC = 58.96%]\n",
      "Epoch   5/50: 100%|██████████| 489/489 [00:12<00:00, 38.67batch/s, Loss = 0.6909, AUC = 61.78%]\n",
      "Epoch   6/50: 100%|██████████| 489/489 [00:13<00:00, 35.38batch/s, Loss = 0.6552, AUC = 65.31%]\n",
      "Epoch   7/50: 100%|██████████| 489/489 [00:13<00:00, 35.57batch/s, Loss = 0.6383, AUC = 68.81%]\n",
      "Epoch   8/50: 100%|██████████| 489/489 [00:13<00:00, 35.63batch/s, Loss = 0.6309, AUC = 70.19%]\n",
      "Epoch   9/50: 100%|██████████| 489/489 [00:13<00:00, 36.09batch/s, Loss = 0.6219, AUC = 71.73%]\n",
      "Epoch  10/50: 100%|██████████| 489/489 [00:13<00:00, 35.70batch/s, Loss = 0.6161, AUC = 72.85%]\n",
      "Epoch  11/50: 100%|██████████| 489/489 [00:12<00:00, 38.70batch/s, Loss = 0.6163, AUC = 73.14%]\n",
      "Epoch  12/50: 100%|██████████| 489/489 [00:12<00:00, 38.72batch/s, Loss = 0.6108, AUC = 73.53%] \n",
      "Epoch  13/50: 100%|██████████| 489/489 [00:13<00:00, 35.74batch/s, Loss = 0.6039, AUC = 73.98%]\n",
      "Epoch  14/50: 100%|██████████| 489/489 [00:13<00:00, 36.09batch/s, Loss = 0.6028, AUC = 74.00%]\n",
      "Epoch  15/50: 100%|██████████| 489/489 [00:12<00:00, 38.53batch/s, Loss = 0.6042, AUC = 74.08%]\n",
      "Epoch  16/50: 100%|██████████| 489/489 [00:13<00:00, 35.47batch/s, Loss = 0.6008, AUC = 74.20%]\n",
      "Epoch  17/50: 100%|██████████| 489/489 [00:13<00:00, 36.00batch/s, Loss = 0.5993, AUC = 74.50%]\n",
      "Epoch  18/50: 100%|██████████| 489/489 [00:12<00:00, 37.83batch/s, Loss = 0.5987, AUC = 74.51%]\n",
      "Epoch  19/50: 100%|██████████| 489/489 [00:13<00:00, 35.87batch/s, Loss = 0.6081, AUC = 74.51%]\n",
      "Epoch  20/50: 100%|██████████| 489/489 [00:12<00:00, 38.45batch/s, Loss = 0.6061, AUC = 74.61%]\n",
      "Epoch  21/50: 100%|██████████| 489/489 [00:13<00:00, 35.80batch/s, Loss = 0.5979, AUC = 74.50%]\n",
      "Epoch  22/50: 100%|██████████| 489/489 [00:13<00:00, 35.67batch/s, Loss = 0.6025, AUC = 74.51%]\n",
      "Epoch  23/50: 100%|██████████| 489/489 [00:13<00:00, 36.69batch/s, Loss = 0.5954, AUC = 74.82%]\n",
      "Epoch  24/50: 100%|██████████| 489/489 [00:14<00:00, 34.82batch/s, Loss = 0.5961, AUC = 74.70%]\n",
      "Epoch  25/50: 100%|██████████| 489/489 [00:13<00:00, 35.98batch/s, Loss = 0.5932, AUC = 75.08%]\n",
      "Epoch  26/50: 100%|██████████| 489/489 [00:13<00:00, 37.56batch/s, Loss = 0.5995, AUC = 75.04%]\n",
      "Epoch  27/50: 100%|██████████| 489/489 [00:16<00:00, 29.97batch/s, Loss = 0.5926, AUC = 75.31%]\n",
      "Epoch  28/50: 100%|██████████| 489/489 [00:13<00:00, 36.02batch/s, Loss = 0.5929, AUC = 75.23%]\n",
      "Epoch  29/50: 100%|██████████| 489/489 [00:13<00:00, 35.60batch/s, Loss = 0.5932, AUC = 75.26%]\n",
      "Epoch  30/50: 100%|██████████| 489/489 [00:13<00:00, 35.99batch/s, Loss = 0.5946, AUC = 75.47%]\n",
      "Epoch  31/50: 100%|██████████| 489/489 [00:12<00:00, 38.49batch/s, Loss = 0.5906, AUC = 75.59%]\n",
      "Epoch  32/50: 100%|██████████| 489/489 [00:20<00:00, 23.83batch/s, Loss = 0.5886, AUC = 75.65%]\n",
      "Epoch  33/50: 100%|██████████| 489/489 [00:13<00:00, 35.23batch/s, Loss = 0.5925, AUC = 75.83%]\n",
      "Epoch  34/50: 100%|██████████| 489/489 [00:13<00:00, 35.63batch/s, Loss = 0.5869, AUC = 75.94%]\n",
      "Epoch  35/50: 100%|██████████| 489/489 [00:13<00:00, 35.69batch/s, Loss = 0.5904, AUC = 75.95%]\n",
      "Epoch  36/50: 100%|██████████| 489/489 [00:13<00:00, 36.19batch/s, Loss = 0.5858, AUC = 76.03%]\n",
      "Epoch  37/50: 100%|██████████| 489/489 [00:13<00:00, 36.11batch/s, Loss = 0.5926, AUC = 76.17%]\n",
      "Epoch  38/50: 100%|██████████| 489/489 [00:12<00:00, 38.88batch/s, Loss = 0.5833, AUC = 76.33%]\n",
      "Epoch  39/50: 100%|██████████| 489/489 [00:13<00:00, 36.10batch/s, Loss = 0.5818, AUC = 76.39%]\n",
      "Epoch  40/50: 100%|██████████| 489/489 [00:12<00:00, 38.90batch/s, Loss = 0.5821, AUC = 76.52%]\n",
      "Epoch  41/50: 100%|██████████| 489/489 [00:13<00:00, 35.78batch/s, Loss = 0.5837, AUC = 76.50%]\n",
      "Epoch  42/50: 100%|██████████| 489/489 [00:13<00:00, 36.46batch/s, Loss = 0.5848, AUC = 76.49%]\n",
      "Epoch  43/50: 100%|██████████| 489/489 [00:13<00:00, 35.96batch/s, Loss = 0.5838, AUC = 76.65%]\n",
      "Epoch  44/50: 100%|██████████| 489/489 [00:13<00:00, 35.95batch/s, Loss = 0.5803, AUC = 76.72%]\n",
      "Epoch  45/50: 100%|██████████| 489/489 [00:12<00:00, 38.37batch/s, Loss = 0.5815, AUC = 76.78%]\n",
      "Epoch  46/50: 100%|██████████| 489/489 [00:12<00:00, 37.65batch/s, Loss = 0.5849, AUC = 76.79%]\n",
      "Epoch  47/50: 100%|██████████| 489/489 [00:13<00:00, 36.29batch/s, Loss = 0.5824, AUC = 76.80%]\n",
      "Epoch  48/50: 100%|██████████| 489/489 [00:13<00:00, 35.84batch/s, Loss = 0.5801, AUC = 76.84%]\n",
      "Epoch  49/50: 100%|██████████| 489/489 [00:13<00:00, 36.49batch/s, Loss = 0.5796, AUC = 76.91%]\n",
      "Epoch  50/50: 100%|██████████| 489/489 [00:12<00:00, 38.93batch/s, Loss = 0.5780, AUC = 76.97%]\n"
     ]
    },
    {
     "name": "stdout",
     "output_type": "stream",
     "text": [
      "Total training time = 684.82s, best validation AUC = 76.97% at epoch 50\n"
     ]
    },
    {
     "name": "stderr",
     "output_type": "stream",
     "text": [
      "Testing: 100%|██████████| 39/39 [00:01<00:00, 23.79batch/s, Loss = 0.5791, AUC = 76.90%]\n"
     ]
    }
   ],
   "source": [
    "model = VisionTransformer(num_classes=2, patch_size=10, hidden_size=8, num_heads=2, num_transformer_blocks=4, mlp_hidden_size=4)\n",
    "train_and_evaluate(model, qg_train_dataloader, qg_val_dataloader, qg_test_dataloader, num_classes=2, num_epochs=50)"
   ]
  }
 ],
 "metadata": {
  "kernelspec": {
   "display_name": "gsoc",
   "language": "python",
   "name": "python3"
  },
  "language_info": {
   "codemirror_mode": {
    "name": "ipython",
    "version": 3
   },
   "file_extension": ".py",
   "mimetype": "text/x-python",
   "name": "python",
   "nbconvert_exporter": "python",
   "pygments_lexer": "ipython3",
   "version": "3.11.4"
  }
 },
 "nbformat": 4,
 "nbformat_minor": 2
}
