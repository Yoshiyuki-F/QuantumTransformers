{
 "cells": [
  {
   "cell_type": "code",
   "execution_count": 1,
   "metadata": {
    "execution": {
     "iopub.execute_input": "2023-07-18T09:34:24.962618Z",
     "iopub.status.busy": "2023-07-18T09:34:24.962506Z",
     "iopub.status.idle": "2023-07-18T09:34:34.702999Z",
     "shell.execute_reply": "2023-07-18T09:34:34.702603Z"
    }
   },
   "outputs": [],
   "source": [
    "from quantum_transformers.data import get_imdb_dataloaders\n",
    "from quantum_transformers.training import train\n",
    "from quantum_transformers.transformers import ClassicalTransformer\n",
    "\n",
    "import torch"
   ]
  },
  {
   "cell_type": "code",
   "execution_count": 2,
   "metadata": {
    "execution": {
     "iopub.execute_input": "2023-07-18T09:34:34.705269Z",
     "iopub.status.busy": "2023-07-18T09:34:34.704893Z",
     "iopub.status.idle": "2023-07-18T09:34:34.867582Z",
     "shell.execute_reply": "2023-07-18T09:34:34.867202Z"
    }
   },
   "outputs": [
    {
     "data": {
      "text/plain": [
       "'NVIDIA A100-SXM4-40GB'"
      ]
     },
     "execution_count": 2,
     "metadata": {},
     "output_type": "execute_result"
    }
   ],
   "source": [
    "device = torch.device('cuda' if torch.cuda.is_available() else 'cpu')\n",
    "torch.cuda.get_device_name() if device.type == 'cuda' else 'cpu'"
   ]
  },
  {
   "cell_type": "code",
   "execution_count": 3,
   "metadata": {
    "execution": {
     "iopub.execute_input": "2023-07-18T09:34:34.892155Z",
     "iopub.status.busy": "2023-07-18T09:34:34.891987Z",
     "iopub.status.idle": "2023-07-18T09:34:40.436761Z",
     "shell.execute_reply": "2023-07-18T09:34:40.436383Z"
    }
   },
   "outputs": [
    {
     "name": "stdout",
     "output_type": "stream",
     "text": [
      "I rented I AM CURIOUS-YELLOW from my video store because of all the controversy that surrounded it when it was first released in 1967. I also heard that at first it was seized by U.S. customs if it ever tried to enter this country, therefore being a fan of films considered \"controversial\" I really had to see this for myself.<br /><br />The plot is centered around a young Swedish drama student named Lena who wants to learn everything she can about life. In particular she wants to focus her attentions to making some sort of documentary on what the average Swede thought about certain political issues such as the Vietnam War and race issues in the United States. In between asking politicians and ordinary denizens of Stockholm about their opinions on politics, she has sex with her drama teacher, classmates, and married men.<br /><br />What kills me about I AM CURIOUS-YELLOW is that 40 years ago, this was considered pornographic. Really, the sex and nudity scenes are few and far between, even then it's not shot like some cheaply made porno. While my countrymen mind find it shocking, in reality sex and nudity are a major staple in Swedish cinema. Even Ingmar Bergman, arguably their answer to good old boy John Ford, had sex scenes in his films.<br /><br />I do commend the filmmakers for the fact that any sex shown in the film is shown for artistic purposes rather than just to shock people and make money to be shown in pornographic theaters in America. I AM CURIOUS-YELLOW is a good film for anyone wanting to study the meat and potatoes (no pun intended) of Swedish cinema. But really, this film doesn't have much of a plot.\n"
     ]
    }
   ],
   "source": [
    "(imdb_train_dataloader, imdb_valid_dataloader), vocab = get_imdb_dataloaders(batch_size=32)\n",
    "print(imdb_train_dataloader.dataset[0][1])"
   ]
  },
  {
   "cell_type": "code",
   "execution_count": 4,
   "metadata": {
    "execution": {
     "iopub.execute_input": "2023-07-18T09:34:40.438395Z",
     "iopub.status.busy": "2023-07-18T09:34:40.438223Z",
     "iopub.status.idle": "2023-07-18T09:57:39.511994Z",
     "shell.execute_reply": "2023-07-18T09:57:39.511530Z"
    }
   },
   "outputs": [
    {
     "name": "stdout",
     "output_type": "stream",
     "text": [
      "Epoch 1/30 (47.71s): Loss = 0.5629, Accuracy = 71.50%, AUC = 78.39%\n",
      "Epoch 2/30 (93.60s): Loss = 0.4653, Accuracy = 78.20%, AUC = 86.94%\n",
      "Epoch 3/30 (139.93s): Loss = 0.4322, Accuracy = 81.23%, AUC = 89.84%\n",
      "Epoch 4/30 (186.13s): Loss = 0.3880, Accuracy = 83.15%, AUC = 91.23%\n",
      "Epoch 5/30 (232.08s): Loss = 0.3628, Accuracy = 84.29%, AUC = 92.15%\n",
      "Epoch 6/30 (277.90s): Loss = 0.3578, Accuracy = 84.68%, AUC = 92.64%\n",
      "Epoch 7/30 (324.02s): Loss = 0.3512, Accuracy = 85.31%, AUC = 93.02%\n",
      "Epoch 8/30 (370.17s): Loss = 0.3543, Accuracy = 85.47%, AUC = 93.28%\n",
      "Epoch 9/30 (416.20s): Loss = 0.3581, Accuracy = 85.15%, AUC = 93.49%\n",
      "Epoch 10/30 (461.96s): Loss = 0.3945, Accuracy = 85.35%, AUC = 93.63%\n",
      "Epoch 11/30 (507.68s): Loss = 0.3934, Accuracy = 85.08%, AUC = 93.78%\n",
      "Epoch 12/30 (553.41s): Loss = 0.3782, Accuracy = 86.10%, AUC = 93.94%\n",
      "Epoch 13/30 (598.94s): Loss = 0.3867, Accuracy = 85.94%, AUC = 93.94%\n",
      "Epoch 14/30 (644.90s): Loss = 0.4055, Accuracy = 85.00%, AUC = 93.88%\n",
      "Epoch 15/30 (690.48s): Loss = 0.3753, Accuracy = 86.80%, AUC = 93.93%\n",
      "Epoch 16/30 (736.48s): Loss = 0.3598, Accuracy = 86.64%, AUC = 93.94%\n",
      "Epoch 17/30 (782.44s): Loss = 0.3786, Accuracy = 86.60%, AUC = 93.93%\n",
      "Epoch 18/30 (828.07s): Loss = 0.3832, Accuracy = 86.79%, AUC = 93.90%\n",
      "Epoch 19/30 (873.83s): Loss = 0.4416, Accuracy = 86.51%, AUC = 93.81%\n",
      "Epoch 20/30 (919.76s): Loss = 0.4310, Accuracy = 86.50%, AUC = 93.87%\n",
      "Epoch 21/30 (965.98s): Loss = 0.4639, Accuracy = 86.20%, AUC = 93.77%\n",
      "Epoch 22/30 (1011.95s): Loss = 0.4416, Accuracy = 86.42%, AUC = 93.71%\n",
      "Epoch 23/30 (1057.56s): Loss = 0.5275, Accuracy = 86.38%, AUC = 93.58%\n",
      "Epoch 24/30 (1103.29s): Loss = 0.5331, Accuracy = 84.82%, AUC = 93.41%\n",
      "Epoch 25/30 (1149.07s): Loss = 0.5072, Accuracy = 86.29%, AUC = 93.78%\n",
      "Epoch 26/30 (1194.78s): Loss = 0.5458, Accuracy = 85.88%, AUC = 93.51%\n",
      "Epoch 27/30 (1240.57s): Loss = 0.5157, Accuracy = 86.21%, AUC = 93.60%\n",
      "Epoch 28/30 (1286.29s): Loss = 0.5555, Accuracy = 85.69%, AUC = 93.45%\n",
      "Epoch 29/30 (1331.96s): Loss = 0.5480, Accuracy = 86.46%, AUC = 93.61%\n",
      "Epoch 30/30 (1377.53s): Loss = 0.5320, Accuracy = 85.96%, AUC = 93.28%\n",
      "BEST AUC = 93.94% AT EPOCH 12\n"
     ]
    }
   ],
   "source": [
    "model = ClassicalTransformer(num_tokens=len(vocab), num_classes=2, hidden_size=64, num_heads=2, num_transformer_blocks=4, mlp_hidden_size=32)\n",
    "train(model, imdb_train_dataloader, imdb_valid_dataloader, learning_rate=0.0003, num_epochs=30, device=device)"
   ]
  },
  {
   "cell_type": "code",
   "execution_count": 5,
   "metadata": {
    "execution": {
     "iopub.execute_input": "2023-07-18T09:57:39.513734Z",
     "iopub.status.busy": "2023-07-18T09:57:39.513537Z",
     "iopub.status.idle": "2023-07-18T10:19:20.765378Z",
     "shell.execute_reply": "2023-07-18T10:19:20.764917Z"
    }
   },
   "outputs": [
    {
     "name": "stdout",
     "output_type": "stream",
     "text": [
      "Epoch 1/30 (43.31s): Loss = 0.6931, Accuracy = 50.24%, AUC = 56.54%\n",
      "Epoch 2/30 (87.10s): Loss = 0.6916, Accuracy = 50.56%, AUC = 60.83%\n",
      "Epoch 3/30 (130.62s): Loss = 0.6855, Accuracy = 61.36%, AUC = 65.55%\n",
      "Epoch 4/30 (174.65s): Loss = 0.6675, Accuracy = 60.00%, AUC = 70.38%\n",
      "Epoch 5/30 (217.97s): Loss = 0.6434, Accuracy = 64.84%, AUC = 75.32%\n",
      "Epoch 6/30 (260.87s): Loss = 0.5539, Accuracy = 72.13%, AUC = 79.69%\n",
      "Epoch 7/30 (304.09s): Loss = 0.6548, Accuracy = 67.15%, AUC = 81.25%\n",
      "Epoch 8/30 (347.64s): Loss = 0.6399, Accuracy = 68.66%, AUC = 83.38%\n",
      "Epoch 9/30 (391.12s): Loss = 0.4963, Accuracy = 76.49%, AUC = 85.04%\n",
      "Epoch 10/30 (434.28s): Loss = 0.5345, Accuracy = 74.92%, AUC = 85.86%\n",
      "Epoch 11/30 (477.71s): Loss = 0.4709, Accuracy = 78.38%, AUC = 86.83%\n",
      "Epoch 12/30 (521.25s): Loss = 0.4908, Accuracy = 77.43%, AUC = 87.57%\n",
      "Epoch 13/30 (564.34s): Loss = 0.4799, Accuracy = 78.34%, AUC = 88.06%\n",
      "Epoch 14/30 (607.38s): Loss = 0.4812, Accuracy = 78.60%, AUC = 88.50%\n",
      "Epoch 15/30 (650.93s): Loss = 0.5153, Accuracy = 77.36%, AUC = 89.30%\n",
      "Epoch 16/30 (694.24s): Loss = 0.4382, Accuracy = 80.87%, AUC = 89.38%\n",
      "Epoch 17/30 (737.94s): Loss = 0.4341, Accuracy = 81.29%, AUC = 89.78%\n",
      "Epoch 18/30 (781.30s): Loss = 0.4314, Accuracy = 81.52%, AUC = 90.35%\n",
      "Epoch 19/30 (824.21s): Loss = 0.4288, Accuracy = 81.78%, AUC = 90.59%\n",
      "Epoch 20/30 (867.29s): Loss = 0.4204, Accuracy = 81.98%, AUC = 90.95%\n",
      "Epoch 21/30 (911.08s): Loss = 0.4471, Accuracy = 81.19%, AUC = 91.19%\n",
      "Epoch 22/30 (954.46s): Loss = 0.4040, Accuracy = 82.84%, AUC = 91.57%\n",
      "Epoch 23/30 (998.07s): Loss = 0.4168, Accuracy = 82.22%, AUC = 91.71%\n",
      "Epoch 24/30 (1041.27s): Loss = 0.3981, Accuracy = 83.46%, AUC = 91.80%\n",
      "Epoch 25/30 (1084.26s): Loss = 0.3825, Accuracy = 84.20%, AUC = 92.21%\n",
      "Epoch 26/30 (1127.62s): Loss = 0.3849, Accuracy = 84.18%, AUC = 92.13%\n",
      "Epoch 27/30 (1171.01s): Loss = 0.3842, Accuracy = 84.05%, AUC = 92.18%\n",
      "Epoch 28/30 (1214.35s): Loss = 0.4101, Accuracy = 83.10%, AUC = 92.26%\n",
      "Epoch 29/30 (1257.77s): Loss = 0.3691, Accuracy = 84.94%, AUC = 92.67%\n",
      "Epoch 30/30 (1301.24s): Loss = 0.3991, Accuracy = 83.81%, AUC = 92.40%\n",
      "BEST AUC = 92.67% AT EPOCH 29\n"
     ]
    }
   ],
   "source": [
    "model = ClassicalTransformer(num_tokens=len(vocab), num_classes=2, hidden_size=6, num_heads=2, num_transformer_blocks=4, mlp_hidden_size=3)\n",
    "train(model, imdb_train_dataloader, imdb_valid_dataloader, learning_rate=0.0003, num_epochs=30, device=device)"
   ]
  }
 ],
 "metadata": {
  "kernelspec": {
   "display_name": "quantum-transformers",
   "language": "python",
   "name": "python3"
  },
  "language_info": {
   "codemirror_mode": {
    "name": "ipython",
    "version": 3
   },
   "file_extension": ".py",
   "mimetype": "text/x-python",
   "name": "python",
   "nbconvert_exporter": "python",
   "pygments_lexer": "ipython3",
   "version": "3.11.4"
  }
 },
 "nbformat": 4,
 "nbformat_minor": 2
}
