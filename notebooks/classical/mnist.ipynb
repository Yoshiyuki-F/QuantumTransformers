{
 "cells": [
  {
   "cell_type": "code",
   "execution_count": 1,
   "metadata": {
    "execution": {
     "iopub.execute_input": "2023-08-26T21:23:07.052811Z",
     "iopub.status.busy": "2023-08-26T21:23:07.052598Z",
     "iopub.status.idle": "2023-08-26T21:23:23.166571Z",
     "shell.execute_reply": "2023-08-26T21:23:23.166085Z"
    }
   },
   "outputs": [
    {
     "name": "stderr",
     "output_type": "stream",
     "text": [
      "2023-08-26 14:23:07.782427: E tensorflow/compiler/xla/stream_executor/cuda/cuda_dnn.cc:9342] Unable to register cuDNN factory: Attempting to register factory for plugin cuDNN when one has already been registered\n",
      "2023-08-26 14:23:07.782452: E tensorflow/compiler/xla/stream_executor/cuda/cuda_fft.cc:609] Unable to register cuFFT factory: Attempting to register factory for plugin cuFFT when one has already been registered\n",
      "2023-08-26 14:23:07.782467: E tensorflow/compiler/xla/stream_executor/cuda/cuda_blas.cc:1518] Unable to register cuBLAS factory: Attempting to register factory for plugin cuBLAS when one has already been registered\n",
      "2023-08-26 14:23:10.081473: W tensorflow/compiler/tf2tensorrt/utils/py_utils.cc:38] TF-TRT Warning: Could not find TensorRT\n"
     ]
    },
    {
     "name": "stdout",
     "output_type": "stream",
     "text": [
      "WARNING:tensorflow:From /global/common/software/m4392/conda/gsoc/lib/python3.11/site-packages/tensorflow/python/ops/distributions/distribution.py:259: ReparameterizationType.__init__ (from tensorflow.python.ops.distributions.distribution) is deprecated and will be removed after 2019-01-01.\n",
      "Instructions for updating:\n",
      "The TensorFlow Distributions library has moved to TensorFlow Probability (https://github.com/tensorflow/probability). You should update all references to use `tfp.distributions` instead of `tf.distributions`.\n",
      "WARNING:tensorflow:From /global/common/software/m4392/conda/gsoc/lib/python3.11/site-packages/tensorflow/python/ops/distributions/bernoulli.py:165: RegisterKL.__init__ (from tensorflow.python.ops.distributions.kullback_leibler) is deprecated and will be removed after 2019-01-01.\n",
      "Instructions for updating:\n",
      "The TensorFlow Distributions library has moved to TensorFlow Probability (https://github.com/tensorflow/probability). You should update all references to use `tfp.distributions` instead of `tf.distributions`.\n"
     ]
    },
    {
     "name": "stderr",
     "output_type": "stream",
     "text": [
      "Please first ``pip install -U cirq`` to enable related functionality in translation module\n"
     ]
    }
   ],
   "source": [
    "import jax\n",
    "import tensorflow as tf\n",
    "tf.config.set_visible_devices([], device_type='GPU')  # Ensure TF does not see GPU and grab all GPU memory.\n",
    "tf.random.set_seed(42)  # For reproducibility.\n",
    "\n",
    "from quantum_transformers.utils import plot_image\n",
    "from quantum_transformers.datasets import get_mnist_dataloaders\n",
    "from quantum_transformers.training import train_and_evaluate\n",
    "from quantum_transformers.transformers import VisionTransformer\n",
    "\n",
    "data_dir = '/global/cfs/cdirs/m4392/salcc/data'"
   ]
  },
  {
   "cell_type": "code",
   "execution_count": 2,
   "metadata": {
    "execution": {
     "iopub.execute_input": "2023-08-26T21:23:23.168980Z",
     "iopub.status.busy": "2023-08-26T21:23:23.168609Z",
     "iopub.status.idle": "2023-08-26T21:23:23.668174Z",
     "shell.execute_reply": "2023-08-26T21:23:23.667696Z"
    }
   },
   "outputs": [
    {
     "name": "stdout",
     "output_type": "stream",
     "text": [
      "gpu:0 NVIDIA A100-SXM4-40GB\n"
     ]
    }
   ],
   "source": [
    "for d in jax.devices():\n",
    "    print(d, d.device_kind)"
   ]
  },
  {
   "cell_type": "code",
   "execution_count": 3,
   "metadata": {
    "execution": {
     "iopub.execute_input": "2023-08-26T21:23:23.669939Z",
     "iopub.status.busy": "2023-08-26T21:23:23.669771Z",
     "iopub.status.idle": "2023-08-26T21:23:24.415078Z",
     "shell.execute_reply": "2023-08-26T21:23:24.414599Z"
    }
   },
   "outputs": [
    {
     "name": "stdout",
     "output_type": "stream",
     "text": [
      "(28, 28, 1)\n"
     ]
    },
    {
     "data": {
      "image/png": "[encoded data removed]",
      "text/plain": [
       "<Figure size 300x300 with 1 Axes>"
      ]
     },
     "metadata": {},
     "output_type": "display_data"
    }
   ],
   "source": [
    "mnist_train_dataloader, mnist_valid_dataloader = get_mnist_dataloaders(batch_size=64, data_dir=data_dir)\n",
    "first_image = next(iter(mnist_train_dataloader))[0][0]\n",
    "print(first_image.shape)\n",
    "plot_image(first_image)"
   ]
  },
  {
   "cell_type": "code",
   "execution_count": 4,
   "metadata": {
    "execution": {
     "iopub.execute_input": "2023-08-26T21:23:24.416816Z",
     "iopub.status.busy": "2023-08-26T21:23:24.416641Z",
     "iopub.status.idle": "2023-08-26T21:26:25.727030Z",
     "shell.execute_reply": "2023-08-26T21:26:25.726454Z"
    }
   },
   "outputs": [
    {
     "name": "stderr",
     "output_type": "stream",
     "text": [
      "Epoch   1/30: 100%|██████████| 937/937 [00:12<00:00, 73.66batch/s, Loss = 0.3322, AUC = 99.20%] \n",
      "Epoch   2/30: 100%|██████████| 937/937 [00:05<00:00, 163.14batch/s, Loss = 0.1735, AUC = 99.76%]\n",
      "Epoch   3/30: 100%|██████████| 937/937 [00:05<00:00, 174.89batch/s, Loss = 0.1403, AUC = 99.85%]\n",
      "Epoch   4/30: 100%|██████████| 937/937 [00:07<00:00, 118.89batch/s, Loss = 0.1186, AUC = 99.89%]\n",
      "Epoch   5/30: 100%|██████████| 937/937 [00:05<00:00, 166.34batch/s, Loss = 0.1246, AUC = 99.89%]\n",
      "Epoch   6/30: 100%|██████████| 937/937 [00:05<00:00, 179.63batch/s, Loss = 0.0998, AUC = 99.93%]\n",
      "Epoch   7/30: 100%|██████████| 937/937 [00:05<00:00, 172.97batch/s, Loss = 0.0904, AUC = 99.94%]\n",
      "Epoch   8/30: 100%|██████████| 937/937 [00:05<00:00, 164.59batch/s, Loss = 0.0791, AUC = 99.96%]\n",
      "Epoch   9/30: 100%|██████████| 937/937 [00:05<00:00, 175.77batch/s, Loss = 0.0769, AUC = 99.96%]\n",
      "Epoch  10/30: 100%|██████████| 937/937 [00:05<00:00, 166.96batch/s, Loss = 0.0713, AUC = 99.97%]\n",
      "Epoch  11/30: 100%|██████████| 937/937 [00:05<00:00, 169.86batch/s, Loss = 0.0713, AUC = 99.96%]\n",
      "Epoch  12/30: 100%|██████████| 937/937 [00:05<00:00, 175.83batch/s, Loss = 0.0660, AUC = 99.97%]\n",
      "Epoch  13/30: 100%|██████████| 937/937 [00:05<00:00, 169.35batch/s, Loss = 0.0646, AUC = 99.97%]\n",
      "Epoch  14/30: 100%|██████████| 937/937 [00:05<00:00, 167.88batch/s, Loss = 0.0723, AUC = 99.96%]\n",
      "Epoch  15/30: 100%|██████████| 937/937 [00:05<00:00, 170.68batch/s, Loss = 0.0640, AUC = 99.97%]\n",
      "Epoch  16/30: 100%|██████████| 937/937 [00:05<00:00, 176.12batch/s, Loss = 0.0660, AUC = 99.98%]\n",
      "Epoch  17/30: 100%|██████████| 937/937 [00:05<00:00, 177.29batch/s, Loss = 0.0628, AUC = 99.98%]\n",
      "Epoch  18/30: 100%|██████████| 937/937 [00:05<00:00, 163.77batch/s, Loss = 0.0567, AUC = 99.98%]\n",
      "Epoch  19/30: 100%|██████████| 937/937 [00:05<00:00, 173.83batch/s, Loss = 0.0662, AUC = 99.98%]\n",
      "Epoch  20/30: 100%|██████████| 937/937 [00:05<00:00, 166.00batch/s, Loss = 0.0583, AUC = 99.98%]\n",
      "Epoch  21/30: 100%|██████████| 937/937 [00:05<00:00, 159.44batch/s, Loss = 0.0595, AUC = 99.98%]\n",
      "Epoch  22/30: 100%|██████████| 937/937 [00:05<00:00, 173.08batch/s, Loss = 0.0609, AUC = 99.98%]\n",
      "Epoch  23/30: 100%|██████████| 937/937 [00:05<00:00, 167.28batch/s, Loss = 0.0573, AUC = 99.98%]\n",
      "Epoch  24/30: 100%|██████████| 937/937 [00:05<00:00, 172.92batch/s, Loss = 0.0601, AUC = 99.98%]\n",
      "Epoch  25/30: 100%|██████████| 937/937 [00:05<00:00, 177.46batch/s, Loss = 0.0602, AUC = 99.98%]\n",
      "Epoch  26/30: 100%|██████████| 937/937 [00:05<00:00, 166.15batch/s, Loss = 0.0615, AUC = 99.98%]\n",
      "Epoch  27/30: 100%|██████████| 937/937 [00:05<00:00, 170.53batch/s, Loss = 0.0531, AUC = 99.98%]\n",
      "Epoch  28/30: 100%|██████████| 937/937 [00:05<00:00, 168.08batch/s, Loss = 0.0579, AUC = 99.98%]\n",
      "Epoch  29/30: 100%|██████████| 937/937 [00:05<00:00, 174.35batch/s, Loss = 0.0558, AUC = 99.98%]\n",
      "Epoch  30/30: 100%|██████████| 937/937 [00:05<00:00, 169.91batch/s, Loss = 0.0597, AUC = 99.98%]"
     ]
    },
    {
     "name": "stdout",
     "output_type": "stream",
     "text": [
      "TOTAL TIME = 174.65s\n",
      "BEST AUC = 99.98% AT EPOCH 27\n"
     ]
    },
    {
     "name": "stderr",
     "output_type": "stream",
     "text": [
      "\n"
     ]
    }
   ],
   "source": [
    "model = VisionTransformer(num_classes=10, patch_size=14, hidden_size=64, num_heads=2, num_transformer_blocks=4, mlp_hidden_size=32)\n",
    "train_and_evaluate(model, mnist_train_dataloader, mnist_valid_dataloader, num_classes=10, num_epochs=30)"
   ]
  },
  {
   "cell_type": "code",
   "execution_count": 5,
   "metadata": {
    "execution": {
     "iopub.execute_input": "2023-08-26T21:26:25.729235Z",
     "iopub.status.busy": "2023-08-26T21:26:25.729036Z",
     "iopub.status.idle": "2023-08-26T21:29:14.760960Z",
     "shell.execute_reply": "2023-08-26T21:29:14.760394Z"
    }
   },
   "outputs": [
    {
     "name": "stderr",
     "output_type": "stream",
     "text": [
      "Epoch   1/30: 100%|██████████| 937/937 [00:11<00:00, 84.26batch/s, Loss = 1.6757, AUC = 86.03%] \n",
      "Epoch   2/30: 100%|██████████| 937/937 [00:05<00:00, 172.18batch/s, Loss = 0.9372, AUC = 95.51%]\n",
      "Epoch   3/30: 100%|██████████| 937/937 [00:05<00:00, 184.60batch/s, Loss = 0.5676, AUC = 97.93%]\n",
      "Epoch   4/30: 100%|██████████| 937/937 [00:05<00:00, 182.13batch/s, Loss = 0.4136, AUC = 98.77%]\n",
      "Epoch   5/30: 100%|██████████| 937/937 [00:05<00:00, 171.17batch/s, Loss = 0.3573, AUC = 99.09%]\n",
      "Epoch   6/30: 100%|██████████| 937/937 [00:05<00:00, 174.84batch/s, Loss = 0.3189, AUC = 99.25%]\n",
      "Epoch   7/30: 100%|██████████| 937/937 [00:05<00:00, 181.05batch/s, Loss = 0.3017, AUC = 99.32%]\n",
      "Epoch   8/30: 100%|██████████| 937/937 [00:05<00:00, 168.69batch/s, Loss = 0.2828, AUC = 99.41%]\n",
      "Epoch   9/30: 100%|██████████| 937/937 [00:05<00:00, 181.55batch/s, Loss = 0.2699, AUC = 99.46%]\n",
      "Epoch  10/30: 100%|██████████| 937/937 [00:05<00:00, 177.99batch/s, Loss = 0.2638, AUC = 99.49%]\n",
      "Epoch  11/30: 100%|██████████| 937/937 [00:05<00:00, 181.36batch/s, Loss = 0.2505, AUC = 99.54%]\n",
      "Epoch  12/30: 100%|██████████| 937/937 [00:05<00:00, 178.27batch/s, Loss = 0.2358, AUC = 99.58%]\n",
      "Epoch  13/30: 100%|██████████| 937/937 [00:05<00:00, 163.02batch/s, Loss = 0.2313, AUC = 99.60%]\n",
      "Epoch  14/30: 100%|██████████| 937/937 [00:05<00:00, 175.49batch/s, Loss = 0.2307, AUC = 99.60%]\n",
      "Epoch  15/30: 100%|██████████| 937/937 [00:05<00:00, 179.47batch/s, Loss = 0.2225, AUC = 99.62%]\n",
      "Epoch  16/30: 100%|██████████| 937/937 [00:05<00:00, 175.73batch/s, Loss = 0.2217, AUC = 99.63%]\n",
      "Epoch  17/30: 100%|██████████| 937/937 [00:05<00:00, 181.89batch/s, Loss = 0.2100, AUC = 99.66%]\n",
      "Epoch  18/30: 100%|██████████| 937/937 [00:05<00:00, 171.70batch/s, Loss = 0.2098, AUC = 99.66%]\n",
      "Epoch  19/30: 100%|██████████| 937/937 [00:05<00:00, 172.81batch/s, Loss = 0.2095, AUC = 99.66%]\n",
      "Epoch  20/30: 100%|██████████| 937/937 [00:05<00:00, 182.34batch/s, Loss = 0.2051, AUC = 99.67%]\n",
      "Epoch  21/30: 100%|██████████| 937/937 [00:05<00:00, 169.51batch/s, Loss = 0.2039, AUC = 99.69%]\n",
      "Epoch  22/30: 100%|██████████| 937/937 [00:05<00:00, 178.51batch/s, Loss = 0.1991, AUC = 99.69%]\n",
      "Epoch  23/30: 100%|██████████| 937/937 [00:05<00:00, 177.26batch/s, Loss = 0.1962, AUC = 99.71%]\n",
      "Epoch  24/30: 100%|██████████| 937/937 [00:05<00:00, 178.45batch/s, Loss = 0.1957, AUC = 99.71%]\n",
      "Epoch  25/30: 100%|██████████| 937/937 [00:05<00:00, 178.53batch/s, Loss = 0.1945, AUC = 99.71%]\n",
      "Epoch  26/30: 100%|██████████| 937/937 [00:05<00:00, 162.35batch/s, Loss = 0.1947, AUC = 99.71%]\n",
      "Epoch  27/30: 100%|██████████| 937/937 [00:05<00:00, 175.75batch/s, Loss = 0.1894, AUC = 99.72%]\n",
      "Epoch  28/30: 100%|██████████| 937/937 [00:05<00:00, 171.71batch/s, Loss = 0.1881, AUC = 99.72%]\n",
      "Epoch  29/30: 100%|██████████| 937/937 [00:05<00:00, 169.39batch/s, Loss = 0.1885, AUC = 99.72%]\n",
      "Epoch  30/30: 100%|██████████| 937/937 [00:05<00:00, 171.48batch/s, Loss = 0.1904, AUC = 99.72%]"
     ]
    },
    {
     "name": "stdout",
     "output_type": "stream",
     "text": [
      "TOTAL TIME = 166.16s\n",
      "BEST AUC = 99.72% AT EPOCH 27\n"
     ]
    },
    {
     "name": "stderr",
     "output_type": "stream",
     "text": [
      "\n"
     ]
    }
   ],
   "source": [
    "model = VisionTransformer(num_classes=10, patch_size=14, hidden_size=8, num_heads=2, num_transformer_blocks=4, mlp_hidden_size=4)\n",
    "train_and_evaluate(model, mnist_train_dataloader, mnist_valid_dataloader, num_classes=10, num_epochs=30)"
   ]
  }
 ],
 "metadata": {
  "kernelspec": {
   "display_name": "gsoc",
   "language": "python",
   "name": "python3"
  },
  "language_info": {
   "codemirror_mode": {
    "name": "ipython",
    "version": 3
   },
   "file_extension": ".py",
   "mimetype": "text/x-python",
   "name": "python",
   "nbconvert_exporter": "python",
   "pygments_lexer": "ipython3",
   "version": "3.11.4"
  }
 },
 "nbformat": 4,
 "nbformat_minor": 2
}
