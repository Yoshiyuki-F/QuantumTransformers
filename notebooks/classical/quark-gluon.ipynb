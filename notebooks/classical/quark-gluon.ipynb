{
 "cells": [
  {
   "cell_type": "code",
   "execution_count": 1,
   "metadata": {
    "execution": {
     "iopub.execute_input": "2023-07-24T12:40:16.773908Z",
     "iopub.status.busy": "2023-07-24T12:40:16.773561Z",
     "iopub.status.idle": "2023-07-24T12:40:20.628301Z",
     "shell.execute_reply": "2023-07-24T12:40:20.627891Z"
    }
   },
   "outputs": [],
   "source": [
    "from quantum_transformers.utils import plot_image\n",
    "from quantum_transformers.datasets.hep import get_quark_gluon_dataloaders\n",
    "from quantum_transformers.training import train\n",
    "from quantum_transformers.transformers import ClassicalVisionTransformer\n",
    "\n",
    "import torch"
   ]
  },
  {
   "cell_type": "code",
   "execution_count": 2,
   "metadata": {
    "execution": {
     "iopub.execute_input": "2023-07-24T12:40:20.630594Z",
     "iopub.status.busy": "2023-07-24T12:40:20.630083Z",
     "iopub.status.idle": "2023-07-24T12:40:20.799518Z",
     "shell.execute_reply": "2023-07-24T12:40:20.799167Z"
    }
   },
   "outputs": [
    {
     "data": {
      "text/plain": [
       "'NVIDIA A100-PCIE-40GB'"
      ]
     },
     "execution_count": 2,
     "metadata": {},
     "output_type": "execute_result"
    }
   ],
   "source": [
    "device = torch.device('cuda' if torch.cuda.is_available() else 'cpu')\n",
    "torch.cuda.get_device_name() if device.type == 'cuda' else 'cpu'"
   ]
  },
  {
   "cell_type": "code",
   "execution_count": 3,
   "metadata": {
    "execution": {
     "iopub.execute_input": "2023-07-24T12:40:20.827197Z",
     "iopub.status.busy": "2023-07-24T12:40:20.826877Z",
     "iopub.status.idle": "2023-07-24T12:40:53.215743Z",
     "shell.execute_reply": "2023-07-24T12:40:53.215326Z"
    }
   },
   "outputs": [
    {
     "name": "stdout",
     "output_type": "stream",
     "text": [
      "/global/homes/s/salcc/data/quark-gluon already exists, skipping download\n"
     ]
    },
    {
     "data": {
      "image/png": "[encoded data removed]",
      "text/plain": [
       "<Figure size 900x300 with 3 Axes>"
      ]
     },
     "metadata": {},
     "output_type": "display_data"
    },
    {
     "name": "stdout",
     "output_type": "stream",
     "text": [
      "Number of training examples: 139306, Number of validation examples: 10000\n",
      "Image size: 125x125, Number of channels: 3\n"
     ]
    }
   ],
   "source": [
    "qgt_train_dataloader, qgt_valid_dataloader = get_quark_gluon_dataloaders(batch_size=256, num_workers=4, pin_memory=True)\n",
    "plot_image(qgt_train_dataloader.dataset[0][0], abs_log=True)\n",
    "img_size = qgt_train_dataloader.dataset[0][0].shape[0]\n",
    "patch_size = 10\n",
    "num_channels = qgt_train_dataloader.dataset[0][0].shape[2]\n",
    "num_classes = 2\n",
    "print(f\"Number of training examples: {len(qgt_train_dataloader.dataset)}, Number of validation examples: {len(qgt_valid_dataloader.dataset)}\")\n",
    "print(f\"Image size: {img_size}x{img_size}, Number of channels: {num_channels}\")"
   ]
  },
  {
   "cell_type": "code",
   "execution_count": 4,
   "metadata": {
    "execution": {
     "iopub.execute_input": "2023-07-24T12:40:53.217584Z",
     "iopub.status.busy": "2023-07-24T12:40:53.217376Z",
     "iopub.status.idle": "2023-07-24T13:34:22.014643Z",
     "shell.execute_reply": "2023-07-24T13:34:22.014047Z"
    }
   },
   "outputs": [
    {
     "name": "stdout",
     "output_type": "stream",
     "text": [
      "Epoch 1/50 (72.70s): Loss = 0.6168, AUC = 71.99%\n",
      "Epoch 2/50 (136.85s): Loss = 0.6036, AUC = 72.64%\n",
      "Epoch 3/50 (201.22s): Loss = 0.5977, AUC = 72.86%\n",
      "Epoch 4/50 (264.49s): Loss = 0.5969, AUC = 73.43%\n",
      "Epoch 5/50 (327.38s): Loss = 0.5785, AUC = 74.02%\n",
      "Epoch 6/50 (391.26s): Loss = 0.5788, AUC = 74.37%\n",
      "Epoch 7/50 (455.01s): Loss = 0.5690, AUC = 74.80%\n",
      "Epoch 8/50 (518.48s): Loss = 0.5838, AUC = 74.96%\n",
      "Epoch 9/50 (581.89s): Loss = 0.5646, AUC = 75.29%\n",
      "Epoch 10/50 (645.56s): Loss = 0.5704, AUC = 75.49%\n",
      "Epoch 11/50 (709.21s): Loss = 0.5608, AUC = 75.75%\n",
      "Epoch 12/50 (772.89s): Loss = 0.5617, AUC = 75.91%\n",
      "Epoch 13/50 (836.01s): Loss = 0.5558, AUC = 76.11%\n",
      "Epoch 14/50 (898.69s): Loss = 0.5603, AUC = 76.27%\n",
      "Epoch 15/50 (961.67s): Loss = 0.5761, AUC = 76.36%\n",
      "Epoch 16/50 (1025.07s): Loss = 0.5611, AUC = 76.50%\n",
      "Epoch 17/50 (1087.83s): Loss = 0.5520, AUC = 76.66%\n",
      "Epoch 18/50 (1152.80s): Loss = 0.5571, AUC = 76.70%\n",
      "Epoch 19/50 (1216.98s): Loss = 0.5572, AUC = 76.82%\n",
      "Epoch 20/50 (1279.91s): Loss = 0.5529, AUC = 76.92%\n",
      "Epoch 21/50 (1344.48s): Loss = 0.5489, AUC = 77.04%\n",
      "Epoch 22/50 (1407.58s): Loss = 0.5516, AUC = 77.13%\n",
      "Epoch 23/50 (1474.08s): Loss = 0.5716, AUC = 77.14%\n",
      "Epoch 24/50 (1540.26s): Loss = 0.5572, AUC = 77.21%\n",
      "Epoch 25/50 (1605.86s): Loss = 0.5494, AUC = 77.29%\n",
      "Epoch 26/50 (1671.11s): Loss = 0.5584, AUC = 77.33%\n",
      "Epoch 27/50 (1735.99s): Loss = 0.5449, AUC = 77.42%\n",
      "Epoch 28/50 (1801.68s): Loss = 0.5517, AUC = 77.49%\n",
      "Epoch 29/50 (1867.57s): Loss = 0.5456, AUC = 77.56%\n",
      "Epoch 30/50 (1937.25s): Loss = 0.5456, AUC = 77.63%\n",
      "Epoch 31/50 (2005.34s): Loss = 0.5445, AUC = 77.70%\n",
      "Epoch 32/50 (2071.46s): Loss = 0.5467, AUC = 77.76%\n",
      "Epoch 33/50 (2139.52s): Loss = 0.5477, AUC = 77.81%\n",
      "Epoch 34/50 (2205.76s): Loss = 0.5484, AUC = 77.87%\n",
      "Epoch 35/50 (2268.27s): Loss = 0.5457, AUC = 77.92%\n",
      "Epoch 36/50 (2330.33s): Loss = 0.5419, AUC = 77.98%\n",
      "Epoch 37/50 (2392.01s): Loss = 0.5428, AUC = 78.04%\n",
      "Epoch 38/50 (2453.78s): Loss = 0.5559, AUC = 78.03%\n",
      "Epoch 39/50 (2516.79s): Loss = 0.5404, AUC = 78.09%\n",
      "Epoch 40/50 (2580.02s): Loss = 0.5452, AUC = 78.14%\n",
      "Epoch 41/50 (2642.68s): Loss = 0.5397, AUC = 78.20%\n",
      "Epoch 42/50 (2705.24s): Loss = 0.5389, AUC = 78.25%\n",
      "Epoch 43/50 (2767.95s): Loss = 0.5413, AUC = 78.30%\n",
      "Epoch 44/50 (2834.92s): Loss = 0.5394, AUC = 78.35%\n",
      "Epoch 45/50 (2897.82s): Loss = 0.5418, AUC = 78.38%\n",
      "Epoch 46/50 (2961.82s): Loss = 0.5381, AUC = 78.43%\n",
      "Epoch 47/50 (3023.50s): Loss = 0.5359, AUC = 78.47%\n",
      "Epoch 48/50 (3085.03s): Loss = 0.5418, AUC = 78.51%\n",
      "Epoch 49/50 (3146.40s): Loss = 0.5392, AUC = 78.55%\n",
      "Epoch 50/50 (3207.95s): Loss = 0.5391, AUC = 78.58%\n",
      "BEST AUC = 78.58% AT EPOCH 50\n"
     ]
    }
   ],
   "source": [
    "model = ClassicalVisionTransformer(img_size=img_size, num_channels=num_channels, num_classes=num_classes, patch_size=patch_size, hidden_size=64, num_heads=2, num_transformer_blocks=4, mlp_hidden_size=32, channels_last=True)\n",
    "train(model, qgt_train_dataloader, qgt_valid_dataloader, num_classes=num_classes, learning_rate=0.0003, num_epochs=50, device=device)"
   ]
  },
  {
   "cell_type": "code",
   "execution_count": 5,
   "metadata": {
    "execution": {
     "iopub.execute_input": "2023-07-24T13:34:22.016779Z",
     "iopub.status.busy": "2023-07-24T13:34:22.016564Z",
     "iopub.status.idle": "2023-07-24T15:46:52.285833Z",
     "shell.execute_reply": "2023-07-24T15:46:52.285294Z"
    }
   },
   "outputs": [
    {
     "name": "stdout",
     "output_type": "stream",
     "text": [
      "Epoch 1/50 (61.91s): Loss = 0.6903, AUC = 35.66%\n",
      "Epoch 2/50 (123.79s): Loss = 0.6524, AUC = 45.76%\n",
      "Epoch 3/50 (187.63s): Loss = 0.6506, AUC = 47.07%\n",
      "Epoch 4/50 (275.92s): Loss = 0.6521, AUC = 48.43%\n",
      "Epoch 5/50 (343.37s): Loss = 0.6519, AUC = 49.74%\n",
      "Epoch 6/50 (405.19s): Loss = 0.6494, AUC = 51.00%\n",
      "Epoch 7/50 (467.09s): Loss = 0.6477, AUC = 52.15%\n",
      "Epoch 8/50 (528.81s): Loss = 0.6460, AUC = 53.18%\n",
      "Epoch 9/50 (591.03s): Loss = 0.6432, AUC = 54.13%\n",
      "Epoch 10/50 (654.16s): Loss = 0.6437, AUC = 55.68%\n",
      "Epoch 11/50 (716.21s): Loss = 0.6437, AUC = 57.11%\n",
      "Epoch 12/50 (778.14s): Loss = 0.6297, AUC = 58.38%\n",
      "Epoch 13/50 (848.31s): Loss = 0.6370, AUC = 59.59%\n",
      "Epoch 14/50 (910.91s): Loss = 0.6274, AUC = 60.62%\n",
      "Epoch 15/50 (972.55s): Loss = 0.6458, AUC = 61.52%\n",
      "Epoch 16/50 (1034.37s): Loss = 0.6188, AUC = 62.26%\n",
      "Epoch 17/50 (1205.48s): Loss = 0.6480, AUC = 62.99%\n",
      "Epoch 18/50 (1567.58s): Loss = 0.6423, AUC = 63.65%\n",
      "Epoch 19/50 (2605.60s): Loss = 0.6288, AUC = 64.25%\n",
      "Epoch 20/50 (4164.55s): Loss = 0.6179, AUC = 64.76%\n",
      "Epoch 21/50 (5516.81s): Loss = 0.6113, AUC = 65.22%\n",
      "Epoch 22/50 (6013.31s): Loss = 0.6435, AUC = 65.65%\n",
      "Epoch 23/50 (6078.22s): Loss = 0.6100, AUC = 66.04%\n",
      "Epoch 24/50 (6144.32s): Loss = 0.6172, AUC = 66.41%\n",
      "Epoch 25/50 (6218.65s): Loss = 0.6028, AUC = 66.70%\n",
      "Epoch 26/50 (6311.98s): Loss = 0.6452, AUC = 66.98%\n",
      "Epoch 27/50 (6374.64s): Loss = 0.6412, AUC = 67.25%\n",
      "Epoch 28/50 (6437.81s): Loss = 0.6050, AUC = 67.51%\n",
      "Epoch 29/50 (6504.86s): Loss = 0.6059, AUC = 67.75%\n",
      "Epoch 30/50 (6574.42s): Loss = 0.6264, AUC = 68.00%\n",
      "Epoch 31/50 (6641.10s): Loss = 0.6305, AUC = 68.24%\n",
      "Epoch 32/50 (6704.52s): Loss = 0.6199, AUC = 68.46%\n",
      "Epoch 33/50 (6768.04s): Loss = 0.5965, AUC = 68.60%\n",
      "Epoch 34/50 (6830.82s): Loss = 0.6323, AUC = 68.79%\n",
      "Epoch 35/50 (6894.03s): Loss = 0.6008, AUC = 68.95%\n",
      "Epoch 36/50 (6959.14s): Loss = 0.6113, AUC = 69.13%\n",
      "Epoch 37/50 (7023.27s): Loss = 0.6227, AUC = 69.29%\n",
      "Epoch 38/50 (7088.18s): Loss = 0.6161, AUC = 69.45%\n",
      "Epoch 39/50 (7154.23s): Loss = 0.5948, AUC = 69.58%\n",
      "Epoch 40/50 (7223.29s): Loss = 0.6117, AUC = 69.73%\n",
      "Epoch 41/50 (7286.50s): Loss = 0.6073, AUC = 69.87%\n",
      "Epoch 42/50 (7349.46s): Loss = 0.6574, AUC = 69.96%\n",
      "Epoch 43/50 (7415.35s): Loss = 0.6181, AUC = 70.09%\n",
      "Epoch 44/50 (7480.89s): Loss = 0.5966, AUC = 70.22%\n",
      "Epoch 45/50 (7574.42s): Loss = 0.6308, AUC = 70.34%\n",
      "Epoch 46/50 (7674.33s): Loss = 0.5852, AUC = 70.41%\n",
      "Epoch 47/50 (7756.66s): Loss = 0.6417, AUC = 70.50%\n",
      "Epoch 48/50 (7821.29s): Loss = 0.6074, AUC = 70.62%\n",
      "Epoch 49/50 (7885.82s): Loss = 0.6042, AUC = 70.72%\n",
      "Epoch 50/50 (7950.26s): Loss = 0.6069, AUC = 70.83%\n",
      "BEST AUC = 70.83% AT EPOCH 50\n"
     ]
    }
   ],
   "source": [
    "model = ClassicalVisionTransformer(img_size=img_size, num_channels=num_channels, num_classes=num_classes, patch_size=patch_size, hidden_size=6, num_heads=2, num_transformer_blocks=4, mlp_hidden_size=3, channels_last=True)\n",
    "train(model, qgt_train_dataloader, qgt_valid_dataloader, num_classes=num_classes, learning_rate=0.0003, num_epochs=50, device=device)"
   ]
  }
 ],
 "metadata": {
  "kernelspec": {
   "display_name": "quantum-transformers",
   "language": "python",
   "name": "python3"
  },
  "language_info": {
   "codemirror_mode": {
    "name": "ipython",
    "version": 3
   },
   "file_extension": ".py",
   "mimetype": "text/x-python",
   "name": "python",
   "nbconvert_exporter": "python",
   "pygments_lexer": "ipython3",
   "version": "3.11.4"
  }
 },
 "nbformat": 4,
 "nbformat_minor": 2
}
