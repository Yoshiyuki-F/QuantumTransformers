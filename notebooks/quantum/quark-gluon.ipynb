{
 "cells": [
  {
   "cell_type": "markdown",
   "metadata": {},
   "source": [
    "# Quark-Gluon (Quantum)\n",
    "\n",
    "This notebooks trains and evaluates quantum vision transformers for the quark-gluon classification task.\n",
    "You can find information about the dataset at  https://arxiv.org/abs/1902.08276."
   ]
  },
  {
   "cell_type": "code",
   "execution_count": 1,
   "metadata": {
    "execution": {
     "iopub.execute_input": "2024-03-30T21:38:54.955382Z",
     "iopub.status.busy": "2024-03-30T21:38:54.955255Z",
     "iopub.status.idle": "2024-03-30T21:39:15.917143Z",
     "shell.execute_reply": "2024-03-30T21:39:15.916699Z"
    }
   },
   "outputs": [
    {
     "name": "stderr",
     "output_type": "stream",
     "text": [
      "2024-03-30 14:39:01.624843: E tensorflow/compiler/xla/stream_executor/cuda/cuda_dnn.cc:9342] Unable to register cuDNN factory: Attempting to register factory for plugin cuDNN when one has already been registered\n",
      "2024-03-30 14:39:01.624871: E tensorflow/compiler/xla/stream_executor/cuda/cuda_fft.cc:609] Unable to register cuFFT factory: Attempting to register factory for plugin cuFFT when one has already been registered\n",
      "2024-03-30 14:39:01.624896: E tensorflow/compiler/xla/stream_executor/cuda/cuda_blas.cc:1518] Unable to register cuBLAS factory: Attempting to register factory for plugin cuBLAS when one has already been registered\n",
      "2024-03-30 14:39:05.076869: W tensorflow/compiler/tf2tensorrt/utils/py_utils.cc:38] TF-TRT Warning: Could not find TensorRT\n",
      "Please first ``pip install -U cirq`` to enable related functionality in translation module\n"
     ]
    }
   ],
   "source": [
    "import jax\n",
    "\n",
    "from quantum_transformers.utils import plot_image\n",
    "from quantum_transformers.datasets import get_quark_gluon_dataloaders\n",
    "from quantum_transformers.training import train_and_evaluate\n",
    "from quantum_transformers.transformers import VisionTransformer\n",
    "from quantum_transformers.quantum_layer import get_circuit\n",
    "\n",
    "data_dir = '/global/cfs/cdirs/m4392/salcc/data'"
   ]
  },
  {
   "cell_type": "markdown",
   "metadata": {},
   "source": [
    "The models are trained using the following devices:"
   ]
  },
  {
   "cell_type": "code",
   "execution_count": 2,
   "metadata": {
    "execution": {
     "iopub.execute_input": "2024-03-30T21:39:15.919712Z",
     "iopub.status.busy": "2024-03-30T21:39:15.919118Z",
     "iopub.status.idle": "2024-03-30T21:39:16.164329Z",
     "shell.execute_reply": "2024-03-30T21:39:16.163890Z"
    }
   },
   "outputs": [
    {
     "name": "stdout",
     "output_type": "stream",
     "text": [
      "gpu:0 NVIDIA A100-SXM4-80GB\n"
     ]
    }
   ],
   "source": [
    "for d in jax.devices():\n",
    "    print(d, d.device_kind)"
   ]
  },
  {
   "cell_type": "markdown",
   "metadata": {},
   "source": [
    "Let's check how many samples the dataset has, the shape of the input data, and how one sample looks like."
   ]
  },
  {
   "cell_type": "code",
   "execution_count": 3,
   "metadata": {
    "execution": {
     "iopub.execute_input": "2024-03-30T21:39:16.166151Z",
     "iopub.status.busy": "2024-03-30T21:39:16.166006Z",
     "iopub.status.idle": "2024-03-30T21:39:17.410514Z",
     "shell.execute_reply": "2024-03-30T21:39:17.410108Z"
    }
   },
   "outputs": [
    {
     "name": "stdout",
     "output_type": "stream",
     "text": [
      "Cardinalities (train, val, test): 714510 79390 139306\n",
      "(125, 125, 3)\n"
     ]
    },
    {
     "data": {
      "image/png": "[encoded data removed]",
      "text/plain": [
       "<Figure size 900x300 with 3 Axes>"
      ]
     },
     "metadata": {},
     "output_type": "display_data"
    }
   ],
   "source": [
    "qg_train_dataloader, qg_val_dataloader, qg_test_dataloader = get_quark_gluon_dataloaders(batch_size=256, data_dir=data_dir)\n",
    "first_image = next(iter(qg_train_dataloader))[0][0]\n",
    "print(first_image.shape)\n",
    "plot_image(first_image, abs_log=True)"
   ]
  },
  {
   "cell_type": "markdown",
   "metadata": {},
   "source": [
    "Now let's train the quantum vision transformer on the best hyperparameters found using random hyperparameter search."
   ]
  },
  {
   "cell_type": "code",
   "execution_count": 4,
   "metadata": {
    "execution": {
     "iopub.execute_input": "2024-03-30T21:39:17.412264Z",
     "iopub.status.busy": "2024-03-30T21:39:17.412113Z",
     "iopub.status.idle": "2024-03-31T16:59:34.985658Z",
     "shell.execute_reply": "2024-03-31T16:59:34.985058Z"
    }
   },
   "outputs": [
    {
     "name": "stdout",
     "output_type": "stream",
     "text": [
      "Number of parameters = 4170\n"
     ]
    },
    {
     "name": "stderr",
     "output_type": "stream",
     "text": [
      "Epoch   1/30: 100%|██████████| 2791/2791 [39:25<00:00,  1.18batch/s, Loss = 0.6548, AUC = 65.88%, Train time = 1738.54s]\n",
      "Epoch   2/30: 100%|██████████| 2791/2791 [38:31<00:00,  1.21batch/s, Loss = 0.8202, AUC = 75.07%, Train time = 1700.06s]\n",
      "Epoch   3/30: 100%|██████████| 2791/2791 [38:32<00:00,  1.21batch/s, Loss = 0.6979, AUC = 76.19%, Train time = 1700.10s]\n",
      "Epoch   4/30: 100%|██████████| 2791/2791 [38:29<00:00,  1.21batch/s, Loss = 0.6350, AUC = 76.53%, Train time = 1700.19s]\n",
      "Epoch   5/30: 100%|██████████| 2791/2791 [38:32<00:00,  1.21batch/s, Loss = 0.6186, AUC = 76.69%, Train time = 1700.08s]\n",
      "Epoch   6/30: 100%|██████████| 2791/2791 [38:32<00:00,  1.21batch/s, Loss = 0.6321, AUC = 76.80%, Train time = 1700.16s]\n",
      "Epoch   7/30: 100%|██████████| 2791/2791 [38:32<00:00,  1.21batch/s, Loss = 0.6425, AUC = 76.95%, Train time = 1700.08s]\n",
      "Epoch   8/30: 100%|██████████| 2791/2791 [38:32<00:00,  1.21batch/s, Loss = 0.6303, AUC = 77.04%, Train time = 1700.08s]\n",
      "Epoch   9/30: 100%|██████████| 2791/2791 [38:29<00:00,  1.21batch/s, Loss = 0.6151, AUC = 77.20%, Train time = 1699.99s]\n",
      "Epoch  10/30: 100%|██████████| 2791/2791 [38:31<00:00,  1.21batch/s, Loss = 0.5917, AUC = 77.31%, Train time = 1700.14s]\n",
      "Epoch  11/30: 100%|██████████| 2791/2791 [38:36<00:00,  1.20batch/s, Loss = 0.5885, AUC = 77.41%, Train time = 1700.11s]\n",
      "Epoch  12/30: 100%|██████████| 2791/2791 [38:36<00:00,  1.20batch/s, Loss = 0.5870, AUC = 77.52%, Train time = 1700.14s]\n",
      "Epoch  13/30: 100%|██████████| 2791/2791 [38:36<00:00,  1.20batch/s, Loss = 0.5881, AUC = 77.65%, Train time = 1700.06s]\n",
      "Epoch  14/30: 100%|██████████| 2791/2791 [38:35<00:00,  1.21batch/s, Loss = 0.5856, AUC = 77.70%, Train time = 1700.07s]\n",
      "Epoch  15/30: 100%|██████████| 2791/2791 [38:35<00:00,  1.21batch/s, Loss = 0.5880, AUC = 77.75%, Train time = 1699.99s]\n",
      "Epoch  16/30: 100%|██████████| 2791/2791 [38:37<00:00,  1.20batch/s, Loss = 0.5857, AUC = 77.77%, Train time = 1700.04s]\n",
      "Epoch  17/30: 100%|██████████| 2791/2791 [38:37<00:00,  1.20batch/s, Loss = 0.5868, AUC = 77.79%, Train time = 1699.98s]\n",
      "Epoch  18/30: 100%|██████████| 2791/2791 [38:36<00:00,  1.20batch/s, Loss = 0.5874, AUC = 77.78%, Train time = 1699.98s]\n",
      "Epoch  19/30: 100%|██████████| 2791/2791 [38:33<00:00,  1.21batch/s, Loss = 0.5874, AUC = 77.78%, Train time = 1700.02s]\n",
      "Epoch  20/30: 100%|██████████| 2791/2791 [38:36<00:00,  1.20batch/s, Loss = 0.5873, AUC = 77.78%, Train time = 1700.00s]\n",
      "Epoch  21/30: 100%|██████████| 2791/2791 [38:36<00:00,  1.20batch/s, Loss = 0.5873, AUC = 77.78%, Train time = 1699.99s]\n",
      "Epoch  22/30: 100%|██████████| 2791/2791 [38:34<00:00,  1.21batch/s, Loss = 0.5874, AUC = 77.78%, Train time = 1700.05s]\n",
      "Epoch  23/30: 100%|██████████| 2791/2791 [38:36<00:00,  1.20batch/s, Loss = 0.5873, AUC = 77.78%, Train time = 1699.99s]\n",
      "Epoch  24/30: 100%|██████████| 2791/2791 [38:37<00:00,  1.20batch/s, Loss = 0.5873, AUC = 77.79%, Train time = 1699.98s]\n",
      "Epoch  25/30: 100%|██████████| 2791/2791 [38:35<00:00,  1.21batch/s, Loss = 0.5873, AUC = 77.78%, Train time = 1699.97s]\n",
      "Epoch  26/30: 100%|██████████| 2791/2791 [38:36<00:00,  1.20batch/s, Loss = 0.5873, AUC = 77.78%, Train time = 1700.09s]\n",
      "Epoch  27/30: 100%|██████████| 2791/2791 [38:36<00:00,  1.20batch/s, Loss = 0.5874, AUC = 77.78%, Train time = 1700.38s]\n",
      "Epoch  28/30: 100%|██████████| 2791/2791 [38:34<00:00,  1.21batch/s, Loss = 0.5873, AUC = 77.78%, Train time = 1700.11s]\n",
      "Epoch  29/30: 100%|██████████| 2791/2791 [38:33<00:00,  1.21batch/s, Loss = 0.5873, AUC = 77.78%, Train time = 1700.13s]\n",
      "Epoch  30/30: 100%|██████████| 2791/2791 [38:35<00:00,  1.21batch/s, Loss = 0.5873, AUC = 77.78%, Train time = 1700.12s]\n"
     ]
    },
    {
     "name": "stdout",
     "output_type": "stream",
     "text": [
      "Best validation AUC = 77.79% at epoch 17\n",
      "Total training time = 51040.60s, total time (including evaluations) = 69490.92s\n"
     ]
    },
    {
     "name": "stderr",
     "output_type": "stream",
     "text": [
      "Testing: 100%|██████████| 544/544 [01:48<00:00,  5.04batch/s, Loss = 0.5943, AUC = 77.28%]\n"
     ]
    }
   ],
   "source": [
    "model = VisionTransformer(num_classes=2, patch_size=10, hidden_size=8, num_heads=2, num_transformer_blocks=4, mlp_hidden_size=4,\n",
    "                          quantum_attn_circuit=get_circuit(), quantum_mlp_circuit=get_circuit())\n",
    "metrics = train_and_evaluate(model, qg_train_dataloader, qg_val_dataloader, qg_test_dataloader, num_classes=2, num_epochs=30)"
   ]
  },
  {
   "cell_type": "code",
   "execution_count": 5,
   "metadata": {
    "execution": {
     "iopub.execute_input": "2024-03-31T16:59:35.003971Z",
     "iopub.status.busy": "2024-03-31T16:59:35.003650Z",
     "iopub.status.idle": "2024-03-31T16:59:35.102587Z",
     "shell.execute_reply": "2024-03-31T16:59:35.101994Z"
    }
   },
   "outputs": [],
   "source": [
    "import pickle\n",
    "with open('qg_metrics.pkl', 'wb') as f:\n",
    "    pickle.dump(metrics, f)"
   ]
  }
 ],
 "metadata": {
  "kernelspec": {
   "display_name": "gsoc",
   "language": "python",
   "name": "gsoc"
  },
  "language_info": {
   "codemirror_mode": {
    "name": "ipython",
    "version": 3
   },
   "file_extension": ".py",
   "mimetype": "text/x-python",
   "name": "python",
   "nbconvert_exporter": "python",
   "pygments_lexer": "ipython3",
   "version": "3.11.4"
  }
 },
 "nbformat": 4,
 "nbformat_minor": 2
}
