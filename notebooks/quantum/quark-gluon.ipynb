{
 "cells": [
  {
   "cell_type": "markdown",
   "metadata": {},
   "source": [
    "# Quark-Gluon (Quantum)\n",
    "\n",
    "This notebooks trains and evaluates quantum vision transformers for the quark-gluon classification task.\n",
    "You can find information about the dataset at  https://arxiv.org/abs/1902.08276."
   ]
  },
  {
   "cell_type": "code",
   "execution_count": 1,
   "metadata": {
    "execution": {
     "iopub.execute_input": "2023-09-30T14:23:59.472357Z",
     "iopub.status.busy": "2023-09-30T14:23:59.472226Z",
     "iopub.status.idle": "2023-09-30T14:24:23.863697Z",
     "shell.execute_reply": "2023-09-30T14:24:23.863257Z"
    }
   },
   "outputs": [
    {
     "name": "stderr",
     "output_type": "stream",
     "text": [
      "2023-09-30 07:24:06.057286: E tensorflow/compiler/xla/stream_executor/cuda/cuda_dnn.cc:9342] Unable to register cuDNN factory: Attempting to register factory for plugin cuDNN when one has already been registered\n",
      "2023-09-30 07:24:06.057315: E tensorflow/compiler/xla/stream_executor/cuda/cuda_fft.cc:609] Unable to register cuFFT factory: Attempting to register factory for plugin cuFFT when one has already been registered\n",
      "2023-09-30 07:24:06.057340: E tensorflow/compiler/xla/stream_executor/cuda/cuda_blas.cc:1518] Unable to register cuBLAS factory: Attempting to register factory for plugin cuBLAS when one has already been registered\n",
      "2023-09-30 07:24:09.177068: W tensorflow/compiler/tf2tensorrt/utils/py_utils.cc:38] TF-TRT Warning: Could not find TensorRT\n"
     ]
    },
    {
     "name": "stdout",
     "output_type": "stream",
     "text": [
      "WARNING:tensorflow:From /global/common/software/m4392/conda/gsoc/lib/python3.11/site-packages/tensorflow/python/ops/distributions/distribution.py:259: ReparameterizationType.__init__ (from tensorflow.python.ops.distributions.distribution) is deprecated and will be removed after 2019-01-01.\n",
      "Instructions for updating:\n",
      "The TensorFlow Distributions library has moved to TensorFlow Probability (https://github.com/tensorflow/probability). You should update all references to use `tfp.distributions` instead of `tf.distributions`.\n",
      "WARNING:tensorflow:From /global/common/software/m4392/conda/gsoc/lib/python3.11/site-packages/tensorflow/python/ops/distributions/bernoulli.py:165: RegisterKL.__init__ (from tensorflow.python.ops.distributions.kullback_leibler) is deprecated and will be removed after 2019-01-01.\n",
      "Instructions for updating:\n",
      "The TensorFlow Distributions library has moved to TensorFlow Probability (https://github.com/tensorflow/probability). You should update all references to use `tfp.distributions` instead of `tf.distributions`.\n"
     ]
    },
    {
     "name": "stderr",
     "output_type": "stream",
     "text": [
      "Please first ``pip install -U cirq`` to enable related functionality in translation module\n"
     ]
    }
   ],
   "source": [
    "import jax\n",
    "\n",
    "from quantum_transformers.utils import plot_image\n",
    "from quantum_transformers.datasets import get_quark_gluon_dataloaders\n",
    "from quantum_transformers.training import train_and_evaluate\n",
    "from quantum_transformers.transformers import VisionTransformer\n",
    "from quantum_transformers.quantum_layer import get_circuit\n",
    "\n",
    "data_dir = '/global/cfs/cdirs/m4392/salcc/data'"
   ]
  },
  {
   "cell_type": "markdown",
   "metadata": {},
   "source": [
    "The models are trained using the following devices:"
   ]
  },
  {
   "cell_type": "code",
   "execution_count": 2,
   "metadata": {
    "execution": {
     "iopub.execute_input": "2023-09-30T14:24:23.865950Z",
     "iopub.status.busy": "2023-09-30T14:24:23.865637Z",
     "iopub.status.idle": "2023-09-30T14:24:24.091870Z",
     "shell.execute_reply": "2023-09-30T14:24:24.091393Z"
    }
   },
   "outputs": [
    {
     "name": "stdout",
     "output_type": "stream",
     "text": [
      "gpu:0 NVIDIA A100-SXM4-40GB\n"
     ]
    }
   ],
   "source": [
    "for d in jax.devices():\n",
    "    print(d, d.device_kind)"
   ]
  },
  {
   "cell_type": "markdown",
   "metadata": {},
   "source": [
    "Let's check how many samples the dataset has, the shape of the input data, and how one sample looks like."
   ]
  },
  {
   "cell_type": "code",
   "execution_count": 3,
   "metadata": {
    "execution": {
     "iopub.execute_input": "2023-09-30T14:24:24.093707Z",
     "iopub.status.busy": "2023-09-30T14:24:24.093563Z",
     "iopub.status.idle": "2023-09-30T14:24:26.107573Z",
     "shell.execute_reply": "2023-09-30T14:24:26.107159Z"
    }
   },
   "outputs": [
    {
     "name": "stdout",
     "output_type": "stream",
     "text": [
      "Cardinalities (train, val, test): 714510 79390 139306\n",
      "(125, 125, 3)\n"
     ]
    },
    {
     "data": {
      "image/png": "[encoded data removed]",
      "text/plain": [
       "<Figure size 900x300 with 3 Axes>"
      ]
     },
     "metadata": {},
     "output_type": "display_data"
    }
   ],
   "source": [
    "qg_train_dataloader, qg_val_dataloader, qg_test_dataloader = get_quark_gluon_dataloaders(batch_size=256, data_dir=data_dir)\n",
    "first_image = next(iter(qg_train_dataloader))[0][0]\n",
    "print(first_image.shape)\n",
    "plot_image(first_image, abs_log=True)"
   ]
  },
  {
   "cell_type": "markdown",
   "metadata": {},
   "source": [
    "Now let's train the quantum vision transformer on the best hyperparameters found using random hyperparameter search."
   ]
  },
  {
   "cell_type": "code",
   "execution_count": 4,
   "metadata": {
    "execution": {
     "iopub.execute_input": "2023-09-30T14:24:26.109301Z",
     "iopub.status.busy": "2023-09-30T14:24:26.109064Z",
     "iopub.status.idle": "2023-10-01T02:58:37.888586Z",
     "shell.execute_reply": "2023-10-01T02:58:37.888087Z"
    }
   },
   "outputs": [
    {
     "name": "stdout",
     "output_type": "stream",
     "text": [
      "Number of parameters = 4170\n"
     ]
    },
    {
     "name": "stderr",
     "output_type": "stream",
     "text": [
      "Epoch   1/25: 100%|██████████| 2791/2791 [30:55<00:00,  1.50batch/s, Loss = 0.6593, AUC = 65.77%]\n",
      "Epoch   2/25: 100%|██████████| 2791/2791 [30:02<00:00,  1.55batch/s, Loss = 0.7997, AUC = 74.90%]\n",
      "Epoch   3/25: 100%|██████████| 2791/2791 [30:02<00:00,  1.55batch/s, Loss = 0.6636, AUC = 76.22%]\n",
      "Epoch   4/25: 100%|██████████| 2791/2791 [30:02<00:00,  1.55batch/s, Loss = 0.6602, AUC = 76.57%]\n",
      "Epoch   5/25: 100%|██████████| 2791/2791 [30:02<00:00,  1.55batch/s, Loss = 0.5926, AUC = 76.88%]\n",
      "Epoch   6/25: 100%|██████████| 2791/2791 [30:02<00:00,  1.55batch/s, Loss = 0.5890, AUC = 77.16%]\n",
      "Epoch   7/25: 100%|██████████| 2791/2791 [30:02<00:00,  1.55batch/s, Loss = 0.5821, AUC = 77.36%]\n",
      "Epoch   8/25: 100%|██████████| 2791/2791 [30:02<00:00,  1.55batch/s, Loss = 0.5848, AUC = 77.60%]\n",
      "Epoch   9/25: 100%|██████████| 2791/2791 [30:02<00:00,  1.55batch/s, Loss = 0.5866, AUC = 77.71%]\n",
      "Epoch  10/25: 100%|██████████| 2791/2791 [30:02<00:00,  1.55batch/s, Loss = 0.5856, AUC = 77.82%]\n",
      "Epoch  11/25: 100%|██████████| 2791/2791 [30:02<00:00,  1.55batch/s, Loss = 0.5831, AUC = 77.92%]\n",
      "Epoch  12/25: 100%|██████████| 2791/2791 [30:02<00:00,  1.55batch/s, Loss = 0.5870, AUC = 78.01%]\n",
      "Epoch  13/25: 100%|██████████| 2791/2791 [30:02<00:00,  1.55batch/s, Loss = 0.5887, AUC = 78.06%]\n",
      "Epoch  14/25: 100%|██████████| 2791/2791 [30:02<00:00,  1.55batch/s, Loss = 0.5901, AUC = 78.08%]\n",
      "Epoch  15/25: 100%|██████████| 2791/2791 [30:02<00:00,  1.55batch/s, Loss = 0.6059, AUC = 78.12%]\n",
      "Epoch  16/25: 100%|██████████| 2791/2791 [30:03<00:00,  1.55batch/s, Loss = 0.5935, AUC = 78.13%]\n",
      "Epoch  17/25: 100%|██████████| 2791/2791 [30:02<00:00,  1.55batch/s, Loss = 0.5940, AUC = 78.13%]\n",
      "Epoch  18/25: 100%|██████████| 2791/2791 [30:02<00:00,  1.55batch/s, Loss = 0.5947, AUC = 78.14%]\n",
      "Epoch  19/25: 100%|██████████| 2791/2791 [30:02<00:00,  1.55batch/s, Loss = 0.5947, AUC = 78.13%]\n",
      "Epoch  20/25: 100%|██████████| 2791/2791 [30:02<00:00,  1.55batch/s, Loss = 0.5946, AUC = 78.14%]\n",
      "Epoch  21/25: 100%|██████████| 2791/2791 [30:02<00:00,  1.55batch/s, Loss = 0.5947, AUC = 78.13%]\n",
      "Epoch  22/25: 100%|██████████| 2791/2791 [30:02<00:00,  1.55batch/s, Loss = 0.5947, AUC = 78.13%]\n",
      "Epoch  23/25: 100%|██████████| 2791/2791 [30:02<00:00,  1.55batch/s, Loss = 0.5947, AUC = 78.13%]\n",
      "Epoch  24/25: 100%|██████████| 2791/2791 [30:02<00:00,  1.55batch/s, Loss = 0.5947, AUC = 78.14%]\n",
      "Epoch  25/25: 100%|██████████| 2791/2791 [30:02<00:00,  1.55batch/s, Loss = 0.5947, AUC = 78.14%]\n"
     ]
    },
    {
     "name": "stdout",
     "output_type": "stream",
     "text": [
      "Total training time = 45120.62s, best validation AUC = 78.14% at epoch 20\n"
     ]
    },
    {
     "name": "stderr",
     "output_type": "stream",
     "text": [
      "Testing: 100%|██████████| 544/544 [01:51<00:00,  4.90batch/s, Loss = 0.6022, AUC = 77.62%]\n"
     ]
    }
   ],
   "source": [
    "model = VisionTransformer(num_classes=2, patch_size=10, hidden_size=8, num_heads=2, num_transformer_blocks=4, mlp_hidden_size=4,\n",
    "                          quantum_attn_circuit=get_circuit(), quantum_mlp_circuit=get_circuit())\n",
    "test_loss, test_auc, test_fpr, test_tpr = train_and_evaluate(model, qg_train_dataloader, qg_val_dataloader, qg_test_dataloader, num_classes=2, num_epochs=25)"
   ]
  },
  {
   "cell_type": "code",
   "execution_count": 5,
   "metadata": {
    "execution": {
     "iopub.execute_input": "2023-10-01T02:58:37.890399Z",
     "iopub.status.busy": "2023-10-01T02:58:37.890250Z",
     "iopub.status.idle": "2023-10-01T02:58:37.915198Z",
     "shell.execute_reply": "2023-10-01T02:58:37.914695Z"
    }
   },
   "outputs": [],
   "source": [
    "import pickle\n",
    "with open('qg_pr.pkl', 'wb') as f:\n",
    "    pickle.dump((test_fpr, test_tpr, test_auc / 100), f)"
   ]
  }
 ],
 "metadata": {
  "kernelspec": {
   "display_name": "gsoc",
   "language": "python",
   "name": "gsoc"
  },
  "language_info": {
   "codemirror_mode": {
    "name": "ipython",
    "version": 3
   },
   "file_extension": ".py",
   "mimetype": "text/x-python",
   "name": "python",
   "nbconvert_exporter": "python",
   "pygments_lexer": "ipython3",
   "version": "3.11.4"
  }
 },
 "nbformat": 4,
 "nbformat_minor": 2
}
