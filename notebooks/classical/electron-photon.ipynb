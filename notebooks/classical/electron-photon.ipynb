{
 "cells": [
  {
   "cell_type": "code",
   "execution_count": 1,
   "metadata": {
    "execution": {
     "iopub.execute_input": "2023-08-26T16:40:21.971552Z",
     "iopub.status.busy": "2023-08-26T16:40:21.971427Z",
     "iopub.status.idle": "2023-08-26T16:40:37.935436Z",
     "shell.execute_reply": "2023-08-26T16:40:37.935036Z"
    }
   },
   "outputs": [
    {
     "name": "stderr",
     "output_type": "stream",
     "text": [
      "2023-08-26 09:40:23.502804: E tensorflow/compiler/xla/stream_executor/cuda/cuda_dnn.cc:9342] Unable to register cuDNN factory: Attempting to register factory for plugin cuDNN when one has already been registered\n",
      "2023-08-26 09:40:23.502830: E tensorflow/compiler/xla/stream_executor/cuda/cuda_fft.cc:609] Unable to register cuFFT factory: Attempting to register factory for plugin cuFFT when one has already been registered\n",
      "2023-08-26 09:40:23.502847: E tensorflow/compiler/xla/stream_executor/cuda/cuda_blas.cc:1518] Unable to register cuBLAS factory: Attempting to register factory for plugin cuBLAS when one has already been registered\n",
      "2023-08-26 09:40:26.012926: W tensorflow/compiler/tf2tensorrt/utils/py_utils.cc:38] TF-TRT Warning: Could not find TensorRT\n"
     ]
    },
    {
     "name": "stdout",
     "output_type": "stream",
     "text": [
      "WARNING:tensorflow:From /global/common/software/m4392/conda/gsoc/lib/python3.11/site-packages/tensorflow/python/ops/distributions/distribution.py:259: ReparameterizationType.__init__ (from tensorflow.python.ops.distributions.distribution) is deprecated and will be removed after 2019-01-01.\n",
      "Instructions for updating:\n",
      "The TensorFlow Distributions library has moved to TensorFlow Probability (https://github.com/tensorflow/probability). You should update all references to use `tfp.distributions` instead of `tf.distributions`.\n",
      "WARNING:tensorflow:From /global/common/software/m4392/conda/gsoc/lib/python3.11/site-packages/tensorflow/python/ops/distributions/bernoulli.py:165: RegisterKL.__init__ (from tensorflow.python.ops.distributions.kullback_leibler) is deprecated and will be removed after 2019-01-01.\n",
      "Instructions for updating:\n",
      "The TensorFlow Distributions library has moved to TensorFlow Probability (https://github.com/tensorflow/probability). You should update all references to use `tfp.distributions` instead of `tf.distributions`.\n"
     ]
    },
    {
     "name": "stderr",
     "output_type": "stream",
     "text": [
      "Please first ``pip install -U cirq`` to enable related functionality in translation module\n"
     ]
    }
   ],
   "source": [
    "import jax\n",
    "import tensorflow as tf\n",
    "tf.config.set_visible_devices([], device_type='GPU')  # Ensure TF does not see GPU and grab all GPU memory.\n",
    "tf.random.set_seed(42)  # For reproducibility.\n",
    "\n",
    "from quantum_transformers.utils import plot_image\n",
    "from quantum_transformers.datasets import get_electron_photon_dataloaders\n",
    "from quantum_transformers.training import train_and_evaluate\n",
    "from quantum_transformers.transformers import VisionTransformer\n",
    "\n",
    "data_dir = '/global/cfs/cdirs/m4392/salcc/data'"
   ]
  },
  {
   "cell_type": "code",
   "execution_count": 2,
   "metadata": {
    "execution": {
     "iopub.execute_input": "2023-08-26T16:40:37.937846Z",
     "iopub.status.busy": "2023-08-26T16:40:37.937376Z",
     "iopub.status.idle": "2023-08-26T16:40:38.247017Z",
     "shell.execute_reply": "2023-08-26T16:40:38.246583Z"
    }
   },
   "outputs": [
    {
     "name": "stdout",
     "output_type": "stream",
     "text": [
      "gpu:0 NVIDIA A100-SXM4-40GB\n"
     ]
    }
   ],
   "source": [
    "for d in jax.devices():\n",
    "    print(d, d.device_kind)"
   ]
  },
  {
   "cell_type": "code",
   "execution_count": 3,
   "metadata": {
    "execution": {
     "iopub.execute_input": "2023-08-26T16:40:38.248968Z",
     "iopub.status.busy": "2023-08-26T16:40:38.248639Z",
     "iopub.status.idle": "2023-08-26T16:40:42.308858Z",
     "shell.execute_reply": "2023-08-26T16:40:42.308474Z"
    }
   },
   "outputs": [
    {
     "name": "stdout",
     "output_type": "stream",
     "text": [
      "(32, 32, 2)\n"
     ]
    },
    {
     "data": {
      "image/png": "[encoded data removed]",
      "text/plain": [
       "<Figure size 600x300 with 2 Axes>"
      ]
     },
     "metadata": {},
     "output_type": "display_data"
    }
   ],
   "source": [
    "ep_train_dataloader, ep_valid_dataloader = get_electron_photon_dataloaders(batch_size=256, data_dir=data_dir)\n",
    "first_image = next(iter(ep_train_dataloader))[0][0]\n",
    "print(first_image.shape)\n",
    "plot_image(first_image, abs_log=True)"
   ]
  },
  {
   "cell_type": "code",
   "execution_count": 4,
   "metadata": {
    "execution": {
     "iopub.execute_input": "2023-08-26T16:40:42.310562Z",
     "iopub.status.busy": "2023-08-26T16:40:42.310333Z",
     "iopub.status.idle": "2023-08-26T16:49:24.269492Z",
     "shell.execute_reply": "2023-08-26T16:49:24.269068Z"
    }
   },
   "outputs": [
    {
     "name": "stderr",
     "output_type": "stream",
     "text": [
      "Epoch   1/50: 100%|██████████| 1906/1906 [00:16<00:00, 115.94batch/s, Loss = 0.6468, AUC = 66.87%]\n",
      "Epoch   2/50: 100%|██████████| 1906/1906 [00:10<00:00, 188.04batch/s, Loss = 0.6222, AUC = 70.92%]\n",
      "Epoch   3/50: 100%|██████████| 1906/1906 [00:09<00:00, 191.57batch/s, Loss = 0.5993, AUC = 74.23%]\n",
      "Epoch   4/50: 100%|██████████| 1906/1906 [00:10<00:00, 189.85batch/s, Loss = 0.5898, AUC = 75.31%]\n",
      "Epoch   5/50: 100%|██████████| 1906/1906 [00:10<00:00, 186.15batch/s, Loss = 0.5854, AUC = 75.87%]\n",
      "Epoch   6/50: 100%|██████████| 1906/1906 [00:10<00:00, 186.24batch/s, Loss = 0.5866, AUC = 75.62%]\n",
      "Epoch   7/50: 100%|██████████| 1906/1906 [00:10<00:00, 181.72batch/s, Loss = 0.5784, AUC = 76.55%]\n",
      "Epoch   8/50: 100%|██████████| 1906/1906 [00:10<00:00, 177.14batch/s, Loss = 0.5802, AUC = 76.45%]\n",
      "Epoch   9/50: 100%|██████████| 1906/1906 [00:10<00:00, 185.86batch/s, Loss = 0.5862, AUC = 75.95%]\n",
      "Epoch  10/50: 100%|██████████| 1906/1906 [00:10<00:00, 186.76batch/s, Loss = 0.5771, AUC = 76.68%]\n",
      "Epoch  11/50: 100%|██████████| 1906/1906 [00:10<00:00, 186.95batch/s, Loss = 0.5776, AUC = 76.85%]\n",
      "Epoch  12/50: 100%|██████████| 1906/1906 [00:10<00:00, 189.23batch/s, Loss = 0.5799, AUC = 76.98%]\n",
      "Epoch  13/50: 100%|██████████| 1906/1906 [00:10<00:00, 189.37batch/s, Loss = 0.5750, AUC = 77.01%]\n",
      "Epoch  14/50: 100%|██████████| 1906/1906 [00:10<00:00, 186.17batch/s, Loss = 0.5717, AUC = 77.34%]\n",
      "Epoch  15/50: 100%|██████████| 1906/1906 [00:10<00:00, 189.12batch/s, Loss = 0.5686, AUC = 77.64%]\n",
      "Epoch  16/50: 100%|██████████| 1906/1906 [00:10<00:00, 189.51batch/s, Loss = 0.5729, AUC = 77.50%]\n",
      "Epoch  17/50: 100%|██████████| 1906/1906 [00:10<00:00, 187.46batch/s, Loss = 0.5705, AUC = 77.62%]\n",
      "Epoch  18/50: 100%|██████████| 1906/1906 [00:10<00:00, 186.57batch/s, Loss = 0.5651, AUC = 78.01%]\n",
      "Epoch  19/50: 100%|██████████| 1906/1906 [00:10<00:00, 184.67batch/s, Loss = 0.5710, AUC = 77.87%]\n",
      "Epoch  20/50: 100%|██████████| 1906/1906 [00:10<00:00, 183.94batch/s, Loss = 0.5683, AUC = 77.98%]\n",
      "Epoch  21/50: 100%|██████████| 1906/1906 [00:10<00:00, 183.34batch/s, Loss = 0.5633, AUC = 78.17%]\n",
      "Epoch  22/50: 100%|██████████| 1906/1906 [00:09<00:00, 194.30batch/s, Loss = 0.5632, AUC = 78.11%]\n",
      "Epoch  23/50: 100%|██████████| 1906/1906 [00:10<00:00, 190.10batch/s, Loss = 0.5664, AUC = 78.01%]\n",
      "Epoch  24/50: 100%|██████████| 1906/1906 [00:10<00:00, 187.23batch/s, Loss = 0.5627, AUC = 78.20%]\n",
      "Epoch  25/50: 100%|██████████| 1906/1906 [00:09<00:00, 190.77batch/s, Loss = 0.5614, AUC = 78.28%]\n",
      "Epoch  26/50: 100%|██████████| 1906/1906 [00:09<00:00, 194.72batch/s, Loss = 0.5623, AUC = 78.45%]\n",
      "Epoch  27/50: 100%|██████████| 1906/1906 [00:10<00:00, 183.84batch/s, Loss = 0.5591, AUC = 78.70%]\n",
      "Epoch  28/50: 100%|██████████| 1906/1906 [00:10<00:00, 186.11batch/s, Loss = 0.5573, AUC = 78.71%]\n",
      "Epoch  29/50: 100%|██████████| 1906/1906 [00:09<00:00, 193.90batch/s, Loss = 0.5653, AUC = 78.35%]\n",
      "Epoch  30/50: 100%|██████████| 1906/1906 [00:10<00:00, 187.53batch/s, Loss = 0.5577, AUC = 78.67%]\n",
      "Epoch  31/50: 100%|██████████| 1906/1906 [00:09<00:00, 194.10batch/s, Loss = 0.5629, AUC = 78.31%]\n",
      "Epoch  32/50: 100%|██████████| 1906/1906 [00:09<00:00, 195.78batch/s, Loss = 0.5572, AUC = 78.66%]\n",
      "Epoch  33/50: 100%|██████████| 1906/1906 [00:10<00:00, 188.43batch/s, Loss = 0.5611, AUC = 78.56%]\n",
      "Epoch  34/50: 100%|██████████| 1906/1906 [00:10<00:00, 184.18batch/s, Loss = 0.5563, AUC = 78.90%]\n",
      "Epoch  35/50: 100%|██████████| 1906/1906 [00:09<00:00, 194.14batch/s, Loss = 0.5536, AUC = 79.09%]\n",
      "Epoch  36/50: 100%|██████████| 1906/1906 [00:09<00:00, 194.46batch/s, Loss = 0.5546, AUC = 79.11%]\n",
      "Epoch  37/50: 100%|██████████| 1906/1906 [00:10<00:00, 185.51batch/s, Loss = 0.5516, AUC = 79.22%]\n",
      "Epoch  38/50: 100%|██████████| 1906/1906 [00:09<00:00, 193.56batch/s, Loss = 0.5567, AUC = 78.89%]\n",
      "Epoch  39/50: 100%|██████████| 1906/1906 [00:10<00:00, 188.77batch/s, Loss = 0.5558, AUC = 78.91%]\n",
      "Epoch  40/50: 100%|██████████| 1906/1906 [00:09<00:00, 191.74batch/s, Loss = 0.5524, AUC = 79.15%]\n",
      "Epoch  41/50: 100%|██████████| 1906/1906 [00:10<00:00, 189.85batch/s, Loss = 0.5527, AUC = 79.31%]\n",
      "Epoch  42/50: 100%|██████████| 1906/1906 [00:09<00:00, 194.39batch/s, Loss = 0.5529, AUC = 79.16%]\n",
      "Epoch  43/50: 100%|██████████| 1906/1906 [00:10<00:00, 190.51batch/s, Loss = 0.5555, AUC = 78.93%]\n",
      "Epoch  44/50: 100%|██████████| 1906/1906 [00:10<00:00, 187.49batch/s, Loss = 0.5547, AUC = 79.15%]\n",
      "Epoch  45/50: 100%|██████████| 1906/1906 [00:10<00:00, 190.53batch/s, Loss = 0.5546, AUC = 78.92%]\n",
      "Epoch  46/50: 100%|██████████| 1906/1906 [00:09<00:00, 196.53batch/s, Loss = 0.5506, AUC = 79.36%]\n",
      "Epoch  47/50: 100%|██████████| 1906/1906 [00:10<00:00, 179.84batch/s, Loss = 0.5519, AUC = 79.28%]\n",
      "Epoch  48/50: 100%|██████████| 1906/1906 [00:09<00:00, 199.01batch/s, Loss = 0.5530, AUC = 79.21%]\n",
      "Epoch  49/50: 100%|██████████| 1906/1906 [00:10<00:00, 185.08batch/s, Loss = 0.5519, AUC = 79.26%]\n",
      "Epoch  50/50: 100%|██████████| 1906/1906 [00:09<00:00, 193.41batch/s, Loss = 0.5555, AUC = 79.26%]"
     ]
    },
    {
     "name": "stdout",
     "output_type": "stream",
     "text": [
      "TOTAL TIME = 511.23s\n",
      "BEST AUC = 79.36% AT EPOCH 46\n"
     ]
    },
    {
     "name": "stderr",
     "output_type": "stream",
     "text": [
      "\n"
     ]
    }
   ],
   "source": [
    "model = VisionTransformer(num_classes=2, patch_size=8, hidden_size=64, num_heads=2, num_transformer_blocks=4, mlp_hidden_size=32, channels_last=True)\n",
    "train_and_evaluate(model, ep_train_dataloader, ep_valid_dataloader, num_classes=2, learning_rate=0.0003, num_epochs=50)"
   ]
  },
  {
   "cell_type": "code",
   "execution_count": 5,
   "metadata": {
    "execution": {
     "iopub.execute_input": "2023-08-26T16:49:24.271267Z",
     "iopub.status.busy": "2023-08-26T16:49:24.271029Z",
     "iopub.status.idle": "2023-08-26T16:57:34.194841Z",
     "shell.execute_reply": "2023-08-26T16:57:34.194228Z"
    }
   },
   "outputs": [
    {
     "name": "stderr",
     "output_type": "stream",
     "text": [
      "Epoch   1/50: 100%|██████████| 1906/1906 [00:14<00:00, 127.38batch/s, Loss = 0.6695, AUC = 61.90%]\n",
      "Epoch   2/50: 100%|██████████| 1906/1906 [00:09<00:00, 197.14batch/s, Loss = 0.6631, AUC = 63.37%]\n",
      "Epoch   3/50: 100%|██████████| 1906/1906 [00:09<00:00, 198.04batch/s, Loss = 0.6536, AUC = 65.34%]\n",
      "Epoch   4/50: 100%|██████████| 1906/1906 [00:09<00:00, 203.74batch/s, Loss = 0.6413, AUC = 67.85%]\n",
      "Epoch   5/50: 100%|██████████| 1906/1906 [00:09<00:00, 194.06batch/s, Loss = 0.6334, AUC = 69.52%]\n",
      "Epoch   6/50: 100%|██████████| 1906/1906 [00:09<00:00, 193.72batch/s, Loss = 0.6201, AUC = 71.49%]\n",
      "Epoch   7/50: 100%|██████████| 1906/1906 [00:09<00:00, 201.25batch/s, Loss = 0.6109, AUC = 73.05%]\n",
      "Epoch   8/50: 100%|██████████| 1906/1906 [00:09<00:00, 191.56batch/s, Loss = 0.6070, AUC = 73.43%]\n",
      "Epoch   9/50: 100%|██████████| 1906/1906 [00:09<00:00, 199.87batch/s, Loss = 0.6031, AUC = 74.13%]\n",
      "Epoch  10/50: 100%|██████████| 1906/1906 [00:09<00:00, 197.42batch/s, Loss = 0.5967, AUC = 74.50%]\n",
      "Epoch  11/50: 100%|██████████| 1906/1906 [00:09<00:00, 199.96batch/s, Loss = 0.5978, AUC = 74.52%]\n",
      "Epoch  12/50: 100%|██████████| 1906/1906 [00:09<00:00, 199.03batch/s, Loss = 0.5929, AUC = 75.01%]\n",
      "Epoch  13/50: 100%|██████████| 1906/1906 [00:09<00:00, 200.23batch/s, Loss = 0.5926, AUC = 75.13%]\n",
      "Epoch  14/50: 100%|██████████| 1906/1906 [00:09<00:00, 197.07batch/s, Loss = 0.5928, AUC = 75.26%]\n",
      "Epoch  15/50: 100%|██████████| 1906/1906 [00:09<00:00, 200.75batch/s, Loss = 0.5896, AUC = 75.43%]\n",
      "Epoch  16/50: 100%|██████████| 1906/1906 [00:09<00:00, 202.16batch/s, Loss = 0.5885, AUC = 75.56%]\n",
      "Epoch  17/50: 100%|██████████| 1906/1906 [00:09<00:00, 204.05batch/s, Loss = 0.5902, AUC = 75.55%]\n",
      "Epoch  18/50: 100%|██████████| 1906/1906 [00:09<00:00, 191.74batch/s, Loss = 0.5912, AUC = 75.38%]\n",
      "Epoch  19/50: 100%|██████████| 1906/1906 [00:09<00:00, 198.22batch/s, Loss = 0.5869, AUC = 75.83%]\n",
      "Epoch  20/50: 100%|██████████| 1906/1906 [00:09<00:00, 197.31batch/s, Loss = 0.5874, AUC = 75.71%]\n",
      "Epoch  21/50: 100%|██████████| 1906/1906 [00:09<00:00, 204.39batch/s, Loss = 0.5859, AUC = 75.84%]\n",
      "Epoch  22/50: 100%|██████████| 1906/1906 [00:09<00:00, 194.18batch/s, Loss = 0.5842, AUC = 76.06%]\n",
      "Epoch  23/50: 100%|██████████| 1906/1906 [00:09<00:00, 195.61batch/s, Loss = 0.5865, AUC = 75.80%]\n",
      "Epoch  24/50: 100%|██████████| 1906/1906 [00:09<00:00, 203.53batch/s, Loss = 0.5896, AUC = 75.83%]\n",
      "Epoch  25/50: 100%|██████████| 1906/1906 [00:09<00:00, 204.77batch/s, Loss = 0.5832, AUC = 75.99%]\n",
      "Epoch  26/50: 100%|██████████| 1906/1906 [00:09<00:00, 201.45batch/s, Loss = 0.5864, AUC = 75.96%]\n",
      "Epoch  27/50: 100%|██████████| 1906/1906 [00:09<00:00, 203.91batch/s, Loss = 0.5843, AUC = 76.13%]\n",
      "Epoch  28/50: 100%|██████████| 1906/1906 [00:09<00:00, 201.36batch/s, Loss = 0.5844, AUC = 76.05%]\n",
      "Epoch  29/50: 100%|██████████| 1906/1906 [00:09<00:00, 198.35batch/s, Loss = 0.5832, AUC = 76.08%]\n",
      "Epoch  30/50: 100%|██████████| 1906/1906 [00:09<00:00, 203.48batch/s, Loss = 0.5850, AUC = 76.00%]\n",
      "Epoch  31/50: 100%|██████████| 1906/1906 [00:09<00:00, 202.40batch/s, Loss = 0.5823, AUC = 76.27%]\n",
      "Epoch  32/50: 100%|██████████| 1906/1906 [00:09<00:00, 195.25batch/s, Loss = 0.5837, AUC = 76.22%]\n",
      "Epoch  33/50: 100%|██████████| 1906/1906 [00:09<00:00, 196.66batch/s, Loss = 0.5824, AUC = 76.34%]\n",
      "Epoch  34/50: 100%|██████████| 1906/1906 [00:09<00:00, 210.72batch/s, Loss = 0.5805, AUC = 76.39%]\n",
      "Epoch  35/50: 100%|██████████| 1906/1906 [00:09<00:00, 202.80batch/s, Loss = 0.5822, AUC = 76.23%]\n",
      "Epoch  36/50: 100%|██████████| 1906/1906 [00:09<00:00, 197.73batch/s, Loss = 0.5807, AUC = 76.35%]\n",
      "Epoch  37/50: 100%|██████████| 1906/1906 [00:09<00:00, 193.17batch/s, Loss = 0.5818, AUC = 76.27%]\n",
      "Epoch  38/50: 100%|██████████| 1906/1906 [00:09<00:00, 202.07batch/s, Loss = 0.5808, AUC = 76.34%]\n",
      "Epoch  39/50: 100%|██████████| 1906/1906 [00:09<00:00, 201.83batch/s, Loss = 0.5806, AUC = 76.38%]\n",
      "Epoch  40/50: 100%|██████████| 1906/1906 [00:09<00:00, 207.75batch/s, Loss = 0.5834, AUC = 76.16%]\n",
      "Epoch  41/50: 100%|██████████| 1906/1906 [00:09<00:00, 203.04batch/s, Loss = 0.5822, AUC = 76.28%]\n",
      "Epoch  42/50: 100%|██████████| 1906/1906 [00:09<00:00, 199.89batch/s, Loss = 0.5839, AUC = 76.02%]\n",
      "Epoch  43/50: 100%|██████████| 1906/1906 [00:09<00:00, 210.38batch/s, Loss = 0.5818, AUC = 76.28%]\n",
      "Epoch  44/50: 100%|██████████| 1906/1906 [00:09<00:00, 192.16batch/s, Loss = 0.5822, AUC = 76.25%]\n",
      "Epoch  45/50: 100%|██████████| 1906/1906 [00:09<00:00, 201.30batch/s, Loss = 0.5808, AUC = 76.30%]\n",
      "Epoch  46/50: 100%|██████████| 1906/1906 [00:09<00:00, 203.49batch/s, Loss = 0.5807, AUC = 76.41%]\n",
      "Epoch  47/50: 100%|██████████| 1906/1906 [00:09<00:00, 194.82batch/s, Loss = 0.5818, AUC = 76.36%]\n",
      "Epoch  48/50: 100%|██████████| 1906/1906 [00:09<00:00, 194.18batch/s, Loss = 0.5804, AUC = 76.48%]\n",
      "Epoch  49/50: 100%|██████████| 1906/1906 [00:09<00:00, 202.96batch/s, Loss = 0.5841, AUC = 76.27%]\n",
      "Epoch  50/50: 100%|██████████| 1906/1906 [00:10<00:00, 188.49batch/s, Loss = 0.5830, AUC = 76.35%]"
     ]
    },
    {
     "name": "stdout",
     "output_type": "stream",
     "text": [
      "TOTAL TIME = 483.25s\n",
      "BEST AUC = 76.48% AT EPOCH 48\n"
     ]
    },
    {
     "name": "stderr",
     "output_type": "stream",
     "text": [
      "\n"
     ]
    }
   ],
   "source": [
    "model = VisionTransformer(num_classes=2, patch_size=8, hidden_size=8, num_heads=2, num_transformer_blocks=4, mlp_hidden_size=4, channels_last=True)\n",
    "train_and_evaluate(model, ep_train_dataloader, ep_valid_dataloader, num_classes=2, learning_rate=0.0003, num_epochs=50)"
   ]
  }
 ],
 "metadata": {
  "kernelspec": {
   "display_name": "gsoc",
   "language": "python",
   "name": "gsoc"
  },
  "language_info": {
   "codemirror_mode": {
    "name": "ipython",
    "version": 3
   },
   "file_extension": ".py",
   "mimetype": "text/x-python",
   "name": "python",
   "nbconvert_exporter": "python",
   "pygments_lexer": "ipython3",
   "version": "3.11.4"
  }
 },
 "nbformat": 4,
 "nbformat_minor": 2
}
