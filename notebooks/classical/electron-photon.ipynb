{
 "cells": [
  {
   "cell_type": "code",
   "execution_count": 1,
   "metadata": {
    "execution": {
     "iopub.execute_input": "2023-07-24T12:40:19.320124Z",
     "iopub.status.busy": "2023-07-24T12:40:19.319848Z",
     "iopub.status.idle": "2023-07-24T12:40:22.199212Z",
     "shell.execute_reply": "2023-07-24T12:40:22.198783Z"
    }
   },
   "outputs": [],
   "source": [
    "from quantum_transformers.utils import plot_image\n",
    "from quantum_transformers.datasets.hep import get_electron_photon_dataloaders\n",
    "from quantum_transformers.training import train\n",
    "from quantum_transformers.transformers import ClassicalVisionTransformer\n",
    "\n",
    "import torch"
   ]
  },
  {
   "cell_type": "code",
   "execution_count": 2,
   "metadata": {
    "execution": {
     "iopub.execute_input": "2023-07-24T12:40:22.201711Z",
     "iopub.status.busy": "2023-07-24T12:40:22.201117Z",
     "iopub.status.idle": "2023-07-24T12:40:22.414098Z",
     "shell.execute_reply": "2023-07-24T12:40:22.413728Z"
    }
   },
   "outputs": [
    {
     "data": {
      "text/plain": [
       "'NVIDIA A100-PCIE-40GB'"
      ]
     },
     "execution_count": 2,
     "metadata": {},
     "output_type": "execute_result"
    }
   ],
   "source": [
    "device = torch.device('cuda' if torch.cuda.is_available() else 'cpu')\n",
    "torch.cuda.get_device_name() if device.type == 'cuda' else 'cpu'"
   ]
  },
  {
   "cell_type": "code",
   "execution_count": 3,
   "metadata": {
    "execution": {
     "iopub.execute_input": "2023-07-24T12:40:22.441258Z",
     "iopub.status.busy": "2023-07-24T12:40:22.440860Z",
     "iopub.status.idle": "2023-07-24T12:42:10.253632Z",
     "shell.execute_reply": "2023-07-24T12:42:10.253219Z"
    }
   },
   "outputs": [
    {
     "name": "stdout",
     "output_type": "stream",
     "text": [
      "/global/homes/s/salcc/data/electron-photon already exists, skipping download\n"
     ]
    },
    {
     "data": {
      "image/png": "[encoded data removed]",
      "text/plain": [
       "<Figure size 600x300 with 2 Axes>"
      ]
     },
     "metadata": {},
     "output_type": "display_data"
    },
    {
     "name": "stdout",
     "output_type": "stream",
     "text": [
      "Image size: 32x32, Number of channels: 2\n"
     ]
    }
   ],
   "source": [
    "ep_train_dataloader, ep_valid_dataloader = get_electron_photon_dataloaders(batch_size=256, num_workers=4, pin_memory=True)\n",
    "plot_image(ep_train_dataloader.dataset[0][0], abs_log=True)\n",
    "img_size = ep_train_dataloader.dataset[0][0].shape[0]\n",
    "patch_size = 8\n",
    "num_channels = ep_train_dataloader.dataset[0][0].shape[2]\n",
    "num_classes = 2\n",
    "print(f\"Image size: {img_size}x{img_size}, Number of channels: {num_channels}\")"
   ]
  },
  {
   "cell_type": "code",
   "execution_count": 4,
   "metadata": {
    "execution": {
     "iopub.execute_input": "2023-07-24T12:42:10.255538Z",
     "iopub.status.busy": "2023-07-24T12:42:10.255329Z",
     "iopub.status.idle": "2023-07-24T16:13:13.697727Z",
     "shell.execute_reply": "2023-07-24T16:13:13.697210Z"
    }
   },
   "outputs": [
    {
     "name": "stdout",
     "output_type": "stream",
     "text": [
      "Epoch 1/50 (164.38s): Loss = 0.6367, AUC = 65.78%\n",
      "Epoch 2/50 (321.66s): Loss = 0.6096, AUC = 69.07%\n",
      "Epoch 3/50 (479.23s): Loss = 0.5928, AUC = 68.93%\n",
      "Epoch 4/50 (636.61s): Loss = 0.5847, AUC = 69.34%\n",
      "Epoch 5/50 (793.88s): Loss = 0.5846, AUC = 69.18%\n",
      "Epoch 6/50 (950.22s): Loss = 0.5819, AUC = 68.95%\n",
      "Epoch 7/50 (1108.72s): Loss = 0.5804, AUC = 68.99%\n",
      "Epoch 8/50 (1267.91s): Loss = 0.5820, AUC = 69.45%\n",
      "Epoch 9/50 (1430.71s): Loss = 0.5787, AUC = 69.89%\n",
      "Epoch 10/50 (1589.31s): Loss = 0.5717, AUC = 70.10%\n",
      "Epoch 11/50 (1747.95s): Loss = 0.5743, AUC = 70.53%\n",
      "Epoch 12/50 (1913.83s): Loss = 0.5725, AUC = 70.76%\n",
      "Epoch 13/50 (2078.47s): Loss = 0.5739, AUC = 70.98%\n",
      "Epoch 14/50 (2231.55s): Loss = 0.5687, AUC = 71.04%\n",
      "Epoch 15/50 (2380.48s): Loss = 0.5721, AUC = 71.28%\n",
      "Epoch 16/50 (2532.27s): Loss = 0.5699, AUC = 71.61%\n",
      "Epoch 17/50 (2682.85s): Loss = 0.5652, AUC = 71.75%\n",
      "Epoch 18/50 (2837.52s): Loss = 0.5642, AUC = 71.85%\n",
      "Epoch 19/50 (2988.34s): Loss = 0.5657, AUC = 71.98%\n",
      "Epoch 20/50 (3135.42s): Loss = 0.5630, AUC = 72.07%\n",
      "Epoch 21/50 (3284.08s): Loss = 0.5600, AUC = 72.12%\n",
      "Epoch 22/50 (3462.39s): Loss = 0.5624, AUC = 72.08%\n",
      "Epoch 23/50 (3614.55s): Loss = 0.5619, AUC = 72.10%\n",
      "Epoch 24/50 (3763.98s): Loss = 0.5632, AUC = 72.22%\n",
      "Epoch 25/50 (3912.83s): Loss = 0.5590, AUC = 72.36%\n",
      "Epoch 26/50 (4070.62s): Loss = 0.5683, AUC = 72.55%\n",
      "Epoch 27/50 (4330.05s): Loss = 0.5595, AUC = 72.71%\n",
      "Epoch 28/50 (6673.97s): Loss = 0.5581, AUC = 72.85%\n",
      "Epoch 29/50 (9180.58s): Loss = 0.5618, AUC = 72.97%\n",
      "Epoch 30/50 (9349.49s): Loss = 0.5589, AUC = 73.12%\n",
      "Epoch 31/50 (9531.87s): Loss = 0.5587, AUC = 73.26%\n",
      "Epoch 32/50 (9692.64s): Loss = 0.5563, AUC = 73.41%\n",
      "Epoch 33/50 (9850.71s): Loss = 0.5624, AUC = 73.54%\n",
      "Epoch 34/50 (10001.84s): Loss = 0.5547, AUC = 73.70%\n",
      "Epoch 35/50 (10157.24s): Loss = 0.5573, AUC = 73.83%\n",
      "Epoch 36/50 (10320.04s): Loss = 0.5522, AUC = 73.96%\n",
      "Epoch 37/50 (10471.89s): Loss = 0.5556, AUC = 74.07%\n",
      "Epoch 38/50 (10630.41s): Loss = 0.5579, AUC = 74.19%\n",
      "Epoch 39/50 (10846.38s): Loss = 0.5635, AUC = 74.29%\n",
      "Epoch 40/50 (11018.04s): Loss = 0.5560, AUC = 74.40%\n",
      "Epoch 41/50 (11196.84s): Loss = 0.5572, AUC = 74.49%\n",
      "Epoch 42/50 (11348.53s): Loss = 0.5580, AUC = 74.59%\n",
      "Epoch 43/50 (11512.12s): Loss = 0.5599, AUC = 74.68%\n",
      "Epoch 44/50 (11663.34s): Loss = 0.5570, AUC = 74.78%\n",
      "Epoch 45/50 (11816.81s): Loss = 0.5549, AUC = 74.88%\n",
      "Epoch 46/50 (11967.86s): Loss = 0.5603, AUC = 74.96%\n",
      "Epoch 47/50 (12201.69s): Loss = 0.5644, AUC = 75.01%\n",
      "Epoch 48/50 (12356.94s): Loss = 0.5528, AUC = 75.09%\n",
      "Epoch 49/50 (12509.99s): Loss = 0.5545, AUC = 75.17%\n",
      "Epoch 50/50 (12662.58s): Loss = 0.5531, AUC = 75.25%\n",
      "BEST AUC = 75.25% AT EPOCH 50\n"
     ]
    }
   ],
   "source": [
    "model = ClassicalVisionTransformer(img_size=img_size, num_channels=num_channels, num_classes=num_classes, patch_size=patch_size, hidden_size=64, num_heads=2, num_transformer_blocks=4, mlp_hidden_size=32, channels_last=True)\n",
    "train(model, ep_train_dataloader, ep_valid_dataloader, num_classes=num_classes, learning_rate=0.0003, num_epochs=50, device=device)"
   ]
  },
  {
   "cell_type": "code",
   "execution_count": 5,
   "metadata": {
    "execution": {
     "iopub.execute_input": "2023-07-24T16:13:13.699615Z",
     "iopub.status.busy": "2023-07-24T16:13:13.699457Z",
     "iopub.status.idle": "2023-07-24T21:04:11.276933Z",
     "shell.execute_reply": "2023-07-24T21:04:11.276352Z"
    }
   },
   "outputs": [
    {
     "name": "stdout",
     "output_type": "stream",
     "text": [
      "Epoch 1/50 (244.24s): Loss = 0.6499, AUC = 66.14%\n",
      "Epoch 2/50 (406.06s): Loss = 0.6362, AUC = 67.17%\n",
      "Epoch 3/50 (586.15s): Loss = 0.6249, AUC = 68.12%\n",
      "Epoch 4/50 (801.20s): Loss = 0.6188, AUC = 68.81%\n",
      "Epoch 5/50 (1027.46s): Loss = 0.6149, AUC = 69.39%\n",
      "Epoch 6/50 (1232.66s): Loss = 0.6141, AUC = 69.78%\n",
      "Epoch 7/50 (1552.77s): Loss = 0.6131, AUC = 70.17%\n",
      "Epoch 8/50 (1761.24s): Loss = 0.6065, AUC = 70.48%\n",
      "Epoch 9/50 (1957.54s): Loss = 0.6119, AUC = 70.75%\n",
      "Epoch 10/50 (2143.49s): Loss = 0.6093, AUC = 71.00%\n",
      "Epoch 11/50 (2330.74s): Loss = 0.6051, AUC = 71.17%\n",
      "Epoch 12/50 (2496.75s): Loss = 0.6077, AUC = 71.37%\n",
      "Epoch 13/50 (2659.16s): Loss = 0.6071, AUC = 71.49%\n",
      "Epoch 14/50 (2812.54s): Loss = 0.6056, AUC = 71.60%\n",
      "Epoch 15/50 (2966.02s): Loss = 0.6041, AUC = 71.72%\n",
      "Epoch 16/50 (3121.27s): Loss = 0.6040, AUC = 71.86%\n",
      "Epoch 17/50 (3291.81s): Loss = 0.6041, AUC = 71.94%\n",
      "Epoch 18/50 (3443.67s): Loss = 0.6044, AUC = 72.04%\n",
      "Epoch 19/50 (3592.38s): Loss = 0.6042, AUC = 72.12%\n",
      "Epoch 20/50 (3739.01s): Loss = 0.6053, AUC = 72.19%\n",
      "Epoch 21/50 (3892.10s): Loss = 0.6024, AUC = 72.26%\n",
      "Epoch 22/50 (4038.83s): Loss = 0.5992, AUC = 72.33%\n",
      "Epoch 23/50 (4187.51s): Loss = 0.6000, AUC = 72.41%\n",
      "Epoch 24/50 (4333.18s): Loss = 0.6001, AUC = 72.48%\n",
      "Epoch 25/50 (4478.69s): Loss = 0.5964, AUC = 72.57%\n",
      "Epoch 26/50 (4629.09s): Loss = 0.5973, AUC = 72.64%\n",
      "Epoch 27/50 (4776.11s): Loss = 0.5972, AUC = 72.72%\n",
      "Epoch 28/50 (4943.36s): Loss = 0.5956, AUC = 72.79%\n",
      "Epoch 29/50 (5139.71s): Loss = 0.5967, AUC = 72.86%\n",
      "Epoch 30/50 (5421.12s): Loss = 0.5954, AUC = 72.93%\n",
      "Epoch 31/50 (5586.71s): Loss = 0.5947, AUC = 72.99%\n",
      "Epoch 32/50 (5761.91s): Loss = 0.5982, AUC = 73.05%\n",
      "Epoch 33/50 (5922.25s): Loss = 0.5955, AUC = 73.11%\n",
      "Epoch 34/50 (6113.02s): Loss = 0.5903, AUC = 73.18%\n",
      "Epoch 35/50 (6261.53s): Loss = 0.5966, AUC = 73.24%\n",
      "Epoch 36/50 (6472.21s): Loss = 0.5910, AUC = 73.29%\n",
      "Epoch 37/50 (6662.57s): Loss = 0.5913, AUC = 73.35%\n",
      "Epoch 38/50 (7052.76s): Loss = 0.5935, AUC = 73.39%\n",
      "Epoch 39/50 (7396.45s): Loss = 0.5927, AUC = 73.44%\n",
      "Epoch 40/50 (8066.50s): Loss = 0.5920, AUC = 73.49%\n",
      "Epoch 41/50 (9586.46s): Loss = 0.5901, AUC = 73.53%\n",
      "Epoch 42/50 (11484.57s): Loss = 0.5887, AUC = 73.58%\n",
      "Epoch 43/50 (13437.78s): Loss = 0.5918, AUC = 73.63%\n",
      "Epoch 44/50 (15355.37s): Loss = 0.5907, AUC = 73.67%\n",
      "Epoch 45/50 (16514.64s): Loss = 0.5902, AUC = 73.71%\n",
      "Epoch 46/50 (16803.30s): Loss = 0.5893, AUC = 73.75%\n",
      "Epoch 47/50 (16956.57s): Loss = 0.5940, AUC = 73.78%\n",
      "Epoch 48/50 (17116.75s): Loss = 0.5921, AUC = 73.81%\n",
      "Epoch 49/50 (17293.43s): Loss = 0.5894, AUC = 73.85%\n",
      "Epoch 50/50 (17457.57s): Loss = 0.5923, AUC = 73.88%\n",
      "BEST AUC = 73.88% AT EPOCH 50\n"
     ]
    }
   ],
   "source": [
    "model = ClassicalVisionTransformer(img_size=img_size, num_channels=num_channels, num_classes=num_classes, patch_size=patch_size, hidden_size=6, num_heads=2, num_transformer_blocks=4, mlp_hidden_size=3, channels_last=True)\n",
    "train(model, ep_train_dataloader, ep_valid_dataloader, num_classes=num_classes, learning_rate=0.0003, num_epochs=50, device=device)"
   ]
  }
 ],
 "metadata": {
  "kernelspec": {
   "display_name": "quantum-transformers",
   "language": "python",
   "name": "python3"
  },
  "language_info": {
   "codemirror_mode": {
    "name": "ipython",
    "version": 3
   },
   "file_extension": ".py",
   "mimetype": "text/x-python",
   "name": "python",
   "nbconvert_exporter": "python",
   "pygments_lexer": "ipython3",
   "version": "3.11.4"
  }
 },
 "nbformat": 4,
 "nbformat_minor": 2
}
